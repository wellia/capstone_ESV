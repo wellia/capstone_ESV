{
  "nbformat": 4,
  "nbformat_minor": 0,
  "metadata": {
    "colab": {
      "name": "MLP_LSA.ipynb",
      "provenance": [],
      "collapsed_sections": [],
      "toc_visible": true
    },
    "kernelspec": {
      "name": "python3",
      "display_name": "Python 3"
    }
  },
  "cells": [
    {
      "cell_type": "code",
      "metadata": {
        "id": "59aJjO2u9LDv",
        "colab": {
          "base_uri": "https://localhost:8080/"
        },
        "outputId": "de113094-4591-4ecd-caa9-c0688bda9b47"
      },
      "source": [
        "!pip install texthero"
      ],
      "execution_count": null,
      "outputs": [
        {
          "output_type": "stream",
          "text": [
            "Collecting texthero\n",
            "  Downloading https://files.pythonhosted.org/packages/1f/5a/a9d33b799fe53011de79d140ad6d86c440a2da1ae8a7b24e851ee2f8bde8/texthero-1.0.9-py3-none-any.whl\n",
            "Requirement already satisfied: tqdm>=4.3 in /usr/local/lib/python3.6/dist-packages (from texthero) (4.41.1)\n",
            "Collecting unidecode>=1.1.1\n",
            "\u001b[?25l  Downloading https://files.pythonhosted.org/packages/74/65/91eab655041e9e92f948cb7302e54962035762ce7b518272ed9d6b269e93/Unidecode-1.1.2-py2.py3-none-any.whl (239kB)\n",
            "\u001b[K     |████████████████████████████████| 245kB 18.5MB/s \n",
            "\u001b[?25hRequirement already satisfied: scikit-learn>=0.22 in /usr/local/lib/python3.6/dist-packages (from texthero) (0.22.2.post1)\n",
            "Requirement already satisfied: plotly>=4.2.0 in /usr/local/lib/python3.6/dist-packages (from texthero) (4.4.1)\n",
            "Requirement already satisfied: spacy>=2.2.2 in /usr/local/lib/python3.6/dist-packages (from texthero) (2.2.4)\n",
            "Requirement already satisfied: gensim>=3.6.0 in /usr/local/lib/python3.6/dist-packages (from texthero) (3.6.0)\n",
            "Requirement already satisfied: pandas>=1.0.2 in /usr/local/lib/python3.6/dist-packages (from texthero) (1.1.5)\n",
            "Requirement already satisfied: matplotlib>=3.1.0 in /usr/local/lib/python3.6/dist-packages (from texthero) (3.2.2)\n",
            "Requirement already satisfied: wordcloud>=1.5.0 in /usr/local/lib/python3.6/dist-packages (from texthero) (1.5.0)\n",
            "Collecting nltk>=3.3\n",
            "\u001b[?25l  Downloading https://files.pythonhosted.org/packages/92/75/ce35194d8e3022203cca0d2f896dbb88689f9b3fce8e9f9cff942913519d/nltk-3.5.zip (1.4MB)\n",
            "\u001b[K     |████████████████████████████████| 1.4MB 28.4MB/s \n",
            "\u001b[?25hRequirement already satisfied: numpy>=1.17 in /usr/local/lib/python3.6/dist-packages (from texthero) (1.19.4)\n",
            "Requirement already satisfied: scipy>=0.17.0 in /usr/local/lib/python3.6/dist-packages (from scikit-learn>=0.22->texthero) (1.4.1)\n",
            "Requirement already satisfied: joblib>=0.11 in /usr/local/lib/python3.6/dist-packages (from scikit-learn>=0.22->texthero) (1.0.0)\n",
            "Requirement already satisfied: six in /usr/local/lib/python3.6/dist-packages (from plotly>=4.2.0->texthero) (1.15.0)\n",
            "Requirement already satisfied: retrying>=1.3.3 in /usr/local/lib/python3.6/dist-packages (from plotly>=4.2.0->texthero) (1.3.3)\n",
            "Requirement already satisfied: wasabi<1.1.0,>=0.4.0 in /usr/local/lib/python3.6/dist-packages (from spacy>=2.2.2->texthero) (0.8.0)\n",
            "Requirement already satisfied: plac<1.2.0,>=0.9.6 in /usr/local/lib/python3.6/dist-packages (from spacy>=2.2.2->texthero) (1.1.3)\n",
            "Requirement already satisfied: srsly<1.1.0,>=1.0.2 in /usr/local/lib/python3.6/dist-packages (from spacy>=2.2.2->texthero) (1.0.5)\n",
            "Requirement already satisfied: setuptools in /usr/local/lib/python3.6/dist-packages (from spacy>=2.2.2->texthero) (51.0.0)\n",
            "Requirement already satisfied: murmurhash<1.1.0,>=0.28.0 in /usr/local/lib/python3.6/dist-packages (from spacy>=2.2.2->texthero) (1.0.5)\n",
            "Requirement already satisfied: cymem<2.1.0,>=2.0.2 in /usr/local/lib/python3.6/dist-packages (from spacy>=2.2.2->texthero) (2.0.5)\n",
            "Requirement already satisfied: catalogue<1.1.0,>=0.0.7 in /usr/local/lib/python3.6/dist-packages (from spacy>=2.2.2->texthero) (1.0.0)\n",
            "Requirement already satisfied: requests<3.0.0,>=2.13.0 in /usr/local/lib/python3.6/dist-packages (from spacy>=2.2.2->texthero) (2.23.0)\n",
            "Requirement already satisfied: blis<0.5.0,>=0.4.0 in /usr/local/lib/python3.6/dist-packages (from spacy>=2.2.2->texthero) (0.4.1)\n",
            "Requirement already satisfied: preshed<3.1.0,>=3.0.2 in /usr/local/lib/python3.6/dist-packages (from spacy>=2.2.2->texthero) (3.0.5)\n",
            "Requirement already satisfied: thinc==7.4.0 in /usr/local/lib/python3.6/dist-packages (from spacy>=2.2.2->texthero) (7.4.0)\n",
            "Requirement already satisfied: smart-open>=1.2.1 in /usr/local/lib/python3.6/dist-packages (from gensim>=3.6.0->texthero) (4.0.1)\n",
            "Requirement already satisfied: pytz>=2017.2 in /usr/local/lib/python3.6/dist-packages (from pandas>=1.0.2->texthero) (2018.9)\n",
            "Requirement already satisfied: python-dateutil>=2.7.3 in /usr/local/lib/python3.6/dist-packages (from pandas>=1.0.2->texthero) (2.8.1)\n",
            "Requirement already satisfied: cycler>=0.10 in /usr/local/lib/python3.6/dist-packages (from matplotlib>=3.1.0->texthero) (0.10.0)\n",
            "Requirement already satisfied: pyparsing!=2.0.4,!=2.1.2,!=2.1.6,>=2.0.1 in /usr/local/lib/python3.6/dist-packages (from matplotlib>=3.1.0->texthero) (2.4.7)\n",
            "Requirement already satisfied: kiwisolver>=1.0.1 in /usr/local/lib/python3.6/dist-packages (from matplotlib>=3.1.0->texthero) (1.3.1)\n",
            "Requirement already satisfied: pillow in /usr/local/lib/python3.6/dist-packages (from wordcloud>=1.5.0->texthero) (7.0.0)\n",
            "Requirement already satisfied: click in /usr/local/lib/python3.6/dist-packages (from nltk>=3.3->texthero) (7.1.2)\n",
            "Requirement already satisfied: regex in /usr/local/lib/python3.6/dist-packages (from nltk>=3.3->texthero) (2019.12.20)\n",
            "Requirement already satisfied: importlib-metadata>=0.20; python_version < \"3.8\" in /usr/local/lib/python3.6/dist-packages (from catalogue<1.1.0,>=0.0.7->spacy>=2.2.2->texthero) (3.3.0)\n",
            "Requirement already satisfied: chardet<4,>=3.0.2 in /usr/local/lib/python3.6/dist-packages (from requests<3.0.0,>=2.13.0->spacy>=2.2.2->texthero) (3.0.4)\n",
            "Requirement already satisfied: urllib3!=1.25.0,!=1.25.1,<1.26,>=1.21.1 in /usr/local/lib/python3.6/dist-packages (from requests<3.0.0,>=2.13.0->spacy>=2.2.2->texthero) (1.24.3)\n",
            "Requirement already satisfied: certifi>=2017.4.17 in /usr/local/lib/python3.6/dist-packages (from requests<3.0.0,>=2.13.0->spacy>=2.2.2->texthero) (2020.12.5)\n",
            "Requirement already satisfied: idna<3,>=2.5 in /usr/local/lib/python3.6/dist-packages (from requests<3.0.0,>=2.13.0->spacy>=2.2.2->texthero) (2.10)\n",
            "Requirement already satisfied: zipp>=0.5 in /usr/local/lib/python3.6/dist-packages (from importlib-metadata>=0.20; python_version < \"3.8\"->catalogue<1.1.0,>=0.0.7->spacy>=2.2.2->texthero) (3.4.0)\n",
            "Requirement already satisfied: typing-extensions>=3.6.4; python_version < \"3.8\" in /usr/local/lib/python3.6/dist-packages (from importlib-metadata>=0.20; python_version < \"3.8\"->catalogue<1.1.0,>=0.0.7->spacy>=2.2.2->texthero) (3.7.4.3)\n",
            "Building wheels for collected packages: nltk\n",
            "  Building wheel for nltk (setup.py) ... \u001b[?25l\u001b[?25hdone\n",
            "  Created wheel for nltk: filename=nltk-3.5-cp36-none-any.whl size=1434675 sha256=83931ac32d5d752e863a06377017218014a2ee9b6de54bc041a47faf5c060c69\n",
            "  Stored in directory: /root/.cache/pip/wheels/ae/8c/3f/b1fe0ba04555b08b57ab52ab7f86023639a526d8bc8d384306\n",
            "Successfully built nltk\n",
            "Installing collected packages: unidecode, nltk, texthero\n",
            "  Found existing installation: nltk 3.2.5\n",
            "    Uninstalling nltk-3.2.5:\n",
            "      Successfully uninstalled nltk-3.2.5\n",
            "Successfully installed nltk-3.5 texthero-1.0.9 unidecode-1.1.2\n"
          ],
          "name": "stdout"
        }
      ]
    },
    {
      "cell_type": "code",
      "metadata": {
        "id": "yBG9ZG4f4f4_",
        "colab": {
          "base_uri": "https://localhost:8080/"
        },
        "outputId": "3486d583-d285-4f68-c9cd-6d85d7602724"
      },
      "source": [
        "import pandas as pd\n",
        "from sklearn.feature_extraction.text import TfidfVectorizer, CountVectorizer\n",
        "from sklearn.decomposition import TruncatedSVD\n",
        "import numpy as np\n",
        "import texthero as hero\n",
        "from texthero import preprocessing\n",
        "import matplotlib.pyplot as plt\n",
        "from sklearn.preprocessing import LabelEncoder\n",
        "from sklearn.svm import SVC\n",
        "from sklearn.metrics import accuracy_score, classification_report\n"
      ],
      "execution_count": null,
      "outputs": [
        {
          "output_type": "stream",
          "text": [
            "[nltk_data] Downloading package stopwords to /root/nltk_data...\n",
            "[nltk_data]   Unzipping corpora/stopwords.zip.\n"
          ],
          "name": "stderr"
        }
      ]
    },
    {
      "cell_type": "code",
      "metadata": {
        "id": "pBlyPKBC5Lys"
      },
      "source": [
        "cols = ['EventDescription', 'IncidentCause', 'IncidentConsequence', 'FailedAssets','Category','ActionTaken', 'Locality']"
      ],
      "execution_count": null,
      "outputs": []
    },
    {
      "cell_type": "code",
      "metadata": {
        "colab": {
          "base_uri": "https://localhost:8080/",
          "height": 970
        },
        "id": "tUnh-Uud5F8q",
        "outputId": "bfc20254-99cf-46ba-f00e-15e03a222d66"
      },
      "source": [
        "df = pd.read_csv('cleaned_incidents1.csv', usecols = cols)\n",
        "df = df.dropna()\n",
        "df"
      ],
      "execution_count": null,
      "outputs": [
        {
          "output_type": "execute_result",
          "data": {
            "text/html": [
              "<div>\n",
              "<style scoped>\n",
              "    .dataframe tbody tr th:only-of-type {\n",
              "        vertical-align: middle;\n",
              "    }\n",
              "\n",
              "    .dataframe tbody tr th {\n",
              "        vertical-align: top;\n",
              "    }\n",
              "\n",
              "    .dataframe thead th {\n",
              "        text-align: right;\n",
              "    }\n",
              "</style>\n",
              "<table border=\"1\" class=\"dataframe\">\n",
              "  <thead>\n",
              "    <tr style=\"text-align: right;\">\n",
              "      <th></th>\n",
              "      <th>ActionTaken</th>\n",
              "      <th>EventDescription</th>\n",
              "      <th>FailedAssets</th>\n",
              "      <th>IncidentCause</th>\n",
              "      <th>IncidentConsequence</th>\n",
              "      <th>Locality</th>\n",
              "      <th>Category</th>\n",
              "    </tr>\n",
              "  </thead>\n",
              "  <tbody>\n",
              "    <tr>\n",
              "      <th>0</th>\n",
              "      <td>Crew isolated supply and undertook repairs</td>\n",
              "      <td>A nearby customer reported sparking of electri...</td>\n",
              "      <td>Conductor (ABC)</td>\n",
              "      <td>HVABC cable faulted midspan</td>\n",
              "      <td>Grassfire</td>\n",
              "      <td>Paraparap</td>\n",
              "      <td>OH Cable</td>\n",
              "    </tr>\n",
              "    <tr>\n",
              "      <th>1</th>\n",
              "      <td>Crew undertook repairs</td>\n",
              "      <td>A contractor reported that he had contacted an...</td>\n",
              "      <td>No failed asset</td>\n",
              "      <td>Contractor contacted earthing conductor</td>\n",
              "      <td>No Go Zone (contact)</td>\n",
              "      <td>Ravenhall</td>\n",
              "      <td>Dug up</td>\n",
              "    </tr>\n",
              "    <tr>\n",
              "      <th>2</th>\n",
              "      <td>Crew isolated supply and undertook repairs</td>\n",
              "      <td>A field crew attending an outage found that a ...</td>\n",
              "      <td>Conductor (bare)</td>\n",
              "      <td>Conductor broke due to rust</td>\n",
              "      <td>Serious risk to public safety (e.g. live condu...</td>\n",
              "      <td>Peterborough</td>\n",
              "      <td>Connection</td>\n",
              "    </tr>\n",
              "    <tr>\n",
              "      <th>3</th>\n",
              "      <td>Crew undertook repairs</td>\n",
              "      <td>Interfere and vandalism in substation. Unknown...</td>\n",
              "      <td>Indoor</td>\n",
              "      <td>Vandalism</td>\n",
              "      <td>Loss of supply;Damage to network assets</td>\n",
              "      <td>South Melbourne</td>\n",
              "      <td>Other</td>\n",
              "    </tr>\n",
              "    <tr>\n",
              "      <th>4</th>\n",
              "      <td>Crew isolated supply and undertook repairs</td>\n",
              "      <td>A nearby customer reported that a high load ha...</td>\n",
              "      <td>Service conductor</td>\n",
              "      <td>Unknown high load contacted LV service cable</td>\n",
              "      <td>No Go Zone (contact);Damage to network assets</td>\n",
              "      <td>Whittington</td>\n",
              "      <td>Vehicle</td>\n",
              "    </tr>\n",
              "    <tr>\n",
              "      <th>...</th>\n",
              "      <td>...</td>\n",
              "      <td>...</td>\n",
              "      <td>...</td>\n",
              "      <td>...</td>\n",
              "      <td>...</td>\n",
              "      <td>...</td>\n",
              "      <td>...</td>\n",
              "    </tr>\n",
              "    <tr>\n",
              "      <th>6499</th>\n",
              "      <td>The crew replaced a 3 phase FOLCB on the pole</td>\n",
              "      <td>A report came in to UE of a FMB sparking at 31...</td>\n",
              "      <td>Connection box</td>\n",
              "      <td>The likely cause was determined by EIO to be a...</td>\n",
              "      <td>Plant/equipment</td>\n",
              "      <td>Brighton</td>\n",
              "      <td>Connection</td>\n",
              "    </tr>\n",
              "    <tr>\n",
              "      <th>6500</th>\n",
              "      <td>Conductor repaired at point of contact.</td>\n",
              "      <td>Report received from a resident to advise that...</td>\n",
              "      <td>Conductor (bare)</td>\n",
              "      <td>Crane struck line</td>\n",
              "      <td>No Go Zone (contact);Damage to network assets</td>\n",
              "      <td>Mount Wallace</td>\n",
              "      <td>Vehicle</td>\n",
              "    </tr>\n",
              "    <tr>\n",
              "      <th>6501</th>\n",
              "      <td>On arrival crew isolated supply and arranged p...</td>\n",
              "      <td>Report received of pole fire at incident locat...</td>\n",
              "      <td>Pole (wood)</td>\n",
              "      <td>Excessive leakage current</td>\n",
              "      <td>Pole-top fire</td>\n",
              "      <td>Ouyen</td>\n",
              "      <td>Pole</td>\n",
              "    </tr>\n",
              "    <tr>\n",
              "      <th>6502</th>\n",
              "      <td>On arrival crew isolated supply and carried ou...</td>\n",
              "      <td>A customer called to report a tractor had hit ...</td>\n",
              "      <td>Conductor (bare);Pole (wood)</td>\n",
              "      <td>Farm equipment hit pole</td>\n",
              "      <td>Damage to network assets</td>\n",
              "      <td>Ultima</td>\n",
              "      <td>Vehicle</td>\n",
              "    </tr>\n",
              "    <tr>\n",
              "      <th>6503</th>\n",
              "      <td>Despatched crew and inspector to investigate a...</td>\n",
              "      <td>concrete electrical cover outside of front of ...</td>\n",
              "      <td>Services pit (network)</td>\n",
              "      <td>Under Investigation</td>\n",
              "      <td>Shock to livestock, pet or companion animal</td>\n",
              "      <td>Wodonga</td>\n",
              "      <td>AF Other</td>\n",
              "    </tr>\n",
              "  </tbody>\n",
              "</table>\n",
              "<p>6443 rows × 7 columns</p>\n",
              "</div>"
            ],
            "text/plain": [
              "                                            ActionTaken  ...    Category\n",
              "0            Crew isolated supply and undertook repairs  ...    OH Cable\n",
              "1                                Crew undertook repairs  ...      Dug up\n",
              "2            Crew isolated supply and undertook repairs  ...  Connection\n",
              "3                                Crew undertook repairs  ...       Other\n",
              "4            Crew isolated supply and undertook repairs  ...     Vehicle\n",
              "...                                                 ...  ...         ...\n",
              "6499      The crew replaced a 3 phase FOLCB on the pole  ...  Connection\n",
              "6500            Conductor repaired at point of contact.  ...     Vehicle\n",
              "6501  On arrival crew isolated supply and arranged p...  ...        Pole\n",
              "6502  On arrival crew isolated supply and carried ou...  ...     Vehicle\n",
              "6503  Despatched crew and inspector to investigate a...  ...    AF Other\n",
              "\n",
              "[6443 rows x 7 columns]"
            ]
          },
          "metadata": {
            "tags": []
          },
          "execution_count": 4
        }
      ]
    },
    {
      "cell_type": "code",
      "metadata": {
        "id": "hXGRdbY78qyr"
      },
      "source": [
        "df['description'] = df['EventDescription'] + ' ' + df['IncidentCause']+ ' ' + df['IncidentConsequence'] + ' ' + df['FailedAssets']"
      ],
      "execution_count": null,
      "outputs": []
    },
    {
      "cell_type": "code",
      "metadata": {
        "colab": {
          "base_uri": "https://localhost:8080/"
        },
        "id": "dGS5t8wr87ww",
        "outputId": "ed8af580-be40-4b8c-a791-344a11e9b458"
      },
      "source": [
        "df['description']"
      ],
      "execution_count": null,
      "outputs": [
        {
          "output_type": "execute_result",
          "data": {
            "text/plain": [
              "0       A nearby customer reported sparking of electri...\n",
              "1       A contractor reported that he had contacted an...\n",
              "2       A field crew attending an outage found that a ...\n",
              "3       Interfere and vandalism in substation. Unknown...\n",
              "4       A nearby customer reported that a high load ha...\n",
              "                              ...                        \n",
              "6499    A report came in to UE of a FMB sparking at 31...\n",
              "6500    Report received from a resident to advise that...\n",
              "6501    Report received of pole fire at incident locat...\n",
              "6502    A customer called to report a tractor had hit ...\n",
              "6503    concrete electrical cover outside of front of ...\n",
              "Name: description, Length: 6443, dtype: object"
            ]
          },
          "metadata": {
            "tags": []
          },
          "execution_count": 6
        }
      ]
    },
    {
      "cell_type": "code",
      "metadata": {
        "id": "IO7iR5dz8-1x"
      },
      "source": [
        "df['description'] = hero.clean(df['description'])"
      ],
      "execution_count": null,
      "outputs": []
    },
    {
      "cell_type": "code",
      "metadata": {
        "colab": {
          "base_uri": "https://localhost:8080/"
        },
        "id": "a8n-tRyk-4Qr",
        "outputId": "1fdcb7e5-b63c-4f57-a8bf-56e7778cf0d4"
      },
      "source": [
        "df['description']"
      ],
      "execution_count": null,
      "outputs": [
        {
          "output_type": "execute_result",
          "data": {
            "text/plain": [
              "0       nearby customer reported sparking electrical l...\n",
              "1       contractor reported contacted earthing cable e...\n",
              "2       field crew attending outage found 22kv conduct...\n",
              "3       interfere vandalism substation unknown third p...\n",
              "4       nearby customer reported high load pulled wire...\n",
              "                              ...                        \n",
              "6499    report came ue fmb sparking st kilda st bright...\n",
              "6500    report received resident advise crane made con...\n",
              "6501    report received pole fire incident location ar...\n",
              "6502    customer called report tractor hit wire brough...\n",
              "6503    concrete electrical cover outside front house ...\n",
              "Name: description, Length: 6443, dtype: object"
            ]
          },
          "metadata": {
            "tags": []
          },
          "execution_count": 8
        }
      ]
    },
    {
      "cell_type": "code",
      "metadata": {
        "id": "OiCrU6T5-6QL"
      },
      "source": [
        "tf_idf_vect = TfidfVectorizer(ngram_range=(1,1), min_df=10,use_idf= True) #using only unigrams for tfidf\n",
        "tf_idf_vect.fit(df['description'])\n",
        "#print(tf_idf_vect.get_feature_names()[0:10])\n",
        "final_tf_idf = tf_idf_vect.transform(df['description'])"
      ],
      "execution_count": null,
      "outputs": []
    },
    {
      "cell_type": "code",
      "metadata": {
        "colab": {
          "base_uri": "https://localhost:8080/",
          "height": 538
        },
        "id": "vvFU71MN_x6y",
        "outputId": "2d343921-7990-44f7-b995-07d6e786b1dc"
      },
      "source": [
        "n_comp = [4,10,15,20,50,100,150,200,500,700,800,900,1000,1500] # list containing different values of components\n",
        "explained = [] # explained variance ratio for each component of Truncated SVD\n",
        "for x in n_comp:\n",
        "    svd = TruncatedSVD(n_components=x)\n",
        "    svd.fit(final_tf_idf)\n",
        "    explained.append(svd.explained_variance_ratio_.sum())\n",
        "    print(\"Number of components = %r and explained variance = %r\"%(x,svd.explained_variance_ratio_.sum()))\n",
        "plt.plot(n_comp, explained)\n",
        "plt.xlabel('Number of components')\n",
        "plt.ylabel(\"Explained Variance\")\n",
        "plt.title(\"Plot of Number of components v/s explained variance\")\n",
        "plt.show()"
      ],
      "execution_count": null,
      "outputs": [
        {
          "output_type": "stream",
          "text": [
            "Number of components = 4 and explained variance = 0.09562176629974485\n",
            "Number of components = 10 and explained variance = 0.18186502029483492\n",
            "Number of components = 15 and explained variance = 0.2208826842420868\n",
            "Number of components = 20 and explained variance = 0.251475465008221\n",
            "Number of components = 50 and explained variance = 0.3634974166011955\n",
            "Number of components = 100 and explained variance = 0.46850923920861715\n",
            "Number of components = 150 and explained variance = 0.5425426209506563\n",
            "Number of components = 200 and explained variance = 0.5988345731239224\n",
            "Number of components = 500 and explained variance = 0.7935275397374807\n",
            "Number of components = 700 and explained variance = 0.8630491634281698\n",
            "Number of components = 800 and explained variance = 0.8890466811270239\n",
            "Number of components = 900 and explained variance = 0.9108122557358075\n",
            "Number of components = 1000 and explained variance = 0.9291950064629448\n",
            "Number of components = 1500 and explained variance = 0.9844591797965311\n"
          ],
          "name": "stdout"
        },
        {
          "output_type": "display_data",
          "data": {
            "image/png": "[encoded data removed]",
            "text/plain": [
              "<Figure size 432x288 with 1 Axes>"
            ]
          },
          "metadata": {
            "tags": [],
            "needs_background": "light"
          }
        }
      ]
    },
    {
      "cell_type": "code",
      "metadata": {
        "id": "aL4G1qKCJv-C"
      },
      "source": [
        "#1500 features can explain 98% of the dataset"
      ],
      "execution_count": null,
      "outputs": []
    },
    {
      "cell_type": "code",
      "metadata": {
        "id": "jQmiKlSXHIA0"
      },
      "source": [
        "svd = TruncatedSVD(n_components=1500, random_state=42)\n",
        "#svd.fit(final_tf_idf)"
      ],
      "execution_count": null,
      "outputs": []
    },
    {
      "cell_type": "code",
      "metadata": {
        "id": "-Ms7bjr9HMsw"
      },
      "source": [
        "final = svd.fit_transform(final_tf_idf)"
      ],
      "execution_count": null,
      "outputs": []
    },
    {
      "cell_type": "code",
      "metadata": {
        "colab": {
          "base_uri": "https://localhost:8080/"
        },
        "id": "eQydRK2vHvu5",
        "outputId": "ee6ce401-98aa-45e4-ead7-41e22c42d606"
      },
      "source": [
        "print(final)"
      ],
      "execution_count": null,
      "outputs": [
        {
          "output_type": "stream",
          "text": [
            "[[ 1.92050005e-01 -3.33063720e-02 -2.33067717e-02 ...  6.04605206e-03\n",
            "  -9.41795898e-03 -3.81685641e-04]\n",
            " [ 2.42293846e-01 -1.70036945e-01 -1.64762441e-01 ...  8.95916969e-03\n",
            "   1.29283520e-02  1.80077364e-03]\n",
            " [ 2.72963843e-01 -1.13425852e-01 -6.94526142e-02 ... -6.04048762e-03\n",
            "  -3.66260795e-03 -1.27069584e-02]\n",
            " ...\n",
            " [ 6.34797966e-01  3.96145469e-01  6.47623920e-02 ...  2.33403377e-03\n",
            "  -8.20386108e-04 -2.19067739e-03]\n",
            " [ 2.67008819e-01 -1.96210016e-02 -2.11784263e-02 ...  4.17841213e-03\n",
            "  -5.28308981e-03 -3.97911345e-04]\n",
            " [ 7.42630610e-02 -1.31248766e-01  9.14928650e-02 ...  2.79584121e-04\n",
            "  -2.49298586e-04 -6.26167641e-03]]\n"
          ],
          "name": "stdout"
        }
      ]
    },
    {
      "cell_type": "code",
      "metadata": {
        "colab": {
          "base_uri": "https://localhost:8080/"
        },
        "id": "eAFgHNa4AVOI",
        "outputId": "b8b1c10c-171b-4132-a458-4b9a8ebda24b"
      },
      "source": [
        "final.shape"
      ],
      "execution_count": null,
      "outputs": [
        {
          "output_type": "execute_result",
          "data": {
            "text/plain": [
              "(6443, 1500)"
            ]
          },
          "metadata": {
            "tags": []
          },
          "execution_count": 14
        }
      ]
    },
    {
      "cell_type": "code",
      "metadata": {
        "id": "9hxUvKZ-AGpp"
      },
      "source": [
        "le = LabelEncoder()\n",
        "Y = le.fit_transform(df['Category'])"
      ],
      "execution_count": null,
      "outputs": []
    },
    {
      "cell_type": "code",
      "metadata": {
        "id": "KIFzg5Vz9oXw"
      },
      "source": [
        "from sklearn.model_selection import train_test_split\n",
        "x_train, x_test, y_train, y_test = train_test_split(final,Y, \n",
        "                                                    test_size=0.25, random_state=4, stratify = Y)"
      ],
      "execution_count": null,
      "outputs": []
    },
    {
      "cell_type": "markdown",
      "metadata": {
        "id": "wcw3cwM2qGJJ"
      },
      "source": [
        "#Implementing MLP with LSA dataset"
      ]
    },
    {
      "cell_type": "code",
      "metadata": {
        "id": "xbrhJaIjqMy6"
      },
      "source": [
        "from sklearn.neural_network import MLPClassifier"
      ],
      "execution_count": null,
      "outputs": []
    },
    {
      "cell_type": "code",
      "metadata": {
        "colab": {
          "base_uri": "https://localhost:8080/"
        },
        "id": "UnsWfF-cqi-i",
        "outputId": "6c1c284a-7062-4f26-cc8a-78c17126ee59"
      },
      "source": [
        "MLP = MLPClassifier(random_state=4)\n",
        "MLP.fit(x_train, y_train)\n",
        "accuracy = accuracy_score(y_test,MLP.predict(x_test))\n",
        "print(accuracy)"
      ],
      "execution_count": null,
      "outputs": [
        {
          "output_type": "stream",
          "text": [
            "0.79764121663563\n"
          ],
          "name": "stdout"
        }
      ]
    }
  ]
}