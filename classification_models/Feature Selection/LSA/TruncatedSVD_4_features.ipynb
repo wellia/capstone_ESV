{
  "nbformat": 4,
  "nbformat_minor": 0,
  "metadata": {
    "colab": {
      "name": "TruncatedSVD_4 features.ipynb",
      "provenance": [],
      "collapsed_sections": []
    },
    "kernelspec": {
      "name": "python3",
      "display_name": "Python 3"
    }
  },
  "cells": [
    {
      "cell_type": "code",
      "metadata": {
        "id": "59aJjO2u9LDv"
      },
      "source": [
        "!pip install texthero"
      ],
      "execution_count": null,
      "outputs": []
    },
    {
      "cell_type": "code",
      "metadata": {
        "id": "yBG9ZG4f4f4_"
      },
      "source": [
        "import pandas as pd\n",
        "from sklearn.feature_extraction.text import TfidfVectorizer, CountVectorizer\n",
        "from sklearn.decomposition import TruncatedSVD\n",
        "import numpy as np\n",
        "import texthero as hero\n",
        "from texthero import preprocessing\n",
        "import matplotlib.pyplot as plt\n",
        "from sklearn.preprocessing import LabelEncoder\n",
        "from sklearn.svm import SVC\n",
        "from sklearn.metrics import accuracy_score, classification_report\n"
      ],
      "execution_count": 44,
      "outputs": []
    },
    {
      "cell_type": "code",
      "metadata": {
        "id": "pBlyPKBC5Lys"
      },
      "source": [
        "cols = ['EventDescription', 'IncidentCause', 'IncidentConsequence', 'FailedAssets','Category']"
      ],
      "execution_count": 28,
      "outputs": []
    },
    {
      "cell_type": "code",
      "metadata": {
        "colab": {
          "base_uri": "https://localhost:8080/",
          "height": 573
        },
        "id": "tUnh-Uud5F8q",
        "outputId": "947fa179-8ee1-43b7-faa4-ac296fc8630f"
      },
      "source": [
        "df = pd.read_csv('/content/drive/MyDrive/ESV Data/cleaned_incidents1.csv', usecols = cols)\n",
        "df = df.dropna()\n",
        "df"
      ],
      "execution_count": 29,
      "outputs": [
        {
          "output_type": "execute_result",
          "data": {
            "text/html": [
              "<div>\n",
              "<style scoped>\n",
              "    .dataframe tbody tr th:only-of-type {\n",
              "        vertical-align: middle;\n",
              "    }\n",
              "\n",
              "    .dataframe tbody tr th {\n",
              "        vertical-align: top;\n",
              "    }\n",
              "\n",
              "    .dataframe thead th {\n",
              "        text-align: right;\n",
              "    }\n",
              "</style>\n",
              "<table border=\"1\" class=\"dataframe\">\n",
              "  <thead>\n",
              "    <tr style=\"text-align: right;\">\n",
              "      <th></th>\n",
              "      <th>EventDescription</th>\n",
              "      <th>FailedAssets</th>\n",
              "      <th>IncidentCause</th>\n",
              "      <th>IncidentConsequence</th>\n",
              "      <th>Category</th>\n",
              "    </tr>\n",
              "  </thead>\n",
              "  <tbody>\n",
              "    <tr>\n",
              "      <th>0</th>\n",
              "      <td>A nearby customer reported sparking of electri...</td>\n",
              "      <td>Conductor (ABC)</td>\n",
              "      <td>HVABC cable faulted midspan</td>\n",
              "      <td>Grassfire</td>\n",
              "      <td>OH Cable</td>\n",
              "    </tr>\n",
              "    <tr>\n",
              "      <th>1</th>\n",
              "      <td>A contractor reported that he had contacted an...</td>\n",
              "      <td>No failed asset</td>\n",
              "      <td>Contractor contacted earthing conductor</td>\n",
              "      <td>No Go Zone (contact)</td>\n",
              "      <td>Dug up</td>\n",
              "    </tr>\n",
              "    <tr>\n",
              "      <th>2</th>\n",
              "      <td>A field crew attending an outage found that a ...</td>\n",
              "      <td>Conductor (bare)</td>\n",
              "      <td>Conductor broke due to rust</td>\n",
              "      <td>Serious risk to public safety (e.g. live condu...</td>\n",
              "      <td>Connection</td>\n",
              "    </tr>\n",
              "    <tr>\n",
              "      <th>3</th>\n",
              "      <td>Interfere and vandalism in substation. Unknown...</td>\n",
              "      <td>Indoor</td>\n",
              "      <td>Vandalism</td>\n",
              "      <td>Loss of supply;Damage to network assets</td>\n",
              "      <td>Other</td>\n",
              "    </tr>\n",
              "    <tr>\n",
              "      <th>4</th>\n",
              "      <td>A nearby customer reported that a high load ha...</td>\n",
              "      <td>Service conductor</td>\n",
              "      <td>Unknown high load contacted LV service cable</td>\n",
              "      <td>No Go Zone (contact);Damage to network assets</td>\n",
              "      <td>Vehicle</td>\n",
              "    </tr>\n",
              "    <tr>\n",
              "      <th>...</th>\n",
              "      <td>...</td>\n",
              "      <td>...</td>\n",
              "      <td>...</td>\n",
              "      <td>...</td>\n",
              "      <td>...</td>\n",
              "    </tr>\n",
              "    <tr>\n",
              "      <th>6499</th>\n",
              "      <td>A report came in to UE of a FMB sparking at 31...</td>\n",
              "      <td>Connection box</td>\n",
              "      <td>The likely cause was determined by EIO to be a...</td>\n",
              "      <td>Plant/equipment</td>\n",
              "      <td>Connection</td>\n",
              "    </tr>\n",
              "    <tr>\n",
              "      <th>6500</th>\n",
              "      <td>Report received from a resident to advise that...</td>\n",
              "      <td>Conductor (bare)</td>\n",
              "      <td>Crane struck line</td>\n",
              "      <td>No Go Zone (contact);Damage to network assets</td>\n",
              "      <td>Vehicle</td>\n",
              "    </tr>\n",
              "    <tr>\n",
              "      <th>6501</th>\n",
              "      <td>Report received of pole fire at incident locat...</td>\n",
              "      <td>Pole (wood)</td>\n",
              "      <td>Excessive leakage current</td>\n",
              "      <td>Pole-top fire</td>\n",
              "      <td>Pole</td>\n",
              "    </tr>\n",
              "    <tr>\n",
              "      <th>6502</th>\n",
              "      <td>A customer called to report a tractor had hit ...</td>\n",
              "      <td>Conductor (bare);Pole (wood)</td>\n",
              "      <td>Farm equipment hit pole</td>\n",
              "      <td>Damage to network assets</td>\n",
              "      <td>Vehicle</td>\n",
              "    </tr>\n",
              "    <tr>\n",
              "      <th>6503</th>\n",
              "      <td>concrete electrical cover outside of front of ...</td>\n",
              "      <td>Services pit (network)</td>\n",
              "      <td>Under Investigation</td>\n",
              "      <td>Shock to livestock, pet or companion animal</td>\n",
              "      <td>AF Other</td>\n",
              "    </tr>\n",
              "  </tbody>\n",
              "</table>\n",
              "<p>6488 rows × 5 columns</p>\n",
              "</div>"
            ],
            "text/plain": [
              "                                       EventDescription  ...    Category\n",
              "0     A nearby customer reported sparking of electri...  ...    OH Cable\n",
              "1     A contractor reported that he had contacted an...  ...      Dug up\n",
              "2     A field crew attending an outage found that a ...  ...  Connection\n",
              "3     Interfere and vandalism in substation. Unknown...  ...       Other\n",
              "4     A nearby customer reported that a high load ha...  ...     Vehicle\n",
              "...                                                 ...  ...         ...\n",
              "6499  A report came in to UE of a FMB sparking at 31...  ...  Connection\n",
              "6500  Report received from a resident to advise that...  ...     Vehicle\n",
              "6501  Report received of pole fire at incident locat...  ...        Pole\n",
              "6502  A customer called to report a tractor had hit ...  ...     Vehicle\n",
              "6503  concrete electrical cover outside of front of ...  ...    AF Other\n",
              "\n",
              "[6488 rows x 5 columns]"
            ]
          },
          "metadata": {
            "tags": []
          },
          "execution_count": 29
        }
      ]
    },
    {
      "cell_type": "code",
      "metadata": {
        "id": "hXGRdbY78qyr"
      },
      "source": [
        "df['description'] = df['EventDescription'] + ' ' + df['IncidentCause']+ ' ' + df['IncidentConsequence'] + ' ' + df['FailedAssets']"
      ],
      "execution_count": 30,
      "outputs": []
    },
    {
      "cell_type": "code",
      "metadata": {
        "colab": {
          "base_uri": "https://localhost:8080/"
        },
        "id": "dGS5t8wr87ww",
        "outputId": "795e9013-b0c9-4a27-9e60-99a5f6b6389a"
      },
      "source": [
        "df['description']"
      ],
      "execution_count": 31,
      "outputs": [
        {
          "output_type": "execute_result",
          "data": {
            "text/plain": [
              "0       A nearby customer reported sparking of electri...\n",
              "1       A contractor reported that he had contacted an...\n",
              "2       A field crew attending an outage found that a ...\n",
              "3       Interfere and vandalism in substation. Unknown...\n",
              "4       A nearby customer reported that a high load ha...\n",
              "                              ...                        \n",
              "6499    A report came in to UE of a FMB sparking at 31...\n",
              "6500    Report received from a resident to advise that...\n",
              "6501    Report received of pole fire at incident locat...\n",
              "6502    A customer called to report a tractor had hit ...\n",
              "6503    concrete electrical cover outside of front of ...\n",
              "Name: description, Length: 6488, dtype: object"
            ]
          },
          "metadata": {
            "tags": []
          },
          "execution_count": 31
        }
      ]
    },
    {
      "cell_type": "code",
      "metadata": {
        "id": "IO7iR5dz8-1x"
      },
      "source": [
        "df['description'] = hero.clean(df['description'])"
      ],
      "execution_count": 32,
      "outputs": []
    },
    {
      "cell_type": "code",
      "metadata": {
        "colab": {
          "base_uri": "https://localhost:8080/"
        },
        "id": "a8n-tRyk-4Qr",
        "outputId": "c6c6745a-50a7-4503-d94a-f84579870567"
      },
      "source": [
        "df['description']"
      ],
      "execution_count": 33,
      "outputs": [
        {
          "output_type": "execute_result",
          "data": {
            "text/plain": [
              "0       nearby customer reported sparking electrical l...\n",
              "1       contractor reported contacted earthing cable e...\n",
              "2       field crew attending outage found 22kv conduct...\n",
              "3       interfere vandalism substation unknown third p...\n",
              "4       nearby customer reported high load pulled wire...\n",
              "                              ...                        \n",
              "6499    report came ue fmb sparking st kilda st bright...\n",
              "6500    report received resident advise crane made con...\n",
              "6501    report received pole fire incident location ar...\n",
              "6502    customer called report tractor hit wire brough...\n",
              "6503    concrete electrical cover outside front house ...\n",
              "Name: description, Length: 6488, dtype: object"
            ]
          },
          "metadata": {
            "tags": []
          },
          "execution_count": 33
        }
      ]
    },
    {
      "cell_type": "code",
      "metadata": {
        "id": "OiCrU6T5-6QL"
      },
      "source": [
        "tf_idf_vect = TfidfVectorizer(ngram_range=(1,1), min_df=10,use_idf= True) #using only unigrams for tfidf\n",
        "tf_idf_vect.fit(df['description'])\n",
        "#print(tf_idf_vect.get_feature_names()[0:10])\n",
        "final_tf_idf = tf_idf_vect.transform(df['description'])"
      ],
      "execution_count": 46,
      "outputs": []
    },
    {
      "cell_type": "code",
      "metadata": {
        "colab": {
          "base_uri": "https://localhost:8080/",
          "height": 543
        },
        "id": "vvFU71MN_x6y",
        "outputId": "0cfe2c81-5434-422f-b22d-383eee60546e"
      },
      "source": [
        "n_comp = [4,10,15,20,50,100,150,200,500,700,800,900,1000,1500] # list containing different values of components\n",
        "explained = [] # explained variance ratio for each component of Truncated SVD\n",
        "for x in n_comp:\n",
        "    svd = TruncatedSVD(n_components=x)\n",
        "    svd.fit(final_tf_idf)\n",
        "    explained.append(svd.explained_variance_ratio_.sum())\n",
        "    print(\"Number of components = %r and explained variance = %r\"%(x,svd.explained_variance_ratio_.sum()))\n",
        "plt.plot(n_comp, explained)\n",
        "plt.xlabel('Number of components')\n",
        "plt.ylabel(\"Explained Variance\")\n",
        "plt.title(\"Plot of Number of components v/s explained variance\")\n",
        "plt.show()"
      ],
      "execution_count": 35,
      "outputs": [
        {
          "output_type": "stream",
          "text": [
            "Number of components = 4 and explained variance = 0.09541597636258328\n",
            "Number of components = 10 and explained variance = 0.18149785975126298\n",
            "Number of components = 15 and explained variance = 0.2205098295711846\n",
            "Number of components = 20 and explained variance = 0.25104496590633324\n",
            "Number of components = 50 and explained variance = 0.3630293042793724\n",
            "Number of components = 100 and explained variance = 0.46818124648189824\n",
            "Number of components = 150 and explained variance = 0.541734374903447\n",
            "Number of components = 200 and explained variance = 0.5983008058502745\n",
            "Number of components = 500 and explained variance = 0.7927599178721246\n",
            "Number of components = 700 and explained variance = 0.8622636942670716\n",
            "Number of components = 800 and explained variance = 0.8882819261694628\n",
            "Number of components = 900 and explained variance = 0.9100847376019349\n",
            "Number of components = 1000 and explained variance = 0.9284545943701951\n",
            "Number of components = 1500 and explained variance = 0.9839559129383032\n"
          ],
          "name": "stdout"
        },
        {
          "output_type": "display_data",
          "data": {
            "image/png": "[encoded data removed]",
            "text/plain": [
              "<Figure size 432x288 with 1 Axes>"
            ]
          },
          "metadata": {
            "tags": [],
            "needs_background": "light"
          }
        }
      ]
    },
    {
      "cell_type": "code",
      "metadata": {
        "id": "aL4G1qKCJv-C"
      },
      "source": [
        "#1500 features can explain 98% of the dataset"
      ],
      "execution_count": null,
      "outputs": []
    },
    {
      "cell_type": "code",
      "metadata": {
        "id": "jQmiKlSXHIA0"
      },
      "source": [
        "svd = TruncatedSVD(n_components=1500, random_state=42)\n",
        "#svd.fit(final_tf_idf)"
      ],
      "execution_count": 36,
      "outputs": []
    },
    {
      "cell_type": "code",
      "metadata": {
        "id": "-Ms7bjr9HMsw"
      },
      "source": [
        "final = svd.fit_transform(final_tf_idf)"
      ],
      "execution_count": 37,
      "outputs": []
    },
    {
      "cell_type": "code",
      "metadata": {
        "colab": {
          "base_uri": "https://localhost:8080/"
        },
        "id": "eQydRK2vHvu5",
        "outputId": "68a7eb43-8f9d-4c4b-a8e5-81dc800089b5"
      },
      "source": [
        "print(final)"
      ],
      "execution_count": 38,
      "outputs": [
        {
          "output_type": "stream",
          "text": [
            "[[ 1.91766360e-01 -3.40513295e-02 -2.29923382e-02 ...  1.03404174e-02\n",
            "   7.41971242e-03 -2.47204125e-03]\n",
            " [ 2.41963936e-01 -1.71161578e-01 -1.63754989e-01 ...  1.87038972e-02\n",
            "  -2.56953497e-03  5.34012393e-03]\n",
            " [ 2.72818577e-01 -1.13731037e-01 -6.80982499e-02 ...  5.58666500e-04\n",
            "   5.69063051e-03  1.28606297e-02]\n",
            " ...\n",
            " [ 6.35686914e-01  3.96146463e-01  6.14668447e-02 ...  1.02488036e-05\n",
            "  -6.26058795e-03  9.61062527e-04]\n",
            " [ 2.66720862e-01 -2.06508341e-02 -2.10227414e-02 ...  5.50412401e-03\n",
            "  -6.99502411e-03 -5.75876489e-03]\n",
            " [ 7.43355794e-02 -1.31308769e-01  9.26146432e-02 ... -4.04086154e-03\n",
            "   5.73427134e-03 -6.44264452e-03]]\n"
          ],
          "name": "stdout"
        }
      ]
    },
    {
      "cell_type": "code",
      "metadata": {
        "colab": {
          "base_uri": "https://localhost:8080/"
        },
        "id": "eAFgHNa4AVOI",
        "outputId": "53cf7271-3f17-4575-9442-c1d07c4fe308"
      },
      "source": [
        "final.shape"
      ],
      "execution_count": 39,
      "outputs": [
        {
          "output_type": "execute_result",
          "data": {
            "text/plain": [
              "(6488, 1500)"
            ]
          },
          "metadata": {
            "tags": []
          },
          "execution_count": 39
        }
      ]
    },
    {
      "cell_type": "code",
      "metadata": {
        "colab": {
          "base_uri": "https://localhost:8080/"
        },
        "id": "9hxUvKZ-AGpp",
        "outputId": "2eb0a0cc-b22a-4559-8e78-8c5c6f4df5ab"
      },
      "source": [
        "le = LabelEncoder()\n",
        "Y = le.fit_transform(df['Category'])"
      ],
      "execution_count": 40,
      "outputs": [
        {
          "output_type": "execute_result",
          "data": {
            "text/plain": [
              "array([ 9,  5,  3, ..., 11, 14,  0])"
            ]
          },
          "metadata": {
            "tags": []
          },
          "execution_count": 40
        }
      ]
    },
    {
      "cell_type": "code",
      "metadata": {
        "id": "KIFzg5Vz9oXw"
      },
      "source": [
        "from sklearn.model_selection import train_test_split\n",
        "x_train, x_test, y_train, y_test = train_test_split(final,Y, \n",
        "                                                    test_size=0.25, random_state=4, stratify = Y)"
      ],
      "execution_count": 41,
      "outputs": []
    },
    {
      "cell_type": "code",
      "metadata": {
        "colab": {
          "base_uri": "https://localhost:8080/"
        },
        "id": "uM0cWyJ5HvnE",
        "outputId": "6a7ad6c3-f803-4536-e237-cd77ae3e5e2c"
      },
      "source": [
        "svc = SVC(C=1.0, kernel = 'linear', probability = True)\n",
        "svc.fit(x_train, y_train)\n",
        "accuracy = accuracy_score(y_test,svc.predict(x_test))\n",
        "print(accuracy)"
      ],
      "execution_count": 45,
      "outputs": [
        {
          "output_type": "stream",
          "text": [
            "0.8360049321824907\n"
          ],
          "name": "stdout"
        }
      ]
    }
  ]
}