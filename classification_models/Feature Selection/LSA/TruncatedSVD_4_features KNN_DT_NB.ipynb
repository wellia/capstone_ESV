{
  "nbformat": 4,
  "nbformat_minor": 0,
  "metadata": {
    "colab": {
      "name": "TruncatedSVD_4_features.ipynb",
      "provenance": [],
      "collapsed_sections": [],
      "toc_visible": true
    },
    "kernelspec": {
      "name": "python3",
      "display_name": "Python 3"
    }
  },
  "cells": [
    {
      "cell_type": "code",
      "metadata": {
        "id": "59aJjO2u9LDv",
        "colab": {
          "base_uri": "https://localhost:8080/"
        },
        "outputId": "0edde31c-9035-4d5c-b5a5-331686ceb411"
      },
      "source": [
        "!pip install texthero"
      ],
      "execution_count": 6,
      "outputs": [
        {
          "output_type": "stream",
          "text": [
            "Requirement already satisfied: texthero in /usr/local/lib/python3.6/dist-packages (1.0.9)\n",
            "Requirement already satisfied: scikit-learn>=0.22 in /usr/local/lib/python3.6/dist-packages (from texthero) (0.22.2.post1)\n",
            "Requirement already satisfied: spacy>=2.2.2 in /usr/local/lib/python3.6/dist-packages (from texthero) (2.2.4)\n",
            "Requirement already satisfied: plotly>=4.2.0 in /usr/local/lib/python3.6/dist-packages (from texthero) (4.4.1)\n",
            "Requirement already satisfied: nltk>=3.3 in /usr/local/lib/python3.6/dist-packages (from texthero) (3.5)\n",
            "Requirement already satisfied: numpy>=1.17 in /usr/local/lib/python3.6/dist-packages (from texthero) (1.19.4)\n",
            "Requirement already satisfied: tqdm>=4.3 in /usr/local/lib/python3.6/dist-packages (from texthero) (4.41.1)\n",
            "Requirement already satisfied: pandas>=1.0.2 in /usr/local/lib/python3.6/dist-packages (from texthero) (1.1.5)\n",
            "Requirement already satisfied: unidecode>=1.1.1 in /usr/local/lib/python3.6/dist-packages (from texthero) (1.1.2)\n",
            "Requirement already satisfied: matplotlib>=3.1.0 in /usr/local/lib/python3.6/dist-packages (from texthero) (3.2.2)\n",
            "Requirement already satisfied: wordcloud>=1.5.0 in /usr/local/lib/python3.6/dist-packages (from texthero) (1.5.0)\n",
            "Requirement already satisfied: gensim>=3.6.0 in /usr/local/lib/python3.6/dist-packages (from texthero) (3.6.0)\n",
            "Requirement already satisfied: scipy>=0.17.0 in /usr/local/lib/python3.6/dist-packages (from scikit-learn>=0.22->texthero) (1.4.1)\n",
            "Requirement already satisfied: joblib>=0.11 in /usr/local/lib/python3.6/dist-packages (from scikit-learn>=0.22->texthero) (1.0.0)\n",
            "Requirement already satisfied: murmurhash<1.1.0,>=0.28.0 in /usr/local/lib/python3.6/dist-packages (from spacy>=2.2.2->texthero) (1.0.5)\n",
            "Requirement already satisfied: preshed<3.1.0,>=3.0.2 in /usr/local/lib/python3.6/dist-packages (from spacy>=2.2.2->texthero) (3.0.5)\n",
            "Requirement already satisfied: setuptools in /usr/local/lib/python3.6/dist-packages (from spacy>=2.2.2->texthero) (50.3.2)\n",
            "Requirement already satisfied: thinc==7.4.0 in /usr/local/lib/python3.6/dist-packages (from spacy>=2.2.2->texthero) (7.4.0)\n",
            "Requirement already satisfied: srsly<1.1.0,>=1.0.2 in /usr/local/lib/python3.6/dist-packages (from spacy>=2.2.2->texthero) (1.0.5)\n",
            "Requirement already satisfied: requests<3.0.0,>=2.13.0 in /usr/local/lib/python3.6/dist-packages (from spacy>=2.2.2->texthero) (2.23.0)\n",
            "Requirement already satisfied: plac<1.2.0,>=0.9.6 in /usr/local/lib/python3.6/dist-packages (from spacy>=2.2.2->texthero) (1.1.3)\n",
            "Requirement already satisfied: catalogue<1.1.0,>=0.0.7 in /usr/local/lib/python3.6/dist-packages (from spacy>=2.2.2->texthero) (1.0.0)\n",
            "Requirement already satisfied: cymem<2.1.0,>=2.0.2 in /usr/local/lib/python3.6/dist-packages (from spacy>=2.2.2->texthero) (2.0.5)\n",
            "Requirement already satisfied: wasabi<1.1.0,>=0.4.0 in /usr/local/lib/python3.6/dist-packages (from spacy>=2.2.2->texthero) (0.8.0)\n",
            "Requirement already satisfied: blis<0.5.0,>=0.4.0 in /usr/local/lib/python3.6/dist-packages (from spacy>=2.2.2->texthero) (0.4.1)\n",
            "Requirement already satisfied: retrying>=1.3.3 in /usr/local/lib/python3.6/dist-packages (from plotly>=4.2.0->texthero) (1.3.3)\n",
            "Requirement already satisfied: six in /usr/local/lib/python3.6/dist-packages (from plotly>=4.2.0->texthero) (1.15.0)\n",
            "Requirement already satisfied: click in /usr/local/lib/python3.6/dist-packages (from nltk>=3.3->texthero) (7.1.2)\n",
            "Requirement already satisfied: regex in /usr/local/lib/python3.6/dist-packages (from nltk>=3.3->texthero) (2019.12.20)\n",
            "Requirement already satisfied: python-dateutil>=2.7.3 in /usr/local/lib/python3.6/dist-packages (from pandas>=1.0.2->texthero) (2.8.1)\n",
            "Requirement already satisfied: pytz>=2017.2 in /usr/local/lib/python3.6/dist-packages (from pandas>=1.0.2->texthero) (2018.9)\n",
            "Requirement already satisfied: pyparsing!=2.0.4,!=2.1.2,!=2.1.6,>=2.0.1 in /usr/local/lib/python3.6/dist-packages (from matplotlib>=3.1.0->texthero) (2.4.7)\n",
            "Requirement already satisfied: kiwisolver>=1.0.1 in /usr/local/lib/python3.6/dist-packages (from matplotlib>=3.1.0->texthero) (1.3.1)\n",
            "Requirement already satisfied: cycler>=0.10 in /usr/local/lib/python3.6/dist-packages (from matplotlib>=3.1.0->texthero) (0.10.0)\n",
            "Requirement already satisfied: pillow in /usr/local/lib/python3.6/dist-packages (from wordcloud>=1.5.0->texthero) (7.0.0)\n",
            "Requirement already satisfied: smart-open>=1.2.1 in /usr/local/lib/python3.6/dist-packages (from gensim>=3.6.0->texthero) (4.0.1)\n",
            "Requirement already satisfied: idna<3,>=2.5 in /usr/local/lib/python3.6/dist-packages (from requests<3.0.0,>=2.13.0->spacy>=2.2.2->texthero) (2.10)\n",
            "Requirement already satisfied: certifi>=2017.4.17 in /usr/local/lib/python3.6/dist-packages (from requests<3.0.0,>=2.13.0->spacy>=2.2.2->texthero) (2020.12.5)\n",
            "Requirement already satisfied: urllib3!=1.25.0,!=1.25.1,<1.26,>=1.21.1 in /usr/local/lib/python3.6/dist-packages (from requests<3.0.0,>=2.13.0->spacy>=2.2.2->texthero) (1.24.3)\n",
            "Requirement already satisfied: chardet<4,>=3.0.2 in /usr/local/lib/python3.6/dist-packages (from requests<3.0.0,>=2.13.0->spacy>=2.2.2->texthero) (3.0.4)\n",
            "Requirement already satisfied: importlib-metadata>=0.20; python_version < \"3.8\" in /usr/local/lib/python3.6/dist-packages (from catalogue<1.1.0,>=0.0.7->spacy>=2.2.2->texthero) (3.3.0)\n",
            "Requirement already satisfied: zipp>=0.5 in /usr/local/lib/python3.6/dist-packages (from importlib-metadata>=0.20; python_version < \"3.8\"->catalogue<1.1.0,>=0.0.7->spacy>=2.2.2->texthero) (3.4.0)\n",
            "Requirement already satisfied: typing-extensions>=3.6.4; python_version < \"3.8\" in /usr/local/lib/python3.6/dist-packages (from importlib-metadata>=0.20; python_version < \"3.8\"->catalogue<1.1.0,>=0.0.7->spacy>=2.2.2->texthero) (3.7.4.3)\n"
          ],
          "name": "stdout"
        }
      ]
    },
    {
      "cell_type": "code",
      "metadata": {
        "id": "yBG9ZG4f4f4_"
      },
      "source": [
        "import pandas as pd\n",
        "from sklearn.feature_extraction.text import TfidfVectorizer, CountVectorizer\n",
        "from sklearn.decomposition import TruncatedSVD\n",
        "import numpy as np\n",
        "import texthero as hero\n",
        "from texthero import preprocessing\n",
        "import matplotlib.pyplot as plt\n",
        "from sklearn.preprocessing import LabelEncoder\n",
        "from sklearn.svm import SVC\n",
        "from sklearn.metrics import accuracy_score, classification_report\n"
      ],
      "execution_count": 7,
      "outputs": []
    },
    {
      "cell_type": "code",
      "metadata": {
        "id": "pBlyPKBC5Lys"
      },
      "source": [
        "cols = ['EventDescription', 'IncidentCause', 'IncidentConsequence', 'FailedAssets','Category','ActionTaken', 'Locality']"
      ],
      "execution_count": 8,
      "outputs": []
    },
    {
      "cell_type": "code",
      "metadata": {
        "colab": {
          "base_uri": "https://localhost:8080/",
          "height": 674
        },
        "id": "tUnh-Uud5F8q",
        "outputId": "cd9c708d-2c10-47a5-e21c-e24d21bab67b"
      },
      "source": [
        "df = pd.read_csv('/content/cleaned_incidents1 (1).csv', usecols = cols)\n",
        "df = df.dropna()\n",
        "df"
      ],
      "execution_count": 9,
      "outputs": [
        {
          "output_type": "execute_result",
          "data": {
            "text/html": [
              "<div>\n",
              "<style scoped>\n",
              "    .dataframe tbody tr th:only-of-type {\n",
              "        vertical-align: middle;\n",
              "    }\n",
              "\n",
              "    .dataframe tbody tr th {\n",
              "        vertical-align: top;\n",
              "    }\n",
              "\n",
              "    .dataframe thead th {\n",
              "        text-align: right;\n",
              "    }\n",
              "</style>\n",
              "<table border=\"1\" class=\"dataframe\">\n",
              "  <thead>\n",
              "    <tr style=\"text-align: right;\">\n",
              "      <th></th>\n",
              "      <th>EventDescription</th>\n",
              "      <th>FailedAssets</th>\n",
              "      <th>IncidentCause</th>\n",
              "      <th>IncidentConsequence</th>\n",
              "      <th>Category</th>\n",
              "    </tr>\n",
              "  </thead>\n",
              "  <tbody>\n",
              "    <tr>\n",
              "      <th>0</th>\n",
              "      <td>A nearby customer reported sparking of electri...</td>\n",
              "      <td>Conductor (ABC)</td>\n",
              "      <td>HVABC cable faulted midspan</td>\n",
              "      <td>Grassfire</td>\n",
              "      <td>OH Cable</td>\n",
              "    </tr>\n",
              "    <tr>\n",
              "      <th>1</th>\n",
              "      <td>A contractor reported that he had contacted an...</td>\n",
              "      <td>No failed asset</td>\n",
              "      <td>Contractor contacted earthing conductor</td>\n",
              "      <td>No Go Zone (contact)</td>\n",
              "      <td>Dug up</td>\n",
              "    </tr>\n",
              "    <tr>\n",
              "      <th>2</th>\n",
              "      <td>A field crew attending an outage found that a ...</td>\n",
              "      <td>Conductor (bare)</td>\n",
              "      <td>Conductor broke due to rust</td>\n",
              "      <td>Serious risk to public safety (e.g. live condu...</td>\n",
              "      <td>Connection</td>\n",
              "    </tr>\n",
              "    <tr>\n",
              "      <th>3</th>\n",
              "      <td>Interfere and vandalism in substation. Unknown...</td>\n",
              "      <td>Indoor</td>\n",
              "      <td>Vandalism</td>\n",
              "      <td>Loss of supply;Damage to network assets</td>\n",
              "      <td>Other</td>\n",
              "    </tr>\n",
              "    <tr>\n",
              "      <th>4</th>\n",
              "      <td>A nearby customer reported that a high load ha...</td>\n",
              "      <td>Service conductor</td>\n",
              "      <td>Unknown high load contacted LV service cable</td>\n",
              "      <td>No Go Zone (contact);Damage to network assets</td>\n",
              "      <td>Vehicle</td>\n",
              "    </tr>\n",
              "    <tr>\n",
              "      <th>...</th>\n",
              "      <td>...</td>\n",
              "      <td>...</td>\n",
              "      <td>...</td>\n",
              "      <td>...</td>\n",
              "      <td>...</td>\n",
              "    </tr>\n",
              "    <tr>\n",
              "      <th>6499</th>\n",
              "      <td>A report came in to UE of a FMB sparking at 31...</td>\n",
              "      <td>Connection box</td>\n",
              "      <td>The likely cause was determined by EIO to be a...</td>\n",
              "      <td>Plant/equipment</td>\n",
              "      <td>Connection</td>\n",
              "    </tr>\n",
              "    <tr>\n",
              "      <th>6500</th>\n",
              "      <td>Report received from a resident to advise that...</td>\n",
              "      <td>Conductor (bare)</td>\n",
              "      <td>Crane struck line</td>\n",
              "      <td>No Go Zone (contact);Damage to network assets</td>\n",
              "      <td>Vehicle</td>\n",
              "    </tr>\n",
              "    <tr>\n",
              "      <th>6501</th>\n",
              "      <td>Report received of pole fire at incident locat...</td>\n",
              "      <td>Pole (wood)</td>\n",
              "      <td>Excessive leakage current</td>\n",
              "      <td>Pole-top fire</td>\n",
              "      <td>Pole</td>\n",
              "    </tr>\n",
              "    <tr>\n",
              "      <th>6502</th>\n",
              "      <td>A customer called to report a tractor had hit ...</td>\n",
              "      <td>Conductor (bare);Pole (wood)</td>\n",
              "      <td>Farm equipment hit pole</td>\n",
              "      <td>Damage to network assets</td>\n",
              "      <td>Vehicle</td>\n",
              "    </tr>\n",
              "    <tr>\n",
              "      <th>6503</th>\n",
              "      <td>concrete electrical cover outside of front of ...</td>\n",
              "      <td>Services pit (network)</td>\n",
              "      <td>Under Investigation</td>\n",
              "      <td>Shock to livestock, pet or companion animal</td>\n",
              "      <td>AF Other</td>\n",
              "    </tr>\n",
              "  </tbody>\n",
              "</table>\n",
              "<p>6488 rows × 5 columns</p>\n",
              "</div>"
            ],
            "text/plain": [
              "                                       EventDescription  ...    Category\n",
              "0     A nearby customer reported sparking of electri...  ...    OH Cable\n",
              "1     A contractor reported that he had contacted an...  ...      Dug up\n",
              "2     A field crew attending an outage found that a ...  ...  Connection\n",
              "3     Interfere and vandalism in substation. Unknown...  ...       Other\n",
              "4     A nearby customer reported that a high load ha...  ...     Vehicle\n",
              "...                                                 ...  ...         ...\n",
              "6499  A report came in to UE of a FMB sparking at 31...  ...  Connection\n",
              "6500  Report received from a resident to advise that...  ...     Vehicle\n",
              "6501  Report received of pole fire at incident locat...  ...        Pole\n",
              "6502  A customer called to report a tractor had hit ...  ...     Vehicle\n",
              "6503  concrete electrical cover outside of front of ...  ...    AF Other\n",
              "\n",
              "[6488 rows x 5 columns]"
            ]
          },
          "metadata": {
            "tags": []
          },
          "execution_count": 9
        }
      ]
    },
    {
      "cell_type": "code",
      "metadata": {
        "id": "hXGRdbY78qyr"
      },
      "source": [
        "df['description'] = df['EventDescription'] + ' ' + df['IncidentCause']+ ' ' + df['IncidentConsequence'] + ' ' + df['FailedAssets']"
      ],
      "execution_count": 10,
      "outputs": []
    },
    {
      "cell_type": "code",
      "metadata": {
        "colab": {
          "base_uri": "https://localhost:8080/"
        },
        "id": "dGS5t8wr87ww",
        "outputId": "8aa075a7-cfab-4646-a339-4919b1d1f4c2"
      },
      "source": [
        "df['description']"
      ],
      "execution_count": 11,
      "outputs": [
        {
          "output_type": "execute_result",
          "data": {
            "text/plain": [
              "0       A nearby customer reported sparking of electri...\n",
              "1       A contractor reported that he had contacted an...\n",
              "2       A field crew attending an outage found that a ...\n",
              "3       Interfere and vandalism in substation. Unknown...\n",
              "4       A nearby customer reported that a high load ha...\n",
              "                              ...                        \n",
              "6499    A report came in to UE of a FMB sparking at 31...\n",
              "6500    Report received from a resident to advise that...\n",
              "6501    Report received of pole fire at incident locat...\n",
              "6502    A customer called to report a tractor had hit ...\n",
              "6503    concrete electrical cover outside of front of ...\n",
              "Name: description, Length: 6488, dtype: object"
            ]
          },
          "metadata": {
            "tags": []
          },
          "execution_count": 11
        }
      ]
    },
    {
      "cell_type": "code",
      "metadata": {
        "id": "IO7iR5dz8-1x"
      },
      "source": [
        "df['description'] = hero.clean(df['description'])"
      ],
      "execution_count": 12,
      "outputs": []
    },
    {
      "cell_type": "code",
      "metadata": {
        "colab": {
          "base_uri": "https://localhost:8080/"
        },
        "id": "a8n-tRyk-4Qr",
        "outputId": "93ed14d8-bea7-4a1f-8b4a-2e7fc744fb67"
      },
      "source": [
        "df['description']"
      ],
      "execution_count": 13,
      "outputs": [
        {
          "output_type": "execute_result",
          "data": {
            "text/plain": [
              "0       nearby customer reported sparking electrical l...\n",
              "1       contractor reported contacted earthing cable e...\n",
              "2       field crew attending outage found 22kv conduct...\n",
              "3       interfere vandalism substation unknown third p...\n",
              "4       nearby customer reported high load pulled wire...\n",
              "                              ...                        \n",
              "6499    report came ue fmb sparking st kilda st bright...\n",
              "6500    report received resident advise crane made con...\n",
              "6501    report received pole fire incident location ar...\n",
              "6502    customer called report tractor hit wire brough...\n",
              "6503    concrete electrical cover outside front house ...\n",
              "Name: description, Length: 6488, dtype: object"
            ]
          },
          "metadata": {
            "tags": []
          },
          "execution_count": 13
        }
      ]
    },
    {
      "cell_type": "code",
      "metadata": {
        "id": "OiCrU6T5-6QL"
      },
      "source": [
        "tf_idf_vect = TfidfVectorizer(ngram_range=(1,1), min_df=10,use_idf= True) #using only unigrams for tfidf\n",
        "tf_idf_vect.fit(df['description'])\n",
        "#print(tf_idf_vect.get_feature_names()[0:10])\n",
        "final_tf_idf = tf_idf_vect.transform(df['description'])"
      ],
      "execution_count": 14,
      "outputs": []
    },
    {
      "cell_type": "code",
      "metadata": {
        "colab": {
          "base_uri": "https://localhost:8080/",
          "height": 533
        },
        "id": "vvFU71MN_x6y",
        "outputId": "bc37dd70-e2f1-46ed-e3ac-01eb0836de2a"
      },
      "source": [
        "n_comp = [4,10,15,20,50,100,150,200,500,700,800,900,1000,1500] # list containing different values of components\n",
        "explained = [] # explained variance ratio for each component of Truncated SVD\n",
        "for x in n_comp:\n",
        "    svd = TruncatedSVD(n_components=x)\n",
        "    svd.fit(final_tf_idf)\n",
        "    explained.append(svd.explained_variance_ratio_.sum())\n",
        "    print(\"Number of components = %r and explained variance = %r\"%(x,svd.explained_variance_ratio_.sum()))\n",
        "plt.plot(n_comp, explained)\n",
        "plt.xlabel('Number of components')\n",
        "plt.ylabel(\"Explained Variance\")\n",
        "plt.title(\"Plot of Number of components v/s explained variance\")\n",
        "plt.show()"
      ],
      "execution_count": 15,
      "outputs": [
        {
          "output_type": "stream",
          "text": [
            "Number of components = 4 and explained variance = 0.09541609943043236\n",
            "Number of components = 10 and explained variance = 0.18147440205974782\n",
            "Number of components = 15 and explained variance = 0.22049927041328707\n",
            "Number of components = 20 and explained variance = 0.25103103177906827\n",
            "Number of components = 50 and explained variance = 0.3630347941198678\n",
            "Number of components = 100 and explained variance = 0.4679795754054839\n",
            "Number of components = 150 and explained variance = 0.5417208483291315\n",
            "Number of components = 200 and explained variance = 0.5982775999019341\n",
            "Number of components = 500 and explained variance = 0.7927537660604347\n",
            "Number of components = 700 and explained variance = 0.8622693683394994\n",
            "Number of components = 800 and explained variance = 0.8882118869431368\n",
            "Number of components = 900 and explained variance = 0.9100972913352592\n",
            "Number of components = 1000 and explained variance = 0.9284740255447688\n",
            "Number of components = 1500 and explained variance = 0.9839578632404673\n"
          ],
          "name": "stdout"
        },
        {
          "output_type": "display_data",
          "data": {
            "image/png": "[encoded data removed]",
            "text/plain": [
              "<Figure size 432x288 with 1 Axes>"
            ]
          },
          "metadata": {
            "tags": [],
            "needs_background": "light"
          }
        }
      ]
    },
    {
      "cell_type": "code",
      "metadata": {
        "id": "aL4G1qKCJv-C"
      },
      "source": [
        "#1500 features can explain 98% of the dataset"
      ],
      "execution_count": 16,
      "outputs": []
    },
    {
      "cell_type": "code",
      "metadata": {
        "id": "jQmiKlSXHIA0"
      },
      "source": [
        "svd = TruncatedSVD(n_components=1500, random_state=42)\n",
        "#svd.fit(final_tf_idf)"
      ],
      "execution_count": 17,
      "outputs": []
    },
    {
      "cell_type": "code",
      "metadata": {
        "id": "-Ms7bjr9HMsw"
      },
      "source": [
        "final = svd.fit_transform(final_tf_idf)"
      ],
      "execution_count": 18,
      "outputs": []
    },
    {
      "cell_type": "code",
      "metadata": {
        "colab": {
          "base_uri": "https://localhost:8080/"
        },
        "id": "eQydRK2vHvu5",
        "outputId": "740a14f8-1602-4ae4-b18b-c0042a9929e6"
      },
      "source": [
        "print(final)"
      ],
      "execution_count": 19,
      "outputs": [
        {
          "output_type": "stream",
          "text": [
            "[[ 1.91766360e-01 -3.40513295e-02 -2.29923382e-02 ...  1.03404174e-02\n",
            "   7.41971242e-03 -2.47204125e-03]\n",
            " [ 2.41963936e-01 -1.71161578e-01 -1.63754989e-01 ...  1.87038972e-02\n",
            "  -2.56953497e-03  5.34012393e-03]\n",
            " [ 2.72818577e-01 -1.13731037e-01 -6.80982499e-02 ...  5.58666500e-04\n",
            "   5.69063051e-03  1.28606297e-02]\n",
            " ...\n",
            " [ 6.35686914e-01  3.96146463e-01  6.14668447e-02 ...  1.02488036e-05\n",
            "  -6.26058795e-03  9.61062527e-04]\n",
            " [ 2.66720862e-01 -2.06508341e-02 -2.10227414e-02 ...  5.50412401e-03\n",
            "  -6.99502411e-03 -5.75876489e-03]\n",
            " [ 7.43355794e-02 -1.31308769e-01  9.26146432e-02 ... -4.04086154e-03\n",
            "   5.73427134e-03 -6.44264452e-03]]\n"
          ],
          "name": "stdout"
        }
      ]
    },
    {
      "cell_type": "code",
      "metadata": {
        "colab": {
          "base_uri": "https://localhost:8080/"
        },
        "id": "eAFgHNa4AVOI",
        "outputId": "66851e43-43e5-4f26-a4f4-fe7862b4071d"
      },
      "source": [
        "final.shape"
      ],
      "execution_count": 20,
      "outputs": [
        {
          "output_type": "execute_result",
          "data": {
            "text/plain": [
              "(6488, 1500)"
            ]
          },
          "metadata": {
            "tags": []
          },
          "execution_count": 20
        }
      ]
    },
    {
      "cell_type": "code",
      "metadata": {
        "id": "9hxUvKZ-AGpp"
      },
      "source": [
        "le = LabelEncoder()\n",
        "Y = le.fit_transform(df['Category'])"
      ],
      "execution_count": 21,
      "outputs": []
    },
    {
      "cell_type": "code",
      "metadata": {
        "id": "KIFzg5Vz9oXw"
      },
      "source": [
        "from sklearn.model_selection import train_test_split\n",
        "x_train, x_test, y_train, y_test = train_test_split(final,Y, \n",
        "                                                    test_size=0.25, random_state=4, stratify = Y)"
      ],
      "execution_count": 22,
      "outputs": []
    },
    {
      "cell_type": "code",
      "metadata": {
        "colab": {
          "base_uri": "https://localhost:8080/"
        },
        "id": "uM0cWyJ5HvnE",
        "outputId": "278b6a7e-4871-4047-ed39-1ce2fb385447"
      },
      "source": [
        "svc = SVC(C=1.0, kernel = 'linear', probability = True)\n",
        "svc.fit(x_train, y_train)\n",
        "accuracy = accuracy_score(y_test,svc.predict(x_test))\n",
        "print(accuracy)"
      ],
      "execution_count": 23,
      "outputs": [
        {
          "output_type": "stream",
          "text": [
            "0.8360049321824907\n"
          ],
          "name": "stdout"
        }
      ]
    },
    {
      "cell_type": "markdown",
      "metadata": {
        "id": "wcw3cwM2qGJJ"
      },
      "source": [
        "#Implementing KNN with LSA dataset"
      ]
    },
    {
      "cell_type": "code",
      "metadata": {
        "id": "xbrhJaIjqMy6"
      },
      "source": [
        "from sklearn.neighbors import KNeighborsClassifier"
      ],
      "execution_count": 26,
      "outputs": []
    },
    {
      "cell_type": "code",
      "metadata": {
        "colab": {
          "base_uri": "https://localhost:8080/"
        },
        "id": "UnsWfF-cqi-i",
        "outputId": "c78fb520-80dd-4958-856d-c618b906f4e7"
      },
      "source": [
        "KNN=KNeighborsClassifier(n_neighbors=5)\n",
        "KNN.fit(x_train, y_train)\n",
        "accuracy = accuracy_score(y_test,KNN.predict(x_test))\n",
        "print(accuracy)"
      ],
      "execution_count": 28,
      "outputs": [
        {
          "output_type": "stream",
          "text": [
            "0.7749691738594328\n"
          ],
          "name": "stdout"
        }
      ]
    },
    {
      "cell_type": "markdown",
      "metadata": {
        "id": "lmF9AweRsY4c"
      },
      "source": [
        "#Implementing Multinomial NB with LSA dataset"
      ]
    },
    {
      "cell_type": "code",
      "metadata": {
        "id": "z1Db8h8TsfL3"
      },
      "source": [
        "from sklearn.naive_bayes import GaussianNB"
      ],
      "execution_count": 33,
      "outputs": []
    },
    {
      "cell_type": "code",
      "metadata": {
        "colab": {
          "base_uri": "https://localhost:8080/"
        },
        "id": "69YL9RiksoMA",
        "outputId": "16751c4d-d15d-4150-f324-6096c0fd3011"
      },
      "source": [
        "nb=GaussianNB()\n",
        "nb.fit(x_train, y_train)\n",
        "accuracy = accuracy_score(y_test,nb.predict(x_test))\n",
        "print(accuracy)"
      ],
      "execution_count": 35,
      "outputs": [
        {
          "output_type": "stream",
          "text": [
            "0.42909987669543775\n"
          ],
          "name": "stdout"
        }
      ]
    },
    {
      "cell_type": "markdown",
      "metadata": {
        "id": "gmlKClCstvX3"
      },
      "source": [
        "#Implementing Decision tree with LSA dataset"
      ]
    },
    {
      "cell_type": "code",
      "metadata": {
        "id": "OnmaDaIqt1bA"
      },
      "source": [
        "from sklearn.tree import DecisionTreeClassifier"
      ],
      "execution_count": 37,
      "outputs": []
    },
    {
      "cell_type": "code",
      "metadata": {
        "colab": {
          "base_uri": "https://localhost:8080/"
        },
        "id": "ECVo5S9gt6PM",
        "outputId": "897affe0-d92e-472c-ccb2-130385593b4c"
      },
      "source": [
        "dt=DecisionTreeClassifier(criterion=\"gini\",max_depth=20, random_state=1)\n",
        "dt.fit(x_train, y_train)\n",
        "accuracy = accuracy_score(y_test,dt.predict(x_test))\n",
        "print(accuracy)"
      ],
      "execution_count": 40,
      "outputs": [
        {
          "output_type": "stream",
          "text": [
            "0.6109741060419236\n"
          ],
          "name": "stdout"
        }
      ]
    }
  ]
}