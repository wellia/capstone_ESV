{
 "cells": [
  {
   "cell_type": "code",
   "execution_count": 2,
   "metadata": {},
   "outputs": [],
   "source": [
    "import pandas as pd\n",
    "import numpy as np\n",
    "\n",
    "import texthero as hero\n",
    "from texthero import preprocessing\n",
    "import pickle\n",
    "import matplotlib.pyplot as plt\n",
    "from scipy.sparse import hstack\n",
    "\n",
    "from sklearn.preprocessing import LabelEncoder\n",
    "from sklearn.metrics import accuracy_score\n",
    "from sklearn.feature_extraction.text import TfidfVectorizer\n",
    "from sklearn.pipeline import Pipeline\n",
    "from sklearn.feature_selection import RFE\n",
    "from sklearn.tree import DecisionTreeClassifier"
   ]
  },
  {
   "cell_type": "code",
   "execution_count": 3,
   "metadata": {},
   "outputs": [],
   "source": [
    "# Text Cleaning and Pre-processing\n",
    "def preprocess_text(features):\n",
    "    # cleaning steps\n",
    "    cleaning_pipeline = [\n",
    "        preprocessing.fillna,\n",
    "        preprocessing.lowercase,\n",
    "        preprocessing.remove_whitespace,\n",
    "        preprocessing.remove_punctuation,\n",
    "        preprocessing.remove_urls,\n",
    "        preprocessing.remove_brackets,\n",
    "        preprocessing.remove_stopwords,\n",
    "        preprocessing.remove_digits,\n",
    "        preprocessing.remove_angle_brackets,\n",
    "        preprocessing.remove_curly_brackets\n",
    "    ]\n",
    "\n",
    "    # apply pipeline to text\n",
    "    clean_text = features.pipe(hero.clean, cleaning_pipeline)\n",
    "    \n",
    "    return clean_text"
   ]
  },
  {
   "cell_type": "code",
   "execution_count": 11,
   "metadata": {},
   "outputs": [
    {
     "name": "stdout",
     "output_type": "stream",
     "text": [
      "col_len: [941, 37, 36, 38, 15, 1697, 82, 696, 61]\n",
      "featureName_len: 3603\n",
      "x_train shape: (6489, 3603)\n"
     ]
    }
   ],
   "source": [
    "cols = ['EventDescription', 'ActionTaken', 'IncidentCause', 'IncidentConsequence', 'CauseCommunity', 'FailedAssets', 'CauseWorkP', 'CauseTechnical', 'CauseEnvironment', 'Category']\n",
    "\n",
    "df = pd.read_csv('cleaned_incidents1.csv', usecols = cols)\n",
    "df_original = df\n",
    "\n",
    "# filling up missing values\n",
    "df = df.dropna(axis=0, subset=['Category'])\n",
    "df = df.replace(np.nan, '', regex=True)\n",
    "\n",
    "# encode target\n",
    "le = LabelEncoder()\n",
    "y_train = le.fit_transform(df['Category'])\n",
    "\n",
    "df = df.drop(columns=['Category'])\n",
    "\n",
    "# clean texts\n",
    "df = df.apply(lambda x: preprocess_text(x))\n",
    "\n",
    "# vectorize\n",
    "tfidf_vectorizer = TfidfVectorizer(ngram_range=(1,1), min_df=10, use_idf= True) \n",
    "\n",
    "columns = df.columns\n",
    "\n",
    "# vectorize each column\n",
    "description = ''    \n",
    "col_len = []\n",
    "feature_names = []\n",
    "tfidf_col = []\n",
    "for col in columns:\n",
    "    tfidf_col.append(tfidf_vectorizer.fit_transform(df[col]))\n",
    "    col_featureName = tfidf_vectorizer.get_feature_names()\n",
    "    feature_names = feature_names + col_featureName\n",
    "    col_len.append(len(col_featureName))\n",
    "\n",
    "# collect vectors from all columns\n",
    "x_train = hstack(tfidf_col).toarray()\n",
    "\n",
    "featureName_len = len(feature_names)\n",
    "\n",
    "print('col_len:', col_len)\n",
    "print('featureName_len:', featureName_len)\n",
    "\n",
    "print('x_train shape:', x_train.shape)"
   ]
  },
  {
   "cell_type": "code",
   "execution_count": 5,
   "metadata": {},
   "outputs": [
    {
     "name": "stdout",
     "output_type": "stream",
     "text": [
      "finish RFE\n"
     ]
    }
   ],
   "source": [
    "# feature selection\n",
    "rfe = RFE(estimator=DecisionTreeClassifier(), n_features_to_select=3000)\n",
    "\n",
    "# fit RFE\n",
    "rfe.fit(x_train, y_train)\n",
    "print('finish RFE')\n",
    "\n",
    "# save model (only if you need)\n",
    "pkl_filename = \"pickle_model.pkl\"\n",
    "with open(pkl_filename, 'wb') as file:\n",
    "    pickle.dump(rfe, file)"
   ]
  },
  {
   "cell_type": "code",
   "execution_count": 97,
   "metadata": {},
   "outputs": [],
   "source": [
    "# Load model from file (only if you need to)\n",
    "with open(pkl_filename, 'rb') as file:\n",
    "    rfe = pickle.load(file)"
   ]
  },
  {
   "cell_type": "code",
   "execution_count": 6,
   "metadata": {},
   "outputs": [
    {
     "data": {
      "text/html": [
       "<div>\n",
       "<style scoped>\n",
       "    .dataframe tbody tr th:only-of-type {\n",
       "        vertical-align: middle;\n",
       "    }\n",
       "\n",
       "    .dataframe tbody tr th {\n",
       "        vertical-align: top;\n",
       "    }\n",
       "\n",
       "    .dataframe thead th {\n",
       "        text-align: right;\n",
       "    }\n",
       "</style>\n",
       "<table border=\"1\" class=\"dataframe\">\n",
       "  <thead>\n",
       "    <tr style=\"text-align: right;\">\n",
       "      <th></th>\n",
       "      <th>col_name</th>\n",
       "      <th>col_word</th>\n",
       "    </tr>\n",
       "  </thead>\n",
       "  <tbody>\n",
       "    <tr>\n",
       "      <th>6</th>\n",
       "      <td>FailedAssets</td>\n",
       "      <td>1261</td>\n",
       "    </tr>\n",
       "    <tr>\n",
       "      <th>5</th>\n",
       "      <td>EventDescription</td>\n",
       "      <td>904</td>\n",
       "    </tr>\n",
       "    <tr>\n",
       "      <th>3</th>\n",
       "      <td>CauseTechnical</td>\n",
       "      <td>596</td>\n",
       "    </tr>\n",
       "    <tr>\n",
       "      <th>4</th>\n",
       "      <td>CauseWorkP</td>\n",
       "      <td>82</td>\n",
       "    </tr>\n",
       "    <tr>\n",
       "      <th>8</th>\n",
       "      <td>IncidentConsequence</td>\n",
       "      <td>38</td>\n",
       "    </tr>\n",
       "    <tr>\n",
       "      <th>0</th>\n",
       "      <td>ActionTaken</td>\n",
       "      <td>37</td>\n",
       "    </tr>\n",
       "    <tr>\n",
       "      <th>7</th>\n",
       "      <td>IncidentCause</td>\n",
       "      <td>36</td>\n",
       "    </tr>\n",
       "    <tr>\n",
       "      <th>2</th>\n",
       "      <td>CauseEnvironment</td>\n",
       "      <td>31</td>\n",
       "    </tr>\n",
       "    <tr>\n",
       "      <th>1</th>\n",
       "      <td>CauseCommunity</td>\n",
       "      <td>15</td>\n",
       "    </tr>\n",
       "  </tbody>\n",
       "</table>\n",
       "</div>"
      ],
      "text/plain": [
       "              col_name  col_word\n",
       "6         FailedAssets      1261\n",
       "5     EventDescription       904\n",
       "3       CauseTechnical       596\n",
       "4           CauseWorkP        82\n",
       "8  IncidentConsequence        38\n",
       "0          ActionTaken        37\n",
       "7        IncidentCause        36\n",
       "2     CauseEnvironment        31\n",
       "1       CauseCommunity        15"
      ]
     },
     "execution_count": 6,
     "metadata": {},
     "output_type": "execute_result"
    }
   ],
   "source": [
    "# save rfe result to dataframe\n",
    "feature_df = pd.DataFrame({'col_name':'', 'col_word':feature_names, 'is_selected':rfe.support_,})\n",
    "    \n",
    "# add originated column name to rfe result\n",
    "start_row = 0\n",
    "for i in range(len(cols)-1):\n",
    "    end_row = start_row + col_len[i]\n",
    "    feature_df.loc[start_row:end_row - 1, 'col_name'] = cols[i]\n",
    "    start_row = end_row\n",
    "\n",
    "# prepare data for plotting\n",
    "feature_count_df = feature_df[feature_df.is_selected].groupby('col_name')['col_word'].count().reset_index()\n",
    "feature_count_df.sort_values(by=['col_word'], inplace=True, ascending=False)\n",
    "feature_count_df"
   ]
  },
  {
   "cell_type": "code",
   "execution_count": 7,
   "metadata": {},
   "outputs": [
    {
     "data": {
      "image/png": "[encoded data removed]",
      "text/plain": [
       "<Figure size 720x360 with 1 Axes>"
      ]
     },
     "metadata": {
      "needs_background": "light"
     },
     "output_type": "display_data"
    }
   ],
   "source": [
    "# plot\n",
    "\n",
    "x = feature_count_df['col_name']\n",
    "y = feature_count_df['col_word']\n",
    "\n",
    "fig = plt.figure(figsize = (10, 5)) \n",
    "  \n",
    "# creating the bar plot \n",
    "plt.bar(x, y, width = 0.4) \n",
    "  \n",
    "plt.xlabel(\"Column Names\") \n",
    "plt.ylabel(\"No. of selected features\") \n",
    "plt.title(\"Selected features per columns\") \n",
    "plt.xticks(rotation=90)\n",
    "plt.show() "
   ]
  },
  {
   "cell_type": "code",
   "execution_count": 12,
   "metadata": {},
   "outputs": [],
   "source": [
    "# save selected columns to csv\n",
    "selected_cols = ['EventDescription', 'FailedAssets', 'CauseTechnical', 'Category']\n",
    "selected_df = df_original[selected_cols] \n",
    "selected_df.to_csv('processed_dataset_backward.csv', index=False)"
   ]
  },
  {
   "cell_type": "markdown",
   "metadata": {},
   "source": [
    "As you can see from the above result, the FailedAssets, EventDescription and CauseTechnical are the most relevant columns. \n",
    "\n",
    "In onder to be able to trace to the original columns, I vectorized each column then concat the results. This is not the case in classification, you must concat the columns then vectorize the data as a whole.\n",
    "\n",
    "I only count number of selected features in each column and do not consider the ranks\n",
    "\n",
    "RFE eliminate features with low weights (e.g., the coefficients of a linear model)\n",
    "\n",
    "The following actions affected the result:\n",
    "- Classification method \n",
    "- number of features selected during RFE\n",
    "- min_df in tf-idf\n",
    "\n",
    "RFE is not the best feature selection for text classification. This experiment only gives some guidance in order to select relevant columns"
   ]
  }
 ],
 "metadata": {
  "kernelspec": {
   "display_name": "Python 3",
   "language": "python",
   "name": "python3"
  },
  "language_info": {
   "codemirror_mode": {
    "name": "ipython",
    "version": 3
   },
   "file_extension": ".py",
   "mimetype": "text/x-python",
   "name": "python",
   "nbconvert_exporter": "python",
   "pygments_lexer": "ipython3",
   "version": "3.7.4"
  }
 },
 "nbformat": 4,
 "nbformat_minor": 2
}
