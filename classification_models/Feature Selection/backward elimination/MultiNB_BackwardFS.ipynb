{
 "cells": [
  {
   "cell_type": "code",
   "execution_count": 218,
   "metadata": {},
   "outputs": [],
   "source": [
    "import pandas as pd\n",
    "import numpy as np\n",
    "\n",
    "import texthero as hero\n",
    "from texthero import preprocessing\n",
    "import pickle\n",
    "import matplotlib.pyplot as plt\n",
    "from scipy.sparse import hstack\n",
    "\n",
    "from sklearn.preprocessing import LabelEncoder\n",
    "from sklearn.metrics import accuracy_score\n",
    "from sklearn.feature_extraction.text import TfidfVectorizer\n",
    "from sklearn.pipeline import Pipeline\n",
    "from sklearn.feature_selection import RFE\n",
    "from sklearn.naive_bayes import MultinomialNB\n",
    "from sklearn.model_selection import train_test_split, cross_val_score, RepeatedStratifiedKFold\n"
   ]
  },
  {
   "cell_type": "code",
   "execution_count": 210,
   "metadata": {},
   "outputs": [],
   "source": [
    "# Text Cleaning and Pre-processing\n",
    "def preprocess_text(features):\n",
    "    # cleaning steps\n",
    "    cleaning_pipeline = [\n",
    "        preprocessing.fillna,\n",
    "        preprocessing.lowercase,\n",
    "        preprocessing.remove_whitespace,\n",
    "        preprocessing.remove_punctuation,\n",
    "        preprocessing.remove_urls,\n",
    "        preprocessing.remove_brackets,\n",
    "        preprocessing.remove_stopwords,\n",
    "        preprocessing.remove_digits,\n",
    "        preprocessing.remove_angle_brackets,\n",
    "        preprocessing.remove_curly_brackets\n",
    "    ]\n",
    "\n",
    "    # apply pipeline to text\n",
    "    clean_text = features.pipe(hero.clean, cleaning_pipeline)\n",
    "    \n",
    "    return clean_text"
   ]
  },
  {
   "cell_type": "code",
   "execution_count": 214,
   "metadata": {},
   "outputs": [],
   "source": [
    "df = pd.read_csv('processed_dataset_backward.csv')\n",
    "\n",
    "# filling up missing values\n",
    "df = df.dropna(axis=0, subset=['Category'])\n",
    "df = df.replace(np.nan, '', regex=True)\n",
    "\n",
    "# encode target\n",
    "target = df['Category']\n",
    "le = LabelEncoder()\n",
    "y_train = le.fit_transform(target)\n",
    "\n",
    "df = df.drop(columns=['Category'])\n",
    "\n",
    "columns = df.columns\n",
    "\n",
    "description = \"\"\n",
    "\n",
    "for col in columns:\n",
    "    description = description + ' ' + df[col]\n",
    "    \n",
    "# clean texts\n",
    "clean_text = preprocess_text(description)\n",
    "\n",
    "# split data\n",
    "x_train, x_test, y_train, y_test = train_test_split(clean_text, target, random_state=0, test_size=0.25, shuffle=True)\n",
    "    \n",
    "# vectorize\n",
    "tfidf_vectorizer = TfidfVectorizer(ngram_range=(1,1), min_df=10, use_idf= True) \n",
    "x_train = tfidf_vectorizer.fit_transform(x_train)\n",
    "x_test = tfidf_vectorizer.transform(x_test)"
   ]
  },
  {
   "cell_type": "code",
   "execution_count": 248,
   "metadata": {},
   "outputs": [
    {
     "name": "stdout",
     "output_type": "stream",
     "text": [
      "1000\n",
      "3000\n",
      "5000\n"
     ]
    }
   ],
   "source": [
    "# get a list of models to evaluate\n",
    "def get_models():\n",
    "    models = dict()\n",
    "    for i in range(3):\n",
    "        print(n_features[i])\n",
    "        rfe = RFE(estimator=MultinomialNB(alpha=0.1), n_features_to_select=n_features[i])\n",
    "        model = MultinomialNB(alpha=0.1)\n",
    "        pipeline = Pipeline(steps=[('s',rfe),('m',model)])\n",
    "        pipeline.fit(x_train, y_train)\n",
    "        y_pred = pipeline.predict(x_test)\n",
    "        acc = accuracy_score(y_test, y_pred).round(4)\n",
    "        accuracies.append(acc)\n",
    "        models[i] = pipeline\n",
    "    return models\n",
    " \n",
    "# evaluate a give model using cross-validation\n",
    "def evaluate_model(model, X, y):\n",
    "    cv = RepeatedStratifiedKFold(n_splits=10, n_repeats=3, random_state=1)\n",
    "    scores = cross_val_score(model, X, y, scoring='accuracy', cv=cv, n_jobs=-1, error_score='raise')\n",
    "    return scores\n",
    " \n",
    "n_features = [1000, 3000, 5000]\n",
    "accuracies = []\n",
    "\n",
    "# get the models to evaluate\n",
    "models = get_models()\n",
    "# evaluate the models and store results\n",
    "results, names = list(), list()\n",
    "for name, model in models.items():\n",
    "    scores = evaluate_model(model, x_train, y_train)\n",
    "    results.append(scores)\n",
    "    names.append(name)"
   ]
  },
  {
   "cell_type": "code",
   "execution_count": 251,
   "metadata": {},
   "outputs": [
    {
     "data": {
      "text/plain": [
       "<matplotlib.legend.Legend at 0x28cae978e48>"
      ]
     },
     "execution_count": 251,
     "metadata": {},
     "output_type": "execute_result"
    },
    {
     "data": {
      "image/png": "[encoded data removed]",
      "text/plain": [
       "<Figure size 720x360 with 1 Axes>"
      ]
     },
     "metadata": {
      "needs_background": "light"
     },
     "output_type": "display_data"
    }
   ],
   "source": [
    "labels = n_features\n",
    "train_acc = list(map(np.mean, results))\n",
    "test_acc = accuracies\n",
    "\n",
    "x = np.arange(len(labels))  # the label locations\n",
    "width = 0.35  # the width of the bars\n",
    "\n",
    "fig, ax = plt.subplots(figsize = (10, 5))\n",
    "rects1 = ax.bar(x - width/2, train_acc, width, label='Model Accuracy')\n",
    "rects2 = ax.bar(x + width/2, test_acc, width, label='Prediction Accuracy')\n",
    "\n",
    "# Add some text for labels, title and custom x-axis tick labels, etc.\n",
    "ax.set_ylabel('Accuracy')\n",
    "ax.set_title('Accuray per no of features')\n",
    "ax.set_xticks(x)\n",
    "ax.set_xticklabels(labels)\n",
    "ax.legend()"
   ]
  },
  {
   "cell_type": "markdown",
   "metadata": {},
   "source": [
    "With EventDescription, FailedAssets, CauseTechnical columns, multinomial NaivesBayes, the optimal number of features is 3000"
   ]
  }
 ],
 "metadata": {
  "kernelspec": {
   "display_name": "Python 3",
   "language": "python",
   "name": "python3"
  },
  "language_info": {
   "codemirror_mode": {
    "name": "ipython",
    "version": 3
   },
   "file_extension": ".py",
   "mimetype": "text/x-python",
   "name": "python",
   "nbconvert_exporter": "python",
   "pygments_lexer": "ipython3",
   "version": "3.7.4"
  }
 },
 "nbformat": 4,
 "nbformat_minor": 2
}
