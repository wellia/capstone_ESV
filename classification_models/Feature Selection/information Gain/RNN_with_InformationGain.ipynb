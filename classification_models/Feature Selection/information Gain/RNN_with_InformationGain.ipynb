{
 "cells": [
  {
   "cell_type": "code",
   "execution_count": 34,
   "metadata": {
    "colab": {
     "base_uri": "https://localhost:8080/"
    },
    "id": "J_6IONmscL3S",
    "outputId": "7bad77a8-96a8-4204-f4bb-020e200e676e"
   },
   "outputs": [
    {
     "name": "stdout",
     "output_type": "stream",
     "text": [
      "Requirement already satisfied: keras-lookahead in c:\\users\\mama\\apps\\anaconda3\\lib\\site-packages (0.9.0)\n",
      "Requirement already satisfied: Keras in c:\\users\\mama\\apps\\anaconda3\\lib\\site-packages (from keras-lookahead) (2.4.3)\n",
      "Requirement already satisfied: numpy in c:\\users\\mama\\apps\\anaconda3\\lib\\site-packages (from keras-lookahead) (1.18.5)\n",
      "Requirement already satisfied: scipy>=0.14 in c:\\users\\mama\\apps\\anaconda3\\lib\\site-packages (from Keras->keras-lookahead) (1.4.1)\n",
      "Requirement already satisfied: h5py in c:\\users\\mama\\apps\\anaconda3\\lib\\site-packages (from Keras->keras-lookahead) (2.10.0)\n",
      "Requirement already satisfied: pyyaml in c:\\users\\mama\\apps\\anaconda3\\lib\\site-packages (from Keras->keras-lookahead) (5.1.2)\n",
      "Requirement already satisfied: six in c:\\users\\mama\\apps\\anaconda3\\lib\\site-packages (from h5py->Keras->keras-lookahead) (1.12.0)\n"
     ]
    }
   ],
   "source": [
    "import pandas as pd\n",
    "import numpy as np\n",
    "import matplotlib.pyplot as plt\n",
    "import seaborn as sns\n",
    "from sklearn.model_selection import train_test_split\n",
    "from sklearn.preprocessing import LabelEncoder\n",
    "from imblearn.over_sampling import SMOTE\n",
    "\n",
    "from keras.models import Model\n",
    "from keras.layers import LSTM, Activation, Dense, Dropout, Input, Embedding, GRU\n",
    "from keras.optimizers import RMSprop\n",
    "from keras.preprocessing.text import Tokenizer\n",
    "from keras.preprocessing import sequence\n",
    "from keras.utils import to_categorical\n",
    "from keras.callbacks import EarlyStopping\n",
    "%matplotlib inline\n",
    "import keras\n",
    "\n",
    "import tensorflow as tf\n",
    "from tensorflow import keras\n",
    "import tensorflow_datasets  as tfds\n",
    "from tensorflow.keras import models, layers, optimizers\n",
    "from tensorflow.keras.utils import plot_model, to_categorical\n",
    "from keras import backend as K\n",
    "!pip install keras-lookahead"
   ]
  },
  {
   "cell_type": "code",
   "execution_count": 2,
   "metadata": {
    "colab": {
     "base_uri": "https://localhost:8080/",
     "height": 35
    },
    "id": "BD2LTgoUWe6x",
    "outputId": "9c715499-28df-436d-cb02-ebad52157613"
   },
   "outputs": [
    {
     "data": {
      "text/plain": [
       "'2.4.0'"
      ]
     },
     "execution_count": 2,
     "metadata": {},
     "output_type": "execute_result"
    }
   ],
   "source": [
    "keras.__version__"
   ]
  },
  {
   "cell_type": "code",
   "execution_count": 2,
   "metadata": {
    "id": "q9K7HMv26tyL"
   },
   "outputs": [],
   "source": [
    "cols = ['EventDescription', 'Address', 'IncidentCause', 'ActionTaken', 'FailedAssets', 'Locality','IncidentConsequence', 'CauseTechnical', 'CauseTechnical', 'Category']"
   ]
  },
  {
   "cell_type": "code",
   "execution_count": 21,
   "metadata": {
    "colab": {
     "base_uri": "https://localhost:8080/",
     "height": 306
    },
    "id": "RtJIUChWcYb9",
    "outputId": "49b5f169-26da-4931-8162-e9ae73ba8cd5"
   },
   "outputs": [
    {
     "data": {
      "text/html": [
       "<div>\n",
       "<style scoped>\n",
       "    .dataframe tbody tr th:only-of-type {\n",
       "        vertical-align: middle;\n",
       "    }\n",
       "\n",
       "    .dataframe tbody tr th {\n",
       "        vertical-align: top;\n",
       "    }\n",
       "\n",
       "    .dataframe thead th {\n",
       "        text-align: right;\n",
       "    }\n",
       "</style>\n",
       "<table border=\"1\" class=\"dataframe\">\n",
       "  <thead>\n",
       "    <tr style=\"text-align: right;\">\n",
       "      <th></th>\n",
       "      <th>ActionTaken</th>\n",
       "      <th>Address</th>\n",
       "      <th>CauseTechnical</th>\n",
       "      <th>EventDescription</th>\n",
       "      <th>FailedAssets</th>\n",
       "      <th>IncidentCause</th>\n",
       "      <th>IncidentConsequence</th>\n",
       "      <th>Locality</th>\n",
       "      <th>Category</th>\n",
       "    </tr>\n",
       "  </thead>\n",
       "  <tbody>\n",
       "    <tr>\n",
       "      <th>0</th>\n",
       "      <td>Crew isolated supply and undertook repairs</td>\n",
       "      <td>PARA PARK, 1490 HENDY MAIN ROAD, PARAPARAP VIC...</td>\n",
       "      <td>Earth fault</td>\n",
       "      <td>A nearby customer reported sparking of electri...</td>\n",
       "      <td>Conductor (ABC)</td>\n",
       "      <td>HVABC cable faulted midspan</td>\n",
       "      <td>Grassfire</td>\n",
       "      <td>Paraparap</td>\n",
       "      <td>OH Cable</td>\n",
       "    </tr>\n",
       "    <tr>\n",
       "      <th>1</th>\n",
       "      <td>Crew undertook repairs</td>\n",
       "      <td>1154-1198 CHRISTIES ROAD, RAVENHALL VIC 3023</td>\n",
       "      <td>Leakage</td>\n",
       "      <td>A contractor reported that he had contacted an...</td>\n",
       "      <td>No failed asset</td>\n",
       "      <td>Contractor contacted earthing conductor</td>\n",
       "      <td>No Go Zone (contact)</td>\n",
       "      <td>Ravenhall</td>\n",
       "      <td>Dug up</td>\n",
       "    </tr>\n",
       "    <tr>\n",
       "      <th>2</th>\n",
       "      <td>Crew isolated supply and undertook repairs</td>\n",
       "      <td>326 DUNBARS ROAD, PETERBOROUGH VIC 3270</td>\n",
       "      <td>Corrosion</td>\n",
       "      <td>A field crew attending an outage found that a ...</td>\n",
       "      <td>Conductor (bare)</td>\n",
       "      <td>Conductor broke due to rust</td>\n",
       "      <td>Serious risk to public safety (e.g. live condu...</td>\n",
       "      <td>Peterborough</td>\n",
       "      <td>Connection</td>\n",
       "    </tr>\n",
       "    <tr>\n",
       "      <th>3</th>\n",
       "      <td>Crew undertook repairs</td>\n",
       "      <td>41-49 BANK STREET, SOUTH MELBOURNE VIC 3205</td>\n",
       "      <td>Leakage</td>\n",
       "      <td>Interfere and vandalism in substation. Unknown...</td>\n",
       "      <td>Indoor</td>\n",
       "      <td>Vandalism</td>\n",
       "      <td>Loss of supply;Damage to network assets</td>\n",
       "      <td>South Melbourne</td>\n",
       "      <td>Other</td>\n",
       "    </tr>\n",
       "    <tr>\n",
       "      <th>4</th>\n",
       "      <td>Crew isolated supply and undertook repairs</td>\n",
       "      <td>199 WILSONS ROAD, WHITTINGTON VIC 3219</td>\n",
       "      <td>Leakage</td>\n",
       "      <td>A nearby customer reported that a high load ha...</td>\n",
       "      <td>Service conductor</td>\n",
       "      <td>Unknown high load contacted LV service cable</td>\n",
       "      <td>No Go Zone (contact);Damage to network assets</td>\n",
       "      <td>Whittington</td>\n",
       "      <td>Vehicle</td>\n",
       "    </tr>\n",
       "  </tbody>\n",
       "</table>\n",
       "</div>"
      ],
      "text/plain": [
       "                                  ActionTaken  \\\n",
       "0  Crew isolated supply and undertook repairs   \n",
       "1                      Crew undertook repairs   \n",
       "2  Crew isolated supply and undertook repairs   \n",
       "3                      Crew undertook repairs   \n",
       "4  Crew isolated supply and undertook repairs   \n",
       "\n",
       "                                             Address CauseTechnical  \\\n",
       "0  PARA PARK, 1490 HENDY MAIN ROAD, PARAPARAP VIC...    Earth fault   \n",
       "1       1154-1198 CHRISTIES ROAD, RAVENHALL VIC 3023        Leakage   \n",
       "2            326 DUNBARS ROAD, PETERBOROUGH VIC 3270      Corrosion   \n",
       "3        41-49 BANK STREET, SOUTH MELBOURNE VIC 3205        Leakage   \n",
       "4             199 WILSONS ROAD, WHITTINGTON VIC 3219        Leakage   \n",
       "\n",
       "                                    EventDescription       FailedAssets  \\\n",
       "0  A nearby customer reported sparking of electri...    Conductor (ABC)   \n",
       "1  A contractor reported that he had contacted an...    No failed asset   \n",
       "2  A field crew attending an outage found that a ...   Conductor (bare)   \n",
       "3  Interfere and vandalism in substation. Unknown...             Indoor   \n",
       "4  A nearby customer reported that a high load ha...  Service conductor   \n",
       "\n",
       "                                  IncidentCause  \\\n",
       "0                   HVABC cable faulted midspan   \n",
       "1       Contractor contacted earthing conductor   \n",
       "2                   Conductor broke due to rust   \n",
       "3                                     Vandalism   \n",
       "4  Unknown high load contacted LV service cable   \n",
       "\n",
       "                                 IncidentConsequence         Locality  \\\n",
       "0                                          Grassfire        Paraparap   \n",
       "1                               No Go Zone (contact)        Ravenhall   \n",
       "2  Serious risk to public safety (e.g. live condu...     Peterborough   \n",
       "3            Loss of supply;Damage to network assets  South Melbourne   \n",
       "4      No Go Zone (contact);Damage to network assets      Whittington   \n",
       "\n",
       "     Category  \n",
       "0    OH Cable  \n",
       "1      Dug up  \n",
       "2  Connection  \n",
       "3       Other  \n",
       "4     Vehicle  "
      ]
     },
     "execution_count": 21,
     "metadata": {},
     "output_type": "execute_result"
    }
   ],
   "source": [
    "df2 = pd.read_csv('processed_dataset_IG.csv', usecols=cols)\n",
    "df2.head()"
   ]
  },
  {
   "cell_type": "code",
   "execution_count": 23,
   "metadata": {
    "id": "g-5oQMbK8prd"
   },
   "outputs": [],
   "source": [
    "#concatenate only the text features\n",
    "df2['description'] = df2['EventDescription'] + ' ' + df2['Address'] + ' '+ df2['IncidentCause'] + ' ' + df2['ActionTaken'] +\\\n",
    "    ' '+ df2['FailedAssets'] +' ' + df2['Locality']  + ' ' + df2['IncidentConsequence'] + ' ' + \\\n",
    "    df2['CauseTechnical'] + ' ' + df2['CauseTechnical']"
   ]
  },
  {
   "cell_type": "code",
   "execution_count": 24,
   "metadata": {
    "colab": {
     "base_uri": "https://localhost:8080/"
    },
    "id": "atWGWqxu89BE",
    "outputId": "df656e0c-2324-4a50-ac3d-ec43e4ab4dae"
   },
   "outputs": [
    {
     "data": {
      "text/plain": [
       "0       A nearby customer reported sparking of electri...\n",
       "1       A contractor reported that he had contacted an...\n",
       "2       A field crew attending an outage found that a ...\n",
       "3       Interfere and vandalism in substation. Unknown...\n",
       "4       A nearby customer reported that a high load ha...\n",
       "                              ...                        \n",
       "6438    A report came in to UE of a FMB sparking at 31...\n",
       "6439    Report received from a resident to advise that...\n",
       "6440    Report received of pole fire at incident locat...\n",
       "6441    A customer called to report a tractor had hit ...\n",
       "6442    concrete electrical cover outside of front of ...\n",
       "Name: description, Length: 6443, dtype: object"
      ]
     },
     "execution_count": 24,
     "metadata": {},
     "output_type": "execute_result"
    }
   ],
   "source": [
    "df2['description']"
   ]
  },
  {
   "cell_type": "code",
   "execution_count": 26,
   "metadata": {
    "colab": {
     "base_uri": "https://localhost:8080/"
    },
    "id": "HMY_Dgci_7_e",
    "outputId": "44513c67-ffd7-4f86-8c8d-49ac84cf3512"
   },
   "outputs": [
    {
     "data": {
      "text/plain": [
       "array([ 9,  5,  3, 10, 14,  6, 12, 11,  4,  2,  1,  0,  8, 13,  7])"
      ]
     },
     "execution_count": 26,
     "metadata": {},
     "output_type": "execute_result"
    }
   ],
   "source": [
    "import scipy \n",
    "from scipy import stats\n",
    "\n",
    "le = LabelEncoder()\n",
    "df2['Category'] = le.fit_transform(df2.Category.astype(str))\n",
    "df2['Category'].unique()"
   ]
  },
  {
   "cell_type": "code",
   "execution_count": 27,
   "metadata": {
    "colab": {
     "base_uri": "https://localhost:8080/"
    },
    "id": "jvy0aS9_fXBw",
    "outputId": "204eee78-a508-4688-dc8a-1548b5e05834"
   },
   "outputs": [
    {
     "name": "stderr",
     "output_type": "stream",
     "text": [
      "[nltk_data] Downloading package stopwords to\n",
      "[nltk_data]     C:\\Users\\Mama\\AppData\\Roaming\\nltk_data...\n",
      "[nltk_data]   Package stopwords is already up-to-date!\n",
      "[nltk_data] Downloading package punkt to\n",
      "[nltk_data]     C:\\Users\\Mama\\AppData\\Roaming\\nltk_data...\n",
      "[nltk_data]   Package punkt is already up-to-date!\n",
      "[nltk_data] Downloading package wordnet to\n",
      "[nltk_data]     C:\\Users\\Mama\\AppData\\Roaming\\nltk_data...\n",
      "[nltk_data]   Package wordnet is already up-to-date!\n"
     ]
    },
    {
     "data": {
      "text/plain": [
       "0       nearby customer reported sparking electrical l...\n",
       "1       contractor reported contacted earthing cable e...\n",
       "2       field crew attending outage found 22kv conduct...\n",
       "3       interfere vandalism substation unknown third p...\n",
       "4       nearby customer reported high load pulled wire...\n",
       "                              ...                        \n",
       "6438    report came ue fmb sparking 310 st kilda st br...\n",
       "6439    report received resident advise crane made con...\n",
       "6440    report received pole fire incident locationon ...\n",
       "6441    customer called report tractor hit wire brough...\n",
       "6442    concrete electrical cover outside front house ...\n",
       "Name: description, Length: 6443, dtype: object"
      ]
     },
     "execution_count": 27,
     "metadata": {},
     "output_type": "execute_result"
    }
   ],
   "source": [
    "#Preprocessing by general cleaning by removing reg expressions, numbers and alphanumericals\n",
    "import nltk \n",
    "from nltk.corpus import stopwords\n",
    "import re\n",
    "from nltk.tokenize import word_tokenize\n",
    "from nltk.stem import WordNetLemmatizer,PorterStemmer\n",
    "\n",
    "nltk.download('stopwords')\n",
    "nltk.download('punkt')\n",
    "nltk.download('wordnet')\n",
    "\n",
    "REPLACE_BY_SPACE_RE = re.compile('[/(){}\\[\\]\\|@,;]')\n",
    "BAD_SYMBOLS_RE = re.compile('[^0-9a-z #+_]')\n",
    "STOPWORDS = set(stopwords.words('english'))\n",
    "\n",
    "def clean_text(text):\n",
    "    text = text.lower() # lowercase text\n",
    "    text = REPLACE_BY_SPACE_RE.sub(' ', text) # replace REPLACE_BY_SPACE_RE symbols by space in text. substitute the matched string in REPLACE_BY_SPACE_RE with space.\n",
    "    text = BAD_SYMBOLS_RE.sub('', text) # remove symbols which are in BAD_SYMBOLS_RE from text. substitute the matched string in BAD_SYMBOLS_RE with nothing. \n",
    "    text = text.replace('x', '')\n",
    "#    text = re.sub(r'\\W+', '', text)\n",
    "    text = ' '.join(word for word in text.split() if word not in STOPWORDS) # remove stopwors from text\n",
    "    return text\n",
    "df2['description'] = df2['description'].apply(clean_text)\n",
    "\n",
    "df2['description']\n"
   ]
  },
  {
   "cell_type": "code",
   "execution_count": 28,
   "metadata": {
    "colab": {
     "base_uri": "https://localhost:8080/"
    },
    "id": "AA1JkNJS7bpn",
    "outputId": "a1d72ede-5801-4879-d1de-241bc06c9a79"
   },
   "outputs": [
    {
     "name": "stdout",
     "output_type": "stream",
     "text": [
      "(6443, 100)\n"
     ]
    }
   ],
   "source": [
    "max_words = 1000*5 #limiting the max vocabulary to 5000\n",
    "max_len = 100*1 #Limiting the max word count in a row/sentence to 100\n",
    "tok = Tokenizer(num_words=max_words,filters = '!\"#$%&()*+,-./:;<=>?@[\\\\]^_`{|}~\\t\\n',lower=True, split=\" \",)\n",
    "tok.fit_on_texts(df2['description']) #tok learns the vocabulary of df2['description']\n",
    "\n",
    "sequences = tok.texts_to_sequences(df2['description']) #encoding the tokens to integers\n",
    "sequences_matrix = sequence.pad_sequences(sequences,maxlen=max_len) #augment the length of words in rows by adding zeros\n",
    "print(sequences_matrix.shape)\n"
   ]
  },
  {
   "cell_type": "code",
   "execution_count": 29,
   "metadata": {
    "id": "gszFpHvUQI16"
   },
   "outputs": [],
   "source": [
    "#sequences_matrix is converted into a dataframe \n",
    "df = pd.DataFrame(sequences_matrix)\n",
    "#with the use of padsequencing we can see the length throughout the rows are equal, by adding zeros in place of missing words"
   ]
  },
  {
   "cell_type": "code",
   "execution_count": 30,
   "metadata": {
    "colab": {
     "base_uri": "https://localhost:8080/"
    },
    "id": "ogxhIP6VCfjF",
    "outputId": "b91e2b2f-382c-41a3-8f71-f888df45627a"
   },
   "outputs": [
    {
     "data": {
      "text/plain": [
       "0        9\n",
       "1        5\n",
       "2        3\n",
       "3       10\n",
       "4       14\n",
       "        ..\n",
       "6438     3\n",
       "6439    14\n",
       "6440    11\n",
       "6441    14\n",
       "6442     0\n",
       "Name: Category, Length: 6443, dtype: int32"
      ]
     },
     "execution_count": 30,
     "metadata": {},
     "output_type": "execute_result"
    }
   ],
   "source": [
    "Y = df2['Category']\n",
    "Y"
   ]
  },
  {
   "cell_type": "code",
   "execution_count": 31,
   "metadata": {
    "id": "AEf0O2NqkODI"
   },
   "outputs": [],
   "source": [
    "x_train,x_test,y_train,y_test = train_test_split(df,Y,test_size=0.15, stratify=Y)"
   ]
  },
  {
   "cell_type": "code",
   "execution_count": 32,
   "metadata": {
    "colab": {
     "base_uri": "https://localhost:8080/"
    },
    "id": "nCqkcbNqCkxG",
    "outputId": "b6ef628c-47d1-40ff-c01f-cb6e08a4ead5"
   },
   "outputs": [
    {
     "name": "stdout",
     "output_type": "stream",
     "text": [
      "(5476, 100) (5476,) (967, 100) (967,)\n"
     ]
    }
   ],
   "source": [
    "print(x_train.shape, y_train.shape, x_test.shape, y_test.shape)"
   ]
  },
  {
   "cell_type": "code",
   "execution_count": 35,
   "metadata": {},
   "outputs": [],
   "source": [
    "oversample = SMOTE(random_state=0,n_jobs=-1,k_neighbors=5)\n",
    "x_train, y_train = oversample.fit_resample(x_train, y_train)"
   ]
  },
  {
   "cell_type": "code",
   "execution_count": 36,
   "metadata": {
    "colab": {
     "base_uri": "https://localhost:8080/"
    },
    "id": "3Hp29-fRA8g1",
    "outputId": "22b350df-d7bc-46a0-d8ba-5e7d54cf8e8d"
   },
   "outputs": [
    {
     "name": "stdout",
     "output_type": "stream",
     "text": [
      "[ 0  1  2  3  4  5  6  7  8  9 10 11 12 13 14]\n",
      "Model: \"sequential\"\n",
      "_________________________________________________________________\n",
      "Layer (type)                 Output Shape              Param #   \n",
      "=================================================================\n",
      "embedding (Embedding)        (None, 100, 200)          1000000   \n",
      "_________________________________________________________________\n",
      "spatial_dropout1d (SpatialDr (None, 100, 200)          0         \n",
      "_________________________________________________________________\n",
      "conv1d (Conv1D)              (None, 98, 200)           120200    \n",
      "_________________________________________________________________\n",
      "max_pooling1d (MaxPooling1D) (None, 49, 200)           0         \n",
      "_________________________________________________________________\n",
      "bidirectional (Bidirectional (None, 400)               641600    \n",
      "_________________________________________________________________\n",
      "dense (Dense)                (None, 15)                6015      \n",
      "=================================================================\n",
      "Total params: 1,767,815\n",
      "Trainable params: 1,767,815\n",
      "Non-trainable params: 0\n",
      "_________________________________________________________________\n"
     ]
    }
   ],
   "source": [
    "units_mul = 100*2\n",
    "unique_categories = np.unique(Y)\n",
    "print(unique_categories)\n",
    "labels_count = len(unique_categories)\n",
    "dropout = 0.4\n",
    "\n",
    "def RNN3():\n",
    "  model = tf.keras.Sequential()\n",
    "  \n",
    "\n",
    "  model.add(Embedding(max_words, units_mul, input_length=x_train.shape[1]))\n",
    "  model.add(tf.keras.layers.SpatialDropout1D(dropout))\n",
    "  model.add(layers.Conv1D(units_mul,3,padding='valid',activation='relu',strides=1))\n",
    "  model.add(layers.MaxPooling1D(pool_size=2))\n",
    "  model.add(layers.Bidirectional(LSTM(units_mul, dropout=dropout, recurrent_dropout=dropout)))\n",
    "  model.add(Dense(labels_count, activation='softmax'))\n",
    "  return model\n",
    "\n",
    "RNN3().summary()\n"
   ]
  },
  {
   "cell_type": "code",
   "execution_count": 37,
   "metadata": {
    "colab": {
     "base_uri": "https://localhost:8080/"
    },
    "id": "WMb145YrenOk",
    "outputId": "a8e38a88-8603-414d-8a7f-cc8d08bec77e"
   },
   "outputs": [
    {
     "name": "stdout",
     "output_type": "stream",
     "text": [
      "Epoch 1/10\n",
      "105/105 [==============================] - 141s 1s/step - loss: 1.6392 - accuracy: 0.4465 - val_loss: 4.7231 - val_accuracy: 0.0983\n",
      "Epoch 2/10\n",
      "105/105 [==============================] - 130s 1s/step - loss: 1.2345 - accuracy: 0.5789 - val_loss: 5.4329 - val_accuracy: 0.1117\n",
      "Epoch 3/10\n",
      "105/105 [==============================] - 130s 1s/step - loss: 1.1234 - accuracy: 0.6179 - val_loss: 5.5483 - val_accuracy: 0.1036\n",
      "Epoch 4/10\n",
      "105/105 [==============================] - 139s 1s/step - loss: 1.0672 - accuracy: 0.6345 - val_loss: 5.9010 - val_accuracy: 0.0729\n",
      "Epoch 5/10\n",
      "105/105 [==============================] - 154s 1s/step - loss: 0.9332 - accuracy: 0.6875 - val_loss: 6.5104 - val_accuracy: 0.1022\n",
      "Epoch 6/10\n",
      "105/105 [==============================] - 142s 1s/step - loss: 0.8494 - accuracy: 0.7111 - val_loss: 6.8777 - val_accuracy: 0.0851\n",
      "Epoch 7/10\n",
      "105/105 [==============================] - 140s 1s/step - loss: 0.8028 - accuracy: 0.7289 - val_loss: 7.0625 - val_accuracy: 0.0899\n",
      "Epoch 8/10\n",
      "105/105 [==============================] - 139s 1s/step - loss: 0.7609 - accuracy: 0.7425 - val_loss: 7.2582 - val_accuracy: 0.1099\n",
      "Epoch 9/10\n",
      "105/105 [==============================] - 151s 1s/step - loss: 0.7197 - accuracy: 0.7543 - val_loss: 7.3645 - val_accuracy: 0.1039\n",
      "Epoch 10/10\n",
      "105/105 [==============================] - 170s 2s/step - loss: 0.6693 - accuracy: 0.7741 - val_loss: 7.4193 - val_accuracy: 0.1090\n"
     ]
    }
   ],
   "source": [
    "from keras_lookahead import Lookahead\n",
    "from keras.callbacks import LearningRateScheduler\n",
    "optimiser = tf.keras.optimizers.Adam(lr=0.001, beta_1=0.9, beta_2=0.999, epsilon=None, decay=1e-6, amsgrad=False)\n",
    "lk = Lookahead(optimiser, sync_period=5, slow_step=0.5, name = 'Lookahead')\n",
    "\n",
    "#The step decay learning rate\n",
    "#Step Decay A typical way is to to drop the learning rate by half every 10 epochs \n",
    "#https://towardsdatascience.com/learning-rate-schedules-and-adaptive-learning-rate-methods-for-deep-learning-2c8f433990d1\n",
    "\n",
    "def step_decay(epoch):\n",
    "    initAlpha = 0.01\n",
    "    factor = 0.25\n",
    "    dropEvery = 5\n",
    "    alpha = initAlpha *(factor **np.floor((1 + epoch)/dropEvery))\n",
    "    return float(alpha)\n",
    "\n",
    "\n",
    "# train model\n",
    "model = RNN3()\n",
    "model.compile(loss='sparse_categorical_crossentropy',\n",
    "              optimizer=lk.optimizer,\n",
    "              metrics=['accuracy'])\n",
    "with tf.device('/device:GPU:0'):\n",
    "  history = model.fit(x_train,y_train, batch_size=128,\n",
    "                    epochs=10, \n",
    "                    validation_split=0.2,\n",
    "                    callbacks=[LearningRateScheduler(step_decay)])\n"
   ]
  },
  {
   "cell_type": "code",
   "execution_count": 38,
   "metadata": {
    "colab": {
     "base_uri": "https://localhost:8080/"
    },
    "id": "TraikqglkXJj",
    "outputId": "76566e72-1083-43a4-915b-73fa020c9190"
   },
   "outputs": [
    {
     "name": "stdout",
     "output_type": "stream",
     "text": [
      "31/31 [==============================] - 2s 72ms/step - loss: 0.8775 - accuracy: 0.7632\n",
      "0.7631850838661194\n"
     ]
    }
   ],
   "source": [
    "accr = model.evaluate(x_test,y_test)\n",
    "print(accr[1])"
   ]
  },
  {
   "cell_type": "code",
   "execution_count": 39,
   "metadata": {
    "colab": {
     "base_uri": "https://localhost:8080/",
     "height": 557
    },
    "id": "iw7qvQaZd32R",
    "outputId": "24e73de0-ee7f-45d8-9476-40b5172100e5"
   },
   "outputs": [
    {
     "data": {
      "image/png": "[encoded data removed]",
      "text/plain": [
       "<Figure size 432x288 with 1 Axes>"
      ]
     },
     "metadata": {
      "needs_background": "light"
     },
     "output_type": "display_data"
    },
    {
     "data": {
      "image/png": "[encoded data removed]",
      "text/plain": [
       "<Figure size 432x288 with 1 Axes>"
      ]
     },
     "metadata": {
      "needs_background": "light"
     },
     "output_type": "display_data"
    }
   ],
   "source": [
    "# Accuracy\n",
    "plt.plot(history.history['accuracy'], label='accuracy')\n",
    "plt.plot(history.history['val_accuracy'], label = 'val_accuracy')\n",
    "plt.xlabel('Epoch')\n",
    "plt.ylabel('Accuracy')\n",
    "plt.legend()\n",
    "plt.show()\n",
    "\n",
    "# Loss\n",
    "plt.plot(history.history['loss'], label = 'loss')\n",
    "plt.plot(history.history['val_loss'], label = 'val_loss')\n",
    "plt.title('loss')\n",
    "plt.xlabel('Epoch')\n",
    "plt.ylabel('Loss')\n",
    "plt.legend()\n",
    "plt.show()\n",
    "\n"
   ]
  },
  {
   "cell_type": "code",
   "execution_count": null,
   "metadata": {},
   "outputs": [],
   "source": []
  }
 ],
 "metadata": {
  "accelerator": "GPU",
  "colab": {
   "collapsed_sections": [],
   "name": "RNN_feature_selection.ipynb",
   "provenance": []
  },
  "kernelspec": {
   "display_name": "Python 3",
   "language": "python",
   "name": "python3"
  },
  "language_info": {
   "codemirror_mode": {
    "name": "ipython",
    "version": 3
   },
   "file_extension": ".py",
   "mimetype": "text/x-python",
   "name": "python",
   "nbconvert_exporter": "python",
   "pygments_lexer": "ipython3",
   "version": "3.7.4"
  }
 },
 "nbformat": 4,
 "nbformat_minor": 1
}
