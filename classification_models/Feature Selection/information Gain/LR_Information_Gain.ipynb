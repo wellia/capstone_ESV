{
  "nbformat": 4,
  "nbformat_minor": 0,
  "metadata": {
    "colab": {
      "name": "LR_Information_Gain.ipynb",
      "provenance": [],
      "collapsed_sections": []
    },
    "kernelspec": {
      "name": "python3",
      "display_name": "Python 3"
    }
  },
  "cells": [
    {
      "cell_type": "code",
      "metadata": {
        "colab": {
          "base_uri": "https://localhost:8080/"
        },
        "id": "CS1fiPzWqCIr",
        "outputId": "6975daae-5a4f-488b-8969-28b97957ddf7"
      },
      "source": [
        "from google.colab import drive\r\n",
        "drive.mount('/content/gdrive')"
      ],
      "execution_count": 3,
      "outputs": [
        {
          "output_type": "stream",
          "text": [
            "Mounted at /content/gdrive\n"
          ],
          "name": "stdout"
        }
      ]
    },
    {
      "cell_type": "code",
      "metadata": {
        "id": "s_aL2YrUYLAc",
        "colab": {
          "base_uri": "https://localhost:8080/"
        },
        "outputId": "1252923c-a91d-4865-e6c3-8b0a13c6cbfb"
      },
      "source": [
        "!pip install texthero\n",
        "import pandas as pd\n",
        "from sklearn.svm import SVC\n",
        "from sklearn.metrics import accuracy_score, confusion_matrix, plot_confusion_matrix, classification_report, ConfusionMatrixDisplay\n",
        "from sklearn.model_selection import train_test_split, GridSearchCV\n",
        "from sklearn.feature_extraction.text import TfidfVectorizer, CountVectorizer\n",
        "from sklearn.pipeline import Pipeline\n",
        "from imblearn.over_sampling import SMOTE\n",
        "import texthero as hero\n",
        "from texthero import preprocessing"
      ],
      "execution_count": 19,
      "outputs": [
        {
          "output_type": "stream",
          "text": [
            "Requirement already satisfied: texthero in /usr/local/lib/python3.6/dist-packages (1.0.9)\n",
            "Requirement already satisfied: tqdm>=4.3 in /usr/local/lib/python3.6/dist-packages (from texthero) (4.41.1)\n",
            "Requirement already satisfied: pandas>=1.0.2 in /usr/local/lib/python3.6/dist-packages (from texthero) (1.1.5)\n",
            "Requirement already satisfied: numpy>=1.17 in /usr/local/lib/python3.6/dist-packages (from texthero) (1.19.4)\n",
            "Requirement already satisfied: nltk>=3.3 in /usr/local/lib/python3.6/dist-packages (from texthero) (3.5)\n",
            "Requirement already satisfied: unidecode>=1.1.1 in /usr/local/lib/python3.6/dist-packages (from texthero) (1.1.2)\n",
            "Requirement already satisfied: gensim>=3.6.0 in /usr/local/lib/python3.6/dist-packages (from texthero) (3.6.0)\n",
            "Requirement already satisfied: matplotlib>=3.1.0 in /usr/local/lib/python3.6/dist-packages (from texthero) (3.2.2)\n",
            "Requirement already satisfied: plotly>=4.2.0 in /usr/local/lib/python3.6/dist-packages (from texthero) (4.4.1)\n",
            "Requirement already satisfied: scikit-learn>=0.22 in /usr/local/lib/python3.6/dist-packages (from texthero) (0.22.2.post1)\n",
            "Requirement already satisfied: spacy>=2.2.2 in /usr/local/lib/python3.6/dist-packages (from texthero) (2.2.4)\n",
            "Requirement already satisfied: wordcloud>=1.5.0 in /usr/local/lib/python3.6/dist-packages (from texthero) (1.5.0)\n",
            "Requirement already satisfied: python-dateutil>=2.7.3 in /usr/local/lib/python3.6/dist-packages (from pandas>=1.0.2->texthero) (2.8.1)\n",
            "Requirement already satisfied: pytz>=2017.2 in /usr/local/lib/python3.6/dist-packages (from pandas>=1.0.2->texthero) (2018.9)\n",
            "Requirement already satisfied: regex in /usr/local/lib/python3.6/dist-packages (from nltk>=3.3->texthero) (2019.12.20)\n",
            "Requirement already satisfied: click in /usr/local/lib/python3.6/dist-packages (from nltk>=3.3->texthero) (7.1.2)\n",
            "Requirement already satisfied: joblib in /usr/local/lib/python3.6/dist-packages (from nltk>=3.3->texthero) (1.0.0)\n",
            "Requirement already satisfied: smart-open>=1.2.1 in /usr/local/lib/python3.6/dist-packages (from gensim>=3.6.0->texthero) (4.0.1)\n",
            "Requirement already satisfied: scipy>=0.18.1 in /usr/local/lib/python3.6/dist-packages (from gensim>=3.6.0->texthero) (1.4.1)\n",
            "Requirement already satisfied: six>=1.5.0 in /usr/local/lib/python3.6/dist-packages (from gensim>=3.6.0->texthero) (1.15.0)\n",
            "Requirement already satisfied: kiwisolver>=1.0.1 in /usr/local/lib/python3.6/dist-packages (from matplotlib>=3.1.0->texthero) (1.3.1)\n",
            "Requirement already satisfied: cycler>=0.10 in /usr/local/lib/python3.6/dist-packages (from matplotlib>=3.1.0->texthero) (0.10.0)\n",
            "Requirement already satisfied: pyparsing!=2.0.4,!=2.1.2,!=2.1.6,>=2.0.1 in /usr/local/lib/python3.6/dist-packages (from matplotlib>=3.1.0->texthero) (2.4.7)\n",
            "Requirement already satisfied: retrying>=1.3.3 in /usr/local/lib/python3.6/dist-packages (from plotly>=4.2.0->texthero) (1.3.3)\n",
            "Requirement already satisfied: catalogue<1.1.0,>=0.0.7 in /usr/local/lib/python3.6/dist-packages (from spacy>=2.2.2->texthero) (1.0.0)\n",
            "Requirement already satisfied: murmurhash<1.1.0,>=0.28.0 in /usr/local/lib/python3.6/dist-packages (from spacy>=2.2.2->texthero) (1.0.5)\n",
            "Requirement already satisfied: blis<0.5.0,>=0.4.0 in /usr/local/lib/python3.6/dist-packages (from spacy>=2.2.2->texthero) (0.4.1)\n",
            "Requirement already satisfied: plac<1.2.0,>=0.9.6 in /usr/local/lib/python3.6/dist-packages (from spacy>=2.2.2->texthero) (1.1.3)\n",
            "Requirement already satisfied: requests<3.0.0,>=2.13.0 in /usr/local/lib/python3.6/dist-packages (from spacy>=2.2.2->texthero) (2.23.0)\n",
            "Requirement already satisfied: cymem<2.1.0,>=2.0.2 in /usr/local/lib/python3.6/dist-packages (from spacy>=2.2.2->texthero) (2.0.5)\n",
            "Requirement already satisfied: srsly<1.1.0,>=1.0.2 in /usr/local/lib/python3.6/dist-packages (from spacy>=2.2.2->texthero) (1.0.5)\n",
            "Requirement already satisfied: setuptools in /usr/local/lib/python3.6/dist-packages (from spacy>=2.2.2->texthero) (51.0.0)\n",
            "Requirement already satisfied: preshed<3.1.0,>=3.0.2 in /usr/local/lib/python3.6/dist-packages (from spacy>=2.2.2->texthero) (3.0.5)\n",
            "Requirement already satisfied: wasabi<1.1.0,>=0.4.0 in /usr/local/lib/python3.6/dist-packages (from spacy>=2.2.2->texthero) (0.8.0)\n",
            "Requirement already satisfied: thinc==7.4.0 in /usr/local/lib/python3.6/dist-packages (from spacy>=2.2.2->texthero) (7.4.0)\n",
            "Requirement already satisfied: pillow in /usr/local/lib/python3.6/dist-packages (from wordcloud>=1.5.0->texthero) (7.0.0)\n",
            "Requirement already satisfied: importlib-metadata>=0.20; python_version < \"3.8\" in /usr/local/lib/python3.6/dist-packages (from catalogue<1.1.0,>=0.0.7->spacy>=2.2.2->texthero) (3.3.0)\n",
            "Requirement already satisfied: urllib3!=1.25.0,!=1.25.1,<1.26,>=1.21.1 in /usr/local/lib/python3.6/dist-packages (from requests<3.0.0,>=2.13.0->spacy>=2.2.2->texthero) (1.24.3)\n",
            "Requirement already satisfied: idna<3,>=2.5 in /usr/local/lib/python3.6/dist-packages (from requests<3.0.0,>=2.13.0->spacy>=2.2.2->texthero) (2.10)\n",
            "Requirement already satisfied: chardet<4,>=3.0.2 in /usr/local/lib/python3.6/dist-packages (from requests<3.0.0,>=2.13.0->spacy>=2.2.2->texthero) (3.0.4)\n",
            "Requirement already satisfied: certifi>=2017.4.17 in /usr/local/lib/python3.6/dist-packages (from requests<3.0.0,>=2.13.0->spacy>=2.2.2->texthero) (2020.12.5)\n",
            "Requirement already satisfied: typing-extensions>=3.6.4; python_version < \"3.8\" in /usr/local/lib/python3.6/dist-packages (from importlib-metadata>=0.20; python_version < \"3.8\"->catalogue<1.1.0,>=0.0.7->spacy>=2.2.2->texthero) (3.7.4.3)\n",
            "Requirement already satisfied: zipp>=0.5 in /usr/local/lib/python3.6/dist-packages (from importlib-metadata>=0.20; python_version < \"3.8\"->catalogue<1.1.0,>=0.0.7->spacy>=2.2.2->texthero) (3.4.0)\n"
          ],
          "name": "stdout"
        }
      ]
    },
    {
      "cell_type": "code",
      "metadata": {
        "colab": {
          "base_uri": "https://localhost:8080/",
          "height": 1000
        },
        "id": "4R5Q5Pr6sNbf",
        "outputId": "d8492b8a-af7a-4032-c01a-ce4f603e2684"
      },
      "source": [
        "df = pd.read_csv('/content/gdrive/My Drive/Deakin energy/processed_dataset_IG.csv')\r\n",
        "df"
      ],
      "execution_count": 20,
      "outputs": [
        {
          "output_type": "execute_result",
          "data": {
            "text/html": [
              "<div>\n",
              "<style scoped>\n",
              "    .dataframe tbody tr th:only-of-type {\n",
              "        vertical-align: middle;\n",
              "    }\n",
              "\n",
              "    .dataframe tbody tr th {\n",
              "        vertical-align: top;\n",
              "    }\n",
              "\n",
              "    .dataframe thead th {\n",
              "        text-align: right;\n",
              "    }\n",
              "</style>\n",
              "<table border=\"1\" class=\"dataframe\">\n",
              "  <thead>\n",
              "    <tr style=\"text-align: right;\">\n",
              "      <th></th>\n",
              "      <th>Unnamed: 0</th>\n",
              "      <th>ActionTaken</th>\n",
              "      <th>Address</th>\n",
              "      <th>CauseCommunity</th>\n",
              "      <th>CauseEnvironment</th>\n",
              "      <th>CausePre</th>\n",
              "      <th>CauseTechnical</th>\n",
              "      <th>CauseWorkP</th>\n",
              "      <th>ContactType</th>\n",
              "      <th>CorrectProtection</th>\n",
              "      <th>EventDescription</th>\n",
              "      <th>FailedAssets</th>\n",
              "      <th>FailedExplosion</th>\n",
              "      <th>FailedOilFilled</th>\n",
              "      <th>FailedOtherAssets</th>\n",
              "      <th>IncidentCause</th>\n",
              "      <th>IncidentConsequence</th>\n",
              "      <th>IncidentFireFFactorReportable</th>\n",
              "      <th>IncidentFireSeverity</th>\n",
              "      <th>IncidentLocationType</th>\n",
              "      <th>IncidentType</th>\n",
              "      <th>Lat</th>\n",
              "      <th>Long</th>\n",
              "      <th>MadeSafe</th>\n",
              "      <th>NetworkType</th>\n",
              "      <th>Status</th>\n",
              "      <th>Voltage</th>\n",
              "      <th>WeatherStation</th>\n",
              "      <th>Postcode</th>\n",
              "      <th>Locality</th>\n",
              "      <th>Category</th>\n",
              "    </tr>\n",
              "  </thead>\n",
              "  <tbody>\n",
              "    <tr>\n",
              "      <th>0</th>\n",
              "      <td>0</td>\n",
              "      <td>Crew isolated supply and undertook repairs</td>\n",
              "      <td>PARA PARK, 1490 HENDY MAIN ROAD, PARAPARAP VIC...</td>\n",
              "      <td>Vehicle</td>\n",
              "      <td>Lightning</td>\n",
              "      <td>Unlikely</td>\n",
              "      <td>Earth fault</td>\n",
              "      <td>Not followed</td>\n",
              "      <td>Phase to earth</td>\n",
              "      <td>2.0</td>\n",
              "      <td>A nearby customer reported sparking of electri...</td>\n",
              "      <td>Conductor (ABC)</td>\n",
              "      <td>0</td>\n",
              "      <td>0</td>\n",
              "      <td>0</td>\n",
              "      <td>HVABC cable faulted midspan</td>\n",
              "      <td>Grassfire</td>\n",
              "      <td>1.0</td>\n",
              "      <td>Small: 10 - 1000 sq.m</td>\n",
              "      <td>Roadway</td>\n",
              "      <td>Infrastructure (network-based)</td>\n",
              "      <td>-38.288982</td>\n",
              "      <td>144.191502</td>\n",
              "      <td>1</td>\n",
              "      <td>Powercor</td>\n",
              "      <td>Report</td>\n",
              "      <td>22kV AC</td>\n",
              "      <td>Avalon Airport</td>\n",
              "      <td>3240.0</td>\n",
              "      <td>Paraparap</td>\n",
              "      <td>OH Cable</td>\n",
              "    </tr>\n",
              "    <tr>\n",
              "      <th>1</th>\n",
              "      <td>1</td>\n",
              "      <td>Crew undertook repairs</td>\n",
              "      <td>1154-1198 CHRISTIES ROAD, RAVENHALL VIC 3023</td>\n",
              "      <td>Working too close to underground cables</td>\n",
              "      <td>Lightning</td>\n",
              "      <td>Unlikely</td>\n",
              "      <td>Leakage</td>\n",
              "      <td>Not followed</td>\n",
              "      <td>Phase to earth</td>\n",
              "      <td>2.0</td>\n",
              "      <td>A contractor reported that he had contacted an...</td>\n",
              "      <td>No failed asset</td>\n",
              "      <td>0</td>\n",
              "      <td>0</td>\n",
              "      <td>0</td>\n",
              "      <td>Contractor contacted earthing conductor</td>\n",
              "      <td>No Go Zone (contact)</td>\n",
              "      <td>1.0</td>\n",
              "      <td>Negligible: no ground fire</td>\n",
              "      <td>Roadway</td>\n",
              "      <td>Infrastructure (network-based)</td>\n",
              "      <td>-37.767377</td>\n",
              "      <td>144.738509</td>\n",
              "      <td>1</td>\n",
              "      <td>Powercor</td>\n",
              "      <td>Report</td>\n",
              "      <td>Earthing cable</td>\n",
              "      <td>Laverton Raaf</td>\n",
              "      <td>3023.0</td>\n",
              "      <td>Ravenhall</td>\n",
              "      <td>Dug up</td>\n",
              "    </tr>\n",
              "    <tr>\n",
              "      <th>2</th>\n",
              "      <td>2</td>\n",
              "      <td>Crew isolated supply and undertook repairs</td>\n",
              "      <td>326 DUNBARS ROAD, PETERBOROUGH VIC 3270</td>\n",
              "      <td>Vehicle</td>\n",
              "      <td>Lightning</td>\n",
              "      <td>Unlikely</td>\n",
              "      <td>Corrosion</td>\n",
              "      <td>Not followed</td>\n",
              "      <td>Phase to earth</td>\n",
              "      <td>1.0</td>\n",
              "      <td>A field crew attending an outage found that a ...</td>\n",
              "      <td>Conductor (bare)</td>\n",
              "      <td>0</td>\n",
              "      <td>0</td>\n",
              "      <td>0</td>\n",
              "      <td>Conductor broke due to rust</td>\n",
              "      <td>Serious risk to public safety (e.g. live condu...</td>\n",
              "      <td>1.0</td>\n",
              "      <td>Negligible: no ground fire</td>\n",
              "      <td>Agricultural</td>\n",
              "      <td>Infrastructure (network-based)</td>\n",
              "      <td>-38.586647</td>\n",
              "      <td>142.901137</td>\n",
              "      <td>1</td>\n",
              "      <td>Powercor</td>\n",
              "      <td>Report</td>\n",
              "      <td>22kV AC</td>\n",
              "      <td>Warrnambool Airport Ndb</td>\n",
              "      <td>3270.0</td>\n",
              "      <td>Peterborough</td>\n",
              "      <td>Connection</td>\n",
              "    </tr>\n",
              "    <tr>\n",
              "      <th>3</th>\n",
              "      <td>3</td>\n",
              "      <td>Crew undertook repairs</td>\n",
              "      <td>41-49 BANK STREET, SOUTH MELBOURNE VIC 3205</td>\n",
              "      <td>Vandalism</td>\n",
              "      <td>Lightning</td>\n",
              "      <td>Unlikely</td>\n",
              "      <td>Leakage</td>\n",
              "      <td>Not followed</td>\n",
              "      <td>Phase to earth</td>\n",
              "      <td>1.0</td>\n",
              "      <td>Interfere and vandalism in substation. Unknown...</td>\n",
              "      <td>Indoor</td>\n",
              "      <td>0</td>\n",
              "      <td>2</td>\n",
              "      <td>0</td>\n",
              "      <td>Vandalism</td>\n",
              "      <td>Loss of supply;Damage to network assets</td>\n",
              "      <td>1.0</td>\n",
              "      <td>Negligible: no ground fire</td>\n",
              "      <td>Roadway</td>\n",
              "      <td>Infrastructure (network-based)</td>\n",
              "      <td>-37.832352</td>\n",
              "      <td>144.968452</td>\n",
              "      <td>1</td>\n",
              "      <td>CitiPower</td>\n",
              "      <td>Report</td>\n",
              "      <td>22kV AC</td>\n",
              "      <td>Essendon Airport</td>\n",
              "      <td>3205.0</td>\n",
              "      <td>South Melbourne</td>\n",
              "      <td>Other</td>\n",
              "    </tr>\n",
              "    <tr>\n",
              "      <th>4</th>\n",
              "      <td>4</td>\n",
              "      <td>Crew isolated supply and undertook repairs</td>\n",
              "      <td>199 WILSONS ROAD, WHITTINGTON VIC 3219</td>\n",
              "      <td>Vehicle</td>\n",
              "      <td>Lightning</td>\n",
              "      <td>Unlikely</td>\n",
              "      <td>Leakage</td>\n",
              "      <td>Not followed</td>\n",
              "      <td>Phase to earth</td>\n",
              "      <td>2.0</td>\n",
              "      <td>A nearby customer reported that a high load ha...</td>\n",
              "      <td>Service conductor</td>\n",
              "      <td>0</td>\n",
              "      <td>0</td>\n",
              "      <td>0</td>\n",
              "      <td>Unknown high load contacted LV service cable</td>\n",
              "      <td>No Go Zone (contact);Damage to network assets</td>\n",
              "      <td>1.0</td>\n",
              "      <td>Negligible: no ground fire</td>\n",
              "      <td>Roadway</td>\n",
              "      <td>Infrastructure (network-based)</td>\n",
              "      <td>-38.177436</td>\n",
              "      <td>144.390480</td>\n",
              "      <td>1</td>\n",
              "      <td>Powercor</td>\n",
              "      <td>Report</td>\n",
              "      <td>Low voltage AC (&lt;1kV)</td>\n",
              "      <td>Avalon Airport</td>\n",
              "      <td>3219.0</td>\n",
              "      <td>Whittington</td>\n",
              "      <td>Vehicle</td>\n",
              "    </tr>\n",
              "    <tr>\n",
              "      <th>...</th>\n",
              "      <td>...</td>\n",
              "      <td>...</td>\n",
              "      <td>...</td>\n",
              "      <td>...</td>\n",
              "      <td>...</td>\n",
              "      <td>...</td>\n",
              "      <td>...</td>\n",
              "      <td>...</td>\n",
              "      <td>...</td>\n",
              "      <td>...</td>\n",
              "      <td>...</td>\n",
              "      <td>...</td>\n",
              "      <td>...</td>\n",
              "      <td>...</td>\n",
              "      <td>...</td>\n",
              "      <td>...</td>\n",
              "      <td>...</td>\n",
              "      <td>...</td>\n",
              "      <td>...</td>\n",
              "      <td>...</td>\n",
              "      <td>...</td>\n",
              "      <td>...</td>\n",
              "      <td>...</td>\n",
              "      <td>...</td>\n",
              "      <td>...</td>\n",
              "      <td>...</td>\n",
              "      <td>...</td>\n",
              "      <td>...</td>\n",
              "      <td>...</td>\n",
              "      <td>...</td>\n",
              "      <td>...</td>\n",
              "    </tr>\n",
              "    <tr>\n",
              "      <th>6438</th>\n",
              "      <td>6499</td>\n",
              "      <td>The crew replaced a 3 phase FOLCB on the pole</td>\n",
              "      <td>301 ST KILDA STREET, BRIGHTON VIC 3186</td>\n",
              "      <td>Vehicle</td>\n",
              "      <td>Lightning</td>\n",
              "      <td>Unlikely</td>\n",
              "      <td>Earth fault</td>\n",
              "      <td>Not followed</td>\n",
              "      <td>Phase to earth</td>\n",
              "      <td>2.0</td>\n",
              "      <td>A report came in to UE of a FMB sparking at 31...</td>\n",
              "      <td>Connection box</td>\n",
              "      <td>0</td>\n",
              "      <td>0</td>\n",
              "      <td>0</td>\n",
              "      <td>The likely cause was determined by EIO to be a...</td>\n",
              "      <td>Plant/equipment</td>\n",
              "      <td>1.0</td>\n",
              "      <td>Negligible: no ground fire</td>\n",
              "      <td>Residential</td>\n",
              "      <td>Infrastructure (network-based)</td>\n",
              "      <td>-37.905307</td>\n",
              "      <td>144.988061</td>\n",
              "      <td>1</td>\n",
              "      <td>United Energy Distribution</td>\n",
              "      <td>Report</td>\n",
              "      <td>Low voltage AC (&lt;1kV)</td>\n",
              "      <td>Moorabbin Airport</td>\n",
              "      <td>3186.0</td>\n",
              "      <td>Brighton</td>\n",
              "      <td>Connection</td>\n",
              "    </tr>\n",
              "    <tr>\n",
              "      <th>6439</th>\n",
              "      <td>6500</td>\n",
              "      <td>Conductor repaired at point of contact.</td>\n",
              "      <td>48 Banks Rd, Mount Wallace VIC 3342, Australia</td>\n",
              "      <td>Working too close to overhead lines</td>\n",
              "      <td>Lightning</td>\n",
              "      <td>Unlikely</td>\n",
              "      <td>Leakage</td>\n",
              "      <td>Not followed</td>\n",
              "      <td>Phase to earth</td>\n",
              "      <td>2.0</td>\n",
              "      <td>Report received from a resident to advise that...</td>\n",
              "      <td>Conductor (bare)</td>\n",
              "      <td>2</td>\n",
              "      <td>2</td>\n",
              "      <td>2</td>\n",
              "      <td>Crane struck line</td>\n",
              "      <td>No Go Zone (contact);Damage to network assets</td>\n",
              "      <td>1.0</td>\n",
              "      <td>Negligible: no ground fire</td>\n",
              "      <td>Agricultural</td>\n",
              "      <td>Infrastructure (network-based)</td>\n",
              "      <td>-37.707726</td>\n",
              "      <td>144.199888</td>\n",
              "      <td>1</td>\n",
              "      <td>Powercor</td>\n",
              "      <td>Report</td>\n",
              "      <td>12.7kV AC (SWER)</td>\n",
              "      <td>Avalon Airport</td>\n",
              "      <td>3342.0</td>\n",
              "      <td>Mount Wallace</td>\n",
              "      <td>Vehicle</td>\n",
              "    </tr>\n",
              "    <tr>\n",
              "      <th>6440</th>\n",
              "      <td>6501</td>\n",
              "      <td>On arrival crew isolated supply and arranged p...</td>\n",
              "      <td>196 VALLANCE ROAD, OUYEN VIC 3490</td>\n",
              "      <td>Vehicle</td>\n",
              "      <td>Lightning</td>\n",
              "      <td>Unlikely</td>\n",
              "      <td>Leakage</td>\n",
              "      <td>Not followed</td>\n",
              "      <td>Phase to earth</td>\n",
              "      <td>2.0</td>\n",
              "      <td>Report received of pole fire at incident locat...</td>\n",
              "      <td>Pole (wood)</td>\n",
              "      <td>2</td>\n",
              "      <td>2</td>\n",
              "      <td>2</td>\n",
              "      <td>Excessive leakage current</td>\n",
              "      <td>Pole-top fire</td>\n",
              "      <td>1.0</td>\n",
              "      <td>Negligible: no ground fire</td>\n",
              "      <td>Agricultural</td>\n",
              "      <td>Infrastructure (network-based)</td>\n",
              "      <td>-34.978769</td>\n",
              "      <td>142.365388</td>\n",
              "      <td>1</td>\n",
              "      <td>Powercor</td>\n",
              "      <td>Report</td>\n",
              "      <td>22kV AC</td>\n",
              "      <td>Mildura Airport</td>\n",
              "      <td>3490.0</td>\n",
              "      <td>Ouyen</td>\n",
              "      <td>Pole</td>\n",
              "    </tr>\n",
              "    <tr>\n",
              "      <th>6441</th>\n",
              "      <td>6502</td>\n",
              "      <td>On arrival crew isolated supply and carried ou...</td>\n",
              "      <td>Ford Rd, Ultima VIC 3544, Australia</td>\n",
              "      <td>Crane, excavator or other construction/farming...</td>\n",
              "      <td>Lightning</td>\n",
              "      <td>Unlikely</td>\n",
              "      <td>Leakage</td>\n",
              "      <td>Not followed</td>\n",
              "      <td>Phase to earth</td>\n",
              "      <td>2.0</td>\n",
              "      <td>A customer called to report a tractor had hit ...</td>\n",
              "      <td>Conductor (bare);Pole (wood)</td>\n",
              "      <td>2</td>\n",
              "      <td>2</td>\n",
              "      <td>2</td>\n",
              "      <td>Farm equipment hit pole</td>\n",
              "      <td>Damage to network assets</td>\n",
              "      <td>1.0</td>\n",
              "      <td>Negligible: no ground fire</td>\n",
              "      <td>Agricultural</td>\n",
              "      <td>Infrastructure (network-based)</td>\n",
              "      <td>-35.478065</td>\n",
              "      <td>143.228477</td>\n",
              "      <td>1</td>\n",
              "      <td>Powercor</td>\n",
              "      <td>Report</td>\n",
              "      <td>22kV AC</td>\n",
              "      <td>Swan Hill Aerodrome</td>\n",
              "      <td>3544.0</td>\n",
              "      <td>Ultima</td>\n",
              "      <td>Vehicle</td>\n",
              "    </tr>\n",
              "    <tr>\n",
              "      <th>6442</th>\n",
              "      <td>6503</td>\n",
              "      <td>Despatched crew and inspector to investigate a...</td>\n",
              "      <td>5 DANE PLACE, WODONGA VIC 3690</td>\n",
              "      <td>Vehicle</td>\n",
              "      <td>Lightning</td>\n",
              "      <td>Unlikely</td>\n",
              "      <td>Leakage</td>\n",
              "      <td>Not followed</td>\n",
              "      <td>Phase to earth</td>\n",
              "      <td>2.0</td>\n",
              "      <td>concrete electrical cover outside of front of ...</td>\n",
              "      <td>Services pit (network)</td>\n",
              "      <td>0</td>\n",
              "      <td>0</td>\n",
              "      <td>0</td>\n",
              "      <td>Under Investigation</td>\n",
              "      <td>Shock to livestock, pet or companion animal</td>\n",
              "      <td>1.0</td>\n",
              "      <td>Negligible: no ground fire</td>\n",
              "      <td>Residential</td>\n",
              "      <td>Infrastructure (network-based)</td>\n",
              "      <td>-38.117825</td>\n",
              "      <td>144.917740</td>\n",
              "      <td>1</td>\n",
              "      <td>AusNet Services Distribution</td>\n",
              "      <td>Notification</td>\n",
              "      <td>Low voltage AC (&lt;1kV)</td>\n",
              "      <td>Moorabbin Airport</td>\n",
              "      <td>3690.0</td>\n",
              "      <td>Wodonga</td>\n",
              "      <td>AF Other</td>\n",
              "    </tr>\n",
              "  </tbody>\n",
              "</table>\n",
              "<p>6443 rows × 31 columns</p>\n",
              "</div>"
            ],
            "text/plain": [
              "      Unnamed: 0  ...    Category\n",
              "0              0  ...    OH Cable\n",
              "1              1  ...      Dug up\n",
              "2              2  ...  Connection\n",
              "3              3  ...       Other\n",
              "4              4  ...     Vehicle\n",
              "...          ...  ...         ...\n",
              "6438        6499  ...  Connection\n",
              "6439        6500  ...     Vehicle\n",
              "6440        6501  ...        Pole\n",
              "6441        6502  ...     Vehicle\n",
              "6442        6503  ...    AF Other\n",
              "\n",
              "[6443 rows x 31 columns]"
            ]
          },
          "metadata": {
            "tags": []
          },
          "execution_count": 20
        }
      ]
    },
    {
      "cell_type": "code",
      "metadata": {
        "colab": {
          "base_uri": "https://localhost:8080/"
        },
        "id": "SQXwa6UPsQu8",
        "outputId": "ecec73b6-974c-4c47-e576-d717d87fc293"
      },
      "source": [
        "def data(df):\r\n",
        "    features = df['EventDescription'] +' ' + df['Address'] + ' '+ df['IncidentCause'] +' ' + df['ActionTaken'] +\\\r\n",
        "    ' '+ df['FailedAssets'] +' ' + df['Locality']  + ' ' + df['IncidentConsequence'] + ' ' + \\\r\n",
        "    df['CauseTechnical'] + ' ' + df['CauseTechnical']\r\n",
        "    target = df['Category']\r\n",
        "    return features, target\r\n",
        "\r\n",
        "features, target = data(df)\r\n",
        "features"
      ],
      "execution_count": 21,
      "outputs": [
        {
          "output_type": "execute_result",
          "data": {
            "text/plain": [
              "0       A nearby customer reported sparking of electri...\n",
              "1       A contractor reported that he had contacted an...\n",
              "2       A field crew attending an outage found that a ...\n",
              "3       Interfere and vandalism in substation. Unknown...\n",
              "4       A nearby customer reported that a high load ha...\n",
              "                              ...                        \n",
              "6438    A report came in to UE of a FMB sparking at 31...\n",
              "6439    Report received from a resident to advise that...\n",
              "6440    Report received of pole fire at incident locat...\n",
              "6441    A customer called to report a tractor had hit ...\n",
              "6442    concrete electrical cover outside of front of ...\n",
              "Length: 6443, dtype: object"
            ]
          },
          "metadata": {
            "tags": []
          },
          "execution_count": 21
        }
      ]
    },
    {
      "cell_type": "code",
      "metadata": {
        "colab": {
          "base_uri": "https://localhost:8080/"
        },
        "id": "bUdperESsZJI",
        "outputId": "1a88dbc9-7fa0-453a-fda1-fa2fbc4388cc"
      },
      "source": [
        "def preprocess_text():\r\n",
        "    # cleaning steps\r\n",
        "    cleaning_pipeline = [\r\n",
        "        preprocessing.fillna,\r\n",
        "        preprocessing.lowercase,\r\n",
        "        preprocessing.remove_whitespace,\r\n",
        "        preprocessing.remove_punctuation,\r\n",
        "        preprocessing.remove_urls,\r\n",
        "        preprocessing.remove_brackets,\r\n",
        "        preprocessing.remove_stopwords,\r\n",
        "        preprocessing.remove_digits,\r\n",
        "        preprocessing.remove_angle_brackets,\r\n",
        "        preprocessing.remove_curly_brackets,\r\n",
        "        preprocessing.stem\r\n",
        "    ]\r\n",
        "\r\n",
        "    # apply pipeline to text\r\n",
        "    clean_text = features.pipe(hero.clean, cleaning_pipeline)\r\n",
        "\r\n",
        "    return clean_text\r\n",
        "\r\n",
        "\r\n",
        "clean_text = preprocess_text()\r\n",
        "clean_text"
      ],
      "execution_count": 22,
      "outputs": [
        {
          "output_type": "execute_result",
          "data": {
            "text/plain": [
              "0       nearbi custom report spark electr line locat a...\n",
              "1       contractor report contact earth cabl excav tre...\n",
              "2       field crew attend outag found 22kv conductor b...\n",
              "3       interfer vandal substat unknown third parti us...\n",
              "4       nearbi custom report high load pull wire locat...\n",
              "                              ...                        \n",
              "6438    report came ue fmb spark st kilda st brighton ...\n",
              "6439    report receiv resid advis crane made contact p...\n",
              "6440    report receiv pole fire incid locat arriv crew...\n",
              "6441    custom call report tractor hit wire brought gr...\n",
              "6442    concret electr cover outsid front hous gave cl...\n",
              "Length: 6443, dtype: object"
            ]
          },
          "metadata": {
            "tags": []
          },
          "execution_count": 22
        }
      ]
    },
    {
      "cell_type": "code",
      "metadata": {
        "colab": {
          "base_uri": "https://localhost:8080/"
        },
        "id": "uqNqxEpvsixj",
        "outputId": "9458b461-3775-4214-91e4-4af642ff009c"
      },
      "source": [
        "x_train, x_test, y_train, y_test = train_test_split(clean_text, target, random_state=0, test_size=0.25, shuffle=True)\r\n",
        "x_train.shape, x_test.shape, y_train.shape, y_test.shape"
      ],
      "execution_count": 39,
      "outputs": [
        {
          "output_type": "execute_result",
          "data": {
            "text/plain": [
              "((4832,), (1611,), (4832,), (1611,))"
            ]
          },
          "metadata": {
            "tags": []
          },
          "execution_count": 39
        }
      ]
    },
    {
      "cell_type": "code",
      "metadata": {
        "colab": {
          "base_uri": "https://localhost:8080/"
        },
        "id": "aS8jPG3JtRiq",
        "outputId": "145abcc6-1254-4444-b35a-fead9ead2269"
      },
      "source": [
        "def tfidf():\r\n",
        "    vectorizer = TfidfVectorizer(analyzer='word', max_features=5000)\r\n",
        "    vectorizer.fit(clean_text)\r\n",
        "    train_tfidf = vectorizer.transform(x_train)\r\n",
        "    test_tfidf = vectorizer.transform(x_test)\r\n",
        "    return train_tfidf, test_tfidf\r\n",
        "\r\n",
        "train_tfidf, test_tfidf = tfidf()\r\n",
        "train_tfidf.shape, test_tfidf.shape"
      ],
      "execution_count": 25,
      "outputs": [
        {
          "output_type": "execute_result",
          "data": {
            "text/plain": [
              "((4832, 5000), (1611, 5000))"
            ]
          },
          "metadata": {
            "tags": []
          },
          "execution_count": 25
        }
      ]
    },
    {
      "cell_type": "code",
      "metadata": {
        "colab": {
          "base_uri": "https://localhost:8080/"
        },
        "id": "ugVQuPgRtrmE",
        "outputId": "c8ad9d2b-afdc-4c7e-fe29-fd1a80436fb6"
      },
      "source": [
        "import numpy as np\r\n",
        "oversample = SMOTE(random_state=0,n_jobs=-1,k_neighbors=5)\r\n",
        "train_tfidf, y_train = oversample.fit_resample(train_tfidf, y_train)\r\n",
        "print(f'Shape: {train_tfidf.shape}')"
      ],
      "execution_count": 26,
      "outputs": [
        {
          "output_type": "stream",
          "text": [
            "/usr/local/lib/python3.6/dist-packages/sklearn/utils/deprecation.py:87: FutureWarning:\n",
            "\n",
            "Function safe_indexing is deprecated; safe_indexing is deprecated in version 0.22 and will be removed in version 0.24.\n",
            "\n"
          ],
          "name": "stderr"
        },
        {
          "output_type": "stream",
          "text": [
            "Shape: (14820, 5000)\n"
          ],
          "name": "stdout"
        }
      ]
    },
    {
      "cell_type": "code",
      "metadata": {
        "colab": {
          "base_uri": "https://localhost:8080/"
        },
        "id": "u9JRUhjHt_IM",
        "outputId": "4b282e7a-cbb3-45a4-837a-905085a01c12"
      },
      "source": [
        "lrRidge = LogisticRegression(penalty='l2', tol=0.001)\r\n",
        "lrRidge.fit(train_tfidf, y_train)\r\n",
        "print(accuracy_score(y_test, lrRidge.predict(test_tfidf)))\r\n",
        "print(classification_report(y_test, lrRidge.predict(test_tfidf)))"
      ],
      "execution_count": 27,
      "outputs": [
        {
          "output_type": "stream",
          "text": [
            "0.8249534450651769\n",
            "              precision    recall  f1-score   support\n",
            "\n",
            "    AF Other       0.52      0.63      0.57        93\n",
            "      Animal       0.92      0.85      0.88        67\n",
            "   Conductor       0.37      0.65      0.47        34\n",
            "  Connection       0.80      0.75      0.78       210\n",
            "    Crossarm       0.88      0.90      0.89       130\n",
            "      Dug up       0.92      0.88      0.90        92\n",
            "        Fuse       0.91      0.80      0.85       107\n",
            "Installation       0.67      0.75      0.71         8\n",
            "   Lightning       0.97      0.71      0.82        41\n",
            "    OH Cable       0.62      0.70      0.66        60\n",
            "       Other       0.94      0.89      0.91       325\n",
            "        Pole       0.61      0.65      0.63        83\n",
            "       Trees       0.95      0.92      0.93       134\n",
            "    UG Cable       0.17      0.17      0.17         6\n",
            "     Vehicle       0.92      0.92      0.92       221\n",
            "\n",
            "    accuracy                           0.82      1611\n",
            "   macro avg       0.74      0.75      0.74      1611\n",
            "weighted avg       0.84      0.82      0.83      1611\n",
            "\n"
          ],
          "name": "stdout"
        },
        {
          "output_type": "stream",
          "text": [
            "/usr/local/lib/python3.6/dist-packages/sklearn/linear_model/_logistic.py:940: ConvergenceWarning:\n",
            "\n",
            "lbfgs failed to converge (status=1):\n",
            "STOP: TOTAL NO. of ITERATIONS REACHED LIMIT.\n",
            "\n",
            "Increase the number of iterations (max_iter) or scale the data as shown in:\n",
            "    https://scikit-learn.org/stable/modules/preprocessing.html\n",
            "Please also refer to the documentation for alternative solver options:\n",
            "    https://scikit-learn.org/stable/modules/linear_model.html#logistic-regression\n",
            "\n"
          ],
          "name": "stderr"
        }
      ]
    },
    {
      "cell_type": "code",
      "metadata": {
        "colab": {
          "base_uri": "https://localhost:8080/"
        },
        "id": "BpB4mtIszM96",
        "outputId": "02b07122-0d4c-46ac-c6a2-897006acb874"
      },
      "source": [
        "lrLasso = LogisticRegression(penalty='l1', tol=0.001, solver='liblinear')\r\n",
        "lrLasso.fit(train_tfidf, y_train)\r\n",
        "print(accuracy_score(y_test, lrLasso.predict(test_tfidf)))\r\n",
        "print(classification_report(y_test, lrLasso.predict(test_tfidf)))"
      ],
      "execution_count": 28,
      "outputs": [
        {
          "output_type": "stream",
          "text": [
            "0.819366852886406\n",
            "              precision    recall  f1-score   support\n",
            "\n",
            "    AF Other       0.50      0.65      0.57        93\n",
            "      Animal       0.92      0.85      0.88        67\n",
            "   Conductor       0.35      0.59      0.44        34\n",
            "  Connection       0.82      0.74      0.78       210\n",
            "    Crossarm       0.89      0.90      0.89       130\n",
            "      Dug up       0.91      0.88      0.90        92\n",
            "        Fuse       0.88      0.82      0.85       107\n",
            "Installation       0.62      0.62      0.62         8\n",
            "   Lightning       0.95      0.85      0.90        41\n",
            "    OH Cable       0.62      0.68      0.65        60\n",
            "       Other       0.93      0.87      0.90       325\n",
            "        Pole       0.62      0.61      0.62        83\n",
            "       Trees       0.90      0.90      0.90       134\n",
            "    UG Cable       0.30      0.50      0.37         6\n",
            "     Vehicle       0.92      0.91      0.91       221\n",
            "\n",
            "    accuracy                           0.82      1611\n",
            "   macro avg       0.74      0.76      0.75      1611\n",
            "weighted avg       0.84      0.82      0.83      1611\n",
            "\n"
          ],
          "name": "stdout"
        }
      ]
    },
    {
      "cell_type": "code",
      "metadata": {
        "colab": {
          "base_uri": "https://localhost:8080/"
        },
        "id": "QAvif8qk0EWC",
        "outputId": "558b09ac-880c-4dd6-d8ec-7f5cd4c5113e"
      },
      "source": [
        "lrElastic = LogisticRegression(penalty='elasticnet', tol=0.001, solver='saga', l1_ratio=0.5)\r\n",
        "lrElastic.fit(train_tfidf, y_train)\r\n",
        "print(accuracy_score(y_test, lrElastic.predict(test_tfidf)))\r\n",
        "print(classification_report(y_test, lrElastic.predict(test_tfidf)))"
      ],
      "execution_count": 30,
      "outputs": [
        {
          "output_type": "stream",
          "text": [
            "0.8218497827436375\n",
            "              precision    recall  f1-score   support\n",
            "\n",
            "    AF Other       0.49      0.63      0.55        93\n",
            "      Animal       0.89      0.82      0.85        67\n",
            "   Conductor       0.39      0.65      0.48        34\n",
            "  Connection       0.82      0.75      0.78       210\n",
            "    Crossarm       0.88      0.91      0.89       130\n",
            "      Dug up       0.90      0.88      0.89        92\n",
            "        Fuse       0.91      0.81      0.86       107\n",
            "Installation       0.62      0.62      0.62         8\n",
            "   Lightning       0.94      0.76      0.84        41\n",
            "    OH Cable       0.62      0.75      0.68        60\n",
            "       Other       0.93      0.88      0.90       325\n",
            "        Pole       0.60      0.63      0.62        83\n",
            "       Trees       0.94      0.93      0.93       134\n",
            "    UG Cable       0.33      0.50      0.40         6\n",
            "     Vehicle       0.93      0.90      0.92       221\n",
            "\n",
            "    accuracy                           0.82      1611\n",
            "   macro avg       0.75      0.76      0.75      1611\n",
            "weighted avg       0.84      0.82      0.83      1611\n",
            "\n"
          ],
          "name": "stdout"
        }
      ]
    },
    {
      "cell_type": "code",
      "metadata": {
        "colab": {
          "base_uri": "https://localhost:8080/"
        },
        "id": "KhAhzogcq3yO",
        "outputId": "e1d29799-4c68-4f68-d9fe-2d08abfe84dd"
      },
      "source": [
        "count_vect = CountVectorizer(ngram_range=(1,2))\r\n",
        "count_vect.fit(clean_text) "
      ],
      "execution_count": 40,
      "outputs": [
        {
          "output_type": "execute_result",
          "data": {
            "text/plain": [
              "CountVectorizer(analyzer='word', binary=False, decode_error='strict',\n",
              "                dtype=<class 'numpy.int64'>, encoding='utf-8', input='content',\n",
              "                lowercase=True, max_df=1.0, max_features=None, min_df=1,\n",
              "                ngram_range=(1, 2), preprocessor=None, stop_words=None,\n",
              "                strip_accents=None, token_pattern='(?u)\\\\b\\\\w\\\\w+\\\\b',\n",
              "                tokenizer=None, vocabulary=None)"
            ]
          },
          "metadata": {
            "tags": []
          },
          "execution_count": 40
        }
      ]
    },
    {
      "cell_type": "code",
      "metadata": {
        "id": "j1K5vZMRwYGk"
      },
      "source": [
        "train_cv = count_vect.transform(x_train)\r\n",
        "test_cv = count_vect.transform(x_test)"
      ],
      "execution_count": 41,
      "outputs": []
    },
    {
      "cell_type": "code",
      "metadata": {
        "colab": {
          "base_uri": "https://localhost:8080/"
        },
        "id": "mD_JTBxzzOVo",
        "outputId": "fffa1634-3782-4602-e1b4-77d59cef900c"
      },
      "source": [
        "lrRidge.fit(train_cv, y_train)\r\n",
        "print(accuracy_score(y_test, lrRidge.predict(test_cv)))\r\n",
        "print(classification_report(y_test, lrRidge.predict(test_cv)))"
      ],
      "execution_count": 43,
      "outputs": [
        {
          "output_type": "stream",
          "text": [
            "0.8435754189944135\n",
            "              precision    recall  f1-score   support\n",
            "\n",
            "    AF Other       0.59      0.65      0.62        93\n",
            "      Animal       0.97      0.84      0.90        67\n",
            "   Conductor       0.49      0.53      0.51        34\n",
            "  Connection       0.78      0.89      0.83       210\n",
            "    Crossarm       0.89      0.93      0.91       130\n",
            "      Dug up       0.94      0.90      0.92        92\n",
            "        Fuse       0.87      0.83      0.85       107\n",
            "Installation       1.00      0.25      0.40         8\n",
            "   Lightning       0.97      0.71      0.82        41\n",
            "    OH Cable       0.74      0.62      0.67        60\n",
            "       Other       0.90      0.91      0.91       325\n",
            "        Pole       0.70      0.67      0.69        83\n",
            "       Trees       0.93      0.93      0.93       134\n",
            "    UG Cable       0.00      0.00      0.00         6\n",
            "     Vehicle       0.91      0.91      0.91       221\n",
            "\n",
            "    accuracy                           0.84      1611\n",
            "   macro avg       0.78      0.70      0.72      1611\n",
            "weighted avg       0.85      0.84      0.84      1611\n",
            "\n"
          ],
          "name": "stdout"
        },
        {
          "output_type": "stream",
          "text": [
            "/usr/local/lib/python3.6/dist-packages/sklearn/linear_model/_logistic.py:940: ConvergenceWarning:\n",
            "\n",
            "lbfgs failed to converge (status=1):\n",
            "STOP: TOTAL NO. of ITERATIONS REACHED LIMIT.\n",
            "\n",
            "Increase the number of iterations (max_iter) or scale the data as shown in:\n",
            "    https://scikit-learn.org/stable/modules/preprocessing.html\n",
            "Please also refer to the documentation for alternative solver options:\n",
            "    https://scikit-learn.org/stable/modules/linear_model.html#logistic-regression\n",
            "\n"
          ],
          "name": "stderr"
        }
      ]
    },
    {
      "cell_type": "code",
      "metadata": {
        "colab": {
          "base_uri": "https://localhost:8080/"
        },
        "id": "hy_MQOy4BFvb",
        "outputId": "11af8fd6-e83a-4d75-d811-c11519224731"
      },
      "source": [
        "lrLasso.fit(train_cv, y_train)\r\n",
        "print(accuracy_score(y_test, lrLasso.predict(test_cv)))\r\n",
        "print(classification_report(y_test, lrLasso.predict(test_cv)))"
      ],
      "execution_count": 44,
      "outputs": [
        {
          "output_type": "stream",
          "text": [
            "0.8361266294227188\n",
            "              precision    recall  f1-score   support\n",
            "\n",
            "    AF Other       0.55      0.58      0.57        93\n",
            "      Animal       0.95      0.88      0.91        67\n",
            "   Conductor       0.46      0.53      0.49        34\n",
            "  Connection       0.78      0.88      0.83       210\n",
            "    Crossarm       0.89      0.92      0.91       130\n",
            "      Dug up       0.93      0.88      0.91        92\n",
            "        Fuse       0.86      0.81      0.84       107\n",
            "Installation       0.75      0.38      0.50         8\n",
            "   Lightning       0.94      0.76      0.84        41\n",
            "    OH Cable       0.71      0.58      0.64        60\n",
            "       Other       0.90      0.91      0.91       325\n",
            "        Pole       0.64      0.60      0.62        83\n",
            "       Trees       0.93      0.91      0.92       134\n",
            "    UG Cable       0.00      0.00      0.00         6\n",
            "     Vehicle       0.92      0.94      0.93       221\n",
            "\n",
            "    accuracy                           0.84      1611\n",
            "   macro avg       0.75      0.70      0.72      1611\n",
            "weighted avg       0.84      0.84      0.84      1611\n",
            "\n"
          ],
          "name": "stdout"
        }
      ]
    },
    {
      "cell_type": "code",
      "metadata": {
        "colab": {
          "base_uri": "https://localhost:8080/"
        },
        "id": "m-BTJ9HcBT77",
        "outputId": "32d9761e-8a67-4166-bd18-a8f71ce1db77"
      },
      "source": [
        "lrElastic.fit(train_cv, y_train)\r\n",
        "print(accuracy_score(y_test, lrElastic.predict(test_cv)))\r\n",
        "print(classification_report(y_test, lrElastic.predict(test_cv)))"
      ],
      "execution_count": 45,
      "outputs": [
        {
          "output_type": "stream",
          "text": [
            "0.840471756672874\n",
            "              precision    recall  f1-score   support\n",
            "\n",
            "    AF Other       0.59      0.65      0.62        93\n",
            "      Animal       0.98      0.84      0.90        67\n",
            "   Conductor       0.49      0.59      0.53        34\n",
            "  Connection       0.77      0.86      0.82       210\n",
            "    Crossarm       0.88      0.92      0.90       130\n",
            "      Dug up       0.94      0.89      0.92        92\n",
            "        Fuse       0.90      0.83      0.86       107\n",
            "Installation       1.00      0.25      0.40         8\n",
            "   Lightning       0.94      0.71      0.81        41\n",
            "    OH Cable       0.73      0.63      0.68        60\n",
            "       Other       0.89      0.91      0.90       325\n",
            "        Pole       0.66      0.64      0.65        83\n",
            "       Trees       0.93      0.93      0.93       134\n",
            "    UG Cable       0.00      0.00      0.00         6\n",
            "     Vehicle       0.92      0.92      0.92       221\n",
            "\n",
            "    accuracy                           0.84      1611\n",
            "   macro avg       0.78      0.70      0.72      1611\n",
            "weighted avg       0.84      0.84      0.84      1611\n",
            "\n"
          ],
          "name": "stdout"
        },
        {
          "output_type": "stream",
          "text": [
            "/usr/local/lib/python3.6/dist-packages/sklearn/linear_model/_sag.py:330: ConvergenceWarning:\n",
            "\n",
            "The max_iter was reached which means the coef_ did not converge\n",
            "\n"
          ],
          "name": "stderr"
        }
      ]
    }
  ]
}