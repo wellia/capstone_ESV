{
 "cells": [
  {
   "cell_type": "code",
   "execution_count": 11,
   "metadata": {
    "collapsed": true
   },
   "outputs": [
    {
     "data": {
      "text/plain": "{'FILE_PATH': '/Users/pradeep/Desktop/ProjectANotebooks/notebooks/processed_dataset_chi2.csv'}"
     },
     "execution_count": 11,
     "metadata": {},
     "output_type": "execute_result"
    }
   ],
   "source": [
    "# configuration\n",
    "config = {\n",
    "    'FILE_PATH': '/Users/pradeep/Desktop/ProjectANotebooks/notebooks/processed_dataset_chi2.csv'\n",
    "    }\n",
    "config"
   ]
  },
  {
   "cell_type": "code",
   "execution_count": 12,
   "outputs": [],
   "source": [
    "# import libraries\n",
    "try:\n",
    "    import pandas as pd\n",
    "    import pickle\n",
    "    import numpy as np\n",
    "    import matplotlib.pyplot as plt\n",
    "    import string\n",
    "    import re\n",
    "    from time import time\n",
    "    from imblearn.over_sampling import SMOTE\n",
    "    import texthero as hero\n",
    "    from texthero import preprocessing\n",
    "    from gensim.models import Word2Vec\n",
    "    from sklearn.model_selection import cross_val_score\n",
    "    import nltk\n",
    "    from nltk.corpus import stopwords\n",
    "    from nltk.stem import WordNetLemmatizer\n",
    "    from sklearn.preprocessing import LabelEncoder\n",
    "    from sklearn.ensemble import RandomForestClassifier\n",
    "    from sklearn.ensemble import AdaBoostClassifier\n",
    "    from sklearn.metrics import accuracy_score, confusion_matrix, plot_confusion_matrix, classification_report, ConfusionMatrixDisplay\n",
    "    from sklearn.model_selection import train_test_split, GridSearchCV\n",
    "    from sklearn.feature_extraction.text import TfidfVectorizer, CountVectorizer\n",
    "    from sklearn.pipeline import Pipeline\n",
    "    from sklearn.linear_model import LogisticRegression\n",
    "    from sklearn.ensemble import StackingClassifier\n",
    "    from sklearn.neighbors import KNeighborsClassifier\n",
    "    from sklearn.neural_network import MLPClassifier\n",
    "    from sklearn.svm import SVC\n",
    "    import warnings\n",
    "except(ImportError):\n",
    "    print(f'Import Error: {ImportError}')\n",
    "\n",
    "# ignore warnings\n",
    "warnings.filterwarnings(\"ignore\")\n",
    "warnings.simplefilter(action='ignore', category=FutureWarning)\n",
    "\n",
    "# set seeds for reproducability\n",
    "from numpy.random import seed\n",
    "seed(500)\n",
    "\n",
    "# global configurations\n",
    "pd.set_option(\"display.max_colwidth\", -1) # show larger text in pandas dataframe"
   ],
   "metadata": {
    "collapsed": false,
    "pycharm": {
     "name": "#%%\n"
    }
   }
  },
  {
   "cell_type": "code",
   "execution_count": 13,
   "outputs": [],
   "source": [
    "'''\n",
    "- select features\n",
    "- drop missing values\n",
    "- combine selected features into one\n",
    "'''\n",
    "def data(df):\n",
    "    #new_df = df[['EventDescription', 'FailedAssets', 'IncidentCause', 'IncidentConsequence', 'IncidentType', 'Status', 'WeatherStation', 'Category']]\n",
    "    #new_df.dropna(axis=0, inplace=True)\n",
    "    features = df['EventDescription'] +' ' + df['IncidentCause'] + ' '+ df['ActionTaken'] +' ' + df['FailedAssets'] +\\\n",
    "    ' '+ df['CauseCommunity'] +' ' + df['CauseTechnical']  + ' ' + df['IncidentConsequence']\n",
    "    target = df['Category']\n",
    "    return features, target"
   ],
   "metadata": {
    "collapsed": false,
    "pycharm": {
     "name": "#%%\n"
    }
   }
  },
  {
   "cell_type": "code",
   "execution_count": 14,
   "outputs": [],
   "source": [
    "# read csv\n",
    "dataset = pd.read_csv(config['FILE_PATH'])\n",
    "\n",
    "# get features and target\n",
    "features, target = data(dataset)\n",
    "\n",
    "# Text Cleaning and Pre-processing\n",
    "def preprocess_text():\n",
    "    # cleaning steps\n",
    "    cleaning_pipeline = [\n",
    "        preprocessing.fillna,\n",
    "        preprocessing.lowercase,\n",
    "        preprocessing.remove_whitespace,\n",
    "        preprocessing.remove_punctuation,\n",
    "        preprocessing.remove_urls,\n",
    "        preprocessing.remove_brackets,\n",
    "        preprocessing.remove_stopwords,\n",
    "        preprocessing.remove_digits,\n",
    "        preprocessing.remove_angle_brackets,\n",
    "        preprocessing.remove_curly_brackets,\n",
    "        preprocessing.stem\n",
    "        #preprocessing.tokenize\n",
    "    ]\n",
    "\n",
    "    # apply pipeline to text\n",
    "    clean_text = features.pipe(hero.clean, cleaning_pipeline)\n",
    "\n",
    "    return clean_text"
   ],
   "metadata": {
    "collapsed": false,
    "pycharm": {
     "name": "#%%\n"
    }
   }
  },
  {
   "cell_type": "code",
   "execution_count": 15,
   "outputs": [
    {
     "data": {
      "text/plain": "0       nearbi custom report spark electr line locat attend crew found high voltag abc conductor fault midspan result ground fire approx sqm report injuri hvabc cabl fault midspan crew isol suppli undertook repair conductor abc unknown extern communiti factor earth fault grassfir                                                                                                                                                                                                                                        \n1       contractor report contact earth cabl excav trench locat arriv crew found contractor denni jame ph dig trench contact earth cabl caus damag cabl report injuri third parti properti damag contractor contact earth conductor crew undertook repair fail asset work close underground cabl unknown technic factor go zone contact                                                                                                                                                                                         \n2       field crew attend outag found 22kv conductor broken due rust connect sleev fallen ground one end remain aliv due high imped backfe downlin transform wind protect oper report injuri third parti properti damag conductor broke due rust crew isol suppli undertook repair conductor bare unknown extern communiti factor corros serious risk public safeti e g live conductor ground live asset access unauthoris person                                                                                               \n3       interfer vandal substat unknown third parti use unknown object interfer two hv fuse blew indoor substat littl bank kingsway indoor substat affect also secur park rear bank street theft vandal ticket machin conjunct substat interfer vandal vandal crew undertook repair indoor vandal unknown technic factor loss suppli damag network asset                                                                                                                                                                        \n4       nearbi custom report high load pull wire locat arriv crew found lv servic cabl contact unknown vehicl break cabl fell ground report injuri third parti properti damag follow repair cabl measur 3m kerb unknown high load contact lv servic cabl crew isol suppli undertook repair servic conductor vehicl unknown technic factor go zone contact damag network asset                                                                                                                                                   \n                                                                                                                                                                                        ...                                                                                                                                                                                                                                                                                                                                     \n6484    report came ue fmb spark st kilda st brighton arriv crew identifi fire damag folcb pole lis eio call assess caus like caus determin eio earth defect within custom instal eio issu defect st kilda st crew replac phase folcb pole connect box unknown extern communiti factor earth fault plant equip                                                                                                                                                                                                                  \n6485    report receiv resid advis crane made contact powerlin power wire appear fine crane longer contact upon arriv fault crew found crane driver metcalf crane servic made contact 12st swer overhead conductor lis lis move gantri equip associ moorabool windfarm project crane taken away site test fire report injuri crane struck line conductor repair point contact conductor bare work close overhead line unknown technic factor go zone contact damag network asset                                                 \n6486    report receiv pole fire incid locat arriv crew found top burnt swer pole fire extinguish ground fire report injuri third parti properti damag excess leakag current arriv crew isol suppli arrang pole replac pole wood unknown extern communiti factor leakag pole top fire                                                                                                                                                                                                                                            \n6487    custom call report tractor hit wire brought ground arriv incid locat crew found tractor rego xv 99ce tow larg roller around paddock turn sharpli contact pole roller caus break fall 22kv hv singl phase conductor fell onto tractor caus protect oper isol suppli tractor driver exit vehicl crew arriv report receiv shock injur report damag fire injuri farm equip hit pole arriv crew isol suppli carri repair conductor bare pole wood crane excav construct farm equip unknown technic factor damag network asset\n6488    concret electr cover outsid front hous gave client dog electr shock rain investig despatch crew inspector investig repair servic pit network unknown extern communiti factor unknown technic factor shock livestock pet companion anim                                                                                                                                                                                                                                                                                  \nLength: 6489, dtype: object"
     },
     "execution_count": 15,
     "metadata": {},
     "output_type": "execute_result"
    }
   ],
   "source": [
    "# check processed text\n",
    "clean_text = preprocess_text()\n",
    "clean_text"
   ],
   "metadata": {
    "collapsed": false,
    "pycharm": {
     "name": "#%%\n"
    }
   }
  },
  {
   "cell_type": "code",
   "execution_count": 16,
   "outputs": [
    {
     "data": {
      "text/plain": "((4866,), (1623,), (4866,), (1623,))"
     },
     "execution_count": 16,
     "metadata": {},
     "output_type": "execute_result"
    }
   ],
   "source": [
    "# train test split\n",
    "x_train, x_test, y_train, y_test = train_test_split(clean_text, target, random_state=0, test_size=0.25, shuffle=True)\n",
    "x_train.shape, x_test.shape, y_train.shape, y_test.shape"
   ],
   "metadata": {
    "collapsed": false,
    "pycharm": {
     "name": "#%%\n"
    }
   }
  },
  {
   "cell_type": "code",
   "execution_count": 17,
   "outputs": [],
   "source": [
    "# feature extraction methods\n",
    "# tfidf\n",
    "def tfidf():\n",
    "    vectorizer = TfidfVectorizer(analyzer='word', max_features=1000)\n",
    "    vectorizer.fit(clean_text)\n",
    "    #with open('TFIDF_1000.pickle', 'wb') as f:\n",
    "        #pickle.dump(vectorizer, f)\n",
    "    train_tfidf = vectorizer.transform(x_train)\n",
    "    test_tfidf = vectorizer.transform(x_test)\n",
    "    return train_tfidf, test_tfidf\n",
    "\n",
    "# bow\n",
    "def bow():\n",
    "    count_vectorizer = CountVectorizer(analyzer='word', max_features=1000)\n",
    "    count_vectorizer.fit(clean_text)\n",
    "    train_bow = count_vectorizer.transform(x_train)\n",
    "    test_bow = count_vectorizer.transform(x_test)\n",
    "    return train_bow, test_bow\n",
    "\n",
    "# bigrams\n",
    "def bigrams():\n",
    "    bigram_vectorizer = CountVectorizer(analyzer='word', ngram_range=(2,2), max_features=1000)\n",
    "    bigram_vectorizer.fit(clean_text)\n",
    "    train_bigram = bigram_vectorizer.transform(x_train)\n",
    "    test_bigram = bigram_vectorizer.transform(x_test)\n",
    "    return train_bigram, test_bigram"
   ],
   "metadata": {
    "collapsed": false,
    "pycharm": {
     "name": "#%%\n"
    }
   }
  },
  {
   "cell_type": "code",
   "execution_count": 18,
   "outputs": [],
   "source": [
    "# get features\n",
    "train_tfidf, test_tfidf = tfidf()\n",
    "train_tfidf.shape, test_tfidf.shape\n",
    "\n",
    "train_bigram, test_bigram = bigrams()\n",
    "\n",
    "train_bow, test_bow = bow()"
   ],
   "metadata": {
    "collapsed": false,
    "pycharm": {
     "name": "#%%\n"
    }
   }
  },
  {
   "cell_type": "code",
   "execution_count": 19,
   "outputs": [
    {
     "name": "stdout",
     "output_type": "stream",
     "text": [
      "Shape: (14880, 1000)\n",
      "Pole            992\n",
      "Fuse            992\n",
      "Installation    992\n",
      "AF Other        992\n",
      "Crossarm        992\n",
      "Connection      992\n",
      "Other           992\n",
      "Dug up          992\n",
      "OH Cable        992\n",
      "Conductor       992\n",
      "Lightning       992\n",
      "Vehicle         992\n",
      "UG Cable        992\n",
      "Trees           992\n",
      "Animal          992\n",
      "Name: Category, dtype: int64\n"
     ]
    }
   ],
   "source": [
    "oversample = SMOTE(random_state=0,n_jobs=-1,k_neighbors=5)\n",
    "train_tfidf, y_train = oversample.fit_resample(train_tfidf, y_train)\n",
    "print(f'Shape: {train_tfidf.shape}')\n",
    "print(y_train.value_counts())"
   ],
   "metadata": {
    "collapsed": false,
    "pycharm": {
     "name": "#%%\n"
    }
   }
  },
  {
   "cell_type": "code",
   "execution_count": 20,
   "outputs": [
    {
     "data": {
      "text/plain": "0.829328404189772"
     },
     "execution_count": 20,
     "metadata": {},
     "output_type": "execute_result"
    }
   ],
   "source": [
    "# random forest classifier with TFIDF\n",
    "rf = LogisticRegression(random_state=0)\n",
    "\n",
    "# fit\n",
    "rf.fit(train_tfidf, y_train)\n",
    "\n",
    "# predict\n",
    "y_pred = rf.predict(test_tfidf)\n",
    "\n",
    "# accuracy\n",
    "accuracy_score(y_test, y_pred)"
   ],
   "metadata": {
    "collapsed": false,
    "pycharm": {
     "name": "#%%\n"
    }
   }
  },
  {
   "cell_type": "code",
   "execution_count": 21,
   "outputs": [
    {
     "name": "stdout",
     "output_type": "stream",
     "text": [
      "0.8250154035736291\n",
      "              precision    recall  f1-score   support\n",
      "\n",
      "    AF Other       0.61      0.62      0.62        96\n",
      "      Animal       0.84      0.88      0.86        72\n",
      "   Conductor       0.54      0.58      0.56        52\n",
      "  Connection       0.88      0.72      0.79       231\n",
      "    Crossarm       0.87      0.88      0.88       121\n",
      "      Dug up       0.88      0.94      0.91        89\n",
      "        Fuse       0.83      0.82      0.82        89\n",
      "Installation       0.35      0.67      0.46         9\n",
      "   Lightning       0.83      0.81      0.82        37\n",
      "    OH Cable       0.58      0.77      0.66        53\n",
      "       Other       0.93      0.87      0.90       329\n",
      "        Pole       0.61      0.72      0.66        89\n",
      "       Trees       0.94      0.91      0.93       136\n",
      "    UG Cable       0.19      1.00      0.32         3\n",
      "     Vehicle       0.94      0.93      0.93       217\n",
      "\n",
      "    accuracy                           0.83      1623\n",
      "   macro avg       0.72      0.81      0.74      1623\n",
      "weighted avg       0.84      0.83      0.83      1623\n",
      "\n"
     ]
    }
   ],
   "source": [
    "# random forest classifier\n",
    "rf = LogisticRegression(penalty='l1', tol=0.001, solver='liblinear', random_state=0)\n",
    "\n",
    "# fit\n",
    "rf.fit(train_tfidf, y_train)\n",
    "\n",
    "#with open('random_forest.pickle', 'wb') as f:\n",
    "   # pickle.dump(rf, f)\n",
    "\n",
    "# predict\n",
    "y_pred = rf.predict(test_tfidf)\n",
    "\n",
    "# accuracy\n",
    "print(accuracy_score(y_test, y_pred))\n",
    "\n",
    "# classification report\n",
    "print(classification_report(y_test, y_pred))\n"
   ],
   "metadata": {
    "collapsed": false,
    "pycharm": {
     "name": "#%%\n"
    }
   }
  },
  {
   "cell_type": "code",
   "execution_count": 21,
   "outputs": [],
   "source": [],
   "metadata": {
    "collapsed": false,
    "pycharm": {
     "name": "#%%\n"
    }
   }
  },
  {
   "cell_type": "code",
   "execution_count": 21,
   "outputs": [],
   "source": [],
   "metadata": {
    "collapsed": false,
    "pycharm": {
     "name": "#%%\n"
    }
   }
  }
 ],
 "metadata": {
  "kernelspec": {
   "display_name": "Python 3",
   "language": "python",
   "name": "python3"
  },
  "language_info": {
   "codemirror_mode": {
    "name": "ipython",
    "version": 2
   },
   "file_extension": ".py",
   "mimetype": "text/x-python",
   "name": "python",
   "nbconvert_exporter": "python",
   "pygments_lexer": "ipython2",
   "version": "2.7.6"
  }
 },
 "nbformat": 4,
 "nbformat_minor": 0
}