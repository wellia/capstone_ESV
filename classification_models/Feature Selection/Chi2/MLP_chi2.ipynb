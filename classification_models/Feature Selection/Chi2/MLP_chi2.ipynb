{
 "cells": [
  {
   "cell_type": "code",
   "execution_count": 4,
   "metadata": {
    "pycharm": {
     "name": "#%%\n"
    }
   },
   "outputs": [],
   "source": [
    "# import libraries\n",
    "try:\n",
    "    import pandas as pd\n",
    "    import numpy as np\n",
    "    import matplotlib.pyplot as plt\n",
    "    from matplotlib.pyplot import figure\n",
    "    import string\n",
    "    import texthero as hero\n",
    "    from texthero import preprocessing\n",
    "    import nltk\n",
    "    from nltk.corpus import stopwords\n",
    "    from nltk.stem import WordNetLemmatizer\n",
    "    from sklearn.preprocessing import LabelEncoder\n",
    "    from sklearn.metrics import accuracy_score\n",
    "    from sklearn.model_selection import train_test_split\n",
    "    from sklearn.feature_extraction.text import TfidfVectorizer\n",
    "    from sklearn.pipeline import Pipeline\n",
    "    from imblearn.over_sampling import SMOTE\n",
    "\n",
    "    from sklearn.neural_network import MLPClassifier\n",
    "    from sklearn.feature_selection import chi2\n",
    "    from nltk.corpus import wordnet\n",
    "    from nltk.stem import WordNetLemmatizer\n",
    "\n",
    "    import warnings\n",
    "except(ImportError):\n",
    "    print(f'Import Error: {ImportError}')\n",
    "\n",
    "# ignore warnings\n",
    "warnings.filterwarnings(\"ignore\")\n",
    "warnings.simplefilter(action='ignore', category=FutureWarning)\n",
    "\n",
    "# set seeds for reproducability\n",
    "from numpy.random import seed\n",
    "seed(500)\n",
    "\n",
    "# global configurations\n",
    "pd.set_option(\"display.max_colwidth\", -1) # show larger text in pandas dataframe"
   ]
  },
  {
   "cell_type": "code",
   "execution_count": 5,
   "metadata": {
    "pycharm": {
     "name": "#%%\n"
    }
   },
   "outputs": [],
   "source": [
    "# Text Cleaning and Pre-processing\n",
    "def preprocess_text(features):\n",
    "    # cleaning steps\n",
    "    cleaning_pipeline = [\n",
    "        preprocessing.fillna,\n",
    "        preprocessing.lowercase,\n",
    "        preprocessing.remove_whitespace,\n",
    "        preprocessing.remove_punctuation,\n",
    "        preprocessing.remove_urls,\n",
    "        preprocessing.remove_brackets,\n",
    "        preprocessing.remove_stopwords,\n",
    "        preprocessing.remove_digits,\n",
    "        preprocessing.remove_angle_brackets,\n",
    "        preprocessing.remove_curly_brackets\n",
    "    ]\n",
    "\n",
    "    # apply pipeline to text\n",
    "    clean_text = features.pipe(hero.clean, cleaning_pipeline)\n",
    "    \n",
    "    return clean_text"
   ]
  },
  {
   "cell_type": "markdown",
   "metadata": {
    "pycharm": {
     "name": "#%% md\n"
    }
   },
   "source": [
    "##Experiements##"
   ]
  },
  {
   "cell_type": "code",
   "execution_count": 8,
   "metadata": {
    "pycharm": {
     "name": "#%%\n"
    }
   },
   "outputs": [
    {
     "name": "stdout",
     "output_type": "stream",
     "text": [
      " EventDescription : 0.7467652495378928\n",
      " EventDescription ActionTaken : 0.7806531115218731\n",
      " EventDescription ActionTaken IncidentCause : 0.8250154035736291\n",
      " EventDescription ActionTaken IncidentCause IncidentConsequence : 0.8311768330252619\n",
      " EventDescription ActionTaken IncidentCause IncidentConsequence CauseCommunity : 0.8299445471349353\n",
      " EventDescription ActionTaken IncidentCause IncidentConsequence CauseCommunity FailedAssets : 0.8354898336414048\n",
      " EventDescription ActionTaken IncidentCause IncidentConsequence CauseCommunity FailedAssets CauseWorkP : 0.8404189772027111\n",
      " EventDescription ActionTaken IncidentCause IncidentConsequence CauseCommunity FailedAssets CauseWorkP CauseTechnical : 0.8404189772027111\n",
      " EventDescription ActionTaken IncidentCause IncidentConsequence CauseCommunity FailedAssets CauseWorkP CauseTechnical CauseEnvironment : 0.8373382624768947\n"
     ]
    }
   ],
   "source": [
    "# MLP\n",
    "\n",
    "# read csv\n",
    "df = pd.read_csv('processed_dataset_chi2.csv')\n",
    "df.columns\n",
    "\n",
    "target = df[['Category']]\n",
    "\n",
    "df.drop(['Category'], axis=1, inplace=True)\n",
    "\n",
    "columns = df.columns\n",
    "\n",
    "total_cols = len(columns)\n",
    "accuracy_df = pd.DataFrame()\n",
    "\n",
    "tfidf = TfidfVectorizer(sublinear_tf=True, min_df=5, norm='l2', encoding='latin-1', ngram_range=(1, 2))\n",
    "\n",
    "# uncomment out these 2 lines for bulk process\n",
    "# total_cols = len(df)\n",
    "# for num_of_cols in range(total_cols):\n",
    "\n",
    "total_cols = 10 # try 1, 2, 3 ....10\n",
    "for num_of_cols in range(total_cols-1):\n",
    "    df['description'] = ''\n",
    "    col_names = ''\n",
    "    for i in range(num_of_cols+1):\n",
    "        col_names = col_names + ' ' + columns[i]\n",
    "        df['description'] = df['description'] + ' ' + df[columns[i]]\n",
    "    \n",
    "    clean_text = preprocess_text(df['description']) \n",
    "\n",
    "    clean_text = tfidf.fit_transform(clean_text).toarray()\n",
    "\n",
    "    # split data\n",
    "    x_train, x_test, y_train, y_test = train_test_split(clean_text, target, random_state=0, test_size=0.25, shuffle=True)\n",
    "\n",
    "    # balance the data - optional\n",
    "    #oversample = SMOTE(random_state=0,n_jobs=-1,k_neighbors=5)\n",
    "    #x_train, y_train = oversample.fit_resample(x_train, y_train)\n",
    "    \n",
    "    # classification - MLP\n",
    "    mlp = MLPClassifier(random_state=0\n",
    "                        )\n",
    "    mlp.fit(x_train, y_train)\n",
    "    y_pred = mlp.predict(x_test)\n",
    "    mlp_accuracy = accuracy_score(y_test, y_pred)\n",
    "\n",
    "    new_row = {'col_names':col_names, 'mlp':mlp_accuracy}\n",
    "\n",
    "    print (f'{new_row[\"col_names\"]} : {new_row[\"mlp\"]}')"
   ]
  },
  {
   "cell_type": "code",
   "execution_count": 6,
   "outputs": [],
   "source": [],
   "metadata": {
    "collapsed": false,
    "pycharm": {
     "name": "#%%\n"
    }
   }
  }
 ],
 "metadata": {
  "kernelspec": {
   "display_name": "Python 3",
   "language": "python",
   "name": "python3"
  },
  "language_info": {
   "codemirror_mode": {
    "name": "ipython",
    "version": 3
   },
   "file_extension": ".py",
   "mimetype": "text/x-python",
   "name": "python",
   "nbconvert_exporter": "python",
   "pygments_lexer": "ipython3",
   "version": "3.7.4"
  }
 },
 "nbformat": 4,
 "nbformat_minor": 1
}