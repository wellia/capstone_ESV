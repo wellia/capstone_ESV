{
 "cells": [
  {
   "cell_type": "code",
   "execution_count": null,
   "metadata": {
    "collapsed": true
   },
   "outputs": [],
   "source": [
    "from eli5.lime import TextExplainer\n",
    "from sklearn.preprocessing import FunctionTransformer\n",
    "from lime.lime_text import LimeTextExplainer\n",
    "import numpy as np\n",
    "import texthero as hero\n",
    "from texthero import preprocessing\n",
    "import pandas as pd\n",
    "from sklearn.pipeline import make_pipeline"
   ]
  },
  {
   "cell_type": "code",
   "execution_count": null,
   "outputs": [],
   "source": [
    "\"\"\":arg\n",
    "x_test -- > text (without tfidf)\n",
    "y_test --> test truth values\n",
    "y_train --> train truth values\n",
    "model -- > classifier such as rf, svm\n",
    "vectorizer --> fitted tfidf vectorizer\n",
    "\n",
    "\"\"\"\n",
    "_text = x_test[x_test.index == 1820].tolist()\n",
    "print('Text: ', _text)\n",
    "\n",
    "_label = y_test[y_test.index == 1820].tolist()\n",
    "print('Label: ', _label)\n",
    "\n",
    "#classes = list(np.unique(y_train))\n",
    "classes = le.classes_ # le is label encoder\n",
    "\n",
    "def clean_text(text):\n",
    "    text = pd.Series(text)\n",
    "\n",
    "    # cleaning steps\n",
    "    cleaning_pipeline = [\n",
    "        preprocessing.fillna,\n",
    "        preprocessing.lowercase,\n",
    "        preprocessing.remove_whitespace,\n",
    "        preprocessing.remove_punctuation,\n",
    "        preprocessing.remove_urls,\n",
    "        preprocessing.remove_brackets,\n",
    "        preprocessing.remove_stopwords,\n",
    "        preprocessing.remove_digits,\n",
    "        preprocessing.remove_angle_brackets,\n",
    "        preprocessing.remove_curly_brackets,\n",
    "        preprocessing.stem\n",
    "        #preprocessing.tokenize\n",
    "    ]\n",
    "\n",
    "    # apply pipeline to text\n",
    "    processed_text = text.pipe(hero.clean, cleaning_pipeline)\n",
    "\n",
    "    return processed_text.tolist()\n",
    "\n",
    "cleaned_txt = clean_text(_text[0])\n",
    "print(cleaned_txt)\n",
    "\n",
    "transformer = FunctionTransformer(clean_text)\n",
    "txt_clf = make_pipeline(transformer, vectorizer,  model)\n",
    "te = TextExplainer(random_state=42)\n",
    "te.fit(cleaned_txt[0], txt_clf.predict_proba)\n",
    "te.show_prediction(target_names=list(np.unique(classes)), top=10, preserve_density=True, highlight_spaces=True, horizontal_layout=True)"
   ],
   "metadata": {
    "collapsed": false,
    "pycharm": {
     "name": "#%%\n"
    }
   }
  },
  {
   "cell_type": "code",
   "execution_count": null,
   "outputs": [],
   "source": [
    "explainer = LimeTextExplainer(class_names=classes)\n",
    "exp = explainer.explain_instance(_text[0], txt_clf.predict_proba, num_features=10, labels=classes, top_labels=5)\n",
    "exp.show_in_notebook(text=True)\n",
    "exp.save_to_file('sample_explained.html')"
   ],
   "metadata": {
    "collapsed": false,
    "pycharm": {
     "name": "#%%\n"
    }
   }
  }
 ],
 "metadata": {
  "kernelspec": {
   "display_name": "Python 3",
   "language": "python",
   "name": "python3"
  },
  "language_info": {
   "codemirror_mode": {
    "name": "ipython",
    "version": 2
   },
   "file_extension": ".py",
   "mimetype": "text/x-python",
   "name": "python",
   "nbconvert_exporter": "python",
   "pygments_lexer": "ipython2",
   "version": "2.7.6"
  }
 },
 "nbformat": 4,
 "nbformat_minor": 0
}