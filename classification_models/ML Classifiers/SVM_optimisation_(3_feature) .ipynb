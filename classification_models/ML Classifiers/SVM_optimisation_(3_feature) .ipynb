{
  "nbformat": 4,
  "nbformat_minor": 0,
  "metadata": {
    "colab": {
      "name": "SVM_optimisation (3 feature).ipynb",
      "provenance": [],
      "collapsed_sections": []
    },
    "kernelspec": {
      "name": "python3",
      "display_name": "Python 3"
    }
  },
  "cells": [
    {
      "cell_type": "code",
      "metadata": {
        "colab": {
          "base_uri": "https://localhost:8080/"
        },
        "id": "YrIspHOLR7lm",
        "outputId": "9d67b967-1a2e-41be-a1ca-f3466c19f27c"
      },
      "source": [
        "!pip install texthero\n",
        "import pandas as pd\n",
        "import texthero as hero\n",
        "from texthero import preprocessing\n",
        "from sklearn.model_selection import train_test_split\n",
        "from sklearn.svm import SVC\n",
        "from sklearn.metrics import accuracy_score, classification_report\n",
        "from sklearn.preprocessing import LabelEncoder\n",
        "from sklearn.feature_extraction.text import HashingVectorizer\n",
        "from imblearn.over_sampling import SMOTE\n",
        "import numpy as np"
      ],
      "execution_count": 162,
      "outputs": [
        {
          "output_type": "stream",
          "text": [
            "Requirement already satisfied: texthero in /usr/local/lib/python3.6/dist-packages (1.0.9)\n",
            "Requirement already satisfied: gensim>=3.6.0 in /usr/local/lib/python3.6/dist-packages (from texthero) (3.6.0)\n",
            "Requirement already satisfied: nltk>=3.3 in /usr/local/lib/python3.6/dist-packages (from texthero) (3.5)\n",
            "Requirement already satisfied: plotly>=4.2.0 in /usr/local/lib/python3.6/dist-packages (from texthero) (4.4.1)\n",
            "Requirement already satisfied: unidecode>=1.1.1 in /usr/local/lib/python3.6/dist-packages (from texthero) (1.1.1)\n",
            "Requirement already satisfied: matplotlib>=3.1.0 in /usr/local/lib/python3.6/dist-packages (from texthero) (3.2.2)\n",
            "Requirement already satisfied: wordcloud>=1.5.0 in /usr/local/lib/python3.6/dist-packages (from texthero) (1.5.0)\n",
            "Requirement already satisfied: spacy>=2.2.2 in /usr/local/lib/python3.6/dist-packages (from texthero) (2.2.4)\n",
            "Requirement already satisfied: numpy>=1.17 in /usr/local/lib/python3.6/dist-packages (from texthero) (1.18.5)\n",
            "Requirement already satisfied: pandas>=1.0.2 in /usr/local/lib/python3.6/dist-packages (from texthero) (1.1.4)\n",
            "Requirement already satisfied: scikit-learn>=0.22 in /usr/local/lib/python3.6/dist-packages (from texthero) (0.22.2.post1)\n",
            "Requirement already satisfied: tqdm>=4.3 in /usr/local/lib/python3.6/dist-packages (from texthero) (4.41.1)\n",
            "Requirement already satisfied: six>=1.5.0 in /usr/local/lib/python3.6/dist-packages (from gensim>=3.6.0->texthero) (1.15.0)\n",
            "Requirement already satisfied: smart-open>=1.2.1 in /usr/local/lib/python3.6/dist-packages (from gensim>=3.6.0->texthero) (3.0.0)\n",
            "Requirement already satisfied: scipy>=0.18.1 in /usr/local/lib/python3.6/dist-packages (from gensim>=3.6.0->texthero) (1.4.1)\n",
            "Requirement already satisfied: click in /usr/local/lib/python3.6/dist-packages (from nltk>=3.3->texthero) (7.1.2)\n",
            "Requirement already satisfied: regex in /usr/local/lib/python3.6/dist-packages (from nltk>=3.3->texthero) (2019.12.20)\n",
            "Requirement already satisfied: joblib in /usr/local/lib/python3.6/dist-packages (from nltk>=3.3->texthero) (0.17.0)\n",
            "Requirement already satisfied: retrying>=1.3.3 in /usr/local/lib/python3.6/dist-packages (from plotly>=4.2.0->texthero) (1.3.3)\n",
            "Requirement already satisfied: pyparsing!=2.0.4,!=2.1.2,!=2.1.6,>=2.0.1 in /usr/local/lib/python3.6/dist-packages (from matplotlib>=3.1.0->texthero) (2.4.7)\n",
            "Requirement already satisfied: kiwisolver>=1.0.1 in /usr/local/lib/python3.6/dist-packages (from matplotlib>=3.1.0->texthero) (1.3.1)\n",
            "Requirement already satisfied: cycler>=0.10 in /usr/local/lib/python3.6/dist-packages (from matplotlib>=3.1.0->texthero) (0.10.0)\n",
            "Requirement already satisfied: python-dateutil>=2.1 in /usr/local/lib/python3.6/dist-packages (from matplotlib>=3.1.0->texthero) (2.8.1)\n",
            "Requirement already satisfied: pillow in /usr/local/lib/python3.6/dist-packages (from wordcloud>=1.5.0->texthero) (7.0.0)\n",
            "Requirement already satisfied: requests<3.0.0,>=2.13.0 in /usr/local/lib/python3.6/dist-packages (from spacy>=2.2.2->texthero) (2.23.0)\n",
            "Requirement already satisfied: plac<1.2.0,>=0.9.6 in /usr/local/lib/python3.6/dist-packages (from spacy>=2.2.2->texthero) (1.1.3)\n",
            "Requirement already satisfied: setuptools in /usr/local/lib/python3.6/dist-packages (from spacy>=2.2.2->texthero) (50.3.2)\n",
            "Requirement already satisfied: murmurhash<1.1.0,>=0.28.0 in /usr/local/lib/python3.6/dist-packages (from spacy>=2.2.2->texthero) (1.0.4)\n",
            "Requirement already satisfied: blis<0.5.0,>=0.4.0 in /usr/local/lib/python3.6/dist-packages (from spacy>=2.2.2->texthero) (0.4.1)\n",
            "Requirement already satisfied: wasabi<1.1.0,>=0.4.0 in /usr/local/lib/python3.6/dist-packages (from spacy>=2.2.2->texthero) (0.8.0)\n",
            "Requirement already satisfied: catalogue<1.1.0,>=0.0.7 in /usr/local/lib/python3.6/dist-packages (from spacy>=2.2.2->texthero) (1.0.0)\n",
            "Requirement already satisfied: srsly<1.1.0,>=1.0.2 in /usr/local/lib/python3.6/dist-packages (from spacy>=2.2.2->texthero) (1.0.4)\n",
            "Requirement already satisfied: cymem<2.1.0,>=2.0.2 in /usr/local/lib/python3.6/dist-packages (from spacy>=2.2.2->texthero) (2.0.4)\n",
            "Requirement already satisfied: thinc==7.4.0 in /usr/local/lib/python3.6/dist-packages (from spacy>=2.2.2->texthero) (7.4.0)\n",
            "Requirement already satisfied: preshed<3.1.0,>=3.0.2 in /usr/local/lib/python3.6/dist-packages (from spacy>=2.2.2->texthero) (3.0.4)\n",
            "Requirement already satisfied: pytz>=2017.2 in /usr/local/lib/python3.6/dist-packages (from pandas>=1.0.2->texthero) (2018.9)\n",
            "Requirement already satisfied: chardet<4,>=3.0.2 in /usr/local/lib/python3.6/dist-packages (from requests<3.0.0,>=2.13.0->spacy>=2.2.2->texthero) (3.0.4)\n",
            "Requirement already satisfied: idna<3,>=2.5 in /usr/local/lib/python3.6/dist-packages (from requests<3.0.0,>=2.13.0->spacy>=2.2.2->texthero) (2.10)\n",
            "Requirement already satisfied: urllib3!=1.25.0,!=1.25.1,<1.26,>=1.21.1 in /usr/local/lib/python3.6/dist-packages (from requests<3.0.0,>=2.13.0->spacy>=2.2.2->texthero) (1.24.3)\n",
            "Requirement already satisfied: certifi>=2017.4.17 in /usr/local/lib/python3.6/dist-packages (from requests<3.0.0,>=2.13.0->spacy>=2.2.2->texthero) (2020.11.8)\n",
            "Requirement already satisfied: importlib-metadata>=0.20; python_version < \"3.8\" in /usr/local/lib/python3.6/dist-packages (from catalogue<1.1.0,>=0.0.7->spacy>=2.2.2->texthero) (2.0.0)\n",
            "Requirement already satisfied: zipp>=0.5 in /usr/local/lib/python3.6/dist-packages (from importlib-metadata>=0.20; python_version < \"3.8\"->catalogue<1.1.0,>=0.0.7->spacy>=2.2.2->texthero) (3.4.0)\n"
          ],
          "name": "stdout"
        }
      ]
    },
    {
      "cell_type": "code",
      "metadata": {
        "id": "DWkf2yolS3cT"
      },
      "source": [
        "#cols = ['EventDescription','FailedAssets','IncidentCause','IncidentConsequence','IncidentType','WeatherStation','Status','Category']\n",
        "cols = ['EventDescription','IncidentCause','IncidentConsequence','Category']"
      ],
      "execution_count": 163,
      "outputs": []
    },
    {
      "cell_type": "code",
      "metadata": {
        "colab": {
          "base_uri": "https://localhost:8080/",
          "height": 572
        },
        "id": "BBfrW4ljdhr3",
        "outputId": "1404f95b-0190-4d57-ea2e-99cae58564c6"
      },
      "source": [
        "df = pd.read_csv('/content/drive/MyDrive/ESV Data/cleaned_incidents1.csv', usecols= cols)\n",
        "df = df.dropna()\n",
        "df"
      ],
      "execution_count": 164,
      "outputs": [
        {
          "output_type": "execute_result",
          "data": {
            "text/html": [
              "<div>\n",
              "<style scoped>\n",
              "    .dataframe tbody tr th:only-of-type {\n",
              "        vertical-align: middle;\n",
              "    }\n",
              "\n",
              "    .dataframe tbody tr th {\n",
              "        vertical-align: top;\n",
              "    }\n",
              "\n",
              "    .dataframe thead th {\n",
              "        text-align: right;\n",
              "    }\n",
              "</style>\n",
              "<table border=\"1\" class=\"dataframe\">\n",
              "  <thead>\n",
              "    <tr style=\"text-align: right;\">\n",
              "      <th></th>\n",
              "      <th>EventDescription</th>\n",
              "      <th>IncidentCause</th>\n",
              "      <th>IncidentConsequence</th>\n",
              "      <th>Category</th>\n",
              "    </tr>\n",
              "  </thead>\n",
              "  <tbody>\n",
              "    <tr>\n",
              "      <th>0</th>\n",
              "      <td>A nearby customer reported sparking of electri...</td>\n",
              "      <td>HVABC cable faulted midspan</td>\n",
              "      <td>Grassfire</td>\n",
              "      <td>OH Cable</td>\n",
              "    </tr>\n",
              "    <tr>\n",
              "      <th>1</th>\n",
              "      <td>A contractor reported that he had contacted an...</td>\n",
              "      <td>Contractor contacted earthing conductor</td>\n",
              "      <td>No Go Zone (contact)</td>\n",
              "      <td>Dug up</td>\n",
              "    </tr>\n",
              "    <tr>\n",
              "      <th>2</th>\n",
              "      <td>A field crew attending an outage found that a ...</td>\n",
              "      <td>Conductor broke due to rust</td>\n",
              "      <td>Serious risk to public safety (e.g. live condu...</td>\n",
              "      <td>Connection</td>\n",
              "    </tr>\n",
              "    <tr>\n",
              "      <th>3</th>\n",
              "      <td>Interfere and vandalism in substation. Unknown...</td>\n",
              "      <td>Vandalism</td>\n",
              "      <td>Loss of supply;Damage to network assets</td>\n",
              "      <td>Other</td>\n",
              "    </tr>\n",
              "    <tr>\n",
              "      <th>4</th>\n",
              "      <td>A nearby customer reported that a high load ha...</td>\n",
              "      <td>Unknown high load contacted LV service cable</td>\n",
              "      <td>No Go Zone (contact);Damage to network assets</td>\n",
              "      <td>Vehicle</td>\n",
              "    </tr>\n",
              "    <tr>\n",
              "      <th>...</th>\n",
              "      <td>...</td>\n",
              "      <td>...</td>\n",
              "      <td>...</td>\n",
              "      <td>...</td>\n",
              "    </tr>\n",
              "    <tr>\n",
              "      <th>6499</th>\n",
              "      <td>A report came in to UE of a FMB sparking at 31...</td>\n",
              "      <td>The likely cause was determined by EIO to be a...</td>\n",
              "      <td>Plant/equipment</td>\n",
              "      <td>Connection</td>\n",
              "    </tr>\n",
              "    <tr>\n",
              "      <th>6500</th>\n",
              "      <td>Report received from a resident to advise that...</td>\n",
              "      <td>Crane struck line</td>\n",
              "      <td>No Go Zone (contact);Damage to network assets</td>\n",
              "      <td>Vehicle</td>\n",
              "    </tr>\n",
              "    <tr>\n",
              "      <th>6501</th>\n",
              "      <td>Report received of pole fire at incident locat...</td>\n",
              "      <td>Excessive leakage current</td>\n",
              "      <td>Pole-top fire</td>\n",
              "      <td>Pole</td>\n",
              "    </tr>\n",
              "    <tr>\n",
              "      <th>6502</th>\n",
              "      <td>A customer called to report a tractor had hit ...</td>\n",
              "      <td>Farm equipment hit pole</td>\n",
              "      <td>Damage to network assets</td>\n",
              "      <td>Vehicle</td>\n",
              "    </tr>\n",
              "    <tr>\n",
              "      <th>6503</th>\n",
              "      <td>concrete electrical cover outside of front of ...</td>\n",
              "      <td>Under Investigation</td>\n",
              "      <td>Shock to livestock, pet or companion animal</td>\n",
              "      <td>AF Other</td>\n",
              "    </tr>\n",
              "  </tbody>\n",
              "</table>\n",
              "<p>6488 rows × 4 columns</p>\n",
              "</div>"
            ],
            "text/plain": [
              "                                       EventDescription  ...    Category\n",
              "0     A nearby customer reported sparking of electri...  ...    OH Cable\n",
              "1     A contractor reported that he had contacted an...  ...      Dug up\n",
              "2     A field crew attending an outage found that a ...  ...  Connection\n",
              "3     Interfere and vandalism in substation. Unknown...  ...       Other\n",
              "4     A nearby customer reported that a high load ha...  ...     Vehicle\n",
              "...                                                 ...  ...         ...\n",
              "6499  A report came in to UE of a FMB sparking at 31...  ...  Connection\n",
              "6500  Report received from a resident to advise that...  ...     Vehicle\n",
              "6501  Report received of pole fire at incident locat...  ...        Pole\n",
              "6502  A customer called to report a tractor had hit ...  ...     Vehicle\n",
              "6503  concrete electrical cover outside of front of ...  ...    AF Other\n",
              "\n",
              "[6488 rows x 4 columns]"
            ]
          },
          "metadata": {
            "tags": []
          },
          "execution_count": 164
        }
      ]
    },
    {
      "cell_type": "code",
      "metadata": {
        "id": "XjeYp3HSiFlP"
      },
      "source": [
        "df['Description'] = df['EventDescription'] + ' '+ df['IncidentCause']+ ' ' + df['IncidentConsequence']"
      ],
      "execution_count": 165,
      "outputs": []
    },
    {
      "cell_type": "code",
      "metadata": {
        "colab": {
          "base_uri": "https://localhost:8080/"
        },
        "id": "xGAT-f4VinfF",
        "outputId": "3381ff5a-6b09-4eaf-8862-eb2928fbb6a8"
      },
      "source": [
        "df['Description']"
      ],
      "execution_count": 166,
      "outputs": [
        {
          "output_type": "execute_result",
          "data": {
            "text/plain": [
              "0       A nearby customer reported sparking of electri...\n",
              "1       A contractor reported that he had contacted an...\n",
              "2       A field crew attending an outage found that a ...\n",
              "3       Interfere and vandalism in substation. Unknown...\n",
              "4       A nearby customer reported that a high load ha...\n",
              "                              ...                        \n",
              "6499    A report came in to UE of a FMB sparking at 31...\n",
              "6500    Report received from a resident to advise that...\n",
              "6501    Report received of pole fire at incident locat...\n",
              "6502    A customer called to report a tractor had hit ...\n",
              "6503    concrete electrical cover outside of front of ...\n",
              "Name: Description, Length: 6488, dtype: object"
            ]
          },
          "metadata": {
            "tags": []
          },
          "execution_count": 166
        }
      ]
    },
    {
      "cell_type": "code",
      "metadata": {
        "colab": {
          "base_uri": "https://localhost:8080/"
        },
        "id": "vBFuxTArh9O7",
        "outputId": "bcf3c1d2-b94e-451a-e8e5-107f8490b5a1"
      },
      "source": [
        "df['clean_description'] = hero.clean(df['Description'])\n",
        "df['clean_description']"
      ],
      "execution_count": 167,
      "outputs": [
        {
          "output_type": "execute_result",
          "data": {
            "text/plain": [
              "0       nearby customer reported sparking electrical l...\n",
              "1       contractor reported contacted earthing cable e...\n",
              "2       field crew attending outage found 22kv conduct...\n",
              "3       interfere vandalism substation unknown third p...\n",
              "4       nearby customer reported high load pulled wire...\n",
              "                              ...                        \n",
              "6499    report came ue fmb sparking st kilda st bright...\n",
              "6500    report received resident advise crane made con...\n",
              "6501    report received pole fire incident location ar...\n",
              "6502    customer called report tractor hit wire brough...\n",
              "6503    concrete electrical cover outside front house ...\n",
              "Name: clean_description, Length: 6488, dtype: object"
            ]
          },
          "metadata": {
            "tags": []
          },
          "execution_count": 167
        }
      ]
    },
    {
      "cell_type": "code",
      "metadata": {
        "colab": {
          "base_uri": "https://localhost:8080/"
        },
        "id": "fBCVR7LrBi7G",
        "outputId": "3e8e56b6-7cbe-4da4-da8c-45cc33add041"
      },
      "source": [
        "le = LabelEncoder()\n",
        "df['Category'] = le.fit_transform(df['Category'])\n",
        "df['Category']"
      ],
      "execution_count": 168,
      "outputs": [
        {
          "output_type": "execute_result",
          "data": {
            "text/plain": [
              "0        9\n",
              "1        5\n",
              "2        3\n",
              "3       10\n",
              "4       14\n",
              "        ..\n",
              "6499     3\n",
              "6500    14\n",
              "6501    11\n",
              "6502    14\n",
              "6503     0\n",
              "Name: Category, Length: 6488, dtype: int64"
            ]
          },
          "metadata": {
            "tags": []
          },
          "execution_count": 168
        }
      ]
    },
    {
      "cell_type": "code",
      "metadata": {
        "colab": {
          "base_uri": "https://localhost:8080/",
          "height": 340
        },
        "id": "NzB60ipgl4dT",
        "outputId": "925c9621-b7d5-4538-e86b-eeaea8697fc8"
      },
      "source": [
        "from texthero import preprocessing\n",
        "#create a custom cleaning pipeline\n",
        "custom_pipeline = [preprocessing.fillna\n",
        "                   , preprocessing.lowercase\n",
        "                   , preprocessing.remove_digits\n",
        "                   , preprocessing.remove_punctuation\n",
        "                   , preprocessing.remove_diacritics\n",
        "                   #, preprocessing.remove_stopwords\n",
        "                   , preprocessing.remove_whitespace\n",
        "                   , preprocessing.stem]\n",
        "#pass the custom_pipeline to the pipeline argument\n",
        "df['clean_description'] = hero.clean(df['Description'], pipeline = custom_pipeline)\n",
        "df.head()"
      ],
      "execution_count": 169,
      "outputs": [
        {
          "output_type": "execute_result",
          "data": {
            "text/html": [
              "<div>\n",
              "<style scoped>\n",
              "    .dataframe tbody tr th:only-of-type {\n",
              "        vertical-align: middle;\n",
              "    }\n",
              "\n",
              "    .dataframe tbody tr th {\n",
              "        vertical-align: top;\n",
              "    }\n",
              "\n",
              "    .dataframe thead th {\n",
              "        text-align: right;\n",
              "    }\n",
              "</style>\n",
              "<table border=\"1\" class=\"dataframe\">\n",
              "  <thead>\n",
              "    <tr style=\"text-align: right;\">\n",
              "      <th></th>\n",
              "      <th>EventDescription</th>\n",
              "      <th>IncidentCause</th>\n",
              "      <th>IncidentConsequence</th>\n",
              "      <th>Category</th>\n",
              "      <th>Description</th>\n",
              "      <th>clean_description</th>\n",
              "    </tr>\n",
              "  </thead>\n",
              "  <tbody>\n",
              "    <tr>\n",
              "      <th>0</th>\n",
              "      <td>A nearby customer reported sparking of electri...</td>\n",
              "      <td>HVABC cable faulted midspan</td>\n",
              "      <td>Grassfire</td>\n",
              "      <td>9</td>\n",
              "      <td>A nearby customer reported sparking of electri...</td>\n",
              "      <td>a nearbi custom report spark of electr line at...</td>\n",
              "    </tr>\n",
              "    <tr>\n",
              "      <th>1</th>\n",
              "      <td>A contractor reported that he had contacted an...</td>\n",
              "      <td>Contractor contacted earthing conductor</td>\n",
              "      <td>No Go Zone (contact)</td>\n",
              "      <td>5</td>\n",
              "      <td>A contractor reported that he had contacted an...</td>\n",
              "      <td>a contractor report that he had contact an ear...</td>\n",
              "    </tr>\n",
              "    <tr>\n",
              "      <th>2</th>\n",
              "      <td>A field crew attending an outage found that a ...</td>\n",
              "      <td>Conductor broke due to rust</td>\n",
              "      <td>Serious risk to public safety (e.g. live condu...</td>\n",
              "      <td>3</td>\n",
              "      <td>A field crew attending an outage found that a ...</td>\n",
              "      <td>a field crew attend an outag found that a 22kv...</td>\n",
              "    </tr>\n",
              "    <tr>\n",
              "      <th>3</th>\n",
              "      <td>Interfere and vandalism in substation. Unknown...</td>\n",
              "      <td>Vandalism</td>\n",
              "      <td>Loss of supply;Damage to network assets</td>\n",
              "      <td>10</td>\n",
              "      <td>Interfere and vandalism in substation. Unknown...</td>\n",
              "      <td>interfer and vandal in substat unknown third p...</td>\n",
              "    </tr>\n",
              "    <tr>\n",
              "      <th>4</th>\n",
              "      <td>A nearby customer reported that a high load ha...</td>\n",
              "      <td>Unknown high load contacted LV service cable</td>\n",
              "      <td>No Go Zone (contact);Damage to network assets</td>\n",
              "      <td>14</td>\n",
              "      <td>A nearby customer reported that a high load ha...</td>\n",
              "      <td>a nearbi custom report that a high load had pu...</td>\n",
              "    </tr>\n",
              "  </tbody>\n",
              "</table>\n",
              "</div>"
            ],
            "text/plain": [
              "                                    EventDescription  ...                                  clean_description\n",
              "0  A nearby customer reported sparking of electri...  ...  a nearbi custom report spark of electr line at...\n",
              "1  A contractor reported that he had contacted an...  ...  a contractor report that he had contact an ear...\n",
              "2  A field crew attending an outage found that a ...  ...  a field crew attend an outag found that a 22kv...\n",
              "3  Interfere and vandalism in substation. Unknown...  ...  interfer and vandal in substat unknown third p...\n",
              "4  A nearby customer reported that a high load ha...  ...  a nearbi custom report that a high load had pu...\n",
              "\n",
              "[5 rows x 6 columns]"
            ]
          },
          "metadata": {
            "tags": []
          },
          "execution_count": 169
        }
      ]
    },
    {
      "cell_type": "code",
      "metadata": {
        "id": "I8-3yul5pIke"
      },
      "source": [
        "from sklearn.feature_extraction.text import TfidfVectorizer, CountVectorizer\n",
        "x_train, x_test, y_train, y_test = train_test_split(df['clean_description'], df['Category'], random_state=1, test_size=0.25)"
      ],
      "execution_count": 170,
      "outputs": []
    },
    {
      "cell_type": "code",
      "metadata": {
        "colab": {
          "base_uri": "https://localhost:8080/"
        },
        "id": "sd2icbHwxl6w",
        "outputId": "3d00f6a2-f053-4ab1-b508-627adcbcedf3"
      },
      "source": [
        "print(x_train.shape,y_train.shape)\n",
        "print(x_test.shape, y_test.shape)"
      ],
      "execution_count": 171,
      "outputs": [
        {
          "output_type": "stream",
          "text": [
            "(4866,) (4866,)\n",
            "(1622,) (1622,)\n"
          ],
          "name": "stdout"
        }
      ]
    },
    {
      "cell_type": "code",
      "metadata": {
        "colab": {
          "base_uri": "https://localhost:8080/",
          "height": 154
        },
        "id": "vFobuZ-LzJCt",
        "outputId": "8d730e54-8b06-48ce-e650-3839755acaf4"
      },
      "source": [
        "'''\n",
        "def tfidf():\n",
        "    vectorizer = TfidfVectorizer(analyzer='word', max_features=1000)\n",
        "    vectorizer.fit(df['clean_description'])\n",
        "    train_tfidf = vectorizer.transform(x_train)\n",
        "    test_tfidf = vectorizer.transform(x_test)\n",
        "    return train_tfidf, test_tfidf\n",
        "\n",
        "# bow\n",
        "def bow():\n",
        "    count_vectorizer = CountVectorizer(analyzer='word', max_features=1000)\n",
        "    count_vectorizer.fit(df['clean_description'])\n",
        "    train_bow = count_vectorizer.fit_transform(x_train)\n",
        "    test_bow = count_vectorizer.fit_transform(x_test)\n",
        "    return train_bow, test_bow\n",
        "\n",
        "# bigrams\n",
        "def bigrams():\n",
        "    bigram_vectorizer = CountVectorizer(analyzer='word', ngram_range=(2,2), max_features=1000)\n",
        "    bigram_vectorizer.fit(df['clean_description'])\n",
        "    train_bigram = bigram_vectorizer.fit_transform(x_train)\n",
        "    test_bigram = bigram_vectorizer.fit_transform(x_test)\n",
        "    return train_bigram, test_bigram\n",
        "\n",
        "'''"
      ],
      "execution_count": 172,
      "outputs": [
        {
          "output_type": "execute_result",
          "data": {
            "application/vnd.google.colaboratory.intrinsic+json": {
              "type": "string"
            },
            "text/plain": [
              "\"\\ndef tfidf():\\n    vectorizer = TfidfVectorizer(analyzer='word', max_features=1000)\\n    vectorizer.fit(df['clean_description'])\\n    train_tfidf = vectorizer.transform(x_train)\\n    test_tfidf = vectorizer.transform(x_test)\\n    return train_tfidf, test_tfidf\\n\\n# bow\\ndef bow():\\n    count_vectorizer = CountVectorizer(analyzer='word', max_features=1000)\\n    count_vectorizer.fit(df['clean_description'])\\n    train_bow = count_vectorizer.fit_transform(x_train)\\n    test_bow = count_vectorizer.fit_transform(x_test)\\n    return train_bow, test_bow\\n\\n# bigrams\\ndef bigrams():\\n    bigram_vectorizer = CountVectorizer(analyzer='word', ngram_range=(2,2), max_features=1000)\\n    bigram_vectorizer.fit(df['clean_description'])\\n    train_bigram = bigram_vectorizer.fit_transform(x_train)\\n    test_bigram = bigram_vectorizer.fit_transform(x_test)\\n    return train_bigram, test_bigram\\n\\n\""
            ]
          },
          "metadata": {
            "tags": []
          },
          "execution_count": 172
        }
      ]
    },
    {
      "cell_type": "markdown",
      "metadata": {
        "id": "yyeKVgvD6PLL"
      },
      "source": [
        "Feature Extraction Technique - TFIDF"
      ]
    },
    {
      "cell_type": "code",
      "metadata": {
        "colab": {
          "base_uri": "https://localhost:8080/"
        },
        "id": "VImbUPTjDUmC",
        "outputId": "a76c11fb-ceda-46e5-e213-327e7ad77d41"
      },
      "source": [
        "vectorizer = TfidfVectorizer(analyzer='word', max_features=5000)\n",
        "vectorizer.fit(df['clean_description'])\n",
        "train_tfidf = vectorizer.transform(x_train)\n",
        "test_tfidf = vectorizer.transform(x_test)\n",
        "\n",
        "\n",
        "print(train_tfidf.shape, test_tfidf.shape)"
      ],
      "execution_count": 173,
      "outputs": [
        {
          "output_type": "stream",
          "text": [
            "(4866, 5000) (1622, 5000)\n"
          ],
          "name": "stdout"
        }
      ]
    },
    {
      "cell_type": "code",
      "metadata": {
        "colab": {
          "base_uri": "https://localhost:8080/"
        },
        "id": "uz_SMTQAwooK",
        "outputId": "ea4aa0ab-dc8b-4a89-f8e3-18e073ede60a"
      },
      "source": [
        "svc = SVC(C=1.0, kernel = 'linear')\n",
        "svc.fit(train_tfidf, y_train)"
      ],
      "execution_count": 174,
      "outputs": [
        {
          "output_type": "execute_result",
          "data": {
            "text/plain": [
              "SVC(C=1.0, break_ties=False, cache_size=200, class_weight=None, coef0=0.0,\n",
              "    decision_function_shape='ovr', degree=3, gamma='scale', kernel='linear',\n",
              "    max_iter=-1, probability=False, random_state=None, shrinking=True,\n",
              "    tol=0.001, verbose=False)"
            ]
          },
          "metadata": {
            "tags": []
          },
          "execution_count": 174
        }
      ]
    },
    {
      "cell_type": "code",
      "metadata": {
        "id": "zqzHGiYNx2g_"
      },
      "source": [
        "accuracy = accuracy_score(y_test,svc.predict(test_tfidf))"
      ],
      "execution_count": 175,
      "outputs": []
    },
    {
      "cell_type": "code",
      "metadata": {
        "colab": {
          "base_uri": "https://localhost:8080/"
        },
        "id": "BN6-6tQPx_lA",
        "outputId": "071035eb-c65b-4d02-845d-008cc5282180"
      },
      "source": [
        "print(accuracy)"
      ],
      "execution_count": 176,
      "outputs": [
        {
          "output_type": "stream",
          "text": [
            "0.8372379778051788\n"
          ],
          "name": "stdout"
        }
      ]
    },
    {
      "cell_type": "markdown",
      "metadata": {
        "id": "IPyIlI5R8wmd"
      },
      "source": [
        "Count_vectorizer "
      ]
    },
    {
      "cell_type": "code",
      "metadata": {
        "id": "nrviRyvL8wRv"
      },
      "source": [
        "count_vectorizer = CountVectorizer(ngram_range=(1,2))\n",
        "count_vectorizer.fit(df['clean_description'])\n",
        "train_bow = count_vectorizer.transform(x_train)\n",
        "test_bow = count_vectorizer.transform(x_test)"
      ],
      "execution_count": 177,
      "outputs": []
    },
    {
      "cell_type": "code",
      "metadata": {
        "colab": {
          "base_uri": "https://localhost:8080/"
        },
        "id": "RO4VPAAk_QVS",
        "outputId": "07fa0beb-c29d-4e3a-e624-f6bbd7cfed57"
      },
      "source": [
        "print(y_test.shape, test_bow.shape)\n",
        "print(y_train.shape, train_bow.shape)"
      ],
      "execution_count": 178,
      "outputs": [
        {
          "output_type": "stream",
          "text": [
            "(1622,) (1622, 98419)\n",
            "(4866,) (4866, 98419)\n"
          ],
          "name": "stdout"
        }
      ]
    },
    {
      "cell_type": "code",
      "metadata": {
        "colab": {
          "base_uri": "https://localhost:8080/"
        },
        "id": "FX7qK0mQ9ZLO",
        "outputId": "10044851-108f-45ce-f031-62a5eb46ca18"
      },
      "source": [
        "svc = SVC(C=1.0, kernel = 'linear')\n",
        "svc.fit(train_bow, y_train)"
      ],
      "execution_count": 179,
      "outputs": [
        {
          "output_type": "execute_result",
          "data": {
            "text/plain": [
              "SVC(C=1.0, break_ties=False, cache_size=200, class_weight=None, coef0=0.0,\n",
              "    decision_function_shape='ovr', degree=3, gamma='scale', kernel='linear',\n",
              "    max_iter=-1, probability=False, random_state=None, shrinking=True,\n",
              "    tol=0.001, verbose=False)"
            ]
          },
          "metadata": {
            "tags": []
          },
          "execution_count": 179
        }
      ]
    },
    {
      "cell_type": "code",
      "metadata": {
        "colab": {
          "base_uri": "https://localhost:8080/"
        },
        "id": "ZtGhUlkU9kBU",
        "outputId": "0a164605-7753-4ca4-aea2-d1b721a01fc8"
      },
      "source": [
        "print(accuracy_score(y_test,svc.predict(test_bow)))"
      ],
      "execution_count": 180,
      "outputs": [
        {
          "output_type": "stream",
          "text": [
            "0.8236744759556104\n"
          ],
          "name": "stdout"
        }
      ]
    },
    {
      "cell_type": "markdown",
      "metadata": {
        "id": "D0m4gSBIFX5v"
      },
      "source": [
        "Hashing Vectorizer"
      ]
    },
    {
      "cell_type": "code",
      "metadata": {
        "id": "aOkfpzH5FXOw"
      },
      "source": [
        "hv = HashingVectorizer(n_features=5000)"
      ],
      "execution_count": 186,
      "outputs": []
    },
    {
      "cell_type": "code",
      "metadata": {
        "id": "rfbB3HwrFRbp"
      },
      "source": [
        "hv.fit(df['clean_description'])\n",
        "train_hv = hv.transform(x_train)\n",
        "test_hv = hv.transform(x_test)"
      ],
      "execution_count": 187,
      "outputs": []
    },
    {
      "cell_type": "code",
      "metadata": {
        "colab": {
          "base_uri": "https://localhost:8080/"
        },
        "id": "M5obLIvaHyCx",
        "outputId": "c4dbfb88-7a31-4fea-d39d-f20dd423269d"
      },
      "source": [
        "svc.fit(train_hv, y_train)"
      ],
      "execution_count": 188,
      "outputs": [
        {
          "output_type": "execute_result",
          "data": {
            "text/plain": [
              "SVC(C=1.0, break_ties=False, cache_size=200, class_weight=None, coef0=0.0,\n",
              "    decision_function_shape='ovr', degree=3, gamma='scale', kernel='linear',\n",
              "    max_iter=-1, probability=False, random_state=None, shrinking=True,\n",
              "    tol=0.001, verbose=False)"
            ]
          },
          "metadata": {
            "tags": []
          },
          "execution_count": 188
        }
      ]
    },
    {
      "cell_type": "code",
      "metadata": {
        "id": "WFugFfByOXmV"
      },
      "source": [
        "accuracy = accuracy_score(y_test,svc.predict(test_hv))"
      ],
      "execution_count": 189,
      "outputs": []
    },
    {
      "cell_type": "code",
      "metadata": {
        "colab": {
          "base_uri": "https://localhost:8080/"
        },
        "id": "7K4iFjMoO51y",
        "outputId": "b0ac3bcd-1b04-41fb-dd5c-f55c6ac8cc71"
      },
      "source": [
        "print(accuracy)"
      ],
      "execution_count": 190,
      "outputs": [
        {
          "output_type": "stream",
          "text": [
            "0.812577065351418\n"
          ],
          "name": "stdout"
        }
      ]
    },
    {
      "cell_type": "markdown",
      "metadata": {
        "id": "NM5NzzFhwOGd"
      },
      "source": [
        "SMOTE upsampling technique"
      ]
    },
    {
      "cell_type": "code",
      "metadata": {
        "colab": {
          "base_uri": "https://localhost:8080/"
        },
        "id": "tZoGOuXJXEel",
        "outputId": "b4a718fb-8fed-4fea-baeb-866b13be9c78"
      },
      "source": [
        "oversample = SMOTE(random_state=0,n_jobs=-1,k_neighbors=5)\n",
        "train_tfidf, y_train = oversample.fit_resample(train_tfidf, y_train)"
      ],
      "execution_count": 191,
      "outputs": [
        {
          "output_type": "stream",
          "text": [
            "/usr/local/lib/python3.6/dist-packages/sklearn/utils/deprecation.py:87: FutureWarning:\n",
            "\n",
            "Function safe_indexing is deprecated; safe_indexing is deprecated in version 0.22 and will be removed in version 0.24.\n",
            "\n"
          ],
          "name": "stderr"
        }
      ]
    },
    {
      "cell_type": "code",
      "metadata": {
        "colab": {
          "base_uri": "https://localhost:8080/"
        },
        "id": "od3kVwEYwXdv",
        "outputId": "1cb05b7f-617e-4441-a7b5-f628194369a3"
      },
      "source": [
        "y_train"
      ],
      "execution_count": 194,
      "outputs": [
        {
          "output_type": "execute_result",
          "data": {
            "text/plain": [
              "array([14, 11,  3, ..., 14, 14, 14])"
            ]
          },
          "metadata": {
            "tags": []
          },
          "execution_count": 194
        }
      ]
    },
    {
      "cell_type": "code",
      "metadata": {
        "colab": {
          "base_uri": "https://localhost:8080/"
        },
        "id": "qQEFIzOLXwAh",
        "outputId": "9c74f9f9-c6cf-4140-882c-0d8cf86c463b"
      },
      "source": [
        "svc.fit(train_tfidf, y_train)"
      ],
      "execution_count": 197,
      "outputs": [
        {
          "output_type": "execute_result",
          "data": {
            "text/plain": [
              "SVC(C=1.0, break_ties=False, cache_size=200, class_weight=None, coef0=0.0,\n",
              "    decision_function_shape='ovr', degree=3, gamma='scale', kernel='linear',\n",
              "    max_iter=-1, probability=False, random_state=None, shrinking=True,\n",
              "    tol=0.001, verbose=False)"
            ]
          },
          "metadata": {
            "tags": []
          },
          "execution_count": 197
        }
      ]
    },
    {
      "cell_type": "code",
      "metadata": {
        "colab": {
          "base_uri": "https://localhost:8080/"
        },
        "id": "0g2G9Be2Xyoh",
        "outputId": "661ab443-85e7-4c45-9638-74d104642de3"
      },
      "source": [
        "print(accuracy_score(y_test,svc.predict(test_tfidf)))"
      ],
      "execution_count": 198,
      "outputs": [
        {
          "output_type": "stream",
          "text": [
            "0.8304562268803946\n"
          ],
          "name": "stdout"
        }
      ]
    },
    {
      "cell_type": "markdown",
      "metadata": {
        "id": "6kjANMmwyHbF"
      },
      "source": [
        "Findings:\n",
        "1. Trying out only 3 features 'EventDescription', 'IncidentCause', 'IncidentConsequence'. \n",
        "2. SMOTE + TFIDF(analyzer='word', max_features=5000) gives 83% accuracy\n",
        "3. Countvectorizer with n_grams(1,2) alone gives 82% accuracy\n",
        "4. TFIDF(analyzer='word', max_features=5000) gives 83% accuracy\n",
        "5. Only hashvectoorizer(n_features=5000) it gave 81.2% accuracy"
      ]
    }
  ]
}