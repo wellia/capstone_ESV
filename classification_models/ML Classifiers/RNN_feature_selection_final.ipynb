{
  "nbformat": 4,
  "nbformat_minor": 0,
  "metadata": {
    "colab": {
      "name": "RNN_feature selection.ipynb",
      "provenance": [],
      "collapsed_sections": []
    },
    "kernelspec": {
      "name": "python3",
      "display_name": "Python 3"
    },
    "accelerator": "GPU"
  },
  "cells": [
    {
      "cell_type": "code",
      "metadata": {
        "id": "J_6IONmscL3S",
        "colab": {
          "base_uri": "https://localhost:8080/"
        },
        "outputId": "56325e3b-abd6-4a4e-8735-fbfcf37096bc"
      },
      "source": [
        "import pandas as pd\n",
        "import numpy as np\n",
        "import matplotlib.pyplot as plt\n",
        "import seaborn as sns\n",
        "from sklearn.model_selection import train_test_split\n",
        "from sklearn.preprocessing import LabelEncoder\n",
        "from keras.models import Model\n",
        "from keras.layers import LSTM, Activation, Dense, Dropout, Input, Embedding, GRU\n",
        "from keras.optimizers import RMSprop\n",
        "from keras.preprocessing.text import Tokenizer\n",
        "from keras.preprocessing import sequence\n",
        "from keras.utils import to_categorical\n",
        "from keras.callbacks import EarlyStopping\n",
        "%matplotlib inline\n",
        "import keras\n",
        "\n",
        "import tensorflow as tf\n",
        "from tensorflow import keras\n",
        "import tensorflow_datasets  as tfds\n",
        "from tensorflow.keras import models, layers, optimizers\n",
        "from tensorflow.keras.utils import plot_model, to_categorical\n",
        "from keras import backend as K\n",
        "!pip install keras-lookahead"
      ],
      "execution_count": 3,
      "outputs": [
        {
          "output_type": "stream",
          "text": [
            "Collecting keras-lookahead\n",
            "  Downloading https://files.pythonhosted.org/packages/dc/02/eef1b468c2b294ac37afc00d3ec21242af9935fdc30c4ce909e8d31d0132/keras-lookahead-0.9.0.tar.gz\n",
            "Requirement already satisfied: numpy in /usr/local/lib/python3.6/dist-packages (from keras-lookahead) (1.18.5)\n",
            "Requirement already satisfied: Keras in /usr/local/lib/python3.6/dist-packages (from keras-lookahead) (2.4.3)\n",
            "Requirement already satisfied: pyyaml in /usr/local/lib/python3.6/dist-packages (from Keras->keras-lookahead) (3.13)\n",
            "Requirement already satisfied: h5py in /usr/local/lib/python3.6/dist-packages (from Keras->keras-lookahead) (2.10.0)\n",
            "Requirement already satisfied: scipy>=0.14 in /usr/local/lib/python3.6/dist-packages (from Keras->keras-lookahead) (1.4.1)\n",
            "Requirement already satisfied: six in /usr/local/lib/python3.6/dist-packages (from h5py->Keras->keras-lookahead) (1.15.0)\n",
            "Building wheels for collected packages: keras-lookahead\n",
            "  Building wheel for keras-lookahead (setup.py) ... \u001b[?25l\u001b[?25hdone\n",
            "  Created wheel for keras-lookahead: filename=keras_lookahead-0.9.0-cp36-none-any.whl size=6406 sha256=a5f05090d9ab9a5c55d86a4c881ab07b24b737c851f51db3bd6f7d8084f9d9da\n",
            "  Stored in directory: /root/.cache/pip/wheels/80/e1/a7/027d1227307b7425941fe5b1a896f8a8b9556b432a2c540a07\n",
            "Successfully built keras-lookahead\n",
            "Installing collected packages: keras-lookahead\n",
            "Successfully installed keras-lookahead-0.9.0\n"
          ],
          "name": "stdout"
        }
      ]
    },
    {
      "cell_type": "code",
      "metadata": {
        "colab": {
          "base_uri": "https://localhost:8080/"
        },
        "id": "7EWLfta62BI6",
        "outputId": "99ba0ed5-a6ac-4bef-a1d5-973bb640a6eb"
      },
      "source": [
        "from google.colab import drive\n",
        "drive.mount('/content/drive')"
      ],
      "execution_count": 4,
      "outputs": [
        {
          "output_type": "stream",
          "text": [
            "Drive already mounted at /content/drive; to attempt to forcibly remount, call drive.mount(\"/content/drive\", force_remount=True).\n"
          ],
          "name": "stdout"
        }
      ]
    },
    {
      "cell_type": "code",
      "metadata": {
        "id": "BD2LTgoUWe6x",
        "colab": {
          "base_uri": "https://localhost:8080/",
          "height": 35
        },
        "outputId": "9c564cbf-219f-4464-912e-bec9a528f30e"
      },
      "source": [
        "keras.__version__"
      ],
      "execution_count": 5,
      "outputs": [
        {
          "output_type": "execute_result",
          "data": {
            "application/vnd.google.colaboratory.intrinsic+json": {
              "type": "string"
            },
            "text/plain": [
              "'2.4.0'"
            ]
          },
          "metadata": {
            "tags": []
          },
          "execution_count": 5
        }
      ]
    },
    {
      "cell_type": "code",
      "metadata": {
        "id": "rCcXqqYTKri6"
      },
      "source": [
        "cols = ['EventDescription','FailedAssets','IncidentCause','IncidentConsequence','IncidentType','WeatherStation','Status','Category']"
      ],
      "execution_count": 6,
      "outputs": []
    },
    {
      "cell_type": "code",
      "metadata": {
        "id": "RtJIUChWcYb9",
        "colab": {
          "base_uri": "https://localhost:8080/",
          "height": 374
        },
        "outputId": "12683e8d-8f85-484d-b1ce-4b8c316f7664"
      },
      "source": [
        "df2 = pd.read_csv('/content/drive/MyDrive/ESV Data/cleaned_incidents1.csv', usecols = cols)\n",
        "df2.head()"
      ],
      "execution_count": 7,
      "outputs": [
        {
          "output_type": "execute_result",
          "data": {
            "text/html": [
              "<div>\n",
              "<style scoped>\n",
              "    .dataframe tbody tr th:only-of-type {\n",
              "        vertical-align: middle;\n",
              "    }\n",
              "\n",
              "    .dataframe tbody tr th {\n",
              "        vertical-align: top;\n",
              "    }\n",
              "\n",
              "    .dataframe thead th {\n",
              "        text-align: right;\n",
              "    }\n",
              "</style>\n",
              "<table border=\"1\" class=\"dataframe\">\n",
              "  <thead>\n",
              "    <tr style=\"text-align: right;\">\n",
              "      <th></th>\n",
              "      <th>EventDescription</th>\n",
              "      <th>FailedAssets</th>\n",
              "      <th>IncidentCause</th>\n",
              "      <th>IncidentConsequence</th>\n",
              "      <th>IncidentType</th>\n",
              "      <th>Status</th>\n",
              "      <th>WeatherStation</th>\n",
              "      <th>Category</th>\n",
              "    </tr>\n",
              "  </thead>\n",
              "  <tbody>\n",
              "    <tr>\n",
              "      <th>0</th>\n",
              "      <td>A nearby customer reported sparking of electri...</td>\n",
              "      <td>Conductor (ABC)</td>\n",
              "      <td>HVABC cable faulted midspan</td>\n",
              "      <td>Grassfire</td>\n",
              "      <td>Infrastructure (network-based)</td>\n",
              "      <td>Report</td>\n",
              "      <td>Avalon Airport</td>\n",
              "      <td>OH Cable</td>\n",
              "    </tr>\n",
              "    <tr>\n",
              "      <th>1</th>\n",
              "      <td>A contractor reported that he had contacted an...</td>\n",
              "      <td>No failed asset</td>\n",
              "      <td>Contractor contacted earthing conductor</td>\n",
              "      <td>No Go Zone (contact)</td>\n",
              "      <td>Infrastructure (network-based)</td>\n",
              "      <td>Report</td>\n",
              "      <td>Laverton Raaf</td>\n",
              "      <td>Dug up</td>\n",
              "    </tr>\n",
              "    <tr>\n",
              "      <th>2</th>\n",
              "      <td>A field crew attending an outage found that a ...</td>\n",
              "      <td>Conductor (bare)</td>\n",
              "      <td>Conductor broke due to rust</td>\n",
              "      <td>Serious risk to public safety (e.g. live condu...</td>\n",
              "      <td>Infrastructure (network-based)</td>\n",
              "      <td>Report</td>\n",
              "      <td>Warrnambool Airport Ndb</td>\n",
              "      <td>Connection</td>\n",
              "    </tr>\n",
              "    <tr>\n",
              "      <th>3</th>\n",
              "      <td>Interfere and vandalism in substation. Unknown...</td>\n",
              "      <td>Indoor</td>\n",
              "      <td>Vandalism</td>\n",
              "      <td>Loss of supply;Damage to network assets</td>\n",
              "      <td>Infrastructure (network-based)</td>\n",
              "      <td>Report</td>\n",
              "      <td>Essendon Airport</td>\n",
              "      <td>Other</td>\n",
              "    </tr>\n",
              "    <tr>\n",
              "      <th>4</th>\n",
              "      <td>A nearby customer reported that a high load ha...</td>\n",
              "      <td>Service conductor</td>\n",
              "      <td>Unknown high load contacted LV service cable</td>\n",
              "      <td>No Go Zone (contact);Damage to network assets</td>\n",
              "      <td>Infrastructure (network-based)</td>\n",
              "      <td>Report</td>\n",
              "      <td>Avalon Airport</td>\n",
              "      <td>Vehicle</td>\n",
              "    </tr>\n",
              "  </tbody>\n",
              "</table>\n",
              "</div>"
            ],
            "text/plain": [
              "                                    EventDescription  ...    Category\n",
              "0  A nearby customer reported sparking of electri...  ...    OH Cable\n",
              "1  A contractor reported that he had contacted an...  ...      Dug up\n",
              "2  A field crew attending an outage found that a ...  ...  Connection\n",
              "3  Interfere and vandalism in substation. Unknown...  ...       Other\n",
              "4  A nearby customer reported that a high load ha...  ...     Vehicle\n",
              "\n",
              "[5 rows x 8 columns]"
            ]
          },
          "metadata": {
            "tags": []
          },
          "execution_count": 7
        }
      ]
    },
    {
      "cell_type": "code",
      "metadata": {
        "colab": {
          "base_uri": "https://localhost:8080/"
        },
        "id": "QdFBumYmaacd",
        "outputId": "45380794-8b71-4f3a-b2b8-40a3fa10d8e8"
      },
      "source": [
        "df2['Category'].unique()"
      ],
      "execution_count": 9,
      "outputs": [
        {
          "output_type": "execute_result",
          "data": {
            "text/plain": [
              "array(['OH Cable', 'Dug up', 'Connection', 'Other', 'Vehicle', 'Fuse',\n",
              "       'Trees', 'Pole', 'Crossarm', 'Conductor', 'Animal', 'AF Other',\n",
              "       'Lightning', 'UG Cable', nan, 'Installation'], dtype=object)"
            ]
          },
          "metadata": {
            "tags": []
          },
          "execution_count": 9
        }
      ]
    },
    {
      "cell_type": "code",
      "metadata": {
        "colab": {
          "base_uri": "https://localhost:8080/"
        },
        "id": "5yNwnfOJahIi",
        "outputId": "102203ab-ccdd-49fb-cc15-0079ebd1149c"
      },
      "source": [
        "df2 = df2.dropna()\n",
        "df2['Category'].unique()"
      ],
      "execution_count": 10,
      "outputs": [
        {
          "output_type": "execute_result",
          "data": {
            "text/plain": [
              "array(['OH Cable', 'Dug up', 'Connection', 'Other', 'Vehicle', 'Fuse',\n",
              "       'Trees', 'Pole', 'Crossarm', 'Conductor', 'Animal', 'AF Other',\n",
              "       'Lightning', 'UG Cable', 'Installation'], dtype=object)"
            ]
          },
          "metadata": {
            "tags": []
          },
          "execution_count": 10
        }
      ]
    },
    {
      "cell_type": "code",
      "metadata": {
        "colab": {
          "base_uri": "https://localhost:8080/"
        },
        "id": "HBiqEOxSeIrj",
        "outputId": "873202bd-3ae6-4e08-e059-1bd7d1298112"
      },
      "source": [
        "df2.shape\n",
        "df2.isnull().sum()"
      ],
      "execution_count": 11,
      "outputs": [
        {
          "output_type": "execute_result",
          "data": {
            "text/plain": [
              "EventDescription       0\n",
              "FailedAssets           0\n",
              "IncidentCause          0\n",
              "IncidentConsequence    0\n",
              "IncidentType           0\n",
              "Status                 0\n",
              "WeatherStation         0\n",
              "Category               0\n",
              "dtype: int64"
            ]
          },
          "metadata": {
            "tags": []
          },
          "execution_count": 11
        }
      ]
    },
    {
      "cell_type": "code",
      "metadata": {
        "id": "lQhrzW1adC1x",
        "colab": {
          "base_uri": "https://localhost:8080/",
          "height": 366
        },
        "outputId": "36f69e9a-b816-430f-fd11-d1184ae672d5"
      },
      "source": [
        "sns.countplot(df2.Category)\n",
        "plt.xlabel('Label')\n",
        "plt.title('Number of ham and spam messages')"
      ],
      "execution_count": 13,
      "outputs": [
        {
          "output_type": "stream",
          "text": [
            "/usr/local/lib/python3.6/dist-packages/seaborn/_decorators.py:43: FutureWarning: Pass the following variable as a keyword arg: x. From version 0.12, the only valid positional argument will be `data`, and passing other arguments without an explicit keyword will result in an error or misinterpretation.\n",
            "  FutureWarning\n"
          ],
          "name": "stderr"
        },
        {
          "output_type": "execute_result",
          "data": {
            "text/plain": [
              "Text(0.5, 1.0, 'Number of ham and spam messages')"
            ]
          },
          "metadata": {
            "tags": []
          },
          "execution_count": 13
        },
        {
          "output_type": "display_data",
          "data": {
            "image/png": "[encoded data removed]",
            "text/plain": [
              "<Figure size 432x288 with 1 Axes>"
            ]
          },
          "metadata": {
            "tags": [],
            "needs_background": "light"
          }
        }
      ]
    },
    {
      "cell_type": "code",
      "metadata": {
        "id": "RIew5hDjmHVo"
      },
      "source": [
        "# Old models\n",
        "# '''\n",
        "# def RNN():\n",
        "#     inputs = Input(name='inputs',shape=[max_len])\n",
        "#     layer = Embedding(max_words,100,input_length=max_len)(inputs)\n",
        "#     layer = LSTM(64)(layer)\n",
        "#     layer = Dense(128,name='FC1')(layer)\n",
        "#     layer = Activation('relu')(layer)\n",
        "#     layer = Dropout(0.2)(layer)\n",
        "\n",
        "#     lyer = Dense(128,name='FC2')(layer)\n",
        "#     layer = Activation('relu')(layer)\n",
        "#     layer = Dropout(0.2)(layer)\n",
        "\n",
        "\n",
        "#     layer = Dense(16,name='out_layer')(layer)\n",
        "#     layer = Activation('softmax')(layer)\n",
        "#     model = Model(inputs=inputs,outputs=layer)\n",
        "#     return model\n",
        "\n",
        "# def RNN2():\n",
        "#     # model = keras.Sequential()\n",
        "\n",
        "#     # model.add(\n",
        "#     #     layers.Bidirectional(layers.LSTM(64, return_sequences=True), input_shape=(5, 10))\n",
        "#     # )\n",
        "#     # model.add(layers.Bidirectional(layers.LSTM(32)))\n",
        "#     # model.add(layers.Dense(10))\n",
        "\n",
        "#     # #model.summary()\n",
        "#     model = tf.keras.Sequential([\n",
        "#     tf.keras.layers.Embedding(max_words, 64),\n",
        "#     tf.keras.layers.Bidirectional(tf.keras.layers.LSTM(64)),\n",
        "#     tf.keras.layers.Dense(64, activation='relu'),\n",
        "#     tf.keras.layers.Dense(16)\n",
        "#     ])\n",
        "#     return model\n",
        "# '''\n",
        "\n"
      ],
      "execution_count": 157,
      "outputs": []
    },
    {
      "cell_type": "code",
      "metadata": {
        "id": "310nJpnJL_MF"
      },
      "source": [
        "df2['Description'] = df2['WeatherStation'] + ' ' + df2['IncidentType'] + ' ' + df2['Status'] + ' ' + df2['EventDescription'] + ' ' + df2['FailedAssets'] + ' ' + df2['IncidentCause']+ ' ' + df2['IncidentConsequence']"
      ],
      "execution_count": 14,
      "outputs": []
    },
    {
      "cell_type": "code",
      "metadata": {
        "colab": {
          "base_uri": "https://localhost:8080/"
        },
        "id": "dCaAyPxjMFRv",
        "outputId": "1df9d2de-f21e-45da-8428-0889067763d9"
      },
      "source": [
        "df2['Description']"
      ],
      "execution_count": 15,
      "outputs": [
        {
          "output_type": "execute_result",
          "data": {
            "text/plain": [
              "0       Avalon Airport Infrastructure (network-based) ...\n",
              "1       Laverton Raaf Infrastructure (network-based) R...\n",
              "2       Warrnambool Airport Ndb Infrastructure (networ...\n",
              "3       Essendon Airport Infrastructure (network-based...\n",
              "4       Avalon Airport Infrastructure (network-based) ...\n",
              "                              ...                        \n",
              "6499    Moorabbin Airport Infrastructure (network-base...\n",
              "6500    Avalon Airport Infrastructure (network-based) ...\n",
              "6501    Mildura Airport Infrastructure (network-based)...\n",
              "6502    Swan Hill Aerodrome Infrastructure (network-ba...\n",
              "6503    Moorabbin Airport Infrastructure (network-base...\n",
              "Name: Description, Length: 6488, dtype: object"
            ]
          },
          "metadata": {
            "tags": []
          },
          "execution_count": 15
        }
      ]
    },
    {
      "cell_type": "code",
      "metadata": {
        "id": "jvy0aS9_fXBw",
        "colab": {
          "base_uri": "https://localhost:8080/"
        },
        "outputId": "a95f705c-2806-43e6-e550-b34e5469ad2b"
      },
      "source": [
        "#Preprocessing df.EventDescription\n",
        "import nltk \n",
        "from nltk.corpus import stopwords\n",
        "import re\n",
        "from nltk.tokenize import word_tokenize\n",
        "from nltk.stem import WordNetLemmatizer,PorterStemmer\n",
        "\n",
        "nltk.download('stopwords')\n",
        "nltk.download('punkt')\n",
        "nltk.download('wordnet')\n",
        "\n",
        "#df = df.reset_index(drop=True)\n",
        "REPLACE_BY_SPACE_RE = re.compile('[/(){}\\[\\]\\|@,;]')\n",
        "BAD_SYMBOLS_RE = re.compile('[^0-9a-z #+_]')\n",
        "STOPWORDS = set(stopwords.words('english'))\n",
        "\n",
        "def clean_text(text):\n",
        "    text = text.lower() # lowercase text\n",
        "    text = REPLACE_BY_SPACE_RE.sub(' ', text) # replace REPLACE_BY_SPACE_RE symbols by space in text. substitute the matched string in REPLACE_BY_SPACE_RE with space.\n",
        "    text = BAD_SYMBOLS_RE.sub('', text) # remove symbols which are in BAD_SYMBOLS_RE from text. substitute the matched string in BAD_SYMBOLS_RE with nothing. \n",
        "    text = text.replace('x', '')\n",
        "#    text = re.sub(r'\\W+', '', text)\n",
        "    text = ' '.join(word for word in text.split() if word not in STOPWORDS) # remove stopwors from text\n",
        "    return text\n",
        "df2['Description'] = df2['Description'].apply(clean_text)\n",
        "\n",
        "\n",
        "'''\n",
        "\n",
        "def getLemmText(text):\n",
        " tokens=word_tokenize(text)\n",
        " lemmatizer = WordNetLemmatizer()\n",
        " tokens=[lemmatizer.lemmatize(word) for word in tokens]\n",
        " return ' '.join(tokens)\n",
        "df['EventDescription'] = list(map(getLemmText,df['EventDescription']))\n",
        "df['FailedAssets'] = list(map(getLemmText,df['FailedAssets']))\n",
        "df['IncidentCause'] = list(map(getLemmText,df['IncidentCause']))\n",
        "df['IncidentConsequence'] = list(map(getLemmText,df['IncidentConsequence']))\n",
        "#df['IncidentType'] = list(map(getLemmText,df['IncidentType']))\n",
        "\n",
        "df.head()\n",
        "\n",
        "def getStemmText(text):\n",
        "    tokens=word_tokenize(text)\n",
        "    ps = PorterStemmer()\n",
        "    tokens=[ps.stem(word) for word in tokens]\n",
        "    return ' '.join(tokens)\n",
        "df['EventDescription'] = list(map(getStemmText,df['EventDescription']))\n",
        "df['FailedAssets'] = list(map(getStemmText,df['FailedAssets']))\n",
        "df['IncidentCause'] = list(map(getStemmText,df['IncidentCause']))\n",
        "df['IncidentConsequence'] = list(map(getStemmText,df['IncidentConsequence']))\n",
        "#df['IncidentType'] = list(map(getStemmText,df['IncidentType']))\n",
        "'''\n",
        "df2.head()\n",
        "print(df2.shape)"
      ],
      "execution_count": 18,
      "outputs": [
        {
          "output_type": "stream",
          "text": [
            "[nltk_data] Downloading package stopwords to /root/nltk_data...\n",
            "[nltk_data]   Package stopwords is already up-to-date!\n",
            "[nltk_data] Downloading package punkt to /root/nltk_data...\n",
            "[nltk_data]   Package punkt is already up-to-date!\n",
            "[nltk_data] Downloading package wordnet to /root/nltk_data...\n",
            "[nltk_data]   Package wordnet is already up-to-date!\n",
            "(6488, 9)\n"
          ],
          "name": "stdout"
        }
      ]
    },
    {
      "cell_type": "code",
      "metadata": {
        "colab": {
          "base_uri": "https://localhost:8080/"
        },
        "id": "rxet1BG3oOwL",
        "outputId": "360c4c6f-78b0-49ff-cf63-e88eb2ec141d"
      },
      "source": [
        "df2.Description"
      ],
      "execution_count": 20,
      "outputs": [
        {
          "output_type": "execute_result",
          "data": {
            "text/plain": [
              "0       avalon airport infrastructure networkbased rep...\n",
              "1       laverton raaf infrastructure networkbased repo...\n",
              "2       warrnambool airport ndb infrastructure network...\n",
              "3       essendon airport infrastructure networkbased r...\n",
              "4       avalon airport infrastructure networkbased rep...\n",
              "                              ...                        \n",
              "6499    moorabbin airport infrastructure networkbased ...\n",
              "6500    avalon airport infrastructure networkbased rep...\n",
              "6501    mildura airport infrastructure networkbased re...\n",
              "6502    swan hill aerodrome infrastructure networkbase...\n",
              "6503    moorabbin airport infrastructure networkbased ...\n",
              "Name: Description, Length: 6488, dtype: object"
            ]
          },
          "metadata": {
            "tags": []
          },
          "execution_count": 20
        }
      ]
    },
    {
      "cell_type": "code",
      "metadata": {
        "id": "ElyWmEP7m4Tj"
      },
      "source": [
        "#Label encode the category\n",
        "le = LabelEncoder()\n",
        "df2['Category'] = le.fit_transform(df2['Category'].astype(str))\n",
        "Y = df2['Category'] "
      ],
      "execution_count": 24,
      "outputs": []
    },
    {
      "cell_type": "code",
      "metadata": {
        "id": "gGqPvh-gNTJ2"
      },
      "source": [
        "x_train, x_test, y_train, y_test = train_test_split(df2['Description'],Y, \n",
        "                                                    test_size=0.3, random_state=1)"
      ],
      "execution_count": 25,
      "outputs": []
    },
    {
      "cell_type": "code",
      "metadata": {
        "colab": {
          "base_uri": "https://localhost:8080/"
        },
        "id": "AA1JkNJS7bpn",
        "outputId": "c5d98dc9-6426-45ad-c159-5f46e3e6aade"
      },
      "source": [
        "max_words = 1000*5\n",
        "max_len = 100*1\n",
        "tok = Tokenizer(num_words=max_words,filters = '!\"#$%&()*+,-./:;<=>?@[\\\\]^_`{|}~\\t\\n',lower=True, split=\" \",)\n",
        "tok.fit_on_texts(df2['Description'])\n",
        "sequences = tok.texts_to_sequences(x_train)\n",
        "sequences_matrix = sequence.pad_sequences(sequences,maxlen=max_len) #X_train\n",
        "print(sequences_matrix.shape)"
      ],
      "execution_count": 26,
      "outputs": [
        {
          "output_type": "stream",
          "text": [
            "(4541, 100)\n"
          ],
          "name": "stdout"
        }
      ]
    },
    {
      "cell_type": "code",
      "metadata": {
        "colab": {
          "base_uri": "https://localhost:8080/"
        },
        "id": "mhosqZ3QPZV-",
        "outputId": "9398fe4d-e25b-45cb-d9ca-7fdfe398c2d3"
      },
      "source": [
        "sequences1 = tok.texts_to_sequences(x_test)\n",
        "sequences_matrix1 = sequence.pad_sequences(sequences1,maxlen=max_len) #X_train\n",
        "print(sequences_matrix1.shape)"
      ],
      "execution_count": 31,
      "outputs": [
        {
          "output_type": "stream",
          "text": [
            "(1947, 100)\n"
          ],
          "name": "stdout"
        }
      ]
    },
    {
      "cell_type": "code",
      "metadata": {
        "colab": {
          "base_uri": "https://localhost:8080/"
        },
        "id": "3Hp29-fRA8g1",
        "outputId": "95cb1c49-0f09-4320-deba-36aa3b94e12d"
      },
      "source": [
        "units_mul = 200\n",
        "unique_categories = np.unique(Y)\n",
        "print(unique_categories)\n",
        "labels_count = len(unique_categories)\n",
        "dropout = 0.2\n",
        "\n",
        "def RNN3():\n",
        "  model = tf.keras.Sequential()\n",
        "  # model.add(Embedding(max_words, units_mul, input_length=sequences_matrix.shape[1]))\n",
        "  # # model.add(layers.SpatialDropout1D(0.2))\n",
        "  # model.add(layers.Bidirectional(layers.LSTM(units_mul, return_sequences=True, dropout=0.2)))\n",
        "  # # model.add(layers.Bidirectional(layers.LSTM(units_mul, dropout=0.2, recurrent_dropout=0.2)))\n",
        "\n",
        "  # #model.add(tf.keras.layers.SpatialDropout1D(0.2))\n",
        "  # #model.add(LSTM(units_mul, dropout=0.2, recurrent_dropout=0.2))\n",
        "\n",
        "  # model.add(layers.Bidirectional(LSTM(units_mul, return_sequences=True)))\n",
        "  # model.add(layers.Bidirectional(LSTM(units_mul)))\n",
        "\n",
        "  # model.add(Dense(units_mul, activation='relu'))\n",
        "  # model.add(Dropout(0.2))\n",
        "  # model.add(Dense(units_mul, activation='softmax'))\n",
        "  # model.add(Dropout(0.2))\n",
        "\n",
        "  # try1: return_sequences=True => 74\n",
        "  # try2: try convo2d\n",
        "  # try3: recurrent_activation = relu/softmax in LSTM\n",
        "  # try4: 2 Bi Directional LSTM layers\n",
        "\n",
        "  model.add(Embedding(max_words, units_mul, input_length=sequences_matrix.shape[1]))\n",
        "  model.add(tf.keras.layers.SpatialDropout1D(0.2))\n",
        "  model.add(layers.Conv1D(units_mul,3,padding='valid',activation='relu',strides=1))\n",
        "  #model.add(layers.Conv1D(units_mul,3,padding='valid',activation='relu',strides=1))\n",
        "  model.add(layers.MaxPooling1D(pool_size=2))\n",
        "  # todo try bidrectional layer again\n",
        "  model.add(layers.Bidirectional(LSTM(units_mul, dropout=dropout,recurrent_dropout=dropout)))\n",
        "  # model.add(LSTM(units_mul, dropout=dropout, recurrent_dropout=dropout))\n",
        "  # todo use GRU layer\n",
        "  #model.add(GRU(10))\n",
        "  #model.add(Dropout(dropout))\n",
        "\n",
        "  # model.add(keras.layers.Dense(units=1000, activation='relu'))\n",
        "  # model.add(keras.layers.Dense(units=500, activation='relu'))\n",
        "    \n",
        "  # model.add(Dense(units_mul, activation='relu'))\n",
        "  # model.add(Dropout(dropout))\n",
        "  \n",
        "  model.add(Dense(labels_count, activation='softmax'))\n",
        "  return model\n",
        "\n",
        "RNN3().summary()"
      ],
      "execution_count": 36,
      "outputs": [
        {
          "output_type": "stream",
          "text": [
            "[ 0  1  2  3  4  5  6  7  8  9 10 11 12 13 14]\n",
            "WARNING:tensorflow:Layer lstm_4 will not use cuDNN kernel since it doesn't meet the cuDNN kernel criteria. It will use generic GPU kernel as fallback when running on GPU\n",
            "WARNING:tensorflow:Layer lstm_4 will not use cuDNN kernel since it doesn't meet the cuDNN kernel criteria. It will use generic GPU kernel as fallback when running on GPU\n",
            "WARNING:tensorflow:Layer lstm_4 will not use cuDNN kernel since it doesn't meet the cuDNN kernel criteria. It will use generic GPU kernel as fallback when running on GPU\n",
            "Model: \"sequential_5\"\n",
            "_________________________________________________________________\n",
            "Layer (type)                 Output Shape              Param #   \n",
            "=================================================================\n",
            "embedding_4 (Embedding)      (None, 100, 200)          1000000   \n",
            "_________________________________________________________________\n",
            "spatial_dropout1d_4 (Spatial (None, 100, 200)          0         \n",
            "_________________________________________________________________\n",
            "conv1d_6 (Conv1D)            (None, 98, 200)           120200    \n",
            "_________________________________________________________________\n",
            "max_pooling1d_4 (MaxPooling1 (None, 49, 200)           0         \n",
            "_________________________________________________________________\n",
            "bidirectional_4 (Bidirection (None, 400)               641600    \n",
            "_________________________________________________________________\n",
            "dense_4 (Dense)              (None, 15)                6015      \n",
            "=================================================================\n",
            "Total params: 1,767,815\n",
            "Trainable params: 1,767,815\n",
            "Non-trainable params: 0\n",
            "_________________________________________________________________\n"
          ],
          "name": "stdout"
        }
      ]
    },
    {
      "cell_type": "code",
      "metadata": {
        "id": "WMb145YrenOk",
        "colab": {
          "base_uri": "https://localhost:8080/"
        },
        "outputId": "f595ed41-a7d1-45ad-f454-36bc4fe49783"
      },
      "source": [
        "from keras_lookahead import Lookahead\n",
        "from keras.callbacks import LearningRateScheduler\n",
        "optimiser = tf.keras.optimizers.Adam(lr=0.001, beta_1=0.9, beta_2=0.999, epsilon=None, decay=1e-6, amsgrad=False)\n",
        "lk = Lookahead(optimiser, sync_period=5, slow_step=0.5, name = 'Lookahead')\n",
        "\n",
        "#The step decay learning rate\n",
        "#Step Decay A typical way is to to drop the learning rate by half every 10 epochs \n",
        "#https://towardsdatascience.com/learning-rate-schedules-and-adaptive-learning-rate-methods-for-deep-learning-2c8f433990d1\n",
        "\n",
        "def step_decay(epoch):\n",
        "    initAlpha = 0.01\n",
        "    factor = 0.25\n",
        "    dropEvery = 5\n",
        "    alpha = initAlpha *(factor **np.floor((1 + epoch)/dropEvery))\n",
        "    return float(alpha)\n",
        "\n",
        "\n",
        "# train model\n",
        "model = RNN3()\n",
        "model.compile(loss='sparse_categorical_crossentropy',\n",
        "              optimizer=lk.optimizer,\n",
        "              metrics=['accuracy'])\n",
        "with tf.device('/device:GPU:0'):\n",
        "  history = model.fit(sequences_matrix,y_train, batch_size=128,\n",
        "                    epochs=20, \n",
        "                    validation_split=0.2,\n",
        "                    callbacks=[LearningRateScheduler(step_decay)])\n"
      ],
      "execution_count": 37,
      "outputs": [
        {
          "output_type": "stream",
          "text": [
            "WARNING:tensorflow:Layer lstm_5 will not use cuDNN kernel since it doesn't meet the cuDNN kernel criteria. It will use generic GPU kernel as fallback when running on GPU\n",
            "WARNING:tensorflow:Layer lstm_5 will not use cuDNN kernel since it doesn't meet the cuDNN kernel criteria. It will use generic GPU kernel as fallback when running on GPU\n",
            "WARNING:tensorflow:Layer lstm_5 will not use cuDNN kernel since it doesn't meet the cuDNN kernel criteria. It will use generic GPU kernel as fallback when running on GPU\n",
            "Epoch 1/20\n",
            "29/29 [==============================] - 12s 404ms/step - loss: 1.5543 - accuracy: 0.5110 - val_loss: 0.8701 - val_accuracy: 0.7360\n",
            "Epoch 2/20\n",
            "29/29 [==============================] - 11s 385ms/step - loss: 0.6974 - accuracy: 0.7907 - val_loss: 0.7778 - val_accuracy: 0.7602\n",
            "Epoch 3/20\n",
            "29/29 [==============================] - 11s 373ms/step - loss: 0.4483 - accuracy: 0.8654 - val_loss: 0.8734 - val_accuracy: 0.7602\n",
            "Epoch 4/20\n",
            "29/29 [==============================] - 11s 394ms/step - loss: 0.2877 - accuracy: 0.9141 - val_loss: 0.8791 - val_accuracy: 0.7646\n",
            "Epoch 5/20\n",
            "29/29 [==============================] - 10s 359ms/step - loss: 0.1635 - accuracy: 0.9513 - val_loss: 0.8266 - val_accuracy: 0.7921\n",
            "Epoch 6/20\n",
            "29/29 [==============================] - 11s 387ms/step - loss: 0.0937 - accuracy: 0.9760 - val_loss: 0.8398 - val_accuracy: 0.7987\n",
            "Epoch 7/20\n",
            "29/29 [==============================] - 12s 400ms/step - loss: 0.0730 - accuracy: 0.9829 - val_loss: 0.8768 - val_accuracy: 0.7954\n",
            "Epoch 8/20\n",
            "29/29 [==============================] - 11s 370ms/step - loss: 0.0522 - accuracy: 0.9884 - val_loss: 0.8833 - val_accuracy: 0.7987\n",
            "Epoch 9/20\n",
            "29/29 [==============================] - 12s 398ms/step - loss: 0.0398 - accuracy: 0.9920 - val_loss: 0.9359 - val_accuracy: 0.8020\n",
            "Epoch 10/20\n",
            "29/29 [==============================] - 11s 373ms/step - loss: 0.0300 - accuracy: 0.9950 - val_loss: 0.9458 - val_accuracy: 0.7976\n",
            "Epoch 11/20\n",
            "29/29 [==============================] - 12s 397ms/step - loss: 0.0251 - accuracy: 0.9956 - val_loss: 0.9505 - val_accuracy: 0.7943\n",
            "Epoch 12/20\n",
            "29/29 [==============================] - 11s 372ms/step - loss: 0.0238 - accuracy: 0.9961 - val_loss: 0.9586 - val_accuracy: 0.7965\n",
            "Epoch 13/20\n",
            "29/29 [==============================] - 11s 374ms/step - loss: 0.0217 - accuracy: 0.9967 - val_loss: 0.9704 - val_accuracy: 0.7943\n",
            "Epoch 14/20\n",
            "29/29 [==============================] - 11s 365ms/step - loss: 0.0201 - accuracy: 0.9972 - val_loss: 0.9758 - val_accuracy: 0.7965\n",
            "Epoch 15/20\n",
            "29/29 [==============================] - 11s 378ms/step - loss: 0.0192 - accuracy: 0.9972 - val_loss: 0.9764 - val_accuracy: 0.7965\n",
            "Epoch 16/20\n",
            "29/29 [==============================] - 11s 381ms/step - loss: 0.0186 - accuracy: 0.9972 - val_loss: 0.9808 - val_accuracy: 0.7965\n",
            "Epoch 17/20\n",
            "29/29 [==============================] - 10s 357ms/step - loss: 0.0184 - accuracy: 0.9970 - val_loss: 0.9823 - val_accuracy: 0.7954\n",
            "Epoch 18/20\n",
            "29/29 [==============================] - 11s 362ms/step - loss: 0.0176 - accuracy: 0.9967 - val_loss: 0.9869 - val_accuracy: 0.7987\n",
            "Epoch 19/20\n",
            "29/29 [==============================] - 11s 371ms/step - loss: 0.0174 - accuracy: 0.9972 - val_loss: 0.9878 - val_accuracy: 0.7976\n",
            "Epoch 20/20\n",
            "29/29 [==============================] - 11s 372ms/step - loss: 0.0169 - accuracy: 0.9972 - val_loss: 0.9881 - val_accuracy: 0.7976\n"
          ],
          "name": "stdout"
        }
      ]
    },
    {
      "cell_type": "code",
      "metadata": {
        "id": "TraikqglkXJj",
        "colab": {
          "base_uri": "https://localhost:8080/"
        },
        "outputId": "f3477eef-cc26-4b00-fb19-82c00f5d3e3e"
      },
      "source": [
        "accr = model.evaluate(sequences_matrix1,y_test)\n",
        "print(accr[1])"
      ],
      "execution_count": 38,
      "outputs": [
        {
          "output_type": "stream",
          "text": [
            "61/61 [==============================] - 2s 27ms/step - loss: 0.9048 - accuracy: 0.8084\n",
            "0.8084232211112976\n"
          ],
          "name": "stdout"
        }
      ]
    },
    {
      "cell_type": "code",
      "metadata": {
        "id": "iw7qvQaZd32R",
        "colab": {
          "base_uri": "https://localhost:8080/",
          "height": 557
        },
        "outputId": "21032e7e-662d-4607-c52d-0527e6189f09"
      },
      "source": [
        "# Accuracy\n",
        "plt.plot(history.history['accuracy'], label='accuracy')\n",
        "plt.plot(history.history['val_accuracy'], label = 'val_accuracy')\n",
        "plt.xlabel('Epoch')\n",
        "plt.ylabel('Accuracy')\n",
        "plt.legend()\n",
        "plt.show()\n",
        "\n",
        "# Loss\n",
        "plt.plot(history.history['loss'], label = 'loss')\n",
        "plt.plot(history.history['val_loss'], label = 'val_loss')\n",
        "plt.title('loss')\n",
        "plt.xlabel('Epoch')\n",
        "plt.ylabel('Loss')\n",
        "plt.legend()\n",
        "plt.show()\n",
        "\n"
      ],
      "execution_count": 33,
      "outputs": [
        {
          "output_type": "display_data",
          "data": {
            "image/png": "[encoded data removed]",
            "text/plain": [
              "<Figure size 432x288 with 1 Axes>"
            ]
          },
          "metadata": {
            "tags": [],
            "needs_background": "light"
          }
        },
        {
          "output_type": "display_data",
          "data": {
            "image/png": "[encoded data removed]",
            "text/plain": [
              "<Figure size 432x288 with 1 Axes>"
            ]
          },
          "metadata": {
            "tags": [],
            "needs_background": "light"
          }
        }
      ]
    },
    {
      "cell_type": "code",
      "metadata": {
        "id": "7RI9jYdXDSty"
      },
      "source": [
        "#Save the model.\n",
        "\n",
        "from keras.models import model_from_json\n",
        "from keras.models import load_model\n",
        "\n",
        "model_json = model.to_json()\n",
        "with open(\"model_num.json\", \"w\") as json_file:\n",
        "  json_file.write('model_json')\n",
        "model.save_weights('model_weights.h5')\n"
      ],
      "execution_count": 174,
      "outputs": []
    }
  ]
}