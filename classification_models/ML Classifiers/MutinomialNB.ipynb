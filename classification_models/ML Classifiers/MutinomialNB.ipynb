{
  "nbformat": 4,
  "nbformat_minor": 0,
  "metadata": {
    "colab": {
      "name": "MutinomialNB.ipynb",
      "provenance": [],
      "collapsed_sections": []
    },
    "kernelspec": {
      "name": "python3",
      "display_name": "Python 3"
    }
  },
  "cells": [
    {
      "cell_type": "code",
      "metadata": {
        "id": "toE5M14ozhg9"
      },
      "source": [
        "!pip install texthero\n",
        "import pandas as pd\n",
        "import nltk\n",
        "import texthero as hero\n",
        "from texthero import preprocessing\n",
        "from sklearn.model_selection import train_test_split\n",
        "from sklearn.feature_extraction.text import CountVectorizer\n",
        "from sklearn.feature_extraction.text import TfidfVectorizer\n",
        "from sklearn.svm import SVC\n",
        "from sklearn.metrics import accuracy_score, classification_report\n",
        "from sklearn.preprocessing import LabelEncoder\n",
        "from sklearn.feature_extraction.text import TfidfVectorizer\n",
        "from sklearn.model_selection import GridSearchCV \n",
        "from imblearn.over_sampling import SMOTE\n",
        "\n",
        "import nltk \n",
        "from nltk.corpus import stopwords\n",
        "import re\n",
        "from nltk.tokenize import word_tokenize\n",
        "from nltk.stem import WordNetLemmatizer,PorterStemmer\n",
        "import pickle\n",
        "nltk.download('stopwords')\n",
        "nltk.download('punkt')\n",
        "nltk.download('wordnet')"
      ],
      "execution_count": null,
      "outputs": []
    },
    {
      "cell_type": "code",
      "metadata": {
        "id": "WJqSBdYh0DlD"
      },
      "source": [
        "# Creating a list for columns to keep\n",
        "cols = ['EventDescription', 'IncidentCause','IncidentConsequence', 'Category']"
      ],
      "execution_count": 217,
      "outputs": []
    },
    {
      "cell_type": "code",
      "metadata": {
        "colab": {
          "base_uri": "https://localhost:8080/"
        },
        "id": "nCjoH5AU0EbB",
        "outputId": "1773031e-02d0-44d4-8d3e-f524e892f45b"
      },
      "source": [
        "# Importing file\n",
        "df = pd.read_csv('/content/drive/MyDrive/ESV Data/cleaned_incidents1.csv', usecols=cols)\n",
        "print(df.shape)\n",
        "\n",
        "#dropping nulls\n",
        "df = df.dropna()\n",
        "df.isnull().sum()"
      ],
      "execution_count": 218,
      "outputs": [
        {
          "output_type": "stream",
          "text": [
            "(6504, 4)\n"
          ],
          "name": "stdout"
        },
        {
          "output_type": "execute_result",
          "data": {
            "text/plain": [
              "EventDescription       0\n",
              "IncidentCause          0\n",
              "IncidentConsequence    0\n",
              "Category               0\n",
              "dtype: int64"
            ]
          },
          "metadata": {
            "tags": []
          },
          "execution_count": 218
        }
      ]
    },
    {
      "cell_type": "code",
      "metadata": {
        "colab": {
          "base_uri": "https://localhost:8080/"
        },
        "id": "oS62deTUKIej",
        "outputId": "a7f5a05c-9e25-452d-af40-a698e65635b7"
      },
      "source": [
        "df['Category'].unique()"
      ],
      "execution_count": 219,
      "outputs": [
        {
          "output_type": "execute_result",
          "data": {
            "text/plain": [
              "array(['OH Cable', 'Dug up', 'Connection', 'Other', 'Vehicle', 'Fuse',\n",
              "       'Trees', 'Pole', 'Crossarm', 'Conductor', 'Animal', 'AF Other',\n",
              "       'Lightning', 'UG Cable', 'Installation'], dtype=object)"
            ]
          },
          "metadata": {
            "tags": []
          },
          "execution_count": 219
        }
      ]
    },
    {
      "cell_type": "code",
      "metadata": {
        "id": "pL-C_Djm0NN6"
      },
      "source": [
        "df['Description'] =  df['EventDescription'] + ' ' + df['IncidentCause']+ ' ' + df['IncidentConsequence']"
      ],
      "execution_count": 220,
      "outputs": []
    },
    {
      "cell_type": "code",
      "metadata": {
        "colab": {
          "base_uri": "https://localhost:8080/"
        },
        "id": "lccH7c0-0N22",
        "outputId": "50a9c471-6560-4188-c8ee-e7a0124cb14d"
      },
      "source": [
        "print(df['Description'])"
      ],
      "execution_count": 221,
      "outputs": [
        {
          "output_type": "stream",
          "text": [
            "0       A nearby customer reported sparking of electri...\n",
            "1       A contractor reported that he had contacted an...\n",
            "2       A field crew attending an outage found that a ...\n",
            "3       Interfere and vandalism in substation. Unknown...\n",
            "4       A nearby customer reported that a high load ha...\n",
            "                              ...                        \n",
            "6499    A report came in to UE of a FMB sparking at 31...\n",
            "6500    Report received from a resident to advise that...\n",
            "6501    Report received of pole fire at incident locat...\n",
            "6502    A customer called to report a tractor had hit ...\n",
            "6503    concrete electrical cover outside of front of ...\n",
            "Name: Description, Length: 6488, dtype: object\n"
          ],
          "name": "stdout"
        }
      ]
    },
    {
      "cell_type": "code",
      "metadata": {
        "colab": {
          "base_uri": "https://localhost:8080/"
        },
        "id": "ReYkMsyfNO4R",
        "outputId": "24deeef5-e05f-46e6-947b-e69c384ee294"
      },
      "source": [
        "df['clean_description'] = hero.clean(df['Description'])\n",
        "df['clean_description']"
      ],
      "execution_count": 222,
      "outputs": [
        {
          "output_type": "execute_result",
          "data": {
            "text/plain": [
              "0       nearby customer reported sparking electrical l...\n",
              "1       contractor reported contacted earthing cable e...\n",
              "2       field crew attending outage found 22kv conduct...\n",
              "3       interfere vandalism substation unknown third p...\n",
              "4       nearby customer reported high load pulled wire...\n",
              "                              ...                        \n",
              "6499    report came ue fmb sparking st kilda st bright...\n",
              "6500    report received resident advise crane made con...\n",
              "6501    report received pole fire incident location ar...\n",
              "6502    customer called report tractor hit wire brough...\n",
              "6503    concrete electrical cover outside front house ...\n",
              "Name: clean_description, Length: 6488, dtype: object"
            ]
          },
          "metadata": {
            "tags": []
          },
          "execution_count": 222
        }
      ]
    },
    {
      "cell_type": "markdown",
      "metadata": {
        "id": "2MOK4OZ30UAd"
      },
      "source": [
        "\n",
        "Stopwords, Splitting, Label Encoding"
      ]
    },
    {
      "cell_type": "code",
      "metadata": {
        "id": "v6In4QSd0gdq"
      },
      "source": [
        "# Label encoding for Category\n",
        "le = LabelEncoder()\n",
        "df['Category'] = le.fit_transform(df['Category'].astype(str))\n",
        "#store the 'Category' variable in Y\n",
        "X = df['clean_description']\n",
        "Y = df['Category']"
      ],
      "execution_count": 223,
      "outputs": []
    },
    {
      "cell_type": "code",
      "metadata": {
        "colab": {
          "base_uri": "https://localhost:8080/"
        },
        "id": "6_NNV6n4OVqZ",
        "outputId": "b7ab98e2-2c69-4a3f-96de-eb560bd33b45"
      },
      "source": [
        "print(Y)"
      ],
      "execution_count": 224,
      "outputs": [
        {
          "output_type": "stream",
          "text": [
            "0        9\n",
            "1        5\n",
            "2        3\n",
            "3       10\n",
            "4       14\n",
            "        ..\n",
            "6499     3\n",
            "6500    14\n",
            "6501    11\n",
            "6502    14\n",
            "6503     0\n",
            "Name: Category, Length: 6488, dtype: int64\n"
          ],
          "name": "stdout"
        }
      ]
    },
    {
      "cell_type": "code",
      "metadata": {
        "id": "lZD4ThhZ0lVw"
      },
      "source": [
        "# Splitting of data in test and train\n",
        "x_train, x_test, y_train, y_test = train_test_split(X,Y,\n",
        "                                                    test_size=0.25, random_state=4)"
      ],
      "execution_count": 225,
      "outputs": []
    },
    {
      "cell_type": "code",
      "metadata": {
        "colab": {
          "base_uri": "https://localhost:8080/"
        },
        "id": "0G_WRZf2O7bP",
        "outputId": "6de4445d-6471-48ab-b471-c7da040e5a6e"
      },
      "source": [
        "print(x_train.shape,y_train.shape,x_test.shape,y_test.shape)"
      ],
      "execution_count": 226,
      "outputs": [
        {
          "output_type": "stream",
          "text": [
            "(4866,) (4866,) (1622,) (1622,)\n"
          ],
          "name": "stdout"
        }
      ]
    },
    {
      "cell_type": "markdown",
      "metadata": {
        "id": "ffBlMCCU0nZX"
      },
      "source": [
        "Naive Bayes"
      ]
    },
    {
      "cell_type": "markdown",
      "metadata": {
        "id": "ZRnjGjgGaLQZ"
      },
      "source": [
        "TF-IDF"
      ]
    },
    {
      "cell_type": "code",
      "metadata": {
        "id": "gfhANP7m0udn"
      },
      "source": [
        "vectorizer = TfidfVectorizer(analyzer='word',max_features=5000)\n",
        "vectorizer.fit(X)\n",
        "tfidf_x_train=vectorizer.transform(x_train)\n",
        "tfidf_x_test=vectorizer.transform(x_test)"
      ],
      "execution_count": 227,
      "outputs": []
    },
    {
      "cell_type": "code",
      "metadata": {
        "colab": {
          "base_uri": "https://localhost:8080/"
        },
        "id": "51yRkDF90zQR",
        "outputId": "a71b7e19-f1db-41df-c039-1561bc6bb606"
      },
      "source": [
        "from sklearn.naive_bayes import MultinomialNB\n",
        "\n",
        "clf = MultinomialNB(alpha=0.1)\n",
        "clf.fit(tfidf_x_train,y_train)"
      ],
      "execution_count": 228,
      "outputs": [
        {
          "output_type": "execute_result",
          "data": {
            "text/plain": [
              "MultinomialNB(alpha=0.1, class_prior=None, fit_prior=True)"
            ]
          },
          "metadata": {
            "tags": []
          },
          "execution_count": 228
        }
      ]
    },
    {
      "cell_type": "code",
      "metadata": {
        "colab": {
          "base_uri": "https://localhost:8080/"
        },
        "id": "KIgwMaBE3VJD",
        "outputId": "f60adbb4-0061-4426-d834-d3e666b68f13"
      },
      "source": [
        "# Model evaluation\n",
        "# xtest = x_test_tfidf.todense()\n",
        "prediction = clf.predict(tfidf_x_test)\n",
        "acc = accuracy_score(y_test, prediction).round(4)\n",
        "print(\"Accuracy using TF-IDF is: {}%\".format(acc * 100.0))"
      ],
      "execution_count": 229,
      "outputs": [
        {
          "output_type": "stream",
          "text": [
            "Accuracy using TF-IDF is: 77.99000000000001%\n"
          ],
          "name": "stdout"
        }
      ]
    },
    {
      "cell_type": "markdown",
      "metadata": {
        "id": "IN0nJf8WaN2n"
      },
      "source": [
        "CountVect"
      ]
    },
    {
      "cell_type": "code",
      "metadata": {
        "id": "Ytt4_78RZv0f"
      },
      "source": [
        "count_vectorizer = CountVectorizer(ngram_range=(1,2))\n",
        "count_vectorizer.fit(X)\n",
        "train_bow = count_vectorizer.transform(x_train)\n",
        "test_bow = count_vectorizer.transform(x_test)"
      ],
      "execution_count": 230,
      "outputs": []
    },
    {
      "cell_type": "code",
      "metadata": {
        "colab": {
          "base_uri": "https://localhost:8080/"
        },
        "id": "KvKfgy58aVpq",
        "outputId": "e3ea9a2f-1d7d-472d-92df-17af5c7a5c7c"
      },
      "source": [
        "clf.fit(train_bow,y_train)\n",
        "prediction = clf.predict(test_bow)\n",
        "acc = accuracy_score(y_test, prediction).round(4)\n",
        "print(\"Accuracy using TF-IDF is: {}%\".format(acc * 100.0))"
      ],
      "execution_count": 231,
      "outputs": [
        {
          "output_type": "stream",
          "text": [
            "Accuracy using TF-IDF is: 75.89%\n"
          ],
          "name": "stdout"
        }
      ]
    },
    {
      "cell_type": "markdown",
      "metadata": {
        "id": "ga4NaaX4bJoy"
      },
      "source": [
        "SMOTE"
      ]
    },
    {
      "cell_type": "code",
      "metadata": {
        "colab": {
          "base_uri": "https://localhost:8080/"
        },
        "id": "H0a1oVA8bKZ1",
        "outputId": "7a1770c3-67c7-4747-bbae-9a38926a2836"
      },
      "source": [
        "oversample = SMOTE(random_state=0,n_jobs=-1,k_neighbors=10)\n",
        "train_tfidf, y_train = oversample.fit_resample(tfidf_x_train, y_train)"
      ],
      "execution_count": 232,
      "outputs": [
        {
          "output_type": "stream",
          "text": [
            "/usr/local/lib/python3.6/dist-packages/sklearn/utils/deprecation.py:87: FutureWarning:\n",
            "\n",
            "Function safe_indexing is deprecated; safe_indexing is deprecated in version 0.22 and will be removed in version 0.24.\n",
            "\n"
          ],
          "name": "stderr"
        }
      ]
    },
    {
      "cell_type": "code",
      "metadata": {
        "colab": {
          "base_uri": "https://localhost:8080/"
        },
        "id": "1qOltoGrcLy-",
        "outputId": "b1d4f5bb-e52e-4f60-ebc5-6f457e45b8b3"
      },
      "source": [
        "clf.fit(train_tfidf,y_train)\n",
        "prediction = clf.predict(tfidf_x_test)\n",
        "acc = accuracy_score(y_test, prediction).round(4)\n",
        "print(\"Accuracy using TF-IDF + SMOTE is: {}%\".format(acc * 100.0))"
      ],
      "execution_count": 233,
      "outputs": [
        {
          "output_type": "stream",
          "text": [
            "Accuracy using TF-IDF + SMOTE is: 75.03%\n"
          ],
          "name": "stdout"
        }
      ]
    },
    {
      "cell_type": "markdown",
      "metadata": {
        "id": "ef8-0RDMTfHv"
      },
      "source": [
        "Findings: \n",
        "\n",
        "1. MultinomialNB with Tfidf and max_features=1000 gives the accuracy upto 76.759%. \n",
        "\n",
        "2. When using max_features=5000 with Tfidf, the accuracy is 77.99%\n",
        "\n",
        "3. using countvectorizer with ngram_range=(1,2), the accuracy is only 75.89%\n",
        "\n",
        "4. Tf-IDF (max_features = 5000) with SMOTE (n_neighbors = 10) gives 75.03 accuracy\n"
      ]
    }
  ]
}