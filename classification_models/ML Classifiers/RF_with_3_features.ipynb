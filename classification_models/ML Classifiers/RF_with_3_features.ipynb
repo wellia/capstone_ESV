{
 "cells": [
  {
   "cell_type": "code",
   "execution_count": 23,
   "metadata": {
    "collapsed": true
   },
   "outputs": [
    {
     "data": {
      "text/plain": "{'FILE_PATH': '/Users/pradeep/Desktop/ProjectANotebooks/notebooks/cleaned_incidents1.csv'}"
     },
     "execution_count": 23,
     "metadata": {},
     "output_type": "execute_result"
    }
   ],
   "source": [
    "# configuration\n",
    "config = {\n",
    "    'FILE_PATH': '/Users/pradeep/Desktop/ProjectANotebooks/notebooks/cleaned_incidents1.csv'\n",
    "    }\n",
    "config"
   ]
  },
  {
   "cell_type": "code",
   "execution_count": 24,
   "outputs": [],
   "source": [
    "# import libraries\n",
    "try:\n",
    "    import pandas as pd\n",
    "    import numpy as np\n",
    "    import matplotlib.pyplot as plt\n",
    "    import string\n",
    "    import re\n",
    "    from time import time\n",
    "    from imblearn.over_sampling import SMOTE\n",
    "    import texthero as hero\n",
    "    from texthero import preprocessing\n",
    "    from gensim.models import Word2Vec\n",
    "    import nltk\n",
    "    from nltk.corpus import stopwords\n",
    "    from nltk.stem import WordNetLemmatizer\n",
    "    from sklearn.preprocessing import LabelEncoder\n",
    "    from sklearn.ensemble import RandomForestClassifier\n",
    "    from sklearn.ensemble import AdaBoostClassifier\n",
    "    from sklearn.metrics import accuracy_score, confusion_matrix, plot_confusion_matrix, classification_report, ConfusionMatrixDisplay\n",
    "    from sklearn.model_selection import train_test_split, GridSearchCV\n",
    "    from sklearn.feature_extraction.text import TfidfVectorizer, CountVectorizer\n",
    "    from sklearn.pipeline import Pipeline\n",
    "    from sklearn.linear_model import LogisticRegression\n",
    "    from sklearn.ensemble import StackingClassifier\n",
    "    from sklearn.neighbors import KNeighborsClassifier\n",
    "    from sklearn.svm import SVC\n",
    "    import warnings\n",
    "except(ImportError):\n",
    "    print(f'Import Error: {ImportError}')\n",
    "\n",
    "# ignore warnings\n",
    "warnings.filterwarnings(\"ignore\")\n",
    "warnings.simplefilter(action='ignore', category=FutureWarning)\n",
    "\n",
    "# set seeds for reproducability\n",
    "from numpy.random import seed\n",
    "seed(500)\n",
    "\n",
    "# global configurations\n",
    "pd.set_option(\"display.max_colwidth\", -1) # show larger text in pandas dataframe"
   ],
   "metadata": {
    "collapsed": false,
    "pycharm": {
     "name": "#%%\n"
    }
   }
  },
  {
   "cell_type": "code",
   "execution_count": 25,
   "outputs": [],
   "source": [
    "'''\n",
    "- select features\n",
    "- drop missing values\n",
    "- combine selected features into one\n",
    "'''\n",
    "def data(df):\n",
    "    new_df = df[['EventDescription', 'FailedAssets', 'IncidentCause', 'IncidentConsequence', 'IncidentType', 'Status', 'WeatherStation', 'Category']]\n",
    "    new_df.dropna(axis=0, inplace=True)\n",
    "    features = new_df['EventDescription'] +' ' + new_df['IncidentCause'] + ' '+ new_df['IncidentConsequence']\n",
    "    target = new_df['Category']\n",
    "    return features, target"
   ],
   "metadata": {
    "collapsed": false,
    "pycharm": {
     "name": "#%%\n"
    }
   }
  },
  {
   "cell_type": "code",
   "execution_count": 26,
   "outputs": [],
   "source": [
    "# read csv\n",
    "dataset = pd.read_csv(config['FILE_PATH'])\n",
    "\n",
    "# get features and target\n",
    "features, target = data(dataset)\n",
    "\n",
    "# Text Cleaning and Pre-processing\n",
    "def preprocess_text():\n",
    "    # cleaning steps\n",
    "    cleaning_pipeline = [\n",
    "        preprocessing.fillna,\n",
    "        preprocessing.lowercase,\n",
    "        preprocessing.remove_whitespace,\n",
    "        preprocessing.remove_punctuation,\n",
    "        preprocessing.remove_urls,\n",
    "        preprocessing.remove_brackets,\n",
    "        preprocessing.remove_stopwords,\n",
    "        preprocessing.remove_digits,\n",
    "        preprocessing.remove_angle_brackets,\n",
    "        preprocessing.remove_curly_brackets,\n",
    "        preprocessing.stem\n",
    "        #preprocessing.tokenize\n",
    "    ]\n",
    "\n",
    "    # apply pipeline to text\n",
    "    clean_text = features.pipe(hero.clean, cleaning_pipeline)\n",
    "\n",
    "    return clean_text"
   ],
   "metadata": {
    "collapsed": false,
    "pycharm": {
     "name": "#%%\n"
    }
   }
  },
  {
   "cell_type": "code",
   "execution_count": 27,
   "outputs": [
    {
     "data": {
      "text/plain": "0       nearbi custom report spark electr line locat attend crew found high voltag abc conductor fault midspan result ground fire approx sqm report injuri hvabc cabl fault midspan grassfir                                                                                                                                                                                                               \n1       contractor report contact earth cabl excav trench locat arriv crew found contractor denni jame ph dig trench contact earth cabl caus damag cabl report injuri third parti properti damag contractor contact earth conductor go zone contact                                                                                                                                                        \n2       field crew attend outag found 22kv conductor broken due rust connect sleev fallen ground one end remain aliv due high imped backfe downlin transform wind protect oper report injuri third parti properti damag conductor broke due rust serious risk public safeti e g live conductor ground live asset access unauthoris person                                                                  \n3       interfer vandal substat unknown third parti use unknown object interfer two hv fuse blew indoor substat littl bank kingsway indoor substat affect also secur park rear bank street theft vandal ticket machin conjunct substat interfer vandal vandal loss suppli damag network asset                                                                                                              \n4       nearbi custom report high load pull wire locat arriv crew found lv servic cabl contact unknown vehicl break cabl fell ground report injuri third parti properti damag follow repair cabl measur 3m kerb unknown high load contact lv servic cabl go zone contact damag network asset                                                                                                               \n                                                                                                                                                ...                                                                                                                                                                                                                                                        \n6499    report came ue fmb spark st kilda st brighton arriv crew identifi fire damag folcb pole lis eio call assess caus like caus determin eio earth defect within custom instal eio issu defect st kilda st plant equip                                                                                                                                                                                  \n6500    report receiv resid advis crane made contact powerlin power wire appear fine crane longer contact upon arriv fault crew found crane driver metcalf crane servic made contact 12st swer overhead conductor lis lis move gantri equip associ moorabool windfarm project crane taken away site test fire report injuri crane struck line go zone contact damag network asset                          \n6501    report receiv pole fire incid locat arriv crew found top burnt swer pole fire extinguish ground fire report injuri third parti properti damag excess leakag current pole top fire                                                                                                                                                                                                                  \n6502    custom call report tractor hit wire brought ground arriv incid locat crew found tractor rego xv 99ce tow larg roller around paddock turn sharpli contact pole roller caus break fall 22kv hv singl phase conductor fell onto tractor caus protect oper isol suppli tractor driver exit vehicl crew arriv report receiv shock injur report damag fire injuri farm equip hit pole damag network asset\n6503    concret electr cover outsid front hous gave client dog electr shock rain investig shock livestock pet companion anim                                                                                                                                                                                                                                                                               \nLength: 6488, dtype: object"
     },
     "execution_count": 27,
     "metadata": {},
     "output_type": "execute_result"
    }
   ],
   "source": [
    "# check processed text\n",
    "clean_text = preprocess_text()\n",
    "clean_text"
   ],
   "metadata": {
    "collapsed": false,
    "pycharm": {
     "name": "#%%\n"
    }
   }
  },
  {
   "cell_type": "code",
   "execution_count": 28,
   "outputs": [
    {
     "data": {
      "text/plain": "((4866,), (1622,), (4866,), (1622,))"
     },
     "execution_count": 28,
     "metadata": {},
     "output_type": "execute_result"
    }
   ],
   "source": [
    "# train test split\n",
    "x_train, x_test, y_train, y_test = train_test_split(clean_text, target, random_state=0, test_size=0.25, shuffle=True)\n",
    "x_train.shape, x_test.shape, y_train.shape, y_test.shape"
   ],
   "metadata": {
    "collapsed": false,
    "pycharm": {
     "name": "#%%\n"
    }
   }
  },
  {
   "cell_type": "code",
   "execution_count": 29,
   "outputs": [],
   "source": [
    "# feature extraction methods\n",
    "# tfidf\n",
    "def tfidf():\n",
    "    vectorizer = TfidfVectorizer(analyzer='word', max_features=1000)\n",
    "    vectorizer.fit(clean_text)\n",
    "    train_tfidf = vectorizer.transform(x_train)\n",
    "    test_tfidf = vectorizer.transform(x_test)\n",
    "    return train_tfidf, test_tfidf\n",
    "\n",
    "# bow\n",
    "def bow():\n",
    "    count_vectorizer = CountVectorizer(analyzer='word', max_features=1000)\n",
    "    count_vectorizer.fit(clean_text)\n",
    "    train_bow = count_vectorizer.transform(x_train)\n",
    "    test_bow = count_vectorizer.transform(x_test)\n",
    "    return train_bow, test_bow\n",
    "\n",
    "# bigrams\n",
    "def bigrams():\n",
    "    bigram_vectorizer = CountVectorizer(analyzer='word', ngram_range=(2,2), max_features=1000)\n",
    "    bigram_vectorizer.fit(clean_text)\n",
    "    train_bigram = bigram_vectorizer.transform(x_train)\n",
    "    test_bigram = bigram_vectorizer.transform(x_test)\n",
    "    return train_bigram, test_bigram"
   ],
   "metadata": {
    "collapsed": false,
    "pycharm": {
     "name": "#%%\n"
    }
   }
  },
  {
   "cell_type": "code",
   "execution_count": 30,
   "outputs": [],
   "source": [
    "# get features\n",
    "train_tfidf, test_tfidf = tfidf()\n",
    "train_tfidf.shape, test_tfidf.shape\n",
    "\n",
    "train_bigram, test_bigram = bigrams()\n",
    "\n",
    "train_bow, test_bow = bow()"
   ],
   "metadata": {
    "collapsed": false,
    "pycharm": {
     "name": "#%%\n"
    }
   }
  },
  {
   "cell_type": "code",
   "execution_count": 21,
   "outputs": [
    {
     "name": "stdout",
     "output_type": "stream",
     "text": [
      "Shape: (15090, 1000)\n",
      "AF Other        1006\n",
      "Other           1006\n",
      "UG Cable        1006\n",
      "OH Cable        1006\n",
      "Pole            1006\n",
      "Conductor       1006\n",
      "Installation    1006\n",
      "Lightning       1006\n",
      "Fuse            1006\n",
      "Trees           1006\n",
      "Connection      1006\n",
      "Vehicle         1006\n",
      "Dug up          1006\n",
      "Animal          1006\n",
      "Crossarm        1006\n",
      "Name: Category, dtype: int64\n"
     ]
    }
   ],
   "source": [
    "oversample = SMOTE(random_state=0,n_jobs=-1,k_neighbors=5)\n",
    "train_tfidf, y_train = oversample.fit_resample(train_tfidf, y_train)\n",
    "print(f'Shape: {train_tfidf.shape}')\n",
    "print(y_train.value_counts())"
   ],
   "metadata": {
    "collapsed": false,
    "pycharm": {
     "name": "#%%\n"
    }
   }
  },
  {
   "cell_type": "code",
   "execution_count": 10,
   "outputs": [
    {
     "data": {
      "text/plain": "0.811960542540074"
     },
     "execution_count": 10,
     "metadata": {},
     "output_type": "execute_result"
    }
   ],
   "source": [
    "# random forest classifier with TFIDF\n",
    "rf = RandomForestClassifier(random_state=0)\n",
    "\n",
    "# fit\n",
    "rf.fit(train_tfidf, y_train)\n",
    "\n",
    "# predict\n",
    "y_pred = rf.predict(test_tfidf)\n",
    "\n",
    "# accuracy\n",
    "accuracy_score(y_test, y_pred)"
   ],
   "metadata": {
    "collapsed": false,
    "pycharm": {
     "name": "#%%\n"
    }
   }
  },
  {
   "cell_type": "code",
   "execution_count": null,
   "outputs": [],
   "source": [
    "# grid search\n",
    "param_grid = {\n",
    "    'n_estimators': [380, 400, 420, 450, 500],\n",
    "    #'max_depth' : [20,30,35,40,45],\n",
    "    'criterion' :['gini']\n",
    "}\n",
    "CV_rfc = GridSearchCV(estimator=RandomForestClassifier(random_state=0),\n",
    "                      param_grid=param_grid, cv= 5, n_jobs=-1)\n",
    "CV_rfc.fit(train_tfidf, y_train)\n",
    "print(CV_rfc.best_params_)\n",
    "print(CV_rfc.best_score_)"
   ],
   "metadata": {
    "collapsed": false,
    "pycharm": {
     "name": "#%%\n",
     "is_executing": true
    }
   }
  },
  {
   "cell_type": "code",
   "execution_count": 10,
   "outputs": [
    {
     "name": "stdout",
     "output_type": "stream",
     "text": [
      "0.8175092478421702\n",
      "              precision    recall  f1-score   support\n",
      "\n",
      "    AF Other       0.59      0.57      0.58        91\n",
      "      Animal       0.90      0.85      0.88        75\n",
      "   Conductor       0.48      0.56      0.52        39\n",
      "  Connection       0.77      0.81      0.79       227\n",
      "    Crossarm       0.83      0.95      0.88       116\n",
      "      Dug up       0.91      0.94      0.93        99\n",
      "        Fuse       0.83      0.86      0.85       105\n",
      "Installation       0.25      0.14      0.18         7\n",
      "   Lightning       0.88      0.88      0.88        33\n",
      "    OH Cable       0.58      0.61      0.60        59\n",
      "       Other       0.89      0.82      0.85       315\n",
      "        Pole       0.77      0.57      0.66        84\n",
      "       Trees       0.91      0.92      0.92       138\n",
      "    UG Cable       0.00      0.00      0.00         6\n",
      "     Vehicle       0.88      0.92      0.90       228\n",
      "\n",
      "    accuracy                           0.82      1622\n",
      "   macro avg       0.70      0.69      0.69      1622\n",
      "weighted avg       0.82      0.82      0.82      1622\n",
      "\n"
     ]
    }
   ],
   "source": [
    "# random forest classifier\n",
    "rf = RandomForestClassifier(random_state=0, criterion='gini',  n_estimators=390)\n",
    "\n",
    "# fit\n",
    "rf.fit(train_tfidf, y_train)\n",
    "\n",
    "# predict\n",
    "y_pred = rf.predict(test_tfidf)\n",
    "\n",
    "# accuracy\n",
    "print(accuracy_score(y_test, y_pred))\n",
    "\n",
    "# classification report\n",
    "print(classification_report(y_test, y_pred))"
   ],
   "metadata": {
    "collapsed": false,
    "pycharm": {
     "name": "#%%\n"
    }
   }
  },
  {
   "cell_type": "code",
   "execution_count": 31,
   "outputs": [
    {
     "name": "stdout",
     "output_type": "stream",
     "text": [
      "0.8076448828606658\n",
      "              precision    recall  f1-score   support\n",
      "\n",
      "    AF Other       0.67      0.40      0.50        91\n",
      "      Animal       0.90      0.76      0.83        75\n",
      "   Conductor       0.54      0.36      0.43        39\n",
      "  Connection       0.70      0.90      0.79       227\n",
      "    Crossarm       0.78      0.93      0.85       116\n",
      "      Dug up       0.89      0.89      0.89        99\n",
      "        Fuse       0.86      0.87      0.86       105\n",
      "Installation       0.00      0.00      0.00         7\n",
      "   Lightning       0.93      0.82      0.87        33\n",
      "    OH Cable       0.75      0.46      0.57        59\n",
      "       Other       0.85      0.86      0.85       315\n",
      "        Pole       0.75      0.57      0.65        84\n",
      "       Trees       0.86      0.93      0.90       138\n",
      "    UG Cable       0.00      0.00      0.00         6\n",
      "     Vehicle       0.85      0.93      0.88       228\n",
      "\n",
      "    accuracy                           0.81      1622\n",
      "   macro avg       0.69      0.64      0.66      1622\n",
      "weighted avg       0.80      0.81      0.80      1622\n",
      "\n"
     ]
    }
   ],
   "source": [
    "# random forest classifier\n",
    "rf2 = RandomForestClassifier(random_state=0, criterion='gini',  n_estimators=390)\n",
    "\n",
    "# fit\n",
    "rf2.fit(train_bow, y_train)\n",
    "\n",
    "# predict\n",
    "y_pred = rf2.predict(test_bow)\n",
    "\n",
    "# accuracy\n",
    "print(accuracy_score(y_test, y_pred))\n",
    "\n",
    "# classification report\n",
    "print(classification_report(y_test, y_pred))"
   ],
   "metadata": {
    "collapsed": false,
    "pycharm": {
     "name": "#%%\n"
    }
   }
  },
  {
   "cell_type": "code",
   "execution_count": 32,
   "outputs": [
    {
     "name": "stdout",
     "output_type": "stream",
     "text": [
      "0.717632552404439\n",
      "              precision    recall  f1-score   support\n",
      "\n",
      "    AF Other       0.45      0.40      0.42        91\n",
      "      Animal       0.76      0.59      0.66        75\n",
      "   Conductor       0.33      0.28      0.31        39\n",
      "  Connection       0.67      0.77      0.72       227\n",
      "    Crossarm       0.80      0.86      0.83       116\n",
      "      Dug up       0.79      0.77      0.78        99\n",
      "        Fuse       0.79      0.80      0.80       105\n",
      "Installation       0.10      0.14      0.12         7\n",
      "   Lightning       0.95      0.64      0.76        33\n",
      "    OH Cable       0.49      0.39      0.43        59\n",
      "       Other       0.75      0.82      0.78       315\n",
      "        Pole       0.60      0.62      0.61        84\n",
      "       Trees       0.77      0.77      0.77       138\n",
      "    UG Cable       1.00      0.17      0.29         6\n",
      "     Vehicle       0.82      0.77      0.80       228\n",
      "\n",
      "    accuracy                           0.72      1622\n",
      "   macro avg       0.67      0.59      0.60      1622\n",
      "weighted avg       0.72      0.72      0.71      1622\n",
      "\n"
     ]
    }
   ],
   "source": [
    "# random forest classifier\n",
    "rf = RandomForestClassifier(random_state=0, criterion='gini',  n_estimators=390)\n",
    "\n",
    "# fit\n",
    "rf.fit(train_bigram, y_train)\n",
    "\n",
    "# predict\n",
    "y_pred = rf.predict(test_bigram)\n",
    "\n",
    "# accuracy\n",
    "print(accuracy_score(y_test, y_pred))\n",
    "\n",
    "# classification report\n",
    "print(classification_report(y_test, y_pred))"
   ],
   "metadata": {
    "collapsed": false,
    "pycharm": {
     "name": "#%%\n"
    }
   }
  },
  {
   "cell_type": "code",
   "execution_count": 36,
   "outputs": [
    {
     "name": "stdout",
     "output_type": "stream",
     "text": [
      "0.7990135635018496\n",
      "              precision    recall  f1-score   support\n",
      "\n",
      "    AF Other       0.64      0.40      0.49        91\n",
      "      Animal       0.90      0.76      0.83        75\n",
      "   Conductor       0.45      0.26      0.33        39\n",
      "  Connection       0.69      0.90      0.78       227\n",
      "    Crossarm       0.80      0.91      0.85       116\n",
      "      Dug up       0.93      0.87      0.90        99\n",
      "        Fuse       0.84      0.86      0.85       105\n",
      "Installation       0.00      0.00      0.00         7\n",
      "   Lightning       1.00      0.79      0.88        33\n",
      "    OH Cable       0.83      0.42      0.56        59\n",
      "       Other       0.81      0.87      0.84       315\n",
      "        Pole       0.75      0.54      0.63        84\n",
      "       Trees       0.85      0.91      0.88       138\n",
      "    UG Cable       0.00      0.00      0.00         6\n",
      "     Vehicle       0.85      0.92      0.88       228\n",
      "\n",
      "    accuracy                           0.80      1622\n",
      "   macro avg       0.69      0.63      0.65      1622\n",
      "weighted avg       0.79      0.80      0.79      1622\n",
      "\n"
     ]
    }
   ],
   "source": [
    "# use hashing vectorizer\n",
    "from sklearn.feature_extraction.text import HashingVectorizer\n",
    "\n",
    "hashing_vectorizer = HashingVectorizer(analyzer='word', n_features=1000)\n",
    "hashing_vectorizer.fit(clean_text)\n",
    "train_hash = hashing_vectorizer.transform(x_train)\n",
    "test_hash = hashing_vectorizer.transform(x_test)\n",
    "\n",
    "# random forest classifier\n",
    "rf = RandomForestClassifier(random_state=0, criterion='gini',  n_estimators=390)\n",
    "\n",
    "# fit\n",
    "rf.fit(train_hash, y_train)\n",
    "\n",
    "# predict\n",
    "y_pred = rf.predict(test_hash)\n",
    "\n",
    "# accuracy\n",
    "print(accuracy_score(y_test, y_pred))\n",
    "\n",
    "# classification report\n",
    "print(classification_report(y_test, y_pred))"
   ],
   "metadata": {
    "collapsed": false,
    "pycharm": {
     "name": "#%%\n"
    }
   }
  },
  {
   "cell_type": "code",
   "execution_count": null,
   "outputs": [],
   "source": [],
   "metadata": {
    "collapsed": false,
    "pycharm": {
     "name": "#%%\n"
    }
   }
  },
  {
   "cell_type": "code",
   "execution_count": null,
   "outputs": [],
   "source": [],
   "metadata": {
    "collapsed": false,
    "pycharm": {
     "name": "#%%\n"
    }
   }
  },
  {
   "cell_type": "code",
   "execution_count": null,
   "outputs": [],
   "source": [],
   "metadata": {
    "collapsed": false,
    "pycharm": {
     "name": "#%%\n"
    }
   }
  }
 ],
 "metadata": {
  "kernelspec": {
   "display_name": "Python 3",
   "language": "python",
   "name": "python3"
  },
  "language_info": {
   "codemirror_mode": {
    "name": "ipython",
    "version": 2
   },
   "file_extension": ".py",
   "mimetype": "text/x-python",
   "name": "python",
   "nbconvert_exporter": "python",
   "pygments_lexer": "ipython2",
   "version": "2.7.6"
  }
 },
 "nbformat": 4,
 "nbformat_minor": 0
}