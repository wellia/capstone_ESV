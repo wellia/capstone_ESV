{
  "nbformat": 4,
  "nbformat_minor": 0,
  "metadata": {
    "colab": {
      "name": "Stacking.ipynb",
      "provenance": [],
      "collapsed_sections": []
    },
    "kernelspec": {
      "name": "python3",
      "display_name": "Python 3"
    },
    "accelerator": "GPU"
  },
  "cells": [
    {
      "cell_type": "markdown",
      "metadata": {
        "id": "xxO9G5EMZ9DK"
      },
      "source": [
        "## Dataset Location##"
      ]
    },
    {
      "cell_type": "code",
      "metadata": {
        "id": "BLHlXaMaTkl1"
      },
      "source": [
        "# dataset location\n",
        "FILE = '/content/drive/MyDrive/Deakin Energy T3/Dataset/cleaned_incidents1.csv'"
      ],
      "execution_count": 1,
      "outputs": []
    },
    {
      "cell_type": "markdown",
      "metadata": {
        "id": "ZrodsEJKaAeV"
      },
      "source": [
        "##Required Libraries"
      ]
    },
    {
      "cell_type": "code",
      "metadata": {
        "id": "-nSQg1RtUKu9"
      },
      "source": [
        "# import libraries\n",
        "import pandas as pd\n",
        "import numpy as np\n",
        "import matplotlib.pyplot as plt\n",
        "import string\n",
        "import re\n",
        "from nltk.corpus import stopwords\n",
        "import nltk\n",
        "from nltk.stem import WordNetLemmatizer \n",
        "from sklearn.preprocessing import LabelEncoder\n",
        "from sklearn.ensemble import RandomForestClassifier\n",
        "from sklearn.ensemble import AdaBoostClassifier\n",
        "from sklearn.metrics import accuracy_score, confusion_matrix, plot_confusion_matrix, classification_report, ConfusionMatrixDisplay\n",
        "from sklearn.model_selection import train_test_split, GridSearchCV\n",
        "from sklearn.feature_extraction.text import TfidfVectorizer, CountVectorizer\n",
        "from sklearn.pipeline import Pipeline\n",
        "from sklearn.linear_model import LogisticRegression\n",
        "from sklearn.ensemble import StackingClassifier\n",
        "from sklearn.svm import SVC\n",
        "import tensorflow as tf\n",
        "from keras.preprocessing.sequence import pad_sequences\n",
        "from keras.layers import Embedding, LSTM, Dense, Dropout\n",
        "from keras.preprocessing.text import Tokenizer\n",
        "from keras.callbacks import EarlyStopping\n",
        "from keras.models import Sequential\n",
        "import warnings\n",
        "warnings.filterwarnings(\"ignore\")\n",
        "warnings.simplefilter(action='ignore', category=FutureWarning)\n",
        "\n",
        "# set seeds for reproducability\n",
        "from numpy.random import seed\n",
        "tf.random.set_seed(2000)\n",
        "seed(500)\n",
        "\n",
        "# global configurations\n",
        "pd.set_option(\"display.max_colwidth\", -1)\n",
        "\n"
      ],
      "execution_count": 3,
      "outputs": []
    },
    {
      "cell_type": "markdown",
      "metadata": {
        "id": "KhCUwDdqaD85"
      },
      "source": [
        "##EDA##"
      ]
    },
    {
      "cell_type": "code",
      "metadata": {
        "colab": {
          "base_uri": "https://localhost:8080/",
          "height": 1000
        },
        "id": "H39kqM9qUN96",
        "outputId": "ef2ada5d-83eb-452d-eeca-ec9f3d683bf6"
      },
      "source": [
        "# read file\n",
        "df = pd.read_csv(FILE)\n",
        "\n",
        "df.head()"
      ],
      "execution_count": 4,
      "outputs": [
        {
          "output_type": "execute_result",
          "data": {
            "text/html": [
              "<div>\n",
              "<style scoped>\n",
              "    .dataframe tbody tr th:only-of-type {\n",
              "        vertical-align: middle;\n",
              "    }\n",
              "\n",
              "    .dataframe tbody tr th {\n",
              "        vertical-align: top;\n",
              "    }\n",
              "\n",
              "    .dataframe thead th {\n",
              "        text-align: right;\n",
              "    }\n",
              "</style>\n",
              "<table border=\"1\" class=\"dataframe\">\n",
              "  <thead>\n",
              "    <tr style=\"text-align: right;\">\n",
              "      <th></th>\n",
              "      <th>ActionTaken</th>\n",
              "      <th>Address</th>\n",
              "      <th>AssetLabel</th>\n",
              "      <th>CauseCommunity</th>\n",
              "      <th>CauseEnvironment</th>\n",
              "      <th>CausePre</th>\n",
              "      <th>CauseTechnical</th>\n",
              "      <th>CauseWorkP</th>\n",
              "      <th>ContactType</th>\n",
              "      <th>CorrectProtection</th>\n",
              "      <th>EventDescription</th>\n",
              "      <th>FailedAssets</th>\n",
              "      <th>FailedExplosion</th>\n",
              "      <th>FailedOilFilled</th>\n",
              "      <th>FailedOtherAssets</th>\n",
              "      <th>FailedOtherAssetsOther</th>\n",
              "      <th>FeederNumber</th>\n",
              "      <th>IncidentCause</th>\n",
              "      <th>IncidentConsequence</th>\n",
              "      <th>IncidentDatetime</th>\n",
              "      <th>IncidentFireFFactorReportable</th>\n",
              "      <th>IncidentFireSeverity</th>\n",
              "      <th>IncidentID</th>\n",
              "      <th>IncidentLocationType</th>\n",
              "      <th>IncidentLocationTypeOther</th>\n",
              "      <th>IncidentNumber</th>\n",
              "      <th>IncidentType</th>\n",
              "      <th>Lat</th>\n",
              "      <th>Long</th>\n",
              "      <th>MadeSafe</th>\n",
              "      <th>NetworkType</th>\n",
              "      <th>Status</th>\n",
              "      <th>SubmissionID</th>\n",
              "      <th>SubmittedDateTimeString</th>\n",
              "      <th>Voltage</th>\n",
              "      <th>WeatherStation</th>\n",
              "      <th>Postcode</th>\n",
              "      <th>Locality</th>\n",
              "      <th>Category</th>\n",
              "    </tr>\n",
              "  </thead>\n",
              "  <tbody>\n",
              "    <tr>\n",
              "      <th>0</th>\n",
              "      <td>Crew isolated supply and undertook repairs</td>\n",
              "      <td>PARA PARK, 1490 HENDY MAIN ROAD, PARAPARAP VIC 3240</td>\n",
              "      <td>NaN</td>\n",
              "      <td>NaN</td>\n",
              "      <td>NaN</td>\n",
              "      <td>NaN</td>\n",
              "      <td>Earth fault</td>\n",
              "      <td>NaN</td>\n",
              "      <td>NaN</td>\n",
              "      <td>NaN</td>\n",
              "      <td>A nearby customer reported sparking of electrical lines at the above location. On attendance the crew found that a High Voltage ABC conductor had faulted midspan resulting in a ground fire (Approx 30 sqm). There were no reported injuries.</td>\n",
              "      <td>Conductor (ABC)</td>\n",
              "      <td>0</td>\n",
              "      <td>0</td>\n",
              "      <td>0</td>\n",
              "      <td>NaN</td>\n",
              "      <td>NaN</td>\n",
              "      <td>HVABC cable faulted midspan</td>\n",
              "      <td>Grassfire</td>\n",
              "      <td>5/10/2015 20:36</td>\n",
              "      <td>1.0</td>\n",
              "      <td>Small: 10 - 1000 sq.m</td>\n",
              "      <td>56</td>\n",
              "      <td>Roadway</td>\n",
              "      <td>NaN</td>\n",
              "      <td>20151009PWA_1</td>\n",
              "      <td>Infrastructure (network-based)</td>\n",
              "      <td>-38.288982</td>\n",
              "      <td>144.191502</td>\n",
              "      <td>1</td>\n",
              "      <td>Powercor</td>\n",
              "      <td>Report</td>\n",
              "      <td>1030</td>\n",
              "      <td>01:04.8</td>\n",
              "      <td>22kV AC</td>\n",
              "      <td>Avalon Airport</td>\n",
              "      <td>3240.0</td>\n",
              "      <td>Paraparap</td>\n",
              "      <td>OH Cable</td>\n",
              "    </tr>\n",
              "    <tr>\n",
              "      <th>1</th>\n",
              "      <td>Crew undertook repairs</td>\n",
              "      <td>1154-1198 CHRISTIES ROAD, RAVENHALL VIC 3023</td>\n",
              "      <td>NaN</td>\n",
              "      <td>Working too close to underground cables</td>\n",
              "      <td>NaN</td>\n",
              "      <td>NaN</td>\n",
              "      <td>NaN</td>\n",
              "      <td>NaN</td>\n",
              "      <td>NaN</td>\n",
              "      <td>NaN</td>\n",
              "      <td>A contractor reported that he had contacted an earthing cable while excavating a trench at the above location. On arrival the crew found that the contractor (Dennis James, Ph: 0418 390 584) was digging a trench and contacted an earthing cable, causing damage to the cable. There were no reported injuries or third party property damages.</td>\n",
              "      <td>No failed asset</td>\n",
              "      <td>0</td>\n",
              "      <td>0</td>\n",
              "      <td>0</td>\n",
              "      <td>NaN</td>\n",
              "      <td>NaN</td>\n",
              "      <td>Contractor contacted earthing conductor</td>\n",
              "      <td>No Go Zone (contact)</td>\n",
              "      <td>7/10/2015 11:00</td>\n",
              "      <td>NaN</td>\n",
              "      <td>NaN</td>\n",
              "      <td>64</td>\n",
              "      <td>NaN</td>\n",
              "      <td>NaN</td>\n",
              "      <td>20151012PWA_5</td>\n",
              "      <td>Infrastructure (network-based)</td>\n",
              "      <td>-37.767377</td>\n",
              "      <td>144.738509</td>\n",
              "      <td>1</td>\n",
              "      <td>Powercor</td>\n",
              "      <td>Report</td>\n",
              "      <td>96</td>\n",
              "      <td>39:29.0</td>\n",
              "      <td>Earthing cable</td>\n",
              "      <td>Laverton Raaf</td>\n",
              "      <td>3023.0</td>\n",
              "      <td>Ravenhall</td>\n",
              "      <td>Dug up</td>\n",
              "    </tr>\n",
              "    <tr>\n",
              "      <th>2</th>\n",
              "      <td>Crew isolated supply and undertook repairs</td>\n",
              "      <td>326 DUNBARS ROAD, PETERBOROUGH VIC 3270</td>\n",
              "      <td>NaN</td>\n",
              "      <td>NaN</td>\n",
              "      <td>NaN</td>\n",
              "      <td>NaN</td>\n",
              "      <td>Corrosion</td>\n",
              "      <td>NaN</td>\n",
              "      <td>NaN</td>\n",
              "      <td>1.0</td>\n",
              "      <td>A field crew attending an outage found that a 22kV conductor had broken due to rust at a connecting sleeve and had fallen to the ground where one end remained alive due to a high impedance backfeed through downline transformer windings. Protection operated. There were no reported injuries or third party property damages.</td>\n",
              "      <td>Conductor (bare)</td>\n",
              "      <td>0</td>\n",
              "      <td>0</td>\n",
              "      <td>0</td>\n",
              "      <td>NaN</td>\n",
              "      <td>NaN</td>\n",
              "      <td>Conductor broke due to rust</td>\n",
              "      <td>Serious risk to public safety (e.g. live conductor on ground or live asset accessible to unauthorised persons)</td>\n",
              "      <td>10/10/2015 8:36</td>\n",
              "      <td>NaN</td>\n",
              "      <td>NaN</td>\n",
              "      <td>67</td>\n",
              "      <td>Agricultural</td>\n",
              "      <td>NaN</td>\n",
              "      <td>20151013PWA_1</td>\n",
              "      <td>Infrastructure (network-based)</td>\n",
              "      <td>-38.586647</td>\n",
              "      <td>142.901137</td>\n",
              "      <td>1</td>\n",
              "      <td>Powercor</td>\n",
              "      <td>Report</td>\n",
              "      <td>86</td>\n",
              "      <td>45:20.1</td>\n",
              "      <td>22kV AC</td>\n",
              "      <td>Warrnambool Airport Ndb</td>\n",
              "      <td>3270.0</td>\n",
              "      <td>Peterborough</td>\n",
              "      <td>Connection</td>\n",
              "    </tr>\n",
              "    <tr>\n",
              "      <th>3</th>\n",
              "      <td>Crew undertook repairs</td>\n",
              "      <td>41-49 BANK STREET, SOUTH MELBOURNE VIC 3205</td>\n",
              "      <td>NaN</td>\n",
              "      <td>Vandalism</td>\n",
              "      <td>NaN</td>\n",
              "      <td>NaN</td>\n",
              "      <td>NaN</td>\n",
              "      <td>NaN</td>\n",
              "      <td>NaN</td>\n",
              "      <td>1.0</td>\n",
              "      <td>Interfere and vandalism in substation. Unknown third parties used an unknown object to interfere with two HV fuses which blew in an Indoor Substation. ‘Little Bank – Kingsway’ Indoor substation affected. Also, Secure Parking at the rear of 19-29 Bank Street had theft and vandalism of their Ticket Machine in conjunction with this substation interfere and vandalism.</td>\n",
              "      <td>Indoor</td>\n",
              "      <td>0</td>\n",
              "      <td>2</td>\n",
              "      <td>0</td>\n",
              "      <td>NaN</td>\n",
              "      <td>NaN</td>\n",
              "      <td>Vandalism</td>\n",
              "      <td>Loss of supply;Damage to network assets</td>\n",
              "      <td>4/10/2015 10:30</td>\n",
              "      <td>NaN</td>\n",
              "      <td>NaN</td>\n",
              "      <td>73</td>\n",
              "      <td>NaN</td>\n",
              "      <td>NaN</td>\n",
              "      <td>20151015PWA_4</td>\n",
              "      <td>Infrastructure (network-based)</td>\n",
              "      <td>-37.832352</td>\n",
              "      <td>144.968452</td>\n",
              "      <td>1</td>\n",
              "      <td>CitiPower</td>\n",
              "      <td>Report</td>\n",
              "      <td>92</td>\n",
              "      <td>03:46.9</td>\n",
              "      <td>22kV AC</td>\n",
              "      <td>Essendon Airport</td>\n",
              "      <td>3205.0</td>\n",
              "      <td>South Melbourne</td>\n",
              "      <td>Other</td>\n",
              "    </tr>\n",
              "    <tr>\n",
              "      <th>4</th>\n",
              "      <td>Crew isolated supply and undertook repairs</td>\n",
              "      <td>199 WILSONS ROAD, WHITTINGTON VIC 3219</td>\n",
              "      <td>NaN</td>\n",
              "      <td>Vehicle</td>\n",
              "      <td>NaN</td>\n",
              "      <td>NaN</td>\n",
              "      <td>NaN</td>\n",
              "      <td>NaN</td>\n",
              "      <td>NaN</td>\n",
              "      <td>NaN</td>\n",
              "      <td>A nearby customer reported that a high load had pulled down wires at the above location.  On arrival the crew found that a LV service cable had been contacted by an unknown vehicle, breaking the cable which fell to the ground. There were no reported injuries or third party property damages.  Following repairs the cable was measured at 5.3m at the kerb.</td>\n",
              "      <td>Service conductor</td>\n",
              "      <td>0</td>\n",
              "      <td>0</td>\n",
              "      <td>0</td>\n",
              "      <td>NaN</td>\n",
              "      <td>NaN</td>\n",
              "      <td>Unknown high load contacted LV service cable</td>\n",
              "      <td>No Go Zone (contact);Damage to network assets</td>\n",
              "      <td>5/10/2015 14:41</td>\n",
              "      <td>NaN</td>\n",
              "      <td>NaN</td>\n",
              "      <td>77</td>\n",
              "      <td>NaN</td>\n",
              "      <td>NaN</td>\n",
              "      <td>20151016PWA_1</td>\n",
              "      <td>Infrastructure (network-based)</td>\n",
              "      <td>-38.177436</td>\n",
              "      <td>144.390480</td>\n",
              "      <td>1</td>\n",
              "      <td>Powercor</td>\n",
              "      <td>Report</td>\n",
              "      <td>98</td>\n",
              "      <td>13:07.0</td>\n",
              "      <td>Low voltage AC (&lt;1kV)</td>\n",
              "      <td>Avalon Airport</td>\n",
              "      <td>3219.0</td>\n",
              "      <td>Whittington</td>\n",
              "      <td>Vehicle</td>\n",
              "    </tr>\n",
              "  </tbody>\n",
              "</table>\n",
              "</div>"
            ],
            "text/plain": [
              "                                  ActionTaken  ...    Category\n",
              "0  Crew isolated supply and undertook repairs  ...  OH Cable  \n",
              "1  Crew undertook repairs                      ...  Dug up    \n",
              "2  Crew isolated supply and undertook repairs  ...  Connection\n",
              "3  Crew undertook repairs                      ...  Other     \n",
              "4  Crew isolated supply and undertook repairs  ...  Vehicle   \n",
              "\n",
              "[5 rows x 39 columns]"
            ]
          },
          "metadata": {
            "tags": []
          },
          "execution_count": 4
        }
      ]
    },
    {
      "cell_type": "code",
      "metadata": {
        "colab": {
          "base_uri": "https://localhost:8080/"
        },
        "id": "2OyFvmc9UUg0",
        "outputId": "c372287d-20d6-4c95-b7b1-c308f8e5138c"
      },
      "source": [
        "# missing value counts\n",
        "df.isna().sum()"
      ],
      "execution_count": 5,
      "outputs": [
        {
          "output_type": "execute_result",
          "data": {
            "text/plain": [
              "ActionTaken                      0   \n",
              "Address                          0   \n",
              "AssetLabel                       1334\n",
              "CauseCommunity                   4033\n",
              "CauseEnvironment                 4996\n",
              "CausePre                         6426\n",
              "CauseTechnical                   3348\n",
              "CauseWorkP                       6342\n",
              "ContactType                      5650\n",
              "CorrectProtection                2257\n",
              "EventDescription                 0   \n",
              "FailedAssets                     0   \n",
              "FailedExplosion                  0   \n",
              "FailedOilFilled                  0   \n",
              "FailedOtherAssets                0   \n",
              "FailedOtherAssetsOther           6494\n",
              "FeederNumber                     1326\n",
              "IncidentCause                    1   \n",
              "IncidentConsequence              0   \n",
              "IncidentDatetime                 0   \n",
              "IncidentFireFFactorReportable    3840\n",
              "IncidentFireSeverity             3737\n",
              "IncidentID                       0   \n",
              "IncidentLocationType             651 \n",
              "IncidentLocationTypeOther        6442\n",
              "IncidentNumber                   0   \n",
              "IncidentType                     0   \n",
              "Lat                              0   \n",
              "Long                             0   \n",
              "MadeSafe                         0   \n",
              "NetworkType                      0   \n",
              "Status                           0   \n",
              "SubmissionID                     0   \n",
              "SubmittedDateTimeString          0   \n",
              "Voltage                          0   \n",
              "WeatherStation                   0   \n",
              "Postcode                         14  \n",
              "Locality                         47  \n",
              "Category                         15  \n",
              "dtype: int64"
            ]
          },
          "metadata": {
            "tags": []
          },
          "execution_count": 5
        }
      ]
    },
    {
      "cell_type": "code",
      "metadata": {
        "colab": {
          "base_uri": "https://localhost:8080/"
        },
        "id": "zYxIOJqDUYBZ",
        "outputId": "bf2294b2-13d3-4ba5-9e94-c08cb1183b0a"
      },
      "source": [
        "# class distribution check\n",
        "df['Category'].value_counts()"
      ],
      "execution_count": 6,
      "outputs": [
        {
          "output_type": "execute_result",
          "data": {
            "text/plain": [
              "Other           1321\n",
              "Connection      904 \n",
              "Vehicle         814 \n",
              "Trees           569 \n",
              "Crossarm        475 \n",
              "Fuse            430 \n",
              "Dug up          385 \n",
              "AF Other        378 \n",
              "Pole            328 \n",
              "Animal          281 \n",
              "OH Cable        216 \n",
              "Conductor       187 \n",
              "Lightning       146 \n",
              "Installation    29  \n",
              "UG Cable        26  \n",
              "Name: Category, dtype: int64"
            ]
          },
          "metadata": {
            "tags": []
          },
          "execution_count": 6
        }
      ]
    },
    {
      "cell_type": "code",
      "metadata": {
        "colab": {
          "base_uri": "https://localhost:8080/",
          "height": 1000
        },
        "id": "8VCX6k0SVA9c",
        "outputId": "d10b4db1-90ac-4157-b7fe-750a9550ca75"
      },
      "source": [
        "'''\n",
        "Features to consider:\n",
        "EventDescription, FailedAssets, IncidentCause, IncidentConsequence, IncidentType, Status, WeatherStation\n",
        "\n",
        "Data Dictionary:\n",
        "EventDescription --> Text\n",
        "FailedAssets --> Text\n",
        "IncidentCause --> Text\n",
        "IncidentConsequence --> Text\n",
        "IncidentType --> Categorical \n",
        "Status --> Categorical\n",
        "WeatherStation --> Categorical\n",
        "'''\n",
        "\n",
        "X = df[['EventDescription', 'FailedAssets', 'IncidentCause', 'IncidentConsequence', 'IncidentType', 'Status', 'WeatherStation', 'Category']]\n",
        "\n",
        "X.head()"
      ],
      "execution_count": 7,
      "outputs": [
        {
          "output_type": "execute_result",
          "data": {
            "text/html": [
              "<div>\n",
              "<style scoped>\n",
              "    .dataframe tbody tr th:only-of-type {\n",
              "        vertical-align: middle;\n",
              "    }\n",
              "\n",
              "    .dataframe tbody tr th {\n",
              "        vertical-align: top;\n",
              "    }\n",
              "\n",
              "    .dataframe thead th {\n",
              "        text-align: right;\n",
              "    }\n",
              "</style>\n",
              "<table border=\"1\" class=\"dataframe\">\n",
              "  <thead>\n",
              "    <tr style=\"text-align: right;\">\n",
              "      <th></th>\n",
              "      <th>EventDescription</th>\n",
              "      <th>FailedAssets</th>\n",
              "      <th>IncidentCause</th>\n",
              "      <th>IncidentConsequence</th>\n",
              "      <th>IncidentType</th>\n",
              "      <th>Status</th>\n",
              "      <th>WeatherStation</th>\n",
              "      <th>Category</th>\n",
              "    </tr>\n",
              "  </thead>\n",
              "  <tbody>\n",
              "    <tr>\n",
              "      <th>0</th>\n",
              "      <td>A nearby customer reported sparking of electrical lines at the above location. On attendance the crew found that a High Voltage ABC conductor had faulted midspan resulting in a ground fire (Approx 30 sqm). There were no reported injuries.</td>\n",
              "      <td>Conductor (ABC)</td>\n",
              "      <td>HVABC cable faulted midspan</td>\n",
              "      <td>Grassfire</td>\n",
              "      <td>Infrastructure (network-based)</td>\n",
              "      <td>Report</td>\n",
              "      <td>Avalon Airport</td>\n",
              "      <td>OH Cable</td>\n",
              "    </tr>\n",
              "    <tr>\n",
              "      <th>1</th>\n",
              "      <td>A contractor reported that he had contacted an earthing cable while excavating a trench at the above location. On arrival the crew found that the contractor (Dennis James, Ph: 0418 390 584) was digging a trench and contacted an earthing cable, causing damage to the cable. There were no reported injuries or third party property damages.</td>\n",
              "      <td>No failed asset</td>\n",
              "      <td>Contractor contacted earthing conductor</td>\n",
              "      <td>No Go Zone (contact)</td>\n",
              "      <td>Infrastructure (network-based)</td>\n",
              "      <td>Report</td>\n",
              "      <td>Laverton Raaf</td>\n",
              "      <td>Dug up</td>\n",
              "    </tr>\n",
              "    <tr>\n",
              "      <th>2</th>\n",
              "      <td>A field crew attending an outage found that a 22kV conductor had broken due to rust at a connecting sleeve and had fallen to the ground where one end remained alive due to a high impedance backfeed through downline transformer windings. Protection operated. There were no reported injuries or third party property damages.</td>\n",
              "      <td>Conductor (bare)</td>\n",
              "      <td>Conductor broke due to rust</td>\n",
              "      <td>Serious risk to public safety (e.g. live conductor on ground or live asset accessible to unauthorised persons)</td>\n",
              "      <td>Infrastructure (network-based)</td>\n",
              "      <td>Report</td>\n",
              "      <td>Warrnambool Airport Ndb</td>\n",
              "      <td>Connection</td>\n",
              "    </tr>\n",
              "    <tr>\n",
              "      <th>3</th>\n",
              "      <td>Interfere and vandalism in substation. Unknown third parties used an unknown object to interfere with two HV fuses which blew in an Indoor Substation. ‘Little Bank – Kingsway’ Indoor substation affected. Also, Secure Parking at the rear of 19-29 Bank Street had theft and vandalism of their Ticket Machine in conjunction with this substation interfere and vandalism.</td>\n",
              "      <td>Indoor</td>\n",
              "      <td>Vandalism</td>\n",
              "      <td>Loss of supply;Damage to network assets</td>\n",
              "      <td>Infrastructure (network-based)</td>\n",
              "      <td>Report</td>\n",
              "      <td>Essendon Airport</td>\n",
              "      <td>Other</td>\n",
              "    </tr>\n",
              "    <tr>\n",
              "      <th>4</th>\n",
              "      <td>A nearby customer reported that a high load had pulled down wires at the above location.  On arrival the crew found that a LV service cable had been contacted by an unknown vehicle, breaking the cable which fell to the ground. There were no reported injuries or third party property damages.  Following repairs the cable was measured at 5.3m at the kerb.</td>\n",
              "      <td>Service conductor</td>\n",
              "      <td>Unknown high load contacted LV service cable</td>\n",
              "      <td>No Go Zone (contact);Damage to network assets</td>\n",
              "      <td>Infrastructure (network-based)</td>\n",
              "      <td>Report</td>\n",
              "      <td>Avalon Airport</td>\n",
              "      <td>Vehicle</td>\n",
              "    </tr>\n",
              "  </tbody>\n",
              "</table>\n",
              "</div>"
            ],
            "text/plain": [
              "                                                                                                                                                                                                                                                                                                                                                                 EventDescription  ...    Category\n",
              "0  A nearby customer reported sparking of electrical lines at the above location. On attendance the crew found that a High Voltage ABC conductor had faulted midspan resulting in a ground fire (Approx 30 sqm). There were no reported injuries.                                                                                                                                  ...  OH Cable  \n",
              "1  A contractor reported that he had contacted an earthing cable while excavating a trench at the above location. On arrival the crew found that the contractor (Dennis James, Ph: 0418 390 584) was digging a trench and contacted an earthing cable, causing damage to the cable. There were no reported injuries or third party property damages.                               ...  Dug up    \n",
              "2  A field crew attending an outage found that a 22kV conductor had broken due to rust at a connecting sleeve and had fallen to the ground where one end remained alive due to a high impedance backfeed through downline transformer windings. Protection operated. There were no reported injuries or third party property damages.                                              ...  Connection\n",
              "3  Interfere and vandalism in substation. Unknown third parties used an unknown object to interfere with two HV fuses which blew in an Indoor Substation. ‘Little Bank – Kingsway’ Indoor substation affected. Also, Secure Parking at the rear of 19-29 Bank Street had theft and vandalism of their Ticket Machine in conjunction with this substation interfere and vandalism.  ...  Other     \n",
              "4  A nearby customer reported that a high load had pulled down wires at the above location.  On arrival the crew found that a LV service cable had been contacted by an unknown vehicle, breaking the cable which fell to the ground. There were no reported injuries or third party property damages.  Following repairs the cable was measured at 5.3m at the kerb.              ...  Vehicle   \n",
              "\n",
              "[5 rows x 8 columns]"
            ]
          },
          "metadata": {
            "tags": []
          },
          "execution_count": 7
        }
      ]
    },
    {
      "cell_type": "code",
      "metadata": {
        "colab": {
          "base_uri": "https://localhost:8080/"
        },
        "id": "AI7ILBWNVFAn",
        "outputId": "2eea8b29-feec-4281-a587-8c896e6e5007"
      },
      "source": [
        "# check missing values\n",
        "X.isna().sum()"
      ],
      "execution_count": 8,
      "outputs": [
        {
          "output_type": "execute_result",
          "data": {
            "text/plain": [
              "EventDescription       0 \n",
              "FailedAssets           0 \n",
              "IncidentCause          1 \n",
              "IncidentConsequence    0 \n",
              "IncidentType           0 \n",
              "Status                 0 \n",
              "WeatherStation         0 \n",
              "Category               15\n",
              "dtype: int64"
            ]
          },
          "metadata": {
            "tags": []
          },
          "execution_count": 8
        }
      ]
    },
    {
      "cell_type": "code",
      "metadata": {
        "id": "b2ur4YomZj6V"
      },
      "source": [
        "# drop null value row\n",
        "X.dropna(axis=0, inplace=True)"
      ],
      "execution_count": 9,
      "outputs": []
    },
    {
      "cell_type": "code",
      "metadata": {
        "colab": {
          "base_uri": "https://localhost:8080/"
        },
        "id": "LzxHpIbuZl_6",
        "outputId": "1b91152a-3f49-47de-d459-32aa26f6f00e"
      },
      "source": [
        "# check missing values\n",
        "X.isna().sum()"
      ],
      "execution_count": 10,
      "outputs": [
        {
          "output_type": "execute_result",
          "data": {
            "text/plain": [
              "EventDescription       0\n",
              "FailedAssets           0\n",
              "IncidentCause          0\n",
              "IncidentConsequence    0\n",
              "IncidentType           0\n",
              "Status                 0\n",
              "WeatherStation         0\n",
              "Category               0\n",
              "dtype: int64"
            ]
          },
          "metadata": {
            "tags": []
          },
          "execution_count": 10
        }
      ]
    },
    {
      "cell_type": "markdown",
      "metadata": {
        "id": "c6pTRg1JaO8B"
      },
      "source": [
        "##Preprocess##"
      ]
    },
    {
      "cell_type": "code",
      "metadata": {
        "colab": {
          "base_uri": "https://localhost:8080/"
        },
        "id": "-UJyBy8WVHoE",
        "outputId": "a4e10ed5-069a-4ea9-9750-9d7671179a13"
      },
      "source": [
        "# English punctuations\n",
        "PUNCT_TO_REMOVE = string.punctuation\n",
        "\n",
        "# English Stopwords\n",
        "nltk.download('stopwords')\n",
        "stop = stopwords.words('english')\n",
        "nltk.download('punkt')\n",
        "\n",
        "# initiate lemmatizer\n",
        "lemmatizer = WordNetLemmatizer() \n",
        "\n",
        "# clean text\n",
        "def preprocess_text(text_data):\n",
        "  '''\n",
        "  data preprocessing:\n",
        "    - lower text\n",
        "    - remove punctuation\n",
        "    - remove stopwords\n",
        "    - remove numbers\n",
        "    - tokenize\n",
        "  '''\n",
        "  lower_text = text_data.lower()\n",
        "  no_punc_text = lower_text.translate(str.maketrans('', '', PUNCT_TO_REMOVE))\n",
        "  no_stopwords_text = \" \".join(x for x in no_punc_text.split() if x not in stop)\n",
        "  remove_number = re.sub('[0-9]+', '', no_stopwords_text)\n",
        "  tokenize = nltk.word_tokenize(remove_number)\n",
        "  \n",
        "  return remove_number"
      ],
      "execution_count": 11,
      "outputs": [
        {
          "output_type": "stream",
          "text": [
            "[nltk_data] Downloading package stopwords to /root/nltk_data...\n",
            "[nltk_data]   Unzipping corpora/stopwords.zip.\n",
            "[nltk_data] Downloading package punkt to /root/nltk_data...\n",
            "[nltk_data]   Unzipping tokenizers/punkt.zip.\n"
          ],
          "name": "stdout"
        }
      ]
    },
    {
      "cell_type": "code",
      "metadata": {
        "colab": {
          "base_uri": "https://localhost:8080/"
        },
        "id": "wTC_xkzPVK2a",
        "outputId": "b20d8726-dce3-49d8-ae85-c51f25274f76"
      },
      "source": [
        "all_features = X['IncidentType'] + ' ' + X['Status'] + ' ' + X['WeatherStation'] + X['EventDescription'] + X['FailedAssets'] + X['IncidentCause'] + X['IncidentConsequence']\n",
        "all_features"
      ],
      "execution_count": 12,
      "outputs": [
        {
          "output_type": "execute_result",
          "data": {
            "text/plain": [
              "0       Infrastructure (network-based) Report Avalon AirportA nearby customer reported sparking of electrical lines at the above location. On attendance the crew found that a High Voltage ABC conductor had faulted midspan resulting in a ground fire (Approx 30 sqm). There were no reported injuries.Conductor (ABC)HVABC cable faulted midspanGrassfire                                                                                                                                                                                                                                                                                                                                                                                                                                                   \n",
              "1       Infrastructure (network-based) Report Laverton RaafA contractor reported that he had contacted an earthing cable while excavating a trench at the above location. On arrival the crew found that the contractor (Dennis James, Ph: 0418 390 584) was digging a trench and contacted an earthing cable, causing damage to the cable. There were no reported injuries or third party property damages.No failed assetContractor contacted earthing conductorNo Go Zone (contact)                                                                                                                                                                                                                                                                                                                          \n",
              "2       Infrastructure (network-based) Report Warrnambool Airport NdbA field crew attending an outage found that a 22kV conductor had broken due to rust at a connecting sleeve and had fallen to the ground where one end remained alive due to a high impedance backfeed through downline transformer windings. Protection operated. There were no reported injuries or third party property damages.Conductor (bare)Conductor broke due to rustSerious risk to public safety (e.g. live conductor on ground or live asset accessible to unauthorised persons)                                                                                                                                                                                                                                                \n",
              "3       Infrastructure (network-based) Report Essendon AirportInterfere and vandalism in substation. Unknown third parties used an unknown object to interfere with two HV fuses which blew in an Indoor Substation. ‘Little Bank – Kingsway’ Indoor substation affected. Also, Secure Parking at the rear of 19-29 Bank Street had theft and vandalism of their Ticket Machine in conjunction with this substation interfere and vandalism.IndoorVandalismLoss of supply;Damage to network assets                                                                                                                                                                                                                                                                                                              \n",
              "4       Infrastructure (network-based) Report Avalon AirportA nearby customer reported that a high load had pulled down wires at the above location.  On arrival the crew found that a LV service cable had been contacted by an unknown vehicle, breaking the cable which fell to the ground. There were no reported injuries or third party property damages.  Following repairs the cable was measured at 5.3m at the kerb.Service conductorUnknown high load contacted LV service cableNo Go Zone (contact);Damage to network assets                                                                                                                                                                                                                                                                        \n",
              "                                                                                                                                                                                                                                                                      ...                                                                                                                                                                                                                                                                                                                                                                                                                                                                                                                                       \n",
              "6499    Infrastructure (network-based) Report Moorabbin AirportA report came in to UE of a FMB sparking at 310 St Kilda St, Brighton.   On arrival the crew identified a fire damaged FOLCB on pole LIS 1806162. An EIO was called to assess the cause.Connection boxThe likely cause was determined by EIO to be a earthing defect within the customers installation  The EIO issued a defect for #301 St Kilda StPlant/equipment                                                                                                                                                                                                                                                                                                                                                                              \n",
              "6500    Infrastructure (network-based) Report Avalon AirportReport received from a resident to advise that a crane had made contact with a powerline and that power was out. \\r\\r\\r\\r\\r\\nWire appears fine and crane no longer in contact.\\r\\r\\r\\r\\r\\nUpon arrival the fault crew found that the crane driver from Metcalf Crane Services had made contact with the 3/12St SWER overhead conductor between LIS-875955 and LIS-104756 while moving gantry equipment associated with the Moorabool windfarm project. \\r\\r\\r\\r\\r\\nThe crane was taken away from site for testing.\\r\\r\\r\\r\\r\\nThere was no fire and no reported injuries.Conductor (bare)Crane struck lineNo Go Zone (contact);Damage to network assets                                                                                             \n",
              "6501    Infrastructure (network-based) Report Mildura AirportReport received of pole fire at incident location.\\r\\r\\r\\r\\r\\nOn arrival crew found top burnt off SWER pole.\\r\\r\\r\\r\\r\\nFire extinguished\\r\\r\\r\\r\\r\\nThere was no ground fire, no reported injuries or third party property damage.Pole (wood)Excessive leakage currentPole-top fire                                                                                                                                                                                                                                                                                                                                                                                                                                                               \n",
              "6502    Infrastructure (network-based) Report Swan Hill AerodromeA customer called to report a tractor had hit a wire and brought it down to the ground.\\r\\r\\r\\r\\r\\nOn arrival at the incident location, the crew found that the tractor rego: XV-99CE had been towing large rollers around the paddock and turned sharply, contacting the pole with the rollers and causing it to break off and fall over. \\r\\r\\r\\r\\r\\n The 22kV HV single phase conductors fell onto the tractor, causing the protection to operate, isolating the supply. \\r\\r\\r\\r\\r\\nThe tractor driver exited the vehicle before the crew arrived, and reportedly received no shocks and was not injured. There was no other reported damage, fires or injuries.Conductor (bare);Pole (wood)Farm equipment hit poleDamage to network assets\n",
              "6503    Infrastructure (network-based) Notification Moorabbin Airportconcrete electrical cover outside of front of house gave clients dog an electric shock during rainServices pit (network)Under InvestigationShock to livestock, pet or companion animal                                                                                                                                                                                                                                                                                                                                                                                                                                                                                                                                                     \n",
              "Length: 6488, dtype: object"
            ]
          },
          "metadata": {
            "tags": []
          },
          "execution_count": 12
        }
      ]
    },
    {
      "cell_type": "code",
      "metadata": {
        "colab": {
          "base_uri": "https://localhost:8080/"
        },
        "id": "61oj4HG6VNdJ",
        "outputId": "d0c3af25-5838-4ea4-84d2-fcf091809c71"
      },
      "source": [
        "# category field encoder\n",
        "encoder = LabelEncoder()\n",
        "X['Category'] = encoder.fit_transform((X['Category']))\n",
        "X['Category'].unique()"
      ],
      "execution_count": 13,
      "outputs": [
        {
          "output_type": "execute_result",
          "data": {
            "text/plain": [
              "array([ 9,  5,  3, 10, 14,  6, 12, 11,  4,  2,  1,  0,  8, 13,  7])"
            ]
          },
          "metadata": {
            "tags": []
          },
          "execution_count": 13
        }
      ]
    },
    {
      "cell_type": "code",
      "metadata": {
        "colab": {
          "base_uri": "https://localhost:8080/"
        },
        "id": "krp9UMHzVPfv",
        "outputId": "68d80497-77b0-414f-9f19-5472f2533427"
      },
      "source": [
        "# preprocess free text data\n",
        "clean_text = all_features.apply(lambda text: preprocess_text(text))\n",
        "clean_text"
      ],
      "execution_count": 14,
      "outputs": [
        {
          "output_type": "execute_result",
          "data": {
            "text/plain": [
              "0       infrastructure networkbased report avalon airporta nearby customer reported sparking electrical lines location attendance crew found high voltage abc conductor faulted midspan resulting ground fire approx  sqm reported injuriesconductor abchvabc cable faulted midspangrassfire                                                                                                                                                                                                                                                           \n",
              "1       infrastructure networkbased report laverton raafa contractor reported contacted earthing cable excavating trench location arrival crew found contractor dennis james ph    digging trench contacted earthing cable causing damage cable reported injuries third party property damagesno failed assetcontractor contacted earthing conductorno go zone contact                                                                                                                                                                                 \n",
              "2       infrastructure networkbased report warrnambool airport ndba field crew attending outage found kv conductor broken due rust connecting sleeve fallen ground one end remained alive due high impedance backfeed downline transformer windings protection operated reported injuries third party property damagesconductor bareconductor broke due rustserious risk public safety eg live conductor ground live asset accessible unauthorised persons                                                                                             \n",
              "3       infrastructure networkbased report essendon airportinterfere vandalism substation unknown third parties used unknown object interfere two hv fuses blew indoor substation ‘little bank – kingsway’ indoor substation affected also secure parking rear  bank street theft vandalism ticket machine conjunction substation interfere vandalismindoorvandalismloss supplydamage network assets                                                                                                                                                   \n",
              "4       infrastructure networkbased report avalon airporta nearby customer reported high load pulled wires location arrival crew found lv service cable contacted unknown vehicle breaking cable fell ground reported injuries third party property damages following repairs cable measured m kerbservice conductorunknown high load contacted lv service cableno go zone contactdamage network assets                                                                                                                                                \n",
              "                                                                                                                                                                                                     ...                                                                                                                                                                                                                                                                                                                                               \n",
              "6499    infrastructure networkbased report moorabbin airporta report came ue fmb sparking  st kilda st brighton arrival crew identified fire damaged folcb pole lis  eio called assess causeconnection boxthe likely cause determined eio earthing defect within customers installation eio issued defect  st kilda stplantequipment                                                                                                                                                                                                                   \n",
              "6500    infrastructure networkbased report avalon airportreport received resident advise crane made contact powerline power wire appears fine crane longer contact upon arrival fault crew found crane driver metcalf crane services made contact st swer overhead conductor lis lis moving gantry equipment associated moorabool windfarm project crane taken away site testing fire reported injuriesconductor barecrane struck lineno go zone contactdamage network assets                                                                          \n",
              "6501    infrastructure networkbased report mildura airportreport received pole fire incident location arrival crew found top burnt swer pole fire extinguished ground fire reported injuries third party property damagepole woodexcessive leakage currentpoletop fire                                                                                                                                                                                                                                                                                 \n",
              "6502    infrastructure networkbased report swan hill aerodromea customer called report tractor hit wire brought ground arrival incident location crew found tractor rego xvce towing large rollers around paddock turned sharply contacting pole rollers causing break fall kv hv single phase conductors fell onto tractor causing protection operate isolating supply tractor driver exited vehicle crew arrived reportedly received shocks injured reported damage fires injuriesconductor barepole woodfarm equipment hit poledamage network assets\n",
              "6503    infrastructure networkbased notification moorabbin airportconcrete electrical cover outside front house gave clients dog electric shock rainservices pit networkunder investigationshock livestock pet companion animal                                                                                                                                                                                                                                                                                                                        \n",
              "Length: 6488, dtype: object"
            ]
          },
          "metadata": {
            "tags": []
          },
          "execution_count": 14
        }
      ]
    },
    {
      "cell_type": "markdown",
      "metadata": {
        "id": "nO8-FAybaJAw"
      },
      "source": [
        "##Train Test Split##"
      ]
    },
    {
      "cell_type": "code",
      "metadata": {
        "colab": {
          "base_uri": "https://localhost:8080/"
        },
        "id": "9NpjKktqZvsA",
        "outputId": "a289259b-1e8b-4faf-c0e4-1d766efca798"
      },
      "source": [
        "# train test split\n",
        "x_train, x_test, y_train, y_test = train_test_split(clean_text, X['Category'], test_size=0.1, random_state=100)\n",
        "x_train.shape, x_test.shape"
      ],
      "execution_count": 15,
      "outputs": [
        {
          "output_type": "execute_result",
          "data": {
            "text/plain": [
              "((5839,), (649,))"
            ]
          },
          "metadata": {
            "tags": []
          },
          "execution_count": 15
        }
      ]
    },
    {
      "cell_type": "markdown",
      "metadata": {
        "id": "Q15YL68XaUq0"
      },
      "source": [
        "## String to Number##"
      ]
    },
    {
      "cell_type": "code",
      "metadata": {
        "id": "_daPFJk0Z2MZ"
      },
      "source": [
        "# word level tf-idf\n",
        "tfidf_vect = TfidfVectorizer(analyzer='word', token_pattern=r'\\w{1,}', max_features=5000)\n",
        "tfidf_vect.fit(clean_text)\n",
        "xtrain_tfidf =  tfidf_vect.transform(x_train)\n",
        "xtest_tfidf =  tfidf_vect.transform(x_test)\n",
        "\n",
        "# ngram level tf-idf \n",
        "tfidf_vect_ngram = TfidfVectorizer(analyzer='word', token_pattern=r'\\w{1,}', ngram_range=(2,3), max_features=5000)\n",
        "tfidf_vect_ngram.fit(clean_text)\n",
        "xtrain_tfidf_ngram =  tfidf_vect_ngram.transform(x_train)\n",
        "xtest_tfidf_ngram =  tfidf_vect_ngram.transform(x_test)\n",
        "\n",
        "# characters level tf-idf\n",
        "tfidf_vect_ngram_chars = TfidfVectorizer(analyzer='char', token_pattern=r'\\w{1,}', ngram_range=(2,3), max_features=5000)\n",
        "tfidf_vect_ngram_chars.fit(clean_text)\n",
        "xtrain_tfidf_ngram_chars =  tfidf_vect_ngram_chars.transform(x_train) \n",
        "xtest_tfidf_ngram_chars =  tfidf_vect_ngram_chars.transform(x_test) "
      ],
      "execution_count": 16,
      "outputs": []
    },
    {
      "cell_type": "markdown",
      "metadata": {
        "id": "4PqfuFf2gP-6"
      },
      "source": [
        "##Stacking Classifier##"
      ]
    },
    {
      "cell_type": "code",
      "metadata": {
        "id": "sNWBeRYKgT4s"
      },
      "source": [
        "# estimators to use\n",
        "estimators = [\n",
        "              ('RF', RandomForestClassifier(n_estimators=10, random_state=42)),\n",
        "              ('LR', LogisticRegression(random_state=42)),\n",
        "              ('SVM', SVC(random_state=100))\n",
        "              ]\n",
        "\n",
        "# build stacking classifier\n",
        "stacking_clf = StackingClassifier(\n",
        "    estimators=estimators, final_estimator=LogisticRegression()\n",
        "    )\n",
        "\n",
        "# train\n",
        "stacking_clf.fit(xtrain_tfidf, y_train)\n",
        "\n",
        "# predict\n",
        "y_pred = stacking_clf.predict(xtest_tfidf)\n",
        "\n",
        "# print accuraccy\n",
        "print(f'Stacking accuracy: {accuracy_score(y_test, y_pred)*100:.2f}%')\n",
        "\n",
        "# classification report\n",
        "print(classification_report(y_test, y_pred))"
      ],
      "execution_count": null,
      "outputs": []
    },
    {
      "cell_type": "markdown",
      "metadata": {
        "id": "bitwsputgo9a"
      },
      "source": [
        "## Stacking with N-grams"
      ]
    },
    {
      "cell_type": "code",
      "metadata": {
        "id": "2e52jJ48ga2T"
      },
      "source": [
        "# estimators to use\n",
        "estimators = [\n",
        "              ('RF', RandomForestClassifier(n_estimators=10, random_state=42)),\n",
        "              ('LR', LogisticRegression(random_state=42)),\n",
        "              ('SVM', SVC(random_state=100))\n",
        "              ]\n",
        "\n",
        "# build stacking classifier\n",
        "stacking_clf = StackingClassifier(\n",
        "    estimators=estimators, final_estimator=LogisticRegression()\n",
        "    )\n",
        "\n",
        "# train\n",
        "stacking_clf.fit(xtrain_tfidf_ngram, y_train)\n",
        "\n",
        "# predict\n",
        "y_pred = stacking_clf.predict(xtest_tfidf_ngram)\n",
        "\n",
        "# print accuraccy\n",
        "print(f'Stacking accuracy: {accuracy_score(y_test, y_pred)*100:.2f}%')\n",
        "\n",
        "# classification report\n",
        "print(classification_report(y_test, y_pred))"
      ],
      "execution_count": null,
      "outputs": []
    },
    {
      "cell_type": "code",
      "metadata": {
        "colab": {
          "base_uri": "https://localhost:8080/",
          "height": 1000
        },
        "id": "vTqbRIs24_7r",
        "outputId": "c6189a80-12c4-4fb9-d55f-f93db3571734"
      },
      "source": [
        "%%timeit\n",
        "# grid search parameters\n",
        "param_grid = {\n",
        "    'RF__n_estimators':[50,100,200,250,300],\n",
        "    'RF__criterion': ['gini', 'entropy']\n",
        "    #'LR__penalty': ['l1', 'l2'],\n",
        "    #'LR__C': [0.5,0.8, 1],\n",
        "    #'LR__solver': ['lbfgs', 'newton-cg'],\n",
        "    #'LR__max_iter': [100,150,200,300],\n",
        "    #'SVM__C' : [0.5, 0.8, 1],\n",
        "    #'SVM__kernel': ['linear', 'poly', 'rbf']\n",
        "\n",
        "}\n",
        "\n",
        "# estimators to use\n",
        "estimators = [\n",
        "              ('RF', RandomForestClassifier(random_state=42)),\n",
        "              ('LR', LogisticRegression(random_state=42)),\n",
        "              ('SVM', SVC(random_state=100))\n",
        "              ]\n",
        "\n",
        "# build stacking classifier\n",
        "stacking_clf = StackingClassifier(\n",
        "    estimators=estimators, final_estimator=LogisticRegression()\n",
        "    )\n",
        "\n",
        "# grid search\n",
        "grid_search_stacking = GridSearchCV(stacking_clf, param_grid, 'accuracy', -1, cv=5)\n",
        "\n",
        "# fit\n",
        "grid_search_stacking.fit(xtrain_tfidf_ngram, y_train)\n",
        "\n",
        "# print\n",
        "print(f'best estimator is {grid_search_stacking.best_estimator_}')\n",
        "\n",
        "print(f'best score is {grid_search_stacking.best_score_}')\n",
        "\n",
        "print(f'best params is {grid_search_stacking.best_params_}')"
      ],
      "execution_count": 19,
      "outputs": [
        {
          "output_type": "stream",
          "text": [
            "best estimator is StackingClassifier(cv=None,\n",
            "                   estimators=[('RF',\n",
            "                                RandomForestClassifier(bootstrap=True,\n",
            "                                                       ccp_alpha=0.0,\n",
            "                                                       class_weight=None,\n",
            "                                                       criterion='gini',\n",
            "                                                       max_depth=None,\n",
            "                                                       max_features='auto',\n",
            "                                                       max_leaf_nodes=None,\n",
            "                                                       max_samples=None,\n",
            "                                                       min_impurity_decrease=0.0,\n",
            "                                                       min_impurity_split=None,\n",
            "                                                       min_samples_leaf=1,\n",
            "                                                       min_samples_split=2,\n",
            "                                                       min_weight_fraction_leaf=0.0,\n",
            "                                                       n_estimators=250,\n",
            "                                                       n_jobs=None...\n",
            "                                    shrinking=True, tol=0.001,\n",
            "                                    verbose=False))],\n",
            "                   final_estimator=LogisticRegression(C=1.0, class_weight=None,\n",
            "                                                      dual=False,\n",
            "                                                      fit_intercept=True,\n",
            "                                                      intercept_scaling=1,\n",
            "                                                      l1_ratio=None,\n",
            "                                                      max_iter=100,\n",
            "                                                      multi_class='auto',\n",
            "                                                      n_jobs=None, penalty='l2',\n",
            "                                                      random_state=None,\n",
            "                                                      solver='lbfgs',\n",
            "                                                      tol=0.0001, verbose=0,\n",
            "                                                      warm_start=False),\n",
            "                   n_jobs=None, passthrough=False, stack_method='auto',\n",
            "                   verbose=0)\n",
            "best score is 0.7100560798675917\n",
            "best params is {'RF__criterion': 'gini', 'RF__n_estimators': 250}\n"
          ],
          "name": "stdout"
        },
        {
          "output_type": "error",
          "ename": "KeyboardInterrupt",
          "evalue": "ignored",
          "traceback": [
            "\u001b[0;31m---------------------------------------------------------------------------\u001b[0m",
            "\u001b[0;31mKeyboardInterrupt\u001b[0m                         Traceback (most recent call last)",
            "\u001b[0;32m<ipython-input-19-9c1bfc283249>\u001b[0m in \u001b[0;36m<module>\u001b[0;34m()\u001b[0m\n\u001b[0;32m----> 1\u001b[0;31m \u001b[0mget_ipython\u001b[0m\u001b[0;34m(\u001b[0m\u001b[0;34m)\u001b[0m\u001b[0;34m.\u001b[0m\u001b[0mrun_cell_magic\u001b[0m\u001b[0;34m(\u001b[0m\u001b[0;34m'timeit'\u001b[0m\u001b[0;34m,\u001b[0m \u001b[0;34m''\u001b[0m\u001b[0;34m,\u001b[0m \u001b[0;34m\"# grid search parameters\\nparam_grid = {\\n    'RF__n_estimators':[50,100,200,250,300],\\n    'RF__criterion': ['gini', 'entropy']\\n    #'LR__penalty': ['l1', 'l2'],\\n    #'LR__C': [0.5,0.8, 1],\\n    #'LR__solver': ['lbfgs', 'newton-cg'],\\n    #'LR__max_iter': [100,150,200,300],\\n    #'SVM__C' : [0.5, 0.8, 1],\\n    #'SVM__kernel': ['linear', 'poly', 'rbf']\\n\\n}\\n\\n# estimators to use\\nestimators = [\\n              ('RF', RandomForestClassifier(random_state=42)),\\n              ('LR', LogisticRegression(random_state=42)),\\n              ('SVM', SVC(random_state=100))\\n              ]\\n\\n# build stacking classifier\\nstacking_clf = StackingClassifier(\\n    estimators=estimators, final_estimator=LogisticRegression()\\n    )\\n\\n# grid search\\ngrid_search_stacking = GridSearchCV(stacking_clf, param_grid, 'accuracy', -1, cv=5)\\n\\n# fit\\ngrid_search_stacking.fit(xtrain_tfidf_ngram, y_train)\\n\\n# print\\nprint(f'best estimator is {grid_search_stacking.best_estimator_}')\\n\\nprint(f'best score is {grid_search_stacking.best_score_}')\\n\\nprint(f'best params is {grid_search_stacking.best_params_}')\"\u001b[0m\u001b[0;34m)\u001b[0m\u001b[0;34m\u001b[0m\u001b[0;34m\u001b[0m\u001b[0m\n\u001b[0m",
            "\u001b[0;32m/usr/local/lib/python3.6/dist-packages/IPython/core/interactiveshell.py\u001b[0m in \u001b[0;36mrun_cell_magic\u001b[0;34m(self, magic_name, line, cell)\u001b[0m\n\u001b[1;32m   2115\u001b[0m             \u001b[0mmagic_arg_s\u001b[0m \u001b[0;34m=\u001b[0m \u001b[0mself\u001b[0m\u001b[0;34m.\u001b[0m\u001b[0mvar_expand\u001b[0m\u001b[0;34m(\u001b[0m\u001b[0mline\u001b[0m\u001b[0;34m,\u001b[0m \u001b[0mstack_depth\u001b[0m\u001b[0;34m)\u001b[0m\u001b[0;34m\u001b[0m\u001b[0;34m\u001b[0m\u001b[0m\n\u001b[1;32m   2116\u001b[0m             \u001b[0;32mwith\u001b[0m \u001b[0mself\u001b[0m\u001b[0;34m.\u001b[0m\u001b[0mbuiltin_trap\u001b[0m\u001b[0;34m:\u001b[0m\u001b[0;34m\u001b[0m\u001b[0;34m\u001b[0m\u001b[0m\n\u001b[0;32m-> 2117\u001b[0;31m                 \u001b[0mresult\u001b[0m \u001b[0;34m=\u001b[0m \u001b[0mfn\u001b[0m\u001b[0;34m(\u001b[0m\u001b[0mmagic_arg_s\u001b[0m\u001b[0;34m,\u001b[0m \u001b[0mcell\u001b[0m\u001b[0;34m)\u001b[0m\u001b[0;34m\u001b[0m\u001b[0;34m\u001b[0m\u001b[0m\n\u001b[0m\u001b[1;32m   2118\u001b[0m             \u001b[0;32mreturn\u001b[0m \u001b[0mresult\u001b[0m\u001b[0;34m\u001b[0m\u001b[0;34m\u001b[0m\u001b[0m\n\u001b[1;32m   2119\u001b[0m \u001b[0;34m\u001b[0m\u001b[0m\n",
            "\u001b[0;32m<decorator-gen-59>\u001b[0m in \u001b[0;36mtimeit\u001b[0;34m(self, line, cell)\u001b[0m\n",
            "\u001b[0;32m/usr/local/lib/python3.6/dist-packages/IPython/core/magic.py\u001b[0m in \u001b[0;36m<lambda>\u001b[0;34m(f, *a, **k)\u001b[0m\n\u001b[1;32m    186\u001b[0m     \u001b[0;31m# but it's overkill for just that one bit of state.\u001b[0m\u001b[0;34m\u001b[0m\u001b[0;34m\u001b[0m\u001b[0;34m\u001b[0m\u001b[0m\n\u001b[1;32m    187\u001b[0m     \u001b[0;32mdef\u001b[0m \u001b[0mmagic_deco\u001b[0m\u001b[0;34m(\u001b[0m\u001b[0marg\u001b[0m\u001b[0;34m)\u001b[0m\u001b[0;34m:\u001b[0m\u001b[0;34m\u001b[0m\u001b[0;34m\u001b[0m\u001b[0m\n\u001b[0;32m--> 188\u001b[0;31m         \u001b[0mcall\u001b[0m \u001b[0;34m=\u001b[0m \u001b[0;32mlambda\u001b[0m \u001b[0mf\u001b[0m\u001b[0;34m,\u001b[0m \u001b[0;34m*\u001b[0m\u001b[0ma\u001b[0m\u001b[0;34m,\u001b[0m \u001b[0;34m**\u001b[0m\u001b[0mk\u001b[0m\u001b[0;34m:\u001b[0m \u001b[0mf\u001b[0m\u001b[0;34m(\u001b[0m\u001b[0;34m*\u001b[0m\u001b[0ma\u001b[0m\u001b[0;34m,\u001b[0m \u001b[0;34m**\u001b[0m\u001b[0mk\u001b[0m\u001b[0;34m)\u001b[0m\u001b[0;34m\u001b[0m\u001b[0;34m\u001b[0m\u001b[0m\n\u001b[0m\u001b[1;32m    189\u001b[0m \u001b[0;34m\u001b[0m\u001b[0m\n\u001b[1;32m    190\u001b[0m         \u001b[0;32mif\u001b[0m \u001b[0mcallable\u001b[0m\u001b[0;34m(\u001b[0m\u001b[0marg\u001b[0m\u001b[0;34m)\u001b[0m\u001b[0;34m:\u001b[0m\u001b[0;34m\u001b[0m\u001b[0;34m\u001b[0m\u001b[0m\n",
            "\u001b[0;32m/usr/local/lib/python3.6/dist-packages/IPython/core/magics/execution.py\u001b[0m in \u001b[0;36mtimeit\u001b[0;34m(self, line, cell)\u001b[0m\n\u001b[1;32m   1060\u001b[0m                     \u001b[0;32mbreak\u001b[0m\u001b[0;34m\u001b[0m\u001b[0;34m\u001b[0m\u001b[0m\n\u001b[1;32m   1061\u001b[0m                 \u001b[0mnumber\u001b[0m \u001b[0;34m*=\u001b[0m \u001b[0;36m10\u001b[0m\u001b[0;34m\u001b[0m\u001b[0;34m\u001b[0m\u001b[0m\n\u001b[0;32m-> 1062\u001b[0;31m         \u001b[0mall_runs\u001b[0m \u001b[0;34m=\u001b[0m \u001b[0mtimer\u001b[0m\u001b[0;34m.\u001b[0m\u001b[0mrepeat\u001b[0m\u001b[0;34m(\u001b[0m\u001b[0mrepeat\u001b[0m\u001b[0;34m,\u001b[0m \u001b[0mnumber\u001b[0m\u001b[0;34m)\u001b[0m\u001b[0;34m\u001b[0m\u001b[0;34m\u001b[0m\u001b[0m\n\u001b[0m\u001b[1;32m   1063\u001b[0m         \u001b[0mbest\u001b[0m \u001b[0;34m=\u001b[0m \u001b[0mmin\u001b[0m\u001b[0;34m(\u001b[0m\u001b[0mall_runs\u001b[0m\u001b[0;34m)\u001b[0m \u001b[0;34m/\u001b[0m \u001b[0mnumber\u001b[0m\u001b[0;34m\u001b[0m\u001b[0;34m\u001b[0m\u001b[0m\n\u001b[1;32m   1064\u001b[0m \u001b[0;34m\u001b[0m\u001b[0m\n",
            "\u001b[0;32m/usr/lib/python3.6/timeit.py\u001b[0m in \u001b[0;36mrepeat\u001b[0;34m(self, repeat, number)\u001b[0m\n\u001b[1;32m    204\u001b[0m         \u001b[0mr\u001b[0m \u001b[0;34m=\u001b[0m \u001b[0;34m[\u001b[0m\u001b[0;34m]\u001b[0m\u001b[0;34m\u001b[0m\u001b[0;34m\u001b[0m\u001b[0m\n\u001b[1;32m    205\u001b[0m         \u001b[0;32mfor\u001b[0m \u001b[0mi\u001b[0m \u001b[0;32min\u001b[0m \u001b[0mrange\u001b[0m\u001b[0;34m(\u001b[0m\u001b[0mrepeat\u001b[0m\u001b[0;34m)\u001b[0m\u001b[0;34m:\u001b[0m\u001b[0;34m\u001b[0m\u001b[0;34m\u001b[0m\u001b[0m\n\u001b[0;32m--> 206\u001b[0;31m             \u001b[0mt\u001b[0m \u001b[0;34m=\u001b[0m \u001b[0mself\u001b[0m\u001b[0;34m.\u001b[0m\u001b[0mtimeit\u001b[0m\u001b[0;34m(\u001b[0m\u001b[0mnumber\u001b[0m\u001b[0;34m)\u001b[0m\u001b[0;34m\u001b[0m\u001b[0;34m\u001b[0m\u001b[0m\n\u001b[0m\u001b[1;32m    207\u001b[0m             \u001b[0mr\u001b[0m\u001b[0;34m.\u001b[0m\u001b[0mappend\u001b[0m\u001b[0;34m(\u001b[0m\u001b[0mt\u001b[0m\u001b[0;34m)\u001b[0m\u001b[0;34m\u001b[0m\u001b[0;34m\u001b[0m\u001b[0m\n\u001b[1;32m    208\u001b[0m         \u001b[0;32mreturn\u001b[0m \u001b[0mr\u001b[0m\u001b[0;34m\u001b[0m\u001b[0;34m\u001b[0m\u001b[0m\n",
            "\u001b[0;32m/usr/local/lib/python3.6/dist-packages/IPython/core/magics/execution.py\u001b[0m in \u001b[0;36mtimeit\u001b[0;34m(self, number)\u001b[0m\n\u001b[1;32m    137\u001b[0m         \u001b[0mgc\u001b[0m\u001b[0;34m.\u001b[0m\u001b[0mdisable\u001b[0m\u001b[0;34m(\u001b[0m\u001b[0;34m)\u001b[0m\u001b[0;34m\u001b[0m\u001b[0;34m\u001b[0m\u001b[0m\n\u001b[1;32m    138\u001b[0m         \u001b[0;32mtry\u001b[0m\u001b[0;34m:\u001b[0m\u001b[0;34m\u001b[0m\u001b[0;34m\u001b[0m\u001b[0m\n\u001b[0;32m--> 139\u001b[0;31m             \u001b[0mtiming\u001b[0m \u001b[0;34m=\u001b[0m \u001b[0mself\u001b[0m\u001b[0;34m.\u001b[0m\u001b[0minner\u001b[0m\u001b[0;34m(\u001b[0m\u001b[0mit\u001b[0m\u001b[0;34m,\u001b[0m \u001b[0mself\u001b[0m\u001b[0;34m.\u001b[0m\u001b[0mtimer\u001b[0m\u001b[0;34m)\u001b[0m\u001b[0;34m\u001b[0m\u001b[0;34m\u001b[0m\u001b[0m\n\u001b[0m\u001b[1;32m    140\u001b[0m         \u001b[0;32mfinally\u001b[0m\u001b[0;34m:\u001b[0m\u001b[0;34m\u001b[0m\u001b[0;34m\u001b[0m\u001b[0m\n\u001b[1;32m    141\u001b[0m             \u001b[0;32mif\u001b[0m \u001b[0mgcold\u001b[0m\u001b[0;34m:\u001b[0m\u001b[0;34m\u001b[0m\u001b[0;34m\u001b[0m\u001b[0m\n",
            "\u001b[0;32m<magic-timeit>\u001b[0m in \u001b[0;36minner\u001b[0;34m(_it, _timer)\u001b[0m\n",
            "\u001b[0;32m/usr/local/lib/python3.6/dist-packages/sklearn/model_selection/_search.py\u001b[0m in \u001b[0;36mfit\u001b[0;34m(self, X, y, groups, **fit_params)\u001b[0m\n\u001b[1;32m    708\u001b[0m                 \u001b[0;32mreturn\u001b[0m \u001b[0mresults\u001b[0m\u001b[0;34m\u001b[0m\u001b[0;34m\u001b[0m\u001b[0m\n\u001b[1;32m    709\u001b[0m \u001b[0;34m\u001b[0m\u001b[0m\n\u001b[0;32m--> 710\u001b[0;31m             \u001b[0mself\u001b[0m\u001b[0;34m.\u001b[0m\u001b[0m_run_search\u001b[0m\u001b[0;34m(\u001b[0m\u001b[0mevaluate_candidates\u001b[0m\u001b[0;34m)\u001b[0m\u001b[0;34m\u001b[0m\u001b[0;34m\u001b[0m\u001b[0m\n\u001b[0m\u001b[1;32m    711\u001b[0m \u001b[0;34m\u001b[0m\u001b[0m\n\u001b[1;32m    712\u001b[0m         \u001b[0;31m# For multi-metric evaluation, store the best_index_, best_params_ and\u001b[0m\u001b[0;34m\u001b[0m\u001b[0;34m\u001b[0m\u001b[0;34m\u001b[0m\u001b[0m\n",
            "\u001b[0;32m/usr/local/lib/python3.6/dist-packages/sklearn/model_selection/_search.py\u001b[0m in \u001b[0;36m_run_search\u001b[0;34m(self, evaluate_candidates)\u001b[0m\n\u001b[1;32m   1149\u001b[0m     \u001b[0;32mdef\u001b[0m \u001b[0m_run_search\u001b[0m\u001b[0;34m(\u001b[0m\u001b[0mself\u001b[0m\u001b[0;34m,\u001b[0m \u001b[0mevaluate_candidates\u001b[0m\u001b[0;34m)\u001b[0m\u001b[0;34m:\u001b[0m\u001b[0;34m\u001b[0m\u001b[0;34m\u001b[0m\u001b[0m\n\u001b[1;32m   1150\u001b[0m         \u001b[0;34m\"\"\"Search all candidates in param_grid\"\"\"\u001b[0m\u001b[0;34m\u001b[0m\u001b[0;34m\u001b[0m\u001b[0m\n\u001b[0;32m-> 1151\u001b[0;31m         \u001b[0mevaluate_candidates\u001b[0m\u001b[0;34m(\u001b[0m\u001b[0mParameterGrid\u001b[0m\u001b[0;34m(\u001b[0m\u001b[0mself\u001b[0m\u001b[0;34m.\u001b[0m\u001b[0mparam_grid\u001b[0m\u001b[0;34m)\u001b[0m\u001b[0;34m)\u001b[0m\u001b[0;34m\u001b[0m\u001b[0;34m\u001b[0m\u001b[0m\n\u001b[0m\u001b[1;32m   1152\u001b[0m \u001b[0;34m\u001b[0m\u001b[0m\n\u001b[1;32m   1153\u001b[0m \u001b[0;34m\u001b[0m\u001b[0m\n",
            "\u001b[0;32m/usr/local/lib/python3.6/dist-packages/sklearn/model_selection/_search.py\u001b[0m in \u001b[0;36mevaluate_candidates\u001b[0;34m(candidate_params)\u001b[0m\n\u001b[1;32m    687\u001b[0m                                \u001b[0;32mfor\u001b[0m \u001b[0mparameters\u001b[0m\u001b[0;34m,\u001b[0m \u001b[0;34m(\u001b[0m\u001b[0mtrain\u001b[0m\u001b[0;34m,\u001b[0m \u001b[0mtest\u001b[0m\u001b[0;34m)\u001b[0m\u001b[0;34m\u001b[0m\u001b[0;34m\u001b[0m\u001b[0m\n\u001b[1;32m    688\u001b[0m                                in product(candidate_params,\n\u001b[0;32m--> 689\u001b[0;31m                                           cv.split(X, y, groups)))\n\u001b[0m\u001b[1;32m    690\u001b[0m \u001b[0;34m\u001b[0m\u001b[0m\n\u001b[1;32m    691\u001b[0m                 \u001b[0;32mif\u001b[0m \u001b[0mlen\u001b[0m\u001b[0;34m(\u001b[0m\u001b[0mout\u001b[0m\u001b[0;34m)\u001b[0m \u001b[0;34m<\u001b[0m \u001b[0;36m1\u001b[0m\u001b[0;34m:\u001b[0m\u001b[0;34m\u001b[0m\u001b[0;34m\u001b[0m\u001b[0m\n",
            "\u001b[0;32m/usr/local/lib/python3.6/dist-packages/joblib/parallel.py\u001b[0m in \u001b[0;36m__call__\u001b[0;34m(self, iterable)\u001b[0m\n\u001b[1;32m   1059\u001b[0m \u001b[0;34m\u001b[0m\u001b[0m\n\u001b[1;32m   1060\u001b[0m             \u001b[0;32mwith\u001b[0m \u001b[0mself\u001b[0m\u001b[0;34m.\u001b[0m\u001b[0m_backend\u001b[0m\u001b[0;34m.\u001b[0m\u001b[0mretrieval_context\u001b[0m\u001b[0;34m(\u001b[0m\u001b[0;34m)\u001b[0m\u001b[0;34m:\u001b[0m\u001b[0;34m\u001b[0m\u001b[0;34m\u001b[0m\u001b[0m\n\u001b[0;32m-> 1061\u001b[0;31m                 \u001b[0mself\u001b[0m\u001b[0;34m.\u001b[0m\u001b[0mretrieve\u001b[0m\u001b[0;34m(\u001b[0m\u001b[0;34m)\u001b[0m\u001b[0;34m\u001b[0m\u001b[0;34m\u001b[0m\u001b[0m\n\u001b[0m\u001b[1;32m   1062\u001b[0m             \u001b[0;31m# Make sure that we get a last message telling us we are done\u001b[0m\u001b[0;34m\u001b[0m\u001b[0;34m\u001b[0m\u001b[0;34m\u001b[0m\u001b[0m\n\u001b[1;32m   1063\u001b[0m             \u001b[0melapsed_time\u001b[0m \u001b[0;34m=\u001b[0m \u001b[0mtime\u001b[0m\u001b[0;34m.\u001b[0m\u001b[0mtime\u001b[0m\u001b[0;34m(\u001b[0m\u001b[0;34m)\u001b[0m \u001b[0;34m-\u001b[0m \u001b[0mself\u001b[0m\u001b[0;34m.\u001b[0m\u001b[0m_start_time\u001b[0m\u001b[0;34m\u001b[0m\u001b[0;34m\u001b[0m\u001b[0m\n",
            "\u001b[0;32m/usr/local/lib/python3.6/dist-packages/joblib/parallel.py\u001b[0m in \u001b[0;36mretrieve\u001b[0;34m(self)\u001b[0m\n\u001b[1;32m    938\u001b[0m             \u001b[0;32mtry\u001b[0m\u001b[0;34m:\u001b[0m\u001b[0;34m\u001b[0m\u001b[0;34m\u001b[0m\u001b[0m\n\u001b[1;32m    939\u001b[0m                 \u001b[0;32mif\u001b[0m \u001b[0mgetattr\u001b[0m\u001b[0;34m(\u001b[0m\u001b[0mself\u001b[0m\u001b[0;34m.\u001b[0m\u001b[0m_backend\u001b[0m\u001b[0;34m,\u001b[0m \u001b[0;34m'supports_timeout'\u001b[0m\u001b[0;34m,\u001b[0m \u001b[0;32mFalse\u001b[0m\u001b[0;34m)\u001b[0m\u001b[0;34m:\u001b[0m\u001b[0;34m\u001b[0m\u001b[0;34m\u001b[0m\u001b[0m\n\u001b[0;32m--> 940\u001b[0;31m                     \u001b[0mself\u001b[0m\u001b[0;34m.\u001b[0m\u001b[0m_output\u001b[0m\u001b[0;34m.\u001b[0m\u001b[0mextend\u001b[0m\u001b[0;34m(\u001b[0m\u001b[0mjob\u001b[0m\u001b[0;34m.\u001b[0m\u001b[0mget\u001b[0m\u001b[0;34m(\u001b[0m\u001b[0mtimeout\u001b[0m\u001b[0;34m=\u001b[0m\u001b[0mself\u001b[0m\u001b[0;34m.\u001b[0m\u001b[0mtimeout\u001b[0m\u001b[0;34m)\u001b[0m\u001b[0;34m)\u001b[0m\u001b[0;34m\u001b[0m\u001b[0;34m\u001b[0m\u001b[0m\n\u001b[0m\u001b[1;32m    941\u001b[0m                 \u001b[0;32melse\u001b[0m\u001b[0;34m:\u001b[0m\u001b[0;34m\u001b[0m\u001b[0;34m\u001b[0m\u001b[0m\n\u001b[1;32m    942\u001b[0m                     \u001b[0mself\u001b[0m\u001b[0;34m.\u001b[0m\u001b[0m_output\u001b[0m\u001b[0;34m.\u001b[0m\u001b[0mextend\u001b[0m\u001b[0;34m(\u001b[0m\u001b[0mjob\u001b[0m\u001b[0;34m.\u001b[0m\u001b[0mget\u001b[0m\u001b[0;34m(\u001b[0m\u001b[0;34m)\u001b[0m\u001b[0;34m)\u001b[0m\u001b[0;34m\u001b[0m\u001b[0;34m\u001b[0m\u001b[0m\n",
            "\u001b[0;32m/usr/local/lib/python3.6/dist-packages/joblib/_parallel_backends.py\u001b[0m in \u001b[0;36mwrap_future_result\u001b[0;34m(future, timeout)\u001b[0m\n\u001b[1;32m    540\u001b[0m         AsyncResults.get from multiprocessing.\"\"\"\n\u001b[1;32m    541\u001b[0m         \u001b[0;32mtry\u001b[0m\u001b[0;34m:\u001b[0m\u001b[0;34m\u001b[0m\u001b[0;34m\u001b[0m\u001b[0m\n\u001b[0;32m--> 542\u001b[0;31m             \u001b[0;32mreturn\u001b[0m \u001b[0mfuture\u001b[0m\u001b[0;34m.\u001b[0m\u001b[0mresult\u001b[0m\u001b[0;34m(\u001b[0m\u001b[0mtimeout\u001b[0m\u001b[0;34m=\u001b[0m\u001b[0mtimeout\u001b[0m\u001b[0;34m)\u001b[0m\u001b[0;34m\u001b[0m\u001b[0;34m\u001b[0m\u001b[0m\n\u001b[0m\u001b[1;32m    543\u001b[0m         \u001b[0;32mexcept\u001b[0m \u001b[0mCfTimeoutError\u001b[0m \u001b[0;32mas\u001b[0m \u001b[0me\u001b[0m\u001b[0;34m:\u001b[0m\u001b[0;34m\u001b[0m\u001b[0;34m\u001b[0m\u001b[0m\n\u001b[1;32m    544\u001b[0m             \u001b[0;32mraise\u001b[0m \u001b[0mTimeoutError\u001b[0m \u001b[0;32mfrom\u001b[0m \u001b[0me\u001b[0m\u001b[0;34m\u001b[0m\u001b[0;34m\u001b[0m\u001b[0m\n",
            "\u001b[0;32m/usr/lib/python3.6/concurrent/futures/_base.py\u001b[0m in \u001b[0;36mresult\u001b[0;34m(self, timeout)\u001b[0m\n\u001b[1;32m    425\u001b[0m                 \u001b[0;32mreturn\u001b[0m \u001b[0mself\u001b[0m\u001b[0;34m.\u001b[0m\u001b[0m__get_result\u001b[0m\u001b[0;34m(\u001b[0m\u001b[0;34m)\u001b[0m\u001b[0;34m\u001b[0m\u001b[0;34m\u001b[0m\u001b[0m\n\u001b[1;32m    426\u001b[0m \u001b[0;34m\u001b[0m\u001b[0m\n\u001b[0;32m--> 427\u001b[0;31m             \u001b[0mself\u001b[0m\u001b[0;34m.\u001b[0m\u001b[0m_condition\u001b[0m\u001b[0;34m.\u001b[0m\u001b[0mwait\u001b[0m\u001b[0;34m(\u001b[0m\u001b[0mtimeout\u001b[0m\u001b[0;34m)\u001b[0m\u001b[0;34m\u001b[0m\u001b[0;34m\u001b[0m\u001b[0m\n\u001b[0m\u001b[1;32m    428\u001b[0m \u001b[0;34m\u001b[0m\u001b[0m\n\u001b[1;32m    429\u001b[0m             \u001b[0;32mif\u001b[0m \u001b[0mself\u001b[0m\u001b[0;34m.\u001b[0m\u001b[0m_state\u001b[0m \u001b[0;32min\u001b[0m \u001b[0;34m[\u001b[0m\u001b[0mCANCELLED\u001b[0m\u001b[0;34m,\u001b[0m \u001b[0mCANCELLED_AND_NOTIFIED\u001b[0m\u001b[0;34m]\u001b[0m\u001b[0;34m:\u001b[0m\u001b[0;34m\u001b[0m\u001b[0;34m\u001b[0m\u001b[0m\n",
            "\u001b[0;32m/usr/lib/python3.6/threading.py\u001b[0m in \u001b[0;36mwait\u001b[0;34m(self, timeout)\u001b[0m\n\u001b[1;32m    293\u001b[0m         \u001b[0;32mtry\u001b[0m\u001b[0;34m:\u001b[0m    \u001b[0;31m# restore state no matter what (e.g., KeyboardInterrupt)\u001b[0m\u001b[0;34m\u001b[0m\u001b[0;34m\u001b[0m\u001b[0m\n\u001b[1;32m    294\u001b[0m             \u001b[0;32mif\u001b[0m \u001b[0mtimeout\u001b[0m \u001b[0;32mis\u001b[0m \u001b[0;32mNone\u001b[0m\u001b[0;34m:\u001b[0m\u001b[0;34m\u001b[0m\u001b[0;34m\u001b[0m\u001b[0m\n\u001b[0;32m--> 295\u001b[0;31m                 \u001b[0mwaiter\u001b[0m\u001b[0;34m.\u001b[0m\u001b[0macquire\u001b[0m\u001b[0;34m(\u001b[0m\u001b[0;34m)\u001b[0m\u001b[0;34m\u001b[0m\u001b[0;34m\u001b[0m\u001b[0m\n\u001b[0m\u001b[1;32m    296\u001b[0m                 \u001b[0mgotit\u001b[0m \u001b[0;34m=\u001b[0m \u001b[0;32mTrue\u001b[0m\u001b[0;34m\u001b[0m\u001b[0;34m\u001b[0m\u001b[0m\n\u001b[1;32m    297\u001b[0m             \u001b[0;32melse\u001b[0m\u001b[0;34m:\u001b[0m\u001b[0;34m\u001b[0m\u001b[0;34m\u001b[0m\u001b[0m\n",
            "\u001b[0;31mKeyboardInterrupt\u001b[0m: "
          ]
        }
      ]
    },
    {
      "cell_type": "markdown",
      "metadata": {
        "id": "EIq3A-wQa03D"
      },
      "source": [
        "## using best parameters"
      ]
    },
    {
      "cell_type": "code",
      "metadata": {
        "colab": {
          "base_uri": "https://localhost:8080/"
        },
        "id": "08q6rtJWaNDE",
        "outputId": "ed89db5c-8a37-480e-cdfe-f588db77114d"
      },
      "source": [
        "# estimators to use\n",
        "estimators = [\n",
        "              ('RF', RandomForestClassifier(n_estimators=250, criterion='gini', random_state=42)),\n",
        "              ('LR', LogisticRegression(random_state=42)),\n",
        "              ('SVM', SVC(C = 3.0, kernel = 'linear', gamma = 0.001,random_state=100))\n",
        "              ]\n",
        "\n",
        "# build stacking classifier\n",
        "stacking_clf = StackingClassifier(\n",
        "    estimators=estimators, final_estimator=LogisticRegression()\n",
        "    )\n",
        "\n",
        "# train\n",
        "stacking_clf.fit(xtrain_tfidf, y_train)\n",
        "\n",
        "# predict\n",
        "y_pred = stacking_clf.predict(xtest_tfidf)\n",
        "\n",
        "# print accuraccy\n",
        "print(f'Stacking accuracy: {accuracy_score(y_test, y_pred)*100:.2f}%')\n",
        "\n",
        "# classification report\n",
        "print(classification_report(y_test, y_pred))"
      ],
      "execution_count": 20,
      "outputs": [
        {
          "output_type": "stream",
          "text": [
            "Stacking accuracy: 82.13%\n",
            "              precision    recall  f1-score   support\n",
            "\n",
            "           0       0.60      0.50      0.55        36\n",
            "           1       0.91      0.78      0.84        37\n",
            "           2       0.83      0.53      0.65        19\n",
            "           3       0.75      0.87      0.80        99\n",
            "           4       0.89      0.87      0.88        46\n",
            "           5       0.83      0.89      0.86        38\n",
            "           6       0.76      0.89      0.82        36\n",
            "           7       0.00      0.00      0.00         1\n",
            "           8       0.85      0.79      0.81        14\n",
            "           9       0.55      0.46      0.50        24\n",
            "          10       0.91      0.85      0.88       125\n",
            "          11       0.63      0.79      0.70        24\n",
            "          12       0.91      0.89      0.90        65\n",
            "          13       0.00      0.00      0.00         3\n",
            "          14       0.89      0.96      0.92        82\n",
            "\n",
            "    accuracy                           0.82       649\n",
            "   macro avg       0.69      0.67      0.67       649\n",
            "weighted avg       0.82      0.82      0.82       649\n",
            "\n"
          ],
          "name": "stdout"
        }
      ]
    },
    {
      "cell_type": "code",
      "metadata": {
        "id": "7mU47AYKjv8w"
      },
      "source": [
        ""
      ],
      "execution_count": null,
      "outputs": []
    }
  ]
}