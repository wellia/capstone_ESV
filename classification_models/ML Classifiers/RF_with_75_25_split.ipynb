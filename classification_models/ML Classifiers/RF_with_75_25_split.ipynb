{
 "cells": [
  {
   "cell_type": "code",
   "execution_count": 1,
   "metadata": {
    "collapsed": true
   },
   "outputs": [
    {
     "data": {
      "text/plain": "{'FILE_PATH': 'cleaned_incidents1.csv'}"
     },
     "execution_count": 1,
     "metadata": {},
     "output_type": "execute_result"
    }
   ],
   "source": [
    "# configuration\n",
    "config = {\n",
    "    'FILE_PATH': 'cleaned_incidents1.csv'\n",
    "    }\n",
    "config"
   ]
  },
  {
   "cell_type": "code",
   "execution_count": 33,
   "outputs": [],
   "source": [
    "# import libraries\n",
    "try:\n",
    "    import pandas as pd\n",
    "    import numpy as np\n",
    "    import matplotlib.pyplot as plt\n",
    "    import string\n",
    "    import re\n",
    "    from time import time\n",
    "    import texthero as hero\n",
    "    from texthero import preprocessing\n",
    "    from gensim.models import Word2Vec\n",
    "    import nltk\n",
    "    from nltk.corpus import stopwords\n",
    "    from nltk.stem import WordNetLemmatizer\n",
    "    from sklearn.preprocessing import LabelEncoder\n",
    "    from sklearn.ensemble import RandomForestClassifier\n",
    "    from sklearn.ensemble import AdaBoostClassifier\n",
    "    from sklearn.metrics import accuracy_score, confusion_matrix, plot_confusion_matrix, classification_report, ConfusionMatrixDisplay\n",
    "    from sklearn.model_selection import train_test_split, GridSearchCV\n",
    "    from sklearn.feature_extraction.text import TfidfVectorizer, CountVectorizer\n",
    "    from sklearn.pipeline import Pipeline\n",
    "    from sklearn.linear_model import LogisticRegression\n",
    "    from sklearn.ensemble import StackingClassifier\n",
    "    from sklearn.svm import SVC\n",
    "    import warnings\n",
    "except(ImportError):\n",
    "    print(f'Import Error: {ImportError}')\n",
    "\n",
    "# ignore warnings\n",
    "warnings.filterwarnings(\"ignore\")\n",
    "warnings.simplefilter(action='ignore', category=FutureWarning)\n",
    "\n",
    "# set seeds for reproducability\n",
    "from numpy.random import seed\n",
    "seed(500)\n",
    "\n",
    "# global configurations\n",
    "pd.set_option(\"display.max_colwidth\", -1) # show larger text in pandas dataframe"
   ],
   "metadata": {
    "collapsed": false,
    "pycharm": {
     "name": "#%%\n"
    }
   }
  },
  {
   "cell_type": "code",
   "execution_count": 115,
   "outputs": [],
   "source": [
    "'''\n",
    "- select features\n",
    "- drop missing values\n",
    "- combine selected features into one\n",
    "'''\n",
    "def data(df):\n",
    "    new_df = df[['EventDescription', 'FailedAssets', 'IncidentCause', 'IncidentConsequence', 'IncidentType', 'Status', 'WeatherStation', 'Category']]\n",
    "    new_df.dropna(axis=0, inplace=True)\n",
    "    features = new_df['IncidentType'] + ' ' + new_df['Status'] + ' ' + new_df['WeatherStation'] + new_df['EventDescription'] + new_df['FailedAssets'] + new_df['IncidentCause'] + new_df['IncidentConsequence']\n",
    "    target = new_df['Category']\n",
    "    return features, target"
   ],
   "metadata": {
    "collapsed": false,
    "pycharm": {
     "name": "#%%\n"
    }
   }
  },
  {
   "cell_type": "code",
   "execution_count": 116,
   "outputs": [],
   "source": [
    "# read csv\n",
    "dataset = pd.read_csv(config['FILE_PATH'])\n",
    "\n",
    "# get features and target\n",
    "features, target = data(dataset)\n",
    "\n",
    "# Text Cleaning and Pre-processing\n",
    "def preprocess_text():\n",
    "    # cleaning steps\n",
    "    cleaning_pipeline = [\n",
    "        preprocessing.fillna,\n",
    "        preprocessing.lowercase,\n",
    "        preprocessing.remove_whitespace,\n",
    "        preprocessing.remove_punctuation,\n",
    "        preprocessing.remove_urls,\n",
    "        preprocessing.remove_brackets,\n",
    "        preprocessing.remove_stopwords,\n",
    "        preprocessing.remove_digits,\n",
    "        preprocessing.remove_angle_brackets,\n",
    "        preprocessing.remove_curly_brackets,\n",
    "        preprocessing.stem\n",
    "        #preprocessing.tokenize\n",
    "    ]\n",
    "\n",
    "    # apply pipeline to text\n",
    "    clean_text = features.pipe(hero.clean, cleaning_pipeline)\n",
    "\n",
    "    return clean_text"
   ],
   "metadata": {
    "collapsed": false,
    "pycharm": {
     "name": "#%%\n"
    }
   }
  },
  {
   "cell_type": "code",
   "execution_count": 117,
   "outputs": [
    {
     "data": {
      "text/plain": "0       infrastructure  network based  report avalon airporta nearby customer reported sparking  electrical lines    location   attendance  crew found   high voltage abc conductor  faulted midspan resulting   ground fire  approx   sqm     reported injuries conductor  abc hvabc cable faulted midspangrassfire                                                                                                                                                                                                                                                                                                           \n1       infrastructure  network based  report laverton raafa contractor reported    contacted  earthing cable  excavating  trench    location   arrival  crew found   contractor  dennis james  ph          digging  trench  contacted  earthing cable  causing damage   cable     reported injuries  third party property damages  failed assetcontractor contacted earthing conductorno go zone  contact                                                                                                                                                                                                                     \n2       infrastructure  network based  report warrnambool airport ndba field crew attending  outage found   22kv conductor  broken due  rust   connecting sleeve   fallen   ground  one end remained alive due   high impedance backfeed  downline transformer windings  protection operated     reported injuries  third party property damages conductor  bare conductor broke due  rustserious risk  public safety  e g  live conductor  ground  live asset accessible  unauthorised persons                                                                                                                                \n3       infrastructure  network based  report essendon airportinterfere  vandalism  substation  unknown third parties used  unknown object  interfere  two hv fuses  blew   indoor substation  little bank  kingsway indoor substation affected  also  secure parking   rear      bank street  theft  vandalism   ticket machine  conjunction   substation interfere  vandalism indoorvandalismloss  supply damage  network assets                                                                                                                                                                                             \n4       infrastructure  network based  report avalon airporta nearby customer reported   high load  pulled  wires    location   arrival  crew found   lv service cable   contacted   unknown vehicle  breaking  cable  fell   ground     reported injuries  third party property damages  following repairs  cable  measured    3m   kerb service conductorunknown high load contacted lv service cableno go zone  contact damage  network assets                                                                                                                                                                              \n                                                                                                                                                                                                                          ...                                                                                                                                                                                                                                                                                                                                                                                                  \n6499    infrastructure  network based  report moorabbin airporta report came   ue   fmb sparking    st kilda st  brighton   arrival  crew identified  fire damaged folcb  pole lis     eio  called  assess  cause connection boxthe likely cause  determined  eio    earthing defect within  customers installation  eio issued  defect     st kilda stplant equipment                                                                                                                                                                                                                                                         \n6500    infrastructure  network based  report avalon airportreport received   resident  advise   crane  made contact   powerline   power    wire appears fine  crane  longer  contact  upon arrival  fault crew found   crane driver  metcalf crane services  made contact     12st swer overhead conductor  lis    lis    moving gantry equipment associated   moorabool windfarm project   crane  taken away  site  testing     fire   reported injuries conductor  bare crane struck lineno go zone  contact damage  network assets                                                                                         \n6501    infrastructure  network based  report mildura airportreport received  pole fire  incident location   arrival crew found top burnt  swer pole  fire extinguished    ground fire   reported injuries  third party property damage pole  wood excessive leakage currentpole top fire                                                                                                                                                                                                                                                                                                                                      \n6502    infrastructure  network based  report swan hill aerodromea customer called  report  tractor  hit  wire  brought     ground   arrival   incident location   crew found   tractor rego  xv 99ce   towing large rollers around  paddock  turned sharply  contacting  pole   rollers  causing   break   fall    22kv hv single phase conductors fell onto  tractor  causing  protection  operate  isolating  supply   tractor driver exited  vehicle   crew arrived   reportedly received  shocks    injured      reported damage  fires  injuries conductor  bare pole  wood farm equipment hit poledamage  network assets\n6503    infrastructure  network based  notification moorabbin airportconcrete electrical cover outside  front  house gave clients dog  electric shock  rainservices pit  network  investigationshock  livestock  pet  companion animal                                                                                                                                                                                                                                                                                                                                                                                         \nLength: 6488, dtype: object"
     },
     "execution_count": 117,
     "metadata": {},
     "output_type": "execute_result"
    }
   ],
   "source": [
    "# check processed text\n",
    "clean_text = preprocess_text()\n",
    "clean_text"
   ],
   "metadata": {
    "collapsed": false,
    "pycharm": {
     "name": "#%%\n"
    }
   }
  },
  {
   "cell_type": "code",
   "execution_count": 118,
   "outputs": [
    {
     "data": {
      "text/plain": "((4866,), (1622,), (4866,), (1622,))"
     },
     "execution_count": 118,
     "metadata": {},
     "output_type": "execute_result"
    }
   ],
   "source": [
    "# train test split\n",
    "x_train, x_test, y_train, y_test = train_test_split(clean_text, target, random_state=0, test_size=0.25, shuffle=True)\n",
    "x_train.shape, x_test.shape, y_train.shape, y_test.shape"
   ],
   "metadata": {
    "collapsed": false,
    "pycharm": {
     "name": "#%%\n"
    }
   }
  },
  {
   "cell_type": "code",
   "execution_count": 128,
   "outputs": [],
   "source": [
    "# feature extraction methods\n",
    "# tfidf\n",
    "def tfidf():\n",
    "    vectorizer = TfidfVectorizer(analyzer='word', max_features=1000)\n",
    "    vectorizer.fit(clean_text)\n",
    "    train_tfidf = vectorizer.transform(x_train)\n",
    "    test_tfidf = vectorizer.transform(x_test)\n",
    "    return train_tfidf, test_tfidf\n",
    "\n",
    "# bow\n",
    "def bow():\n",
    "    count_vectorizer = CountVectorizer(analyzer='word', max_features=1000)\n",
    "    count_vectorizer.fit(clean_text)\n",
    "    train_bow = count_vectorizer.transform(x_train)\n",
    "    test_bow = count_vectorizer.transform(x_test)\n",
    "    return train_bow, test_bow\n",
    "\n",
    "# bigrams\n",
    "def bigrams():\n",
    "    bigram_vectorizer = CountVectorizer(analyzer='word', ngram_range=(2,2), max_features=1000)\n",
    "    bigram_vectorizer.fit(clean_text)\n",
    "    train_bigram = bigram_vectorizer.transform(x_train)\n",
    "    test_bigram = bigram_vectorizer.transform(x_test)\n",
    "    return train_bigram, test_bigram"
   ],
   "metadata": {
    "collapsed": false,
    "pycharm": {
     "name": "#%%\n"
    }
   }
  },
  {
   "cell_type": "code",
   "execution_count": 129,
   "outputs": [],
   "source": [
    "# get features\n",
    "train_tfidf, test_tfidf = tfidf()\n",
    "train_tfidf.shape, test_tfidf.shape\n",
    "\n",
    "train_bigram, test_bigram = bigrams()\n",
    "\n",
    "train_bow, test_bow = bow()"
   ],
   "metadata": {
    "collapsed": false,
    "pycharm": {
     "name": "#%%\n"
    }
   }
  },
  {
   "cell_type": "code",
   "execution_count": 131,
   "outputs": [
    {
     "data": {
      "text/plain": "0.7879161528976573"
     },
     "execution_count": 131,
     "metadata": {},
     "output_type": "execute_result"
    }
   ],
   "source": [
    "# random forest classifier with TFIDF\n",
    "rf = RandomForestClassifier(random_state=0)\n",
    "\n",
    "# fit\n",
    "rf.fit(train_tfidf, y_train)\n",
    "\n",
    "# predict\n",
    "y_pred = rf.predict(test_tfidf)\n",
    "\n",
    "# accuracy\n",
    "accuracy_score(y_test, y_pred)"
   ],
   "metadata": {
    "collapsed": false,
    "pycharm": {
     "name": "#%%\n"
    }
   }
  },
  {
   "cell_type": "code",
   "execution_count": 140,
   "outputs": [
    {
     "data": {
      "text/plain": "{'criterion': 'gini', 'max_depth': 30, 'n_estimators': 375}"
     },
     "execution_count": 140,
     "metadata": {},
     "output_type": "execute_result"
    }
   ],
   "source": [
    "# grid search\n",
    "param_grid = {\n",
    "    'n_estimators': [375,380,385],\n",
    "    'max_depth' : [29,30,31],\n",
    "    'criterion' :['gini', 'entropy']\n",
    "}\n",
    "CV_rfc = GridSearchCV(estimator=RandomForestClassifier(random_state=0),\n",
    "                      param_grid=param_grid, cv= 5, n_jobs=-1)\n",
    "CV_rfc.fit(train_tfidf, y_train)\n",
    "CV_rfc.best_params_"
   ],
   "metadata": {
    "collapsed": false,
    "pycharm": {
     "name": "#%%\n"
    }
   }
  },
  {
   "cell_type": "code",
   "execution_count": 141,
   "outputs": [
    {
     "data": {
      "text/plain": "0.7842170160295932"
     },
     "execution_count": 141,
     "metadata": {},
     "output_type": "execute_result"
    }
   ],
   "source": [
    "# random forest classifier\n",
    "rf = RandomForestClassifier(random_state=0, criterion='gini', max_depth=30, n_estimators=375)\n",
    "\n",
    "# fit\n",
    "rf.fit(train_tfidf, y_train)\n",
    "\n",
    "# predict\n",
    "y_pred = rf.predict(test_tfidf)\n",
    "\n",
    "# accuracy\n",
    "accuracy_score(y_test, y_pred)"
   ],
   "metadata": {
    "collapsed": false,
    "pycharm": {
     "name": "#%%\n"
    }
   }
  },
  {
   "cell_type": "markdown",
   "source": [
    "##Experiements##"
   ],
   "metadata": {
    "collapsed": false,
    "pycharm": {
     "name": "#%% md\n"
    }
   }
  },
  {
   "cell_type": "code",
   "execution_count": 148,
   "outputs": [
    {
     "data": {
      "text/plain": "0.3686806411837238"
     },
     "execution_count": 148,
     "metadata": {},
     "output_type": "execute_result"
    }
   ],
   "source": [
    "# random forest with bow\n",
    "count_vectorizer = CountVectorizer(analyzer='word', max_features=1000)\n",
    "count_vectorizer.fit(clean_text)\n",
    "train_bow = count_vectorizer.transform(x_train)\n",
    "test_bow = count_vectorizer.transform(x_test)\n",
    "\n",
    "# random forest classifier\n",
    "rf = RandomForestClassifier(random_state=0)\n",
    "\n",
    "# fit\n",
    "rf.fit(train_bow, y_train)\n",
    "\n",
    "# predict\n",
    "y_pred = rf.predict(test_bow)\n",
    "\n",
    "# accuracy\n",
    "accuracy_score(y_test, y_pred)"
   ],
   "metadata": {
    "collapsed": false,
    "pycharm": {
     "name": "#%%\n"
    }
   }
  },
  {
   "cell_type": "code",
   "execution_count": 146,
   "outputs": [
    {
     "data": {
      "text/plain": "0.15782983970406905"
     },
     "execution_count": 146,
     "metadata": {},
     "output_type": "execute_result"
    }
   ],
   "source": [
    "# RF with bigram\n",
    "bigram_vectorizer = CountVectorizer(analyzer='word', ngram_range=(2,2), max_features=1000)\n",
    "bigram_vectorizer.fit(clean_text)\n",
    "train_bigram = bigram_vectorizer.transform(x_train)\n",
    "test_bigram = bigram_vectorizer.transform(x_test)\n",
    "\n",
    "\n",
    "# random forest classifier\n",
    "rf = RandomForestClassifier(random_state=0, criterion='gini', max_depth=30, n_estimators=375)\n",
    "\n",
    "# fit\n",
    "rf.fit(train_bigram, y_train)\n",
    "\n",
    "# predict\n",
    "y_pred = rf.predict(test_bigram)\n",
    "\n",
    "# accuracy\n",
    "accuracy_score(y_test, y_pred)"
   ],
   "metadata": {
    "collapsed": false,
    "pycharm": {
     "name": "#%%\n"
    }
   }
  },
  {
   "cell_type": "code",
   "execution_count": null,
   "outputs": [],
   "source": [
    "# RF with TFIDF using max_feature 5000\n",
    "vectorizer = TfidfVectorizer(analyzer='word', max_features=3000)\n",
    "vectorizer.fit(clean_text)\n",
    "train_tfidf = vectorizer.transform(x_train)\n",
    "test_tfidf = vectorizer.transform(x_test)\n",
    "\n",
    "# grid search\n",
    "param_grid = {\n",
    "    'n_estimators': [100,150,200,300,500],\n",
    "    'max_depth' : [20,25,30,35],\n",
    "    'criterion' :['gini', 'entropy']\n",
    "}\n",
    "CV_rfc = GridSearchCV(estimator=RandomForestClassifier(random_state=0),\n",
    "                      param_grid=param_grid, cv= 5, n_jobs=-1)\n",
    "CV_rfc.fit(train_tfidf, y_train)\n",
    "print(CV_rfc.best_params_)\n",
    "print(CV_rfc.best_score_)"
   ],
   "metadata": {
    "collapsed": false,
    "pycharm": {
     "name": "#%%\n",
     "is_executing": true
    }
   }
  },
  {
   "cell_type": "code",
   "execution_count": null,
   "outputs": [],
   "source": [],
   "metadata": {
    "collapsed": false,
    "pycharm": {
     "name": "#%%\n"
    }
   }
  }
 ],
 "metadata": {
  "kernelspec": {
   "display_name": "Python 3",
   "language": "python",
   "name": "python3"
  },
  "language_info": {
   "codemirror_mode": {
    "name": "ipython",
    "version": 2
   },
   "file_extension": ".py",
   "mimetype": "text/x-python",
   "name": "python",
   "nbconvert_exporter": "python",
   "pygments_lexer": "ipython2",
   "version": "2.7.6"
  }
 },
 "nbformat": 4,
 "nbformat_minor": 0
}