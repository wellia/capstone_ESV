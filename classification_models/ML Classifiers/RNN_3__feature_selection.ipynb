{
  "nbformat": 4,
  "nbformat_minor": 0,
  "metadata": {
    "colab": {
      "name": "RNN_3 _feature selection.ipynb",
      "provenance": [],
      "collapsed_sections": []
    },
    "kernelspec": {
      "name": "python3",
      "display_name": "Python 3"
    },
    "accelerator": "GPU"
  },
  "cells": [
    {
      "cell_type": "code",
      "metadata": {
        "id": "J_6IONmscL3S",
        "colab": {
          "base_uri": "https://localhost:8080/"
        },
        "outputId": "46bcdd39-50e4-422b-cd63-428702f09275"
      },
      "source": [
        "import pandas as pd\n",
        "import numpy as np\n",
        "import matplotlib.pyplot as plt\n",
        "import seaborn as sns\n",
        "from sklearn.model_selection import train_test_split\n",
        "from sklearn.preprocessing import LabelEncoder\n",
        "from keras.models import Model\n",
        "from keras.layers import LSTM, Activation, Dense, Dropout, Input, Embedding, GRU\n",
        "from keras.optimizers import RMSprop\n",
        "from keras.preprocessing.text import Tokenizer\n",
        "from keras.preprocessing import sequence\n",
        "from keras.utils import to_categorical\n",
        "from keras.callbacks import EarlyStopping\n",
        "%matplotlib inline\n",
        "import keras\n",
        "\n",
        "import tensorflow as tf\n",
        "from tensorflow import keras\n",
        "import tensorflow_datasets  as tfds\n",
        "from tensorflow.keras import models, layers, optimizers\n",
        "from tensorflow.keras.utils import plot_model, to_categorical\n",
        "from keras import backend as K\n",
        "!pip install keras-lookahead\n",
        "!pip install texthero\n",
        "\n",
        "import texthero as hero\n",
        "from texthero import preprocessing\n"
      ],
      "execution_count": 3,
      "outputs": [
        {
          "output_type": "stream",
          "text": [
            "Collecting keras-lookahead\n",
            "  Downloading https://files.pythonhosted.org/packages/dc/02/eef1b468c2b294ac37afc00d3ec21242af9935fdc30c4ce909e8d31d0132/keras-lookahead-0.9.0.tar.gz\n",
            "Requirement already satisfied: numpy in /usr/local/lib/python3.6/dist-packages (from keras-lookahead) (1.18.5)\n",
            "Requirement already satisfied: Keras in /usr/local/lib/python3.6/dist-packages (from keras-lookahead) (2.4.3)\n",
            "Requirement already satisfied: scipy>=0.14 in /usr/local/lib/python3.6/dist-packages (from Keras->keras-lookahead) (1.4.1)\n",
            "Requirement already satisfied: h5py in /usr/local/lib/python3.6/dist-packages (from Keras->keras-lookahead) (2.10.0)\n",
            "Requirement already satisfied: pyyaml in /usr/local/lib/python3.6/dist-packages (from Keras->keras-lookahead) (3.13)\n",
            "Requirement already satisfied: six in /usr/local/lib/python3.6/dist-packages (from h5py->Keras->keras-lookahead) (1.15.0)\n",
            "Building wheels for collected packages: keras-lookahead\n",
            "  Building wheel for keras-lookahead (setup.py) ... \u001b[?25l\u001b[?25hdone\n",
            "  Created wheel for keras-lookahead: filename=keras_lookahead-0.9.0-cp36-none-any.whl size=6406 sha256=e334b9f9569b063b511683eb6fee801ce7833cfed2790a7863e7158c91678f90\n",
            "  Stored in directory: /root/.cache/pip/wheels/80/e1/a7/027d1227307b7425941fe5b1a896f8a8b9556b432a2c540a07\n",
            "Successfully built keras-lookahead\n",
            "Installing collected packages: keras-lookahead\n",
            "Successfully installed keras-lookahead-0.9.0\n",
            "Collecting texthero\n",
            "  Downloading https://files.pythonhosted.org/packages/1f/5a/a9d33b799fe53011de79d140ad6d86c440a2da1ae8a7b24e851ee2f8bde8/texthero-1.0.9-py3-none-any.whl\n",
            "Requirement already satisfied: numpy>=1.17 in /usr/local/lib/python3.6/dist-packages (from texthero) (1.18.5)\n",
            "Requirement already satisfied: spacy>=2.2.2 in /usr/local/lib/python3.6/dist-packages (from texthero) (2.2.4)\n",
            "Requirement already satisfied: pandas>=1.0.2 in /usr/local/lib/python3.6/dist-packages (from texthero) (1.1.4)\n",
            "Requirement already satisfied: wordcloud>=1.5.0 in /usr/local/lib/python3.6/dist-packages (from texthero) (1.5.0)\n",
            "Requirement already satisfied: tqdm>=4.3 in /usr/local/lib/python3.6/dist-packages (from texthero) (4.41.1)\n",
            "Collecting nltk>=3.3\n",
            "\u001b[?25l  Downloading https://files.pythonhosted.org/packages/92/75/ce35194d8e3022203cca0d2f896dbb88689f9b3fce8e9f9cff942913519d/nltk-3.5.zip (1.4MB)\n",
            "\u001b[K     |████████████████████████████████| 1.4MB 14.1MB/s \n",
            "\u001b[?25hRequirement already satisfied: gensim>=3.6.0 in /usr/local/lib/python3.6/dist-packages (from texthero) (3.6.0)\n",
            "Requirement already satisfied: matplotlib>=3.1.0 in /usr/local/lib/python3.6/dist-packages (from texthero) (3.2.2)\n",
            "Collecting unidecode>=1.1.1\n",
            "\u001b[?25l  Downloading https://files.pythonhosted.org/packages/d0/42/d9edfed04228bacea2d824904cae367ee9efd05e6cce7ceaaedd0b0ad964/Unidecode-1.1.1-py2.py3-none-any.whl (238kB)\n",
            "\u001b[K     |████████████████████████████████| 245kB 23.9MB/s \n",
            "\u001b[?25hRequirement already satisfied: scikit-learn>=0.22 in /usr/local/lib/python3.6/dist-packages (from texthero) (0.22.2.post1)\n",
            "Requirement already satisfied: plotly>=4.2.0 in /usr/local/lib/python3.6/dist-packages (from texthero) (4.4.1)\n",
            "Requirement already satisfied: plac<1.2.0,>=0.9.6 in /usr/local/lib/python3.6/dist-packages (from spacy>=2.2.2->texthero) (1.1.3)\n",
            "Requirement already satisfied: blis<0.5.0,>=0.4.0 in /usr/local/lib/python3.6/dist-packages (from spacy>=2.2.2->texthero) (0.4.1)\n",
            "Requirement already satisfied: srsly<1.1.0,>=1.0.2 in /usr/local/lib/python3.6/dist-packages (from spacy>=2.2.2->texthero) (1.0.4)\n",
            "Requirement already satisfied: thinc==7.4.0 in /usr/local/lib/python3.6/dist-packages (from spacy>=2.2.2->texthero) (7.4.0)\n",
            "Requirement already satisfied: cymem<2.1.0,>=2.0.2 in /usr/local/lib/python3.6/dist-packages (from spacy>=2.2.2->texthero) (2.0.4)\n",
            "Requirement already satisfied: requests<3.0.0,>=2.13.0 in /usr/local/lib/python3.6/dist-packages (from spacy>=2.2.2->texthero) (2.23.0)\n",
            "Requirement already satisfied: wasabi<1.1.0,>=0.4.0 in /usr/local/lib/python3.6/dist-packages (from spacy>=2.2.2->texthero) (0.8.0)\n",
            "Requirement already satisfied: preshed<3.1.0,>=3.0.2 in /usr/local/lib/python3.6/dist-packages (from spacy>=2.2.2->texthero) (3.0.4)\n",
            "Requirement already satisfied: setuptools in /usr/local/lib/python3.6/dist-packages (from spacy>=2.2.2->texthero) (50.3.2)\n",
            "Requirement already satisfied: murmurhash<1.1.0,>=0.28.0 in /usr/local/lib/python3.6/dist-packages (from spacy>=2.2.2->texthero) (1.0.4)\n",
            "Requirement already satisfied: catalogue<1.1.0,>=0.0.7 in /usr/local/lib/python3.6/dist-packages (from spacy>=2.2.2->texthero) (1.0.0)\n",
            "Requirement already satisfied: python-dateutil>=2.7.3 in /usr/local/lib/python3.6/dist-packages (from pandas>=1.0.2->texthero) (2.8.1)\n",
            "Requirement already satisfied: pytz>=2017.2 in /usr/local/lib/python3.6/dist-packages (from pandas>=1.0.2->texthero) (2018.9)\n",
            "Requirement already satisfied: pillow in /usr/local/lib/python3.6/dist-packages (from wordcloud>=1.5.0->texthero) (7.0.0)\n",
            "Requirement already satisfied: click in /usr/local/lib/python3.6/dist-packages (from nltk>=3.3->texthero) (7.1.2)\n",
            "Requirement already satisfied: joblib in /usr/local/lib/python3.6/dist-packages (from nltk>=3.3->texthero) (0.17.0)\n",
            "Requirement already satisfied: regex in /usr/local/lib/python3.6/dist-packages (from nltk>=3.3->texthero) (2019.12.20)\n",
            "Requirement already satisfied: smart-open>=1.2.1 in /usr/local/lib/python3.6/dist-packages (from gensim>=3.6.0->texthero) (3.0.0)\n",
            "Requirement already satisfied: six>=1.5.0 in /usr/local/lib/python3.6/dist-packages (from gensim>=3.6.0->texthero) (1.15.0)\n",
            "Requirement already satisfied: scipy>=0.18.1 in /usr/local/lib/python3.6/dist-packages (from gensim>=3.6.0->texthero) (1.4.1)\n",
            "Requirement already satisfied: pyparsing!=2.0.4,!=2.1.2,!=2.1.6,>=2.0.1 in /usr/local/lib/python3.6/dist-packages (from matplotlib>=3.1.0->texthero) (2.4.7)\n",
            "Requirement already satisfied: cycler>=0.10 in /usr/local/lib/python3.6/dist-packages (from matplotlib>=3.1.0->texthero) (0.10.0)\n",
            "Requirement already satisfied: kiwisolver>=1.0.1 in /usr/local/lib/python3.6/dist-packages (from matplotlib>=3.1.0->texthero) (1.3.1)\n",
            "Requirement already satisfied: retrying>=1.3.3 in /usr/local/lib/python3.6/dist-packages (from plotly>=4.2.0->texthero) (1.3.3)\n",
            "Requirement already satisfied: certifi>=2017.4.17 in /usr/local/lib/python3.6/dist-packages (from requests<3.0.0,>=2.13.0->spacy>=2.2.2->texthero) (2020.11.8)\n",
            "Requirement already satisfied: chardet<4,>=3.0.2 in /usr/local/lib/python3.6/dist-packages (from requests<3.0.0,>=2.13.0->spacy>=2.2.2->texthero) (3.0.4)\n",
            "Requirement already satisfied: urllib3!=1.25.0,!=1.25.1,<1.26,>=1.21.1 in /usr/local/lib/python3.6/dist-packages (from requests<3.0.0,>=2.13.0->spacy>=2.2.2->texthero) (1.24.3)\n",
            "Requirement already satisfied: idna<3,>=2.5 in /usr/local/lib/python3.6/dist-packages (from requests<3.0.0,>=2.13.0->spacy>=2.2.2->texthero) (2.10)\n",
            "Requirement already satisfied: importlib-metadata>=0.20; python_version < \"3.8\" in /usr/local/lib/python3.6/dist-packages (from catalogue<1.1.0,>=0.0.7->spacy>=2.2.2->texthero) (2.0.0)\n",
            "Requirement already satisfied: zipp>=0.5 in /usr/local/lib/python3.6/dist-packages (from importlib-metadata>=0.20; python_version < \"3.8\"->catalogue<1.1.0,>=0.0.7->spacy>=2.2.2->texthero) (3.4.0)\n",
            "Building wheels for collected packages: nltk\n",
            "  Building wheel for nltk (setup.py) ... \u001b[?25l\u001b[?25hdone\n",
            "  Created wheel for nltk: filename=nltk-3.5-cp36-none-any.whl size=1434679 sha256=5155674affa0259680a0cb71a292cd4ed2cdfd7f7b93f610ffff4d51818aecb5\n",
            "  Stored in directory: /root/.cache/pip/wheels/ae/8c/3f/b1fe0ba04555b08b57ab52ab7f86023639a526d8bc8d384306\n",
            "Successfully built nltk\n",
            "Installing collected packages: nltk, unidecode, texthero\n",
            "  Found existing installation: nltk 3.2.5\n",
            "    Uninstalling nltk-3.2.5:\n",
            "      Successfully uninstalled nltk-3.2.5\n",
            "Successfully installed nltk-3.5 texthero-1.0.9 unidecode-1.1.1\n"
          ],
          "name": "stdout"
        },
        {
          "output_type": "stream",
          "text": [
            "[nltk_data] Downloading package stopwords to /root/nltk_data...\n",
            "[nltk_data]   Unzipping corpora/stopwords.zip.\n"
          ],
          "name": "stderr"
        }
      ]
    },
    {
      "cell_type": "code",
      "metadata": {
        "colab": {
          "base_uri": "https://localhost:8080/"
        },
        "id": "7EWLfta62BI6",
        "outputId": "329ecaa2-086e-42b7-e694-fee3860dcdc5"
      },
      "source": [
        "from google.colab import drive\n",
        "drive.mount('/content/drive')"
      ],
      "execution_count": 4,
      "outputs": [
        {
          "output_type": "stream",
          "text": [
            "Drive already mounted at /content/drive; to attempt to forcibly remount, call drive.mount(\"/content/drive\", force_remount=True).\n"
          ],
          "name": "stdout"
        }
      ]
    },
    {
      "cell_type": "code",
      "metadata": {
        "id": "BD2LTgoUWe6x",
        "colab": {
          "base_uri": "https://localhost:8080/",
          "height": 35
        },
        "outputId": "80179c35-df30-4836-cfc5-0cbbce4f45ff"
      },
      "source": [
        "keras.__version__"
      ],
      "execution_count": 5,
      "outputs": [
        {
          "output_type": "execute_result",
          "data": {
            "application/vnd.google.colaboratory.intrinsic+json": {
              "type": "string"
            },
            "text/plain": [
              "'2.4.0'"
            ]
          },
          "metadata": {
            "tags": []
          },
          "execution_count": 5
        }
      ]
    },
    {
      "cell_type": "code",
      "metadata": {
        "id": "rCcXqqYTKri6"
      },
      "source": [
        "cols = ['EventDescription','IncidentCause','IncidentConsequence', 'Category']"
      ],
      "execution_count": 6,
      "outputs": []
    },
    {
      "cell_type": "code",
      "metadata": {
        "id": "RtJIUChWcYb9",
        "colab": {
          "base_uri": "https://localhost:8080/",
          "height": 272
        },
        "outputId": "2387ee5d-63a2-4563-eb58-36fdd096e218"
      },
      "source": [
        "df2 = pd.read_csv('/content/drive/MyDrive/ESV Data/cleaned_incidents1.csv', usecols = cols)\n",
        "df2.head()"
      ],
      "execution_count": 7,
      "outputs": [
        {
          "output_type": "execute_result",
          "data": {
            "text/html": [
              "<div>\n",
              "<style scoped>\n",
              "    .dataframe tbody tr th:only-of-type {\n",
              "        vertical-align: middle;\n",
              "    }\n",
              "\n",
              "    .dataframe tbody tr th {\n",
              "        vertical-align: top;\n",
              "    }\n",
              "\n",
              "    .dataframe thead th {\n",
              "        text-align: right;\n",
              "    }\n",
              "</style>\n",
              "<table border=\"1\" class=\"dataframe\">\n",
              "  <thead>\n",
              "    <tr style=\"text-align: right;\">\n",
              "      <th></th>\n",
              "      <th>EventDescription</th>\n",
              "      <th>IncidentCause</th>\n",
              "      <th>IncidentConsequence</th>\n",
              "      <th>Category</th>\n",
              "    </tr>\n",
              "  </thead>\n",
              "  <tbody>\n",
              "    <tr>\n",
              "      <th>0</th>\n",
              "      <td>A nearby customer reported sparking of electri...</td>\n",
              "      <td>HVABC cable faulted midspan</td>\n",
              "      <td>Grassfire</td>\n",
              "      <td>OH Cable</td>\n",
              "    </tr>\n",
              "    <tr>\n",
              "      <th>1</th>\n",
              "      <td>A contractor reported that he had contacted an...</td>\n",
              "      <td>Contractor contacted earthing conductor</td>\n",
              "      <td>No Go Zone (contact)</td>\n",
              "      <td>Dug up</td>\n",
              "    </tr>\n",
              "    <tr>\n",
              "      <th>2</th>\n",
              "      <td>A field crew attending an outage found that a ...</td>\n",
              "      <td>Conductor broke due to rust</td>\n",
              "      <td>Serious risk to public safety (e.g. live condu...</td>\n",
              "      <td>Connection</td>\n",
              "    </tr>\n",
              "    <tr>\n",
              "      <th>3</th>\n",
              "      <td>Interfere and vandalism in substation. Unknown...</td>\n",
              "      <td>Vandalism</td>\n",
              "      <td>Loss of supply;Damage to network assets</td>\n",
              "      <td>Other</td>\n",
              "    </tr>\n",
              "    <tr>\n",
              "      <th>4</th>\n",
              "      <td>A nearby customer reported that a high load ha...</td>\n",
              "      <td>Unknown high load contacted LV service cable</td>\n",
              "      <td>No Go Zone (contact);Damage to network assets</td>\n",
              "      <td>Vehicle</td>\n",
              "    </tr>\n",
              "  </tbody>\n",
              "</table>\n",
              "</div>"
            ],
            "text/plain": [
              "                                    EventDescription  ...    Category\n",
              "0  A nearby customer reported sparking of electri...  ...    OH Cable\n",
              "1  A contractor reported that he had contacted an...  ...      Dug up\n",
              "2  A field crew attending an outage found that a ...  ...  Connection\n",
              "3  Interfere and vandalism in substation. Unknown...  ...       Other\n",
              "4  A nearby customer reported that a high load ha...  ...     Vehicle\n",
              "\n",
              "[5 rows x 4 columns]"
            ]
          },
          "metadata": {
            "tags": []
          },
          "execution_count": 7
        }
      ]
    },
    {
      "cell_type": "code",
      "metadata": {
        "colab": {
          "base_uri": "https://localhost:8080/"
        },
        "id": "QdFBumYmaacd",
        "outputId": "91b9e5cb-4b6b-4aff-9e3b-49cae9c93b32"
      },
      "source": [
        "df2['Category'].unique()"
      ],
      "execution_count": 8,
      "outputs": [
        {
          "output_type": "execute_result",
          "data": {
            "text/plain": [
              "array(['OH Cable', 'Dug up', 'Connection', 'Other', 'Vehicle', 'Fuse',\n",
              "       'Trees', 'Pole', 'Crossarm', 'Conductor', 'Animal', 'AF Other',\n",
              "       'Lightning', 'UG Cable', nan, 'Installation'], dtype=object)"
            ]
          },
          "metadata": {
            "tags": []
          },
          "execution_count": 8
        }
      ]
    },
    {
      "cell_type": "code",
      "metadata": {
        "colab": {
          "base_uri": "https://localhost:8080/"
        },
        "id": "5yNwnfOJahIi",
        "outputId": "39a41050-621e-4a15-a329-96a612b46c24"
      },
      "source": [
        "df2 = df2.dropna()\n",
        "df2['Category'].unique()"
      ],
      "execution_count": 9,
      "outputs": [
        {
          "output_type": "execute_result",
          "data": {
            "text/plain": [
              "array(['OH Cable', 'Dug up', 'Connection', 'Other', 'Vehicle', 'Fuse',\n",
              "       'Trees', 'Pole', 'Crossarm', 'Conductor', 'Animal', 'AF Other',\n",
              "       'Lightning', 'UG Cable', 'Installation'], dtype=object)"
            ]
          },
          "metadata": {
            "tags": []
          },
          "execution_count": 9
        }
      ]
    },
    {
      "cell_type": "code",
      "metadata": {
        "colab": {
          "base_uri": "https://localhost:8080/"
        },
        "id": "HBiqEOxSeIrj",
        "outputId": "daa1fd5a-4fcc-4784-ad0f-d29c1cf9da7b"
      },
      "source": [
        "df2.shape\n",
        "df2.isnull().sum()"
      ],
      "execution_count": 10,
      "outputs": [
        {
          "output_type": "execute_result",
          "data": {
            "text/plain": [
              "EventDescription       0\n",
              "IncidentCause          0\n",
              "IncidentConsequence    0\n",
              "Category               0\n",
              "dtype: int64"
            ]
          },
          "metadata": {
            "tags": []
          },
          "execution_count": 10
        }
      ]
    },
    {
      "cell_type": "code",
      "metadata": {
        "id": "310nJpnJL_MF"
      },
      "source": [
        "df2['Description'] = df2['EventDescription'] + ' ' +  df2['IncidentCause']+ ' ' + df2['IncidentConsequence']"
      ],
      "execution_count": 11,
      "outputs": []
    },
    {
      "cell_type": "code",
      "metadata": {
        "colab": {
          "base_uri": "https://localhost:8080/"
        },
        "id": "dCaAyPxjMFRv",
        "outputId": "5258cbc0-3527-4f9a-8ecc-40f5c6cbcfcf"
      },
      "source": [
        "df2['Description']"
      ],
      "execution_count": 12,
      "outputs": [
        {
          "output_type": "execute_result",
          "data": {
            "text/plain": [
              "0       A nearby customer reported sparking of electri...\n",
              "1       A contractor reported that he had contacted an...\n",
              "2       A field crew attending an outage found that a ...\n",
              "3       Interfere and vandalism in substation. Unknown...\n",
              "4       A nearby customer reported that a high load ha...\n",
              "                              ...                        \n",
              "6499    A report came in to UE of a FMB sparking at 31...\n",
              "6500    Report received from a resident to advise that...\n",
              "6501    Report received of pole fire at incident locat...\n",
              "6502    A customer called to report a tractor had hit ...\n",
              "6503    concrete electrical cover outside of front of ...\n",
              "Name: Description, Length: 6488, dtype: object"
            ]
          },
          "metadata": {
            "tags": []
          },
          "execution_count": 12
        }
      ]
    },
    {
      "cell_type": "code",
      "metadata": {
        "id": "jvy0aS9_fXBw",
        "colab": {
          "base_uri": "https://localhost:8080/"
        },
        "outputId": "abfb0d69-c372-4219-badf-e0466e33c8f5"
      },
      "source": [
        "#create a custom cleaning pipeline\n",
        "custom_pipeline = [preprocessing.fillna\n",
        "                   , preprocessing.lowercase\n",
        "                   , preprocessing.remove_digits\n",
        "                   #, preprocessing.remove_punctuation\n",
        "                   , preprocessing.remove_diacritics\n",
        "                   #, preprocessing.remove_stopwords\n",
        "                   , preprocessing.remove_whitespace]\n",
        "                   #, preprocessing.stem]\n",
        "\n",
        "\n",
        "\n",
        "#pass the custom_pipeline to the pipeline argument\n",
        "df2['Description'] = hero.clean(df2['Description'], pipeline = custom_pipeline)\n",
        "df2['Description']"
      ],
      "execution_count": 13,
      "outputs": [
        {
          "output_type": "execute_result",
          "data": {
            "text/plain": [
              "0       a nearby customer reported sparking of electri...\n",
              "1       a contractor reported that he had contacted an...\n",
              "2       a field crew attending an outage found that a ...\n",
              "3       interfere and vandalism in substation. unknown...\n",
              "4       a nearby customer reported that a high load ha...\n",
              "                              ...                        \n",
              "6499    a report came in to ue of a fmb sparking at st...\n",
              "6500    report received from a resident to advise that...\n",
              "6501    report received of pole fire at incident locat...\n",
              "6502    a customer called to report a tractor had hit ...\n",
              "6503    concrete electrical cover outside of front of ...\n",
              "Name: Description, Length: 6488, dtype: object"
            ]
          },
          "metadata": {
            "tags": []
          },
          "execution_count": 13
        }
      ]
    },
    {
      "cell_type": "code",
      "metadata": {
        "id": "ElyWmEP7m4Tj"
      },
      "source": [
        "#Label encode the category\n",
        "le = LabelEncoder()\n",
        "df2['Category'] = le.fit_transform(df2['Category'].astype(str))\n",
        "Y = df2['Category'] "
      ],
      "execution_count": 14,
      "outputs": []
    },
    {
      "cell_type": "code",
      "metadata": {
        "id": "gGqPvh-gNTJ2"
      },
      "source": [
        "x_train, x_test, y_train, y_test = train_test_split(df2['Description'],Y, \n",
        "                                                    test_size=0.25, random_state=4, stratify = Y)"
      ],
      "execution_count": 15,
      "outputs": []
    },
    {
      "cell_type": "code",
      "metadata": {
        "colab": {
          "base_uri": "https://localhost:8080/"
        },
        "id": "AA1JkNJS7bpn",
        "outputId": "403a1c7f-eb27-4708-b527-d00cfd7b5ad0"
      },
      "source": [
        "max_words = 1000*5\n",
        "max_len = 100*1\n",
        "tok = Tokenizer(num_words=max_words,filters = '!\"#$%&()*+,-./:;<=>?@[\\\\]^_`{|}~\\t\\n',lower=True, split=\" \",)\n",
        "tok.fit_on_texts(df2['Description'])\n",
        "sequences = tok.texts_to_sequences(x_train)\n",
        "sequences_matrix = sequence.pad_sequences(sequences,maxlen=max_len) #X_train\n",
        "print(sequences_matrix.shape)"
      ],
      "execution_count": 16,
      "outputs": [
        {
          "output_type": "stream",
          "text": [
            "(4866, 100)\n"
          ],
          "name": "stdout"
        }
      ]
    },
    {
      "cell_type": "code",
      "metadata": {
        "colab": {
          "base_uri": "https://localhost:8080/"
        },
        "id": "mhosqZ3QPZV-",
        "outputId": "f7388df5-20b5-4767-b113-a1ac62a588a7"
      },
      "source": [
        "sequences1 = tok.texts_to_sequences(x_test)\n",
        "sequences_matrix1 = sequence.pad_sequences(sequences1,maxlen=max_len) #X_train\n",
        "print(sequences_matrix1.shape)"
      ],
      "execution_count": 17,
      "outputs": [
        {
          "output_type": "stream",
          "text": [
            "(1622, 100)\n"
          ],
          "name": "stdout"
        }
      ]
    },
    {
      "cell_type": "code",
      "metadata": {
        "colab": {
          "base_uri": "https://localhost:8080/"
        },
        "id": "3Hp29-fRA8g1",
        "outputId": "d02384c5-6ad3-4870-ef03-b8bf9bccec48"
      },
      "source": [
        "units_mul = 200  #tensorflow experimentor\n",
        "unique_categories = np.unique(Y)\n",
        "print(unique_categories)\n",
        "labels_count = len(unique_categories)\n",
        "dropout = 0.2\n",
        "\n",
        "def RNN3():\n",
        "  model = tf.keras.Sequential()\n",
        "  model.add(Embedding(max_words, units_mul, input_length=sequences_matrix.shape[1]))\n",
        "  model.add(tf.keras.layers.SpatialDropout1D(0.2))\n",
        "  #model.add(layers.LSTM(units_mul, dropout=dropout, activation='tanh'))\n",
        "  model.add(layers.Conv1D(units_mul,3,padding='valid',activation='relu',strides=1))\n",
        "  #model.add(layers.Conv1D(units_mul,3,padding='valid',activation='relu',strides=1))\n",
        "  model.add(layers.MaxPooling1D(pool_size=2))\n",
        "  # todo try bidrectional layer again\n",
        "  model.add(layers.LSTM(units_mul, dropout=dropout,recurrent_dropout=dropout, activation='tanh'))\n",
        "  model.add(Dense(labels_count, activation='softmax'))\n",
        "  return model\n",
        "\n",
        "RNN3().summary()"
      ],
      "execution_count": 18,
      "outputs": [
        {
          "output_type": "stream",
          "text": [
            "[ 0  1  2  3  4  5  6  7  8  9 10 11 12 13 14]\n",
            "WARNING:tensorflow:Layer lstm will not use cuDNN kernel since it doesn't meet the cuDNN kernel criteria. It will use generic GPU kernel as fallback when running on GPU\n",
            "Model: \"sequential\"\n",
            "_________________________________________________________________\n",
            "Layer (type)                 Output Shape              Param #   \n",
            "=================================================================\n",
            "embedding (Embedding)        (None, 100, 200)          1000000   \n",
            "_________________________________________________________________\n",
            "spatial_dropout1d (SpatialDr (None, 100, 200)          0         \n",
            "_________________________________________________________________\n",
            "conv1d (Conv1D)              (None, 98, 200)           120200    \n",
            "_________________________________________________________________\n",
            "max_pooling1d (MaxPooling1D) (None, 49, 200)           0         \n",
            "_________________________________________________________________\n",
            "lstm (LSTM)                  (None, 200)               320800    \n",
            "_________________________________________________________________\n",
            "dense (Dense)                (None, 15)                3015      \n",
            "=================================================================\n",
            "Total params: 1,444,015\n",
            "Trainable params: 1,444,015\n",
            "Non-trainable params: 0\n",
            "_________________________________________________________________\n"
          ],
          "name": "stdout"
        }
      ]
    },
    {
      "cell_type": "code",
      "metadata": {
        "id": "WMb145YrenOk",
        "colab": {
          "base_uri": "https://localhost:8080/"
        },
        "outputId": "5e30289d-9cad-4c35-92e5-df6ab28174b8"
      },
      "source": [
        "from keras_lookahead import Lookahead\n",
        "from keras.callbacks import LearningRateScheduler\n",
        "optimiser = tf.keras.optimizers.Adam(lr=0.001, beta_1=0.9, beta_2=0.999, epsilon=None, decay=1e-6, amsgrad=False)\n",
        "lk = Lookahead(optimiser, sync_period=5, slow_step=0.5, name = 'Lookahead')\n",
        "\n",
        "#The step decay learning rate\n",
        "#Step Decay A typical way is to to drop the learning rate by half every 10 epochs \n",
        "#https://towardsdatascience.com/learning-rate-schedules-and-adaptive-learning-rate-methods-for-deep-learning-2c8f433990d1\n",
        "\n",
        "def step_decay(epoch):\n",
        "    initAlpha = 0.01\n",
        "    factor = 0.25\n",
        "    dropEvery = 5\n",
        "    alpha = initAlpha *(factor **np.floor((1 + epoch)/dropEvery))\n",
        "    return float(alpha)\n",
        "\n",
        "\n",
        "# train model\n",
        "model = RNN3()\n",
        "model.compile(loss='sparse_categorical_crossentropy',\n",
        "              optimizer=lk.optimizer,\n",
        "              metrics=['accuracy'])\n",
        "with tf.device('/device:GPU:0'):\n",
        "  history = model.fit(sequences_matrix,y_train, batch_size=128,\n",
        "                    epochs=10, \n",
        "                    validation_split=0.2,\n",
        "                    callbacks=[LearningRateScheduler(step_decay)])\n",
        "  \n",
        "\n",
        "#learning rate plateau\n"
      ],
      "execution_count": 19,
      "outputs": [
        {
          "output_type": "stream",
          "text": [
            "WARNING:tensorflow:Layer lstm_1 will not use cuDNN kernel since it doesn't meet the cuDNN kernel criteria. It will use generic GPU kernel as fallback when running on GPU\n",
            "Epoch 1/10\n",
            "31/31 [==============================] - 7s 213ms/step - loss: 1.5326 - accuracy: 0.5077 - val_loss: 1.0460 - val_accuracy: 0.6674\n",
            "Epoch 2/10\n",
            "31/31 [==============================] - 6s 197ms/step - loss: 0.7343 - accuracy: 0.7772 - val_loss: 0.8452 - val_accuracy: 0.7372\n",
            "Epoch 3/10\n",
            "31/31 [==============================] - 6s 197ms/step - loss: 0.4743 - accuracy: 0.8577 - val_loss: 0.7511 - val_accuracy: 0.7803\n",
            "Epoch 4/10\n",
            "31/31 [==============================] - 6s 200ms/step - loss: 0.3219 - accuracy: 0.8972 - val_loss: 0.8073 - val_accuracy: 0.7906\n",
            "Epoch 5/10\n",
            "31/31 [==============================] - 6s 198ms/step - loss: 0.1898 - accuracy: 0.9437 - val_loss: 0.7874 - val_accuracy: 0.7875\n",
            "Epoch 6/10\n",
            "31/31 [==============================] - 6s 202ms/step - loss: 0.1092 - accuracy: 0.9707 - val_loss: 0.8107 - val_accuracy: 0.8080\n",
            "Epoch 7/10\n",
            "31/31 [==============================] - 6s 204ms/step - loss: 0.0752 - accuracy: 0.9818 - val_loss: 0.8612 - val_accuracy: 0.7957\n",
            "Epoch 8/10\n",
            "31/31 [==============================] - 6s 203ms/step - loss: 0.0576 - accuracy: 0.9872 - val_loss: 0.8523 - val_accuracy: 0.7998\n",
            "Epoch 9/10\n",
            "31/31 [==============================] - 6s 201ms/step - loss: 0.0445 - accuracy: 0.9895 - val_loss: 0.9131 - val_accuracy: 0.8080\n",
            "Epoch 10/10\n",
            "31/31 [==============================] - 6s 196ms/step - loss: 0.0303 - accuracy: 0.9933 - val_loss: 0.9146 - val_accuracy: 0.8039\n"
          ],
          "name": "stdout"
        }
      ]
    },
    {
      "cell_type": "code",
      "metadata": {
        "id": "TraikqglkXJj",
        "colab": {
          "base_uri": "https://localhost:8080/"
        },
        "outputId": "23f26424-4365-41a5-9825-81299862a971"
      },
      "source": [
        "accr = model.evaluate(sequences_matrix1,y_test)\n",
        "print(accr[1])"
      ],
      "execution_count": 20,
      "outputs": [
        {
          "output_type": "stream",
          "text": [
            "51/51 [==============================] - 1s 14ms/step - loss: 0.8401 - accuracy: 0.8095\n",
            "0.8094944357872009\n"
          ],
          "name": "stdout"
        }
      ]
    },
    {
      "cell_type": "code",
      "metadata": {
        "id": "iw7qvQaZd32R",
        "colab": {
          "base_uri": "https://localhost:8080/",
          "height": 557
        },
        "outputId": "f058d052-d9a0-4ff1-f862-bb2a49920a02"
      },
      "source": [
        "# Accuracy\n",
        "plt.plot(history.history['accuracy'], label='accuracy')\n",
        "plt.plot(history.history['val_accuracy'], label = 'val_accuracy')\n",
        "plt.xlabel('Epoch')\n",
        "plt.ylabel('Accuracy')\n",
        "plt.legend()\n",
        "plt.show()\n",
        "\n",
        "# Loss\n",
        "plt.plot(history.history['loss'], label = 'loss')\n",
        "plt.plot(history.history['val_loss'], label = 'val_loss')\n",
        "plt.title('loss')\n",
        "plt.xlabel('Epoch')\n",
        "plt.ylabel('Loss')\n",
        "plt.legend()\n",
        "plt.show()\n",
        "\n"
      ],
      "execution_count": 103,
      "outputs": [
        {
          "output_type": "display_data",
          "data": {
            "image/png": "[encoded data removed]",
            "text/plain": [
              "<Figure size 432x288 with 1 Axes>"
            ]
          },
          "metadata": {
            "tags": [],
            "needs_background": "light"
          }
        },
        {
          "output_type": "display_data",
          "data": {
            "image/png": "[encoded data removed]",
            "text/plain": [
              "<Figure size 432x288 with 1 Axes>"
            ]
          },
          "metadata": {
            "tags": [],
            "needs_background": "light"
          }
        }
      ]
    },
    {
      "cell_type": "code",
      "metadata": {
        "id": "7RI9jYdXDSty"
      },
      "source": [
        "#Save the model.\n",
        "\n",
        "from keras.models import model_from_json\n",
        "from keras.models import load_model\n",
        "\n",
        "model_json = model.to_json()\n",
        "with open(\"model_num.json\", \"w\") as json_file:\n",
        "  json_file.write('model_json')\n",
        "model.save_weights('model_weights.h5')\n"
      ],
      "execution_count": 104,
      "outputs": []
    }
  ]
}